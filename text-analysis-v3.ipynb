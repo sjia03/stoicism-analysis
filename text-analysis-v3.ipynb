{
 "cells": [
  {
   "cell_type": "code",
   "execution_count": 4,
   "id": "b72b673e",
   "metadata": {},
   "outputs": [],
   "source": [
    "import snscrape.modules.twitter as sntwitter\n",
    "import pandas as pd"
   ]
  },
  {
   "cell_type": "markdown",
   "id": "4bb32042",
   "metadata": {},
   "source": [
    "## 1. Scrape Data"
   ]
  },
  {
   "cell_type": "code",
   "execution_count": 101,
   "id": "f61547b4",
   "metadata": {},
   "outputs": [],
   "source": [
    "def tweet_scraper(query, n_tweet):\n",
    "    attributes_container = []\n",
    "    max_tweet = n_tweet\n",
    "\n",
    "    for i,tweet in enumerate(sntwitter.TwitterSearchScraper(query).get_items()):\n",
    "\n",
    "        if i>max_tweet:\n",
    "            break\n",
    "        \n",
    "        attributes_container.append([tweet.user.username,\n",
    "                                 tweet.user.verified,\n",
    "                                 tweet.user.created,\n",
    "                                 tweet.user.followersCount,\n",
    "                                 tweet.user.friendsCount,\n",
    "                                 tweet.user.location,\n",
    "                                 tweet.retweetCount,\n",
    "                                 tweet.lang,\n",
    "                                 tweet.date,\n",
    "                                 tweet.likeCount,\n",
    "                                 tweet.sourceLabel,\n",
    "                                 tweet.id,\n",
    "                                 tweet.content,\n",
    "                                 tweet.hashtags,\n",
    "                                 tweet.conversationId,\n",
    "                                 tweet.inReplyToUser,\n",
    "                                 tweet.coordinates,\n",
    "                                 tweet.place])\n",
    "    \n",
    "    return pd.DataFrame(attributes_container, columns=[\"User\",\n",
    "                                                   \"verified\",\n",
    "                                                   \"Date_Created\",\n",
    "                                                   \"Follows_Count\",\n",
    "                                                   \"Friends_Count\",\n",
    "                                                   \"User_Location\",\n",
    "                                                   \"Retweet_Count\",\n",
    "                                                   \"Language\",\n",
    "                                                   \"Date_Tweet\",\n",
    "                                                   \"Number_of_Likes\",\n",
    "                                                   \"Source_of_Tweet\",\n",
    "                                                   \"Tweet_Id\",\n",
    "                                                   \"Tweet\",\n",
    "                                                   \"Hashtags\",\n",
    "                                                   \"Conversation_Id\",\n",
    "                                                   \"In_reply_To\",\n",
    "                                                   \"Coordinates\",\n",
    "                                                   \"Place\"])"
   ]
  },
  {
   "cell_type": "code",
   "execution_count": 102,
   "id": "762f1ddf",
   "metadata": {
    "scrolled": false
   },
   "outputs": [],
   "source": [
    "df_tag = tweet_scraper('#stoicism since:2018-07-05 until:2022-10-06', 10000)"
   ]
  },
  {
   "cell_type": "code",
   "execution_count": 61,
   "id": "f0a14ee7",
   "metadata": {},
   "outputs": [],
   "source": [
    "import os"
   ]
  },
  {
   "cell_type": "code",
   "execution_count": 103,
   "id": "c5e91608",
   "metadata": {},
   "outputs": [],
   "source": [
    "# save data\n",
    "outname = 'stoic_tweets.csv'\n",
    "outdir = './data'\n",
    "fullname = os.path.join(outdir, outname)\n",
    "df_tag.to_csv(fullname) # exported as clean data w/ sentiment columns below"
   ]
  },
  {
   "cell_type": "code",
   "execution_count": 104,
   "id": "9f01fb30",
   "metadata": {},
   "outputs": [],
   "source": [
    "df_tag = pd.read_csv('./data/stoic_tweets.csv') "
   ]
  },
  {
   "cell_type": "code",
   "execution_count": 105,
   "id": "f4088da6",
   "metadata": {
    "scrolled": false
   },
   "outputs": [
    {
     "data": {
      "text/html": [
       "<div>\n",
       "<style scoped>\n",
       "    .dataframe tbody tr th:only-of-type {\n",
       "        vertical-align: middle;\n",
       "    }\n",
       "\n",
       "    .dataframe tbody tr th {\n",
       "        vertical-align: top;\n",
       "    }\n",
       "\n",
       "    .dataframe thead th {\n",
       "        text-align: right;\n",
       "    }\n",
       "</style>\n",
       "<table border=\"1\" class=\"dataframe\">\n",
       "  <thead>\n",
       "    <tr style=\"text-align: right;\">\n",
       "      <th></th>\n",
       "      <th>User</th>\n",
       "      <th>User_Location</th>\n",
       "      <th>Date_Tweet</th>\n",
       "      <th>Tweet</th>\n",
       "      <th>Hashtags</th>\n",
       "    </tr>\n",
       "  </thead>\n",
       "  <tbody>\n",
       "    <tr>\n",
       "      <th>0</th>\n",
       "      <td>BanjokoAdisa</td>\n",
       "      <td>San Francisco/London/Leeds</td>\n",
       "      <td>2022-10-05 23:55:02+00:00</td>\n",
       "      <td>Really cool article by @DonJRobertson on beati...</td>\n",
       "      <td>['stoicism', 'stoic']</td>\n",
       "    </tr>\n",
       "    <tr>\n",
       "      <th>1</th>\n",
       "      <td>SharpeAuthor</td>\n",
       "      <td>Melbourne,Australia</td>\n",
       "      <td>2022-10-05 23:34:04+00:00</td>\n",
       "      <td>Craig Challen, Australian diver from the 2018 ...</td>\n",
       "      <td>['Courage', 'servicepublic', 'stoicism']</td>\n",
       "    </tr>\n",
       "    <tr>\n",
       "      <th>2</th>\n",
       "      <td>jugarselapiel</td>\n",
       "      <td>México</td>\n",
       "      <td>2022-10-05 22:03:00+00:00</td>\n",
       "      <td>Frase Diaria de \"Jugarse la Piel\" por Nassim T...</td>\n",
       "      <td>['taleb', 'skininthegame', 'nassimtaleb', 'bla...</td>\n",
       "    </tr>\n",
       "    <tr>\n",
       "      <th>3</th>\n",
       "      <td>SharpeAuthor</td>\n",
       "      <td>Melbourne,Australia</td>\n",
       "      <td>2022-10-05 21:14:57+00:00</td>\n",
       "      <td>#stoicism: \"Zeno said, “The right way to seize...</td>\n",
       "      <td>['stoicism']</td>\n",
       "    </tr>\n",
       "    <tr>\n",
       "      <th>4</th>\n",
       "      <td>TKGore</td>\n",
       "      <td>Chicago (via DC, Philly)</td>\n",
       "      <td>2022-10-05 20:54:53+00:00</td>\n",
       "      <td>Just arrived!💥Thank you @RyanHoliday for bring...</td>\n",
       "      <td>['stoicism']</td>\n",
       "    </tr>\n",
       "  </tbody>\n",
       "</table>\n",
       "</div>"
      ],
      "text/plain": [
       "            User                User_Location                 Date_Tweet  \\\n",
       "0   BanjokoAdisa  San Francisco/London/Leeds   2022-10-05 23:55:02+00:00   \n",
       "1   SharpeAuthor          Melbourne,Australia  2022-10-05 23:34:04+00:00   \n",
       "2  jugarselapiel                       México  2022-10-05 22:03:00+00:00   \n",
       "3   SharpeAuthor          Melbourne,Australia  2022-10-05 21:14:57+00:00   \n",
       "4         TKGore     Chicago (via DC, Philly)  2022-10-05 20:54:53+00:00   \n",
       "\n",
       "                                               Tweet  \\\n",
       "0  Really cool article by @DonJRobertson on beati...   \n",
       "1  Craig Challen, Australian diver from the 2018 ...   \n",
       "2  Frase Diaria de \"Jugarse la Piel\" por Nassim T...   \n",
       "3  #stoicism: \"Zeno said, “The right way to seize...   \n",
       "4  Just arrived!💥Thank you @RyanHoliday for bring...   \n",
       "\n",
       "                                            Hashtags  \n",
       "0                              ['stoicism', 'stoic']  \n",
       "1           ['Courage', 'servicepublic', 'stoicism']  \n",
       "2  ['taleb', 'skininthegame', 'nassimtaleb', 'bla...  \n",
       "3                                       ['stoicism']  \n",
       "4                                       ['stoicism']  "
      ]
     },
     "execution_count": 105,
     "metadata": {},
     "output_type": "execute_result"
    }
   ],
   "source": [
    "df_tag[['User', 'User_Location', 'Date_Tweet', 'Tweet', 'Hashtags']].head()"
   ]
  },
  {
   "cell_type": "markdown",
   "id": "4a20d425",
   "metadata": {},
   "source": [
    "## 2. Clean Data"
   ]
  },
  {
   "cell_type": "code",
   "execution_count": 15,
   "id": "f5253494",
   "metadata": {},
   "outputs": [],
   "source": [
    "import requests # download texts\n",
    "import re # work with regular expressions\n",
    "import numpy as np\n",
    "\n",
    "# NLP\n",
    "import nltk\n",
    "from nltk.sentiment.vader import SentimentIntensityAnalyzer as SIA\n",
    "\n",
    "# data viz\n",
    "import matplotlib.pyplot as plt\n",
    "import seaborn as sns\n",
    "sns.set_style('darkgrid')\n",
    "plt.rc('figure',figsize=(13,9))\n",
    "import plotly.express as ex\n",
    "import plotly.graph_objs as go\n",
    "import plotly.offline as pyo\n",
    "from plotly.subplots import make_subplots\n",
    "from wordcloud import WordCloud,STOPWORDS\n",
    "\n",
    "import warnings\n",
    "warnings.filterwarnings(\"ignore\")"
   ]
  },
  {
   "cell_type": "code",
   "execution_count": 106,
   "id": "fbacdc03",
   "metadata": {},
   "outputs": [
    {
     "name": "stderr",
     "output_type": "stream",
     "text": [
      "<>:2: DeprecationWarning:\n",
      "\n",
      "invalid escape sequence \\s\n",
      "\n",
      "<>:2: DeprecationWarning:\n",
      "\n",
      "invalid escape sequence \\s\n",
      "\n",
      "/var/folders/3g/vjzcw6050n34kshmr3dgry980000gp/T/ipykernel_23156/3253950027.py:2: DeprecationWarning:\n",
      "\n",
      "invalid escape sequence \\s\n",
      "\n"
     ]
    }
   ],
   "source": [
    "# remove twitter handles\n",
    "df_tag.Tweet = df_tag.Tweet.apply(lambda x:re.sub('@[^\\s]+','',x))\n",
    "\n",
    "# remove hastags\n",
    "df_tag.Tweet = df_tag.Tweet.apply(lambda x:re.sub(r'\\B#\\S+','',x))\n",
    "\n",
    "# remove URLS\n",
    "df_tag.Tweet = df_tag.Tweet.apply(lambda x:re.sub(r\"http\\S+\", \"\", x))\n",
    "\n",
    "# remove all the special characters\n",
    "df_tag.Tweet = df_tag.Tweet.apply(lambda x:' '.join(re.findall(r'\\w+', x)))\n",
    "\n",
    "#remove all single characters\n",
    "df_tag.Tweet = df_tag.Tweet.apply(lambda x:re.sub(r'\\s+[a-zA-Z]\\s+', '', x))\n",
    "\n",
    "# substituting multiple spaces with single space\n",
    "df_tag.Tweet = df_tag.Tweet.apply(lambda x:re.sub(r'\\s+', ' ', x, flags=re.I))"
   ]
  },
  {
   "cell_type": "markdown",
   "id": "4c44e949",
   "metadata": {},
   "source": [
    "## 3. Explore Data"
   ]
  },
  {
   "cell_type": "markdown",
   "id": "44f8677d",
   "metadata": {},
   "source": [
    "### 3.1 VADER sentiment analysis"
   ]
  },
  {
   "cell_type": "code",
   "execution_count": 116,
   "id": "a7b4d85e",
   "metadata": {},
   "outputs": [],
   "source": [
    "sid = SIA()\n",
    "df_tag['sentiments'] = df_tag['Tweet'].apply(lambda x: sid.polarity_scores(' '.join(re.findall(r'\\w+',x.lower()))))\n",
    "df_tag['Positive Sentiment'] = df_tag['sentiments'].apply(lambda x: x['pos']+1*(10**-6)) \n",
    "df_tag['Neutral Sentiment'] = df_tag['sentiments'].apply(lambda x: x['neu']+1*(10**-6))\n",
    "df_tag['Negative Sentiment'] = df_tag['sentiments'].apply(lambda x: x['neg']+1*(10**-6))\n",
    "df_tag['Compound Sentiment'] = df_tag['sentiments'].apply(lambda x: x['compound'])\n",
    "\n",
    "df_tag.drop(columns=['sentiments'],inplace=True)\n",
    "# df_tag.sort_values(by='Date_Tweet')"
   ]
  },
  {
   "cell_type": "code",
   "execution_count": 108,
   "id": "622ba1a7",
   "metadata": {
    "scrolled": false
   },
   "outputs": [
    {
     "name": "stderr",
     "output_type": "stream",
     "text": [
      "No artists with labels found to put in legend.  Note that artists whose label start with an underscore are ignored when legend() is called with no argument.\n"
     ]
    },
    {
     "data": {
      "image/png": "[encoded data removed]",
      "text/plain": [
       "<Figure size 936x648 with 2 Axes>"
      ]
     },
     "metadata": {},
     "output_type": "display_data"
    }
   ],
   "source": [
    "plt.subplot(2,1,1)\n",
    "plt.title('Distriubtion Of Sentiments Across Our Tweets',fontsize=19,fontweight='bold')\n",
    "sns.kdeplot(df_tag['Negative Sentiment'],bw=0.1)\n",
    "sns.kdeplot(df_tag['Positive Sentiment'],bw=0.1)\n",
    "sns.kdeplot(df_tag['Neutral Sentiment'],bw=0.1)\n",
    "plt.xlabel('Sentiment Value',fontsize=15)\n",
    "\n",
    "plt.subplot(2,1,2)\n",
    "plt.title('CDF Of Sentiments Across Our Tweets',fontsize=19,fontweight='bold')\n",
    "sns.kdeplot(df_tag['Negative Sentiment'],bw=0.1,cumulative=True)\n",
    "sns.kdeplot(df_tag['Positive Sentiment'],bw=0.1,cumulative=True)\n",
    "sns.kdeplot(df_tag['Neutral Sentiment'],bw=0.1,cumulative=True)\n",
    "plt.xlabel('Sentiment Value',fontsize=15)\n",
    "plt.legend()\n",
    "plt.show()"
   ]
  },
  {
   "cell_type": "markdown",
   "id": "fad27ce6",
   "metadata": {},
   "source": [
    "Neutral proves to be the more dominant sentiment as its distribution is skewed towards the right. Positive and negative sentiments are similar with a peak at 0, meaning the sentiments identified are not as strong"
   ]
  },
  {
   "cell_type": "markdown",
   "id": "c2189bc5",
   "metadata": {},
   "source": [
    "### 3.2 Time based analysis"
   ]
  },
  {
   "cell_type": "code",
   "execution_count": 109,
   "id": "ba751706",
   "metadata": {},
   "outputs": [
    {
     "data": {
      "text/plain": [
       "Index(['Positive Sentiment', 'Neutral Sentiment', 'Negative Sentiment'], dtype='object')"
      ]
     },
     "execution_count": 109,
     "metadata": {},
     "output_type": "execute_result"
    }
   ],
   "source": [
    "#Sorting And Feature Engineering\n",
    "df_tag = df_tag.sort_values(by='Date_Tweet')\n",
    "df_tag=df_tag.copy()\n",
    "df_tag['Date_Tweet'] = pd.to_datetime(df_tag['Date_Tweet']).dt.date\n",
    "df_tag.columns[-3:]"
   ]
  },
  {
   "cell_type": "code",
   "execution_count": 122,
   "id": "6b8a4450",
   "metadata": {},
   "outputs": [
    {
     "data": {
      "text/plain": [
       "<matplotlib.legend.Legend at 0x7fab4357d0a0>"
      ]
     },
     "execution_count": 122,
     "metadata": {},
     "output_type": "execute_result"
    },
    {
     "data": {
      "image/png": "[encoded data removed]",
      "text/plain": [
       "<Figure size 936x648 with 1 Axes>"
      ]
     },
     "metadata": {},
     "output_type": "display_data"
    }
   ],
   "source": [
    "df_test = df_tag\n",
    "df_test['Date_Tweet'] = pd.to_datetime(df_test['Date_Tweet'])\n",
    "df_test = df_test.set_index('Date_Tweet')\n",
    "df_test.resample('W')['Neutral Sentiment'].mean().plot()\n",
    "df_test.resample('W')['Positive Sentiment'].mean().plot()\n",
    "df_test.resample('W')['Negative Sentiment'].mean().plot().legend()"
   ]
  },
  {
   "cell_type": "code",
   "execution_count": 111,
   "id": "f8544fcd",
   "metadata": {
    "scrolled": true
   },
   "outputs": [
    {
     "name": "stderr",
     "output_type": "stream",
     "text": [
      "/Users/stellajia/opt/miniconda3/lib/python3.9/site-packages/plotly/io/_renderers.py:395: DeprecationWarning:\n",
      "\n",
      "distutils Version classes are deprecated. Use packaging.version instead.\n",
      "\n",
      "/Users/stellajia/opt/miniconda3/lib/python3.9/site-packages/plotly/io/_renderers.py:395: DeprecationWarning:\n",
      "\n",
      "distutils Version classes are deprecated. Use packaging.version instead.\n",
      "\n"
     ]
    },
    {
     "data": {
      "application/vnd.plotly.v1+json": {
       "config": {
        "plotlyServerURL": "https://plot.ly"
       },
       "data": [
        {
         "name": "Positive Sentiment Mean",
         "type": "scatter",
         "x": [
          "2022-03-29T00:00:00",
          "2022-03-30T00:00:00",
          "2022-03-31T00:00:00",
          "2022-04-01T00:00:00",
          "2022-04-02T00:00:00",
          "2022-04-03T00:00:00",
          "2022-04-04T00:00:00",
          "2022-04-05T00:00:00",
          "2022-04-06T00:00:00",
          "2022-04-07T00:00:00",
          "2022-04-08T00:00:00",
          "2022-04-09T00:00:00",
          "2022-04-10T00:00:00",
          "2022-04-11T00:00:00",
          "2022-04-12T00:00:00",
          "2022-04-13T00:00:00",
          "2022-04-14T00:00:00",
          "2022-04-15T00:00:00",
          "2022-04-16T00:00:00",
          "2022-04-17T00:00:00",
          "2022-04-18T00:00:00",
          "2022-04-19T00:00:00",
          "2022-04-20T00:00:00",
          "2022-04-21T00:00:00",
          "2022-04-22T00:00:00",
          "2022-04-23T00:00:00",
          "2022-04-24T00:00:00",
          "2022-04-25T00:00:00",
          "2022-04-26T00:00:00",
          "2022-04-27T00:00:00",
          "2022-04-28T00:00:00",
          "2022-04-29T00:00:00",
          "2022-04-30T00:00:00",
          "2022-05-01T00:00:00",
          "2022-05-02T00:00:00",
          "2022-05-03T00:00:00",
          "2022-05-04T00:00:00",
          "2022-05-05T00:00:00",
          "2022-05-06T00:00:00",
          "2022-05-07T00:00:00",
          "2022-05-08T00:00:00",
          "2022-05-09T00:00:00",
          "2022-05-10T00:00:00",
          "2022-05-11T00:00:00",
          "2022-05-12T00:00:00",
          "2022-05-13T00:00:00",
          "2022-05-14T00:00:00",
          "2022-05-15T00:00:00",
          "2022-05-16T00:00:00",
          "2022-05-17T00:00:00",
          "2022-05-18T00:00:00",
          "2022-05-19T00:00:00",
          "2022-05-20T00:00:00",
          "2022-05-21T00:00:00",
          "2022-05-22T00:00:00",
          "2022-05-23T00:00:00",
          "2022-05-24T00:00:00",
          "2022-05-25T00:00:00",
          "2022-05-26T00:00:00",
          "2022-05-27T00:00:00",
          "2022-05-28T00:00:00",
          "2022-05-29T00:00:00",
          "2022-05-30T00:00:00",
          "2022-05-31T00:00:00",
          "2022-06-01T00:00:00",
          "2022-06-02T00:00:00",
          "2022-06-03T00:00:00",
          "2022-06-04T00:00:00",
          "2022-06-05T00:00:00",
          "2022-06-06T00:00:00",
          "2022-06-07T00:00:00",
          "2022-06-08T00:00:00",
          "2022-06-09T00:00:00",
          "2022-06-10T00:00:00",
          "2022-06-11T00:00:00",
          "2022-06-12T00:00:00",
          "2022-06-13T00:00:00",
          "2022-06-14T00:00:00",
          "2022-06-15T00:00:00",
          "2022-06-16T00:00:00",
          "2022-06-17T00:00:00",
          "2022-06-18T00:00:00",
          "2022-06-19T00:00:00",
          "2022-06-20T00:00:00",
          "2022-06-21T00:00:00",
          "2022-06-22T00:00:00",
          "2022-06-23T00:00:00",
          "2022-06-24T00:00:00",
          "2022-06-25T00:00:00",
          "2022-06-26T00:00:00",
          "2022-06-27T00:00:00",
          "2022-06-28T00:00:00",
          "2022-06-29T00:00:00",
          "2022-06-30T00:00:00",
          "2022-07-01T00:00:00",
          "2022-07-02T00:00:00",
          "2022-07-03T00:00:00",
          "2022-07-04T00:00:00",
          "2022-07-05T00:00:00",
          "2022-07-06T00:00:00",
          "2022-07-07T00:00:00",
          "2022-07-08T00:00:00",
          "2022-07-09T00:00:00",
          "2022-07-10T00:00:00",
          "2022-07-11T00:00:00",
          "2022-07-12T00:00:00",
          "2022-07-13T00:00:00",
          "2022-07-14T00:00:00",
          "2022-07-15T00:00:00",
          "2022-07-16T00:00:00",
          "2022-07-17T00:00:00",
          "2022-07-18T00:00:00",
          "2022-07-19T00:00:00",
          "2022-07-20T00:00:00",
          "2022-07-21T00:00:00",
          "2022-07-22T00:00:00",
          "2022-07-23T00:00:00",
          "2022-07-24T00:00:00",
          "2022-07-25T00:00:00",
          "2022-07-26T00:00:00",
          "2022-07-27T00:00:00",
          "2022-07-28T00:00:00",
          "2022-07-29T00:00:00",
          "2022-07-30T00:00:00",
          "2022-07-31T00:00:00",
          "2022-08-01T00:00:00",
          "2022-08-02T00:00:00",
          "2022-08-03T00:00:00",
          "2022-08-04T00:00:00",
          "2022-08-05T00:00:00",
          "2022-08-06T00:00:00",
          "2022-08-07T00:00:00",
          "2022-08-08T00:00:00",
          "2022-08-09T00:00:00",
          "2022-08-10T00:00:00",
          "2022-08-11T00:00:00",
          "2022-08-12T00:00:00",
          "2022-08-13T00:00:00",
          "2022-08-14T00:00:00",
          "2022-08-15T00:00:00",
          "2022-08-16T00:00:00",
          "2022-08-17T00:00:00",
          "2022-08-18T00:00:00",
          "2022-08-19T00:00:00",
          "2022-08-20T00:00:00",
          "2022-08-21T00:00:00",
          "2022-08-22T00:00:00",
          "2022-08-23T00:00:00",
          "2022-08-24T00:00:00",
          "2022-08-25T00:00:00",
          "2022-08-26T00:00:00",
          "2022-08-27T00:00:00",
          "2022-08-28T00:00:00",
          "2022-08-29T00:00:00",
          "2022-08-30T00:00:00",
          "2022-08-31T00:00:00",
          "2022-09-01T00:00:00",
          "2022-09-02T00:00:00",
          "2022-09-03T00:00:00",
          "2022-09-04T00:00:00",
          "2022-09-05T00:00:00",
          "2022-09-06T00:00:00",
          "2022-09-07T00:00:00",
          "2022-09-08T00:00:00",
          "2022-09-09T00:00:00",
          "2022-09-10T00:00:00",
          "2022-09-11T00:00:00",
          "2022-09-12T00:00:00",
          "2022-09-13T00:00:00",
          "2022-09-14T00:00:00",
          "2022-09-15T00:00:00",
          "2022-09-16T00:00:00",
          "2022-09-17T00:00:00",
          "2022-09-18T00:00:00",
          "2022-09-19T00:00:00",
          "2022-09-20T00:00:00",
          "2022-09-21T00:00:00",
          "2022-09-22T00:00:00",
          "2022-09-23T00:00:00",
          "2022-09-24T00:00:00",
          "2022-09-25T00:00:00",
          "2022-09-26T00:00:00",
          "2022-09-27T00:00:00",
          "2022-09-28T00:00:00",
          "2022-09-29T00:00:00",
          "2022-09-30T00:00:00",
          "2022-10-01T00:00:00",
          "2022-10-02T00:00:00",
          "2022-10-03T00:00:00",
          "2022-10-04T00:00:00",
          "2022-10-05T00:00:00"
         ],
         "xaxis": "x",
         "y": [
          0.12265317391304346,
          0.07549222807017544,
          0.19171741791044777,
          0.12971975,
          0.1133086923076923,
          0.10342957142857143,
          0.08765484615384615,
          0.124001,
          0.13797568354430378,
          0.144001,
          0.15003946153846154,
          0.13436942105263158,
          0.13650099999999998,
          0.12923980597014925,
          0.1462960819672131,
          0.14238257894736842,
          0.139961,
          0.1470387358490566,
          0.10769867441860465,
          0.128001,
          0.10888736363636363,
          0.10405163291139241,
          0.10940450877192982,
          0.10895655555555554,
          0.154026974025974,
          0.1472282727272727,
          0.1338118108108108,
          0.1135541914893617,
          0.1464715882352941,
          0.11842957142857143,
          0.1005635,
          0.11117121276595744,
          0.11017491304347826,
          0.12073072972972972,
          0.11846975,
          0.11298345614035087,
          0.11112344897959184,
          0.146141350877193,
          0.13565216279069767,
          0.15103946153846154,
          0.13541766666666666,
          0.1399821320754717,
          0.11397877777777778,
          0.11991625423728813,
          0.13030766666666668,
          0.09035814285714285,
          0.13792407692307693,
          0.12486015492957747,
          0.1165100909090909,
          0.14501766666666666,
          0.1300665737704918,
          0.139401,
          0.10725741025641025,
          0.12443648387096774,
          0.157801,
          0.12409359259259259,
          0.1404478085106383,
          0.14627759574468086,
          0.1581473414634146,
          0.09848880487804877,
          0.10529266666666666,
          0.122551,
          0.10018281818181819,
          0.14911638461538462,
          0.14000100000000001,
          0.09992205263157894,
          0.10685285185185185,
          0.133001,
          0.105581,
          0.1522172162162162,
          0.15600099999999997,
          0.08768024528301886,
          0.1256979696969697,
          0.09214854098360656,
          0.09861463636363638,
          0.1160635,
          0.13427218644067795,
          0.10372322222222222,
          0.1318698524590164,
          0.1936933076923077,
          0.10157507407407407,
          0.08769911320754717,
          0.09147719047619048,
          0.12786306896551725,
          0.1285935925925926,
          0.13701854385964912,
          0.09338736363636363,
          0.14502273913043479,
          0.1069526129032258,
          0.14430534782608695,
          0.08985583870967741,
          0.13526630612244897,
          0.13538195238095238,
          0.0803963488372093,
          0.13183820930232557,
          0.1648058780487805,
          0.08722827272727272,
          0.11753291489361702,
          0.1487183913043478,
          0.12719398245614036,
          0.12321312121212122,
          0.13745383018867924,
          0.13010444827586207,
          0.15638195238095237,
          0.19054816981132075,
          0.08778823404255319,
          0.09982792307692308,
          0.08206621739130435,
          0.11294927586206897,
          0.10673433333333333,
          0.102001,
          0.10737137037037037,
          0.15535516666666666,
          0.14656996551724139,
          0.11475099999999999,
          0.0703419090909091,
          0.11913257894736842,
          0.12151211111111111,
          0.1181382549019608,
          0.15298281818181816,
          0.08117747058823528,
          0.0880214081632653,
          0.12645814285714285,
          0.1518149534883721,
          0.10297322222222222,
          0.13948016666666666,
          0.12263003225806451,
          0.13307372727272726,
          0.11298281818181818,
          0.10146001639344261,
          0.10689461702127659,
          0.13429511764705881,
          0.14527968852459014,
          0.11288335294117646,
          0.16216766666666665,
          0.10643648387096774,
          0.10651009090909092,
          0.10679169767441861,
          0.14622322222222223,
          0.15154816981132074,
          0.15051766666666666,
          0.102001,
          0.19494544444444445,
          0.09662099999999998,
          0.11744217647058823,
          0.08712295121951219,
          0.09373016666666667,
          0.11103608771929824,
          0.100101,
          0.16108871929824561,
          0.11710547761194029,
          0.11688031034482758,
          0.131376,
          0.14397069696969697,
          0.111451,
          0.11693977551020408,
          0.11421528571428571,
          0.1313663846153846,
          0.12834246341463415,
          0.11359283673469389,
          0.11812920512820514,
          0.08706222448979592,
          0.1584320344827586,
          0.09142722950819672,
          0.11242407692307693,
          0.1388984358974359,
          0.12427183333333332,
          0.08953946153846153,
          0.18331052380952378,
          0.17112004761904762,
          0.10955655555555556,
          0.09178788524590163,
          0.12292035483870967,
          0.1317121111111111,
          0.13995933333333332,
          0.13678225,
          0.11291328070175438,
          0.122201,
          0.1310635,
          0.09468281818181817,
          0.111701,
          0.11074747887323944,
          0.10687819298245613,
          0.13340777966101694,
          0.115221,
          0.1253275306122449,
          0.14024293548387096,
          0.11051766666666667,
          0.11707892207792207,
          0.09498460655737705,
          0.12995261290322582
         ],
         "yaxis": "y"
        },
        {
         "name": "Negative Sentiment Mean",
         "type": "scatter",
         "x": [
          "2022-03-29T00:00:00",
          "2022-03-30T00:00:00",
          "2022-03-31T00:00:00",
          "2022-04-01T00:00:00",
          "2022-04-02T00:00:00",
          "2022-04-03T00:00:00",
          "2022-04-04T00:00:00",
          "2022-04-05T00:00:00",
          "2022-04-06T00:00:00",
          "2022-04-07T00:00:00",
          "2022-04-08T00:00:00",
          "2022-04-09T00:00:00",
          "2022-04-10T00:00:00",
          "2022-04-11T00:00:00",
          "2022-04-12T00:00:00",
          "2022-04-13T00:00:00",
          "2022-04-14T00:00:00",
          "2022-04-15T00:00:00",
          "2022-04-16T00:00:00",
          "2022-04-17T00:00:00",
          "2022-04-18T00:00:00",
          "2022-04-19T00:00:00",
          "2022-04-20T00:00:00",
          "2022-04-21T00:00:00",
          "2022-04-22T00:00:00",
          "2022-04-23T00:00:00",
          "2022-04-24T00:00:00",
          "2022-04-25T00:00:00",
          "2022-04-26T00:00:00",
          "2022-04-27T00:00:00",
          "2022-04-28T00:00:00",
          "2022-04-29T00:00:00",
          "2022-04-30T00:00:00",
          "2022-05-01T00:00:00",
          "2022-05-02T00:00:00",
          "2022-05-03T00:00:00",
          "2022-05-04T00:00:00",
          "2022-05-05T00:00:00",
          "2022-05-06T00:00:00",
          "2022-05-07T00:00:00",
          "2022-05-08T00:00:00",
          "2022-05-09T00:00:00",
          "2022-05-10T00:00:00",
          "2022-05-11T00:00:00",
          "2022-05-12T00:00:00",
          "2022-05-13T00:00:00",
          "2022-05-14T00:00:00",
          "2022-05-15T00:00:00",
          "2022-05-16T00:00:00",
          "2022-05-17T00:00:00",
          "2022-05-18T00:00:00",
          "2022-05-19T00:00:00",
          "2022-05-20T00:00:00",
          "2022-05-21T00:00:00",
          "2022-05-22T00:00:00",
          "2022-05-23T00:00:00",
          "2022-05-24T00:00:00",
          "2022-05-25T00:00:00",
          "2022-05-26T00:00:00",
          "2022-05-27T00:00:00",
          "2022-05-28T00:00:00",
          "2022-05-29T00:00:00",
          "2022-05-30T00:00:00",
          "2022-05-31T00:00:00",
          "2022-06-01T00:00:00",
          "2022-06-02T00:00:00",
          "2022-06-03T00:00:00",
          "2022-06-04T00:00:00",
          "2022-06-05T00:00:00",
          "2022-06-06T00:00:00",
          "2022-06-07T00:00:00",
          "2022-06-08T00:00:00",
          "2022-06-09T00:00:00",
          "2022-06-10T00:00:00",
          "2022-06-11T00:00:00",
          "2022-06-12T00:00:00",
          "2022-06-13T00:00:00",
          "2022-06-14T00:00:00",
          "2022-06-15T00:00:00",
          "2022-06-16T00:00:00",
          "2022-06-17T00:00:00",
          "2022-06-18T00:00:00",
          "2022-06-19T00:00:00",
          "2022-06-20T00:00:00",
          "2022-06-21T00:00:00",
          "2022-06-22T00:00:00",
          "2022-06-23T00:00:00",
          "2022-06-24T00:00:00",
          "2022-06-25T00:00:00",
          "2022-06-26T00:00:00",
          "2022-06-27T00:00:00",
          "2022-06-28T00:00:00",
          "2022-06-29T00:00:00",
          "2022-06-30T00:00:00",
          "2022-07-01T00:00:00",
          "2022-07-02T00:00:00",
          "2022-07-03T00:00:00",
          "2022-07-04T00:00:00",
          "2022-07-05T00:00:00",
          "2022-07-06T00:00:00",
          "2022-07-07T00:00:00",
          "2022-07-08T00:00:00",
          "2022-07-09T00:00:00",
          "2022-07-10T00:00:00",
          "2022-07-11T00:00:00",
          "2022-07-12T00:00:00",
          "2022-07-13T00:00:00",
          "2022-07-14T00:00:00",
          "2022-07-15T00:00:00",
          "2022-07-16T00:00:00",
          "2022-07-17T00:00:00",
          "2022-07-18T00:00:00",
          "2022-07-19T00:00:00",
          "2022-07-20T00:00:00",
          "2022-07-21T00:00:00",
          "2022-07-22T00:00:00",
          "2022-07-23T00:00:00",
          "2022-07-24T00:00:00",
          "2022-07-25T00:00:00",
          "2022-07-26T00:00:00",
          "2022-07-27T00:00:00",
          "2022-07-28T00:00:00",
          "2022-07-29T00:00:00",
          "2022-07-30T00:00:00",
          "2022-07-31T00:00:00",
          "2022-08-01T00:00:00",
          "2022-08-02T00:00:00",
          "2022-08-03T00:00:00",
          "2022-08-04T00:00:00",
          "2022-08-05T00:00:00",
          "2022-08-06T00:00:00",
          "2022-08-07T00:00:00",
          "2022-08-08T00:00:00",
          "2022-08-09T00:00:00",
          "2022-08-10T00:00:00",
          "2022-08-11T00:00:00",
          "2022-08-12T00:00:00",
          "2022-08-13T00:00:00",
          "2022-08-14T00:00:00",
          "2022-08-15T00:00:00",
          "2022-08-16T00:00:00",
          "2022-08-17T00:00:00",
          "2022-08-18T00:00:00",
          "2022-08-19T00:00:00",
          "2022-08-20T00:00:00",
          "2022-08-21T00:00:00",
          "2022-08-22T00:00:00",
          "2022-08-23T00:00:00",
          "2022-08-24T00:00:00",
          "2022-08-25T00:00:00",
          "2022-08-26T00:00:00",
          "2022-08-27T00:00:00",
          "2022-08-28T00:00:00",
          "2022-08-29T00:00:00",
          "2022-08-30T00:00:00",
          "2022-08-31T00:00:00",
          "2022-09-01T00:00:00",
          "2022-09-02T00:00:00",
          "2022-09-03T00:00:00",
          "2022-09-04T00:00:00",
          "2022-09-05T00:00:00",
          "2022-09-06T00:00:00",
          "2022-09-07T00:00:00",
          "2022-09-08T00:00:00",
          "2022-09-09T00:00:00",
          "2022-09-10T00:00:00",
          "2022-09-11T00:00:00",
          "2022-09-12T00:00:00",
          "2022-09-13T00:00:00",
          "2022-09-14T00:00:00",
          "2022-09-15T00:00:00",
          "2022-09-16T00:00:00",
          "2022-09-17T00:00:00",
          "2022-09-18T00:00:00",
          "2022-09-19T00:00:00",
          "2022-09-20T00:00:00",
          "2022-09-21T00:00:00",
          "2022-09-22T00:00:00",
          "2022-09-23T00:00:00",
          "2022-09-24T00:00:00",
          "2022-09-25T00:00:00",
          "2022-09-26T00:00:00",
          "2022-09-27T00:00:00",
          "2022-09-28T00:00:00",
          "2022-09-29T00:00:00",
          "2022-09-30T00:00:00",
          "2022-10-01T00:00:00",
          "2022-10-02T00:00:00",
          "2022-10-03T00:00:00",
          "2022-10-04T00:00:00",
          "2022-10-05T00:00:00"
         ],
         "xaxis": "x2",
         "y": [
          0.08869665217391302,
          0.071001,
          0.030344283582089553,
          0.0598135,
          0.07763561538461539,
          0.06440576190476191,
          0.07002023076923078,
          0.06774609803921569,
          0.06873517721518987,
          0.09375571698113207,
          0.05519330769230769,
          0.053439596491228064,
          0.05033970967741936,
          0.053642791044776116,
          0.07901739344262294,
          0.04381678947368421,
          0.041361,
          0.062114207547169814,
          0.047349837209302324,
          0.08809623809523809,
          0.07502372727272727,
          0.07155796202531646,
          0.04019398245614035,
          0.05717877777777778,
          0.09707892207792207,
          0.03588736363636364,
          0.0427037027027027,
          0.06919248936170214,
          0.05058923529411764,
          0.03355202040816327,
          0.059126,
          0.05040525531914893,
          0.07545752173913044,
          0.06575775675675674,
          0.07062600000000001,
          0.050158894736842104,
          0.06010304081632653,
          0.052158894736842105,
          0.08321030232558138,
          0.03653946153846154,
          0.0781885,
          0.05262364150943396,
          0.07768988888888889,
          0.04372981355932203,
          0.05501433333333334,
          0.06105457142857142,
          0.0808086923076923,
          0.06555029577464788,
          0.06923736363636364,
          0.06738433333333332,
          0.05190263934426229,
          0.03306766666666667,
          0.03159074358974359,
          0.052501,
          0.07186253846153845,
          0.07409359259259259,
          0.06638397872340425,
          0.048852063829787226,
          0.051001000000000005,
          0.08068392682926828,
          0.05102183333333333,
          0.038076,
          0.08452372727272726,
          0.061943307692307686,
          0.07004751162790697,
          0.05760626315789474,
          0.06509359259259259,
          0.06416426530612244,
          0.058941,
          0.06583883783783784,
          0.058937170212765955,
          0.051227415094339625,
          0.06871312121212121,
          0.0599682131147541,
          0.08936463636363635,
          0.057292666666666665,
          0.06983150847457628,
          0.050426925925925924,
          0.0810337868852459,
          0.03179587179487179,
          0.07527877777777778,
          0.07637835849056603,
          0.03857242857142857,
          0.07631134482758621,
          0.07303803703703704,
          0.07686064912280702,
          0.076751,
          0.04669665217391304,
          0.07267841935483871,
          0.04482708695652174,
          0.05846874193548387,
          0.05006222448979592,
          0.049262904761904765,
          0.05995448837209302,
          0.036280069767441865,
          0.07490343902439024,
          0.044910090909090906,
          0.04770312765957447,
          0.0953705652173913,
          0.06545714035087719,
          0.063501,
          0.08032175471698114,
          0.03422513793103448,
          0.04790576190476191,
          0.04085005660377358,
          0.06500099999999999,
          0.037885615384615386,
          0.04408795652173913,
          0.07032858620689655,
          0.08566766666666666,
          0.059001,
          0.04301951851851852,
          0.05166766666666667,
          0.04867341379310345,
          0.04041009090909091,
          0.04795554545454545,
          0.045185210526315786,
          0.08191211111111112,
          0.0513931568627451,
          0.08627372727272727,
          0.054412764705882355,
          0.06791936734693876,
          0.04611528571428571,
          0.04186146511627907,
          0.04061211111111111,
          0.0521885,
          0.056936483870967745,
          0.043237363636363636,
          0.059201,
          0.05021411475409836,
          0.0464478085106383,
          0.05102060784313725,
          0.05383706557377049,
          0.041471588235294114,
          0.047771833333333326,
          0.08237196774193549,
          0.07149190909090908,
          0.07028006976744185,
          0.056578777777777776,
          0.03741609433962264,
          0.10023433333333333,
          0.08035814285714285,
          0.04496396296296296,
          0.130861,
          0.08247158823529412,
          0.06558636585365854,
          0.06364683333333333,
          0.058001,
          0.05332099999999999,
          0.045509771929824555,
          0.06997114925373135,
          0.06572513793103449,
          0.027726,
          0.05524342424242424,
          0.067801,
          0.06212344897959183,
          0.04094742857142857,
          0.04892407692307692,
          0.054659536585365855,
          0.09367446938775509,
          0.046616384615384615,
          0.05028671428571429,
          0.030707896551724137,
          0.03749280327868852,
          0.05986638461538462,
          0.07038561538461538,
          0.0383135,
          0.07795484615384615,
          0.0499057619047619,
          0.05331052380952381,
          0.06155655555555556,
          0.07767313114754099,
          0.062501,
          0.03831211111111111,
          0.06739683333333334,
          0.06326662499999999,
          0.05275538596491228,
          0.04852407692307693,
          0.04529266666666667,
          0.04452372727272727,
          0.075461,
          0.033423535211267605,
          0.06147468421052631,
          0.04332303389830508,
          0.043141,
          0.03902140816326531,
          0.024339709677419354,
          0.041401,
          0.04145554545454545,
          0.05841083606557377,
          0.05771067741935484
         ],
         "yaxis": "y2"
        },
        {
         "name": "Neutral Sentiment Mean",
         "type": "scatter",
         "x": [
          "2022-03-29T00:00:00",
          "2022-03-30T00:00:00",
          "2022-03-31T00:00:00",
          "2022-04-01T00:00:00",
          "2022-04-02T00:00:00",
          "2022-04-03T00:00:00",
          "2022-04-04T00:00:00",
          "2022-04-05T00:00:00",
          "2022-04-06T00:00:00",
          "2022-04-07T00:00:00",
          "2022-04-08T00:00:00",
          "2022-04-09T00:00:00",
          "2022-04-10T00:00:00",
          "2022-04-11T00:00:00",
          "2022-04-12T00:00:00",
          "2022-04-13T00:00:00",
          "2022-04-14T00:00:00",
          "2022-04-15T00:00:00",
          "2022-04-16T00:00:00",
          "2022-04-17T00:00:00",
          "2022-04-18T00:00:00",
          "2022-04-19T00:00:00",
          "2022-04-20T00:00:00",
          "2022-04-21T00:00:00",
          "2022-04-22T00:00:00",
          "2022-04-23T00:00:00",
          "2022-04-24T00:00:00",
          "2022-04-25T00:00:00",
          "2022-04-26T00:00:00",
          "2022-04-27T00:00:00",
          "2022-04-28T00:00:00",
          "2022-04-29T00:00:00",
          "2022-04-30T00:00:00",
          "2022-05-01T00:00:00",
          "2022-05-02T00:00:00",
          "2022-05-03T00:00:00",
          "2022-05-04T00:00:00",
          "2022-05-05T00:00:00",
          "2022-05-06T00:00:00",
          "2022-05-07T00:00:00",
          "2022-05-08T00:00:00",
          "2022-05-09T00:00:00",
          "2022-05-10T00:00:00",
          "2022-05-11T00:00:00",
          "2022-05-12T00:00:00",
          "2022-05-13T00:00:00",
          "2022-05-14T00:00:00",
          "2022-05-15T00:00:00",
          "2022-05-16T00:00:00",
          "2022-05-17T00:00:00",
          "2022-05-18T00:00:00",
          "2022-05-19T00:00:00",
          "2022-05-20T00:00:00",
          "2022-05-21T00:00:00",
          "2022-05-22T00:00:00",
          "2022-05-23T00:00:00",
          "2022-05-24T00:00:00",
          "2022-05-25T00:00:00",
          "2022-05-26T00:00:00",
          "2022-05-27T00:00:00",
          "2022-05-28T00:00:00",
          "2022-05-29T00:00:00",
          "2022-05-30T00:00:00",
          "2022-05-31T00:00:00",
          "2022-06-01T00:00:00",
          "2022-06-02T00:00:00",
          "2022-06-03T00:00:00",
          "2022-06-04T00:00:00",
          "2022-06-05T00:00:00",
          "2022-06-06T00:00:00",
          "2022-06-07T00:00:00",
          "2022-06-08T00:00:00",
          "2022-06-09T00:00:00",
          "2022-06-10T00:00:00",
          "2022-06-11T00:00:00",
          "2022-06-12T00:00:00",
          "2022-06-13T00:00:00",
          "2022-06-14T00:00:00",
          "2022-06-15T00:00:00",
          "2022-06-16T00:00:00",
          "2022-06-17T00:00:00",
          "2022-06-18T00:00:00",
          "2022-06-19T00:00:00",
          "2022-06-20T00:00:00",
          "2022-06-21T00:00:00",
          "2022-06-22T00:00:00",
          "2022-06-23T00:00:00",
          "2022-06-24T00:00:00",
          "2022-06-25T00:00:00",
          "2022-06-26T00:00:00",
          "2022-06-27T00:00:00",
          "2022-06-28T00:00:00",
          "2022-06-29T00:00:00",
          "2022-06-30T00:00:00",
          "2022-07-01T00:00:00",
          "2022-07-02T00:00:00",
          "2022-07-03T00:00:00",
          "2022-07-04T00:00:00",
          "2022-07-05T00:00:00",
          "2022-07-06T00:00:00",
          "2022-07-07T00:00:00",
          "2022-07-08T00:00:00",
          "2022-07-09T00:00:00",
          "2022-07-10T00:00:00",
          "2022-07-11T00:00:00",
          "2022-07-12T00:00:00",
          "2022-07-13T00:00:00",
          "2022-07-14T00:00:00",
          "2022-07-15T00:00:00",
          "2022-07-16T00:00:00",
          "2022-07-17T00:00:00",
          "2022-07-18T00:00:00",
          "2022-07-19T00:00:00",
          "2022-07-20T00:00:00",
          "2022-07-21T00:00:00",
          "2022-07-22T00:00:00",
          "2022-07-23T00:00:00",
          "2022-07-24T00:00:00",
          "2022-07-25T00:00:00",
          "2022-07-26T00:00:00",
          "2022-07-27T00:00:00",
          "2022-07-28T00:00:00",
          "2022-07-29T00:00:00",
          "2022-07-30T00:00:00",
          "2022-07-31T00:00:00",
          "2022-08-01T00:00:00",
          "2022-08-02T00:00:00",
          "2022-08-03T00:00:00",
          "2022-08-04T00:00:00",
          "2022-08-05T00:00:00",
          "2022-08-06T00:00:00",
          "2022-08-07T00:00:00",
          "2022-08-08T00:00:00",
          "2022-08-09T00:00:00",
          "2022-08-10T00:00:00",
          "2022-08-11T00:00:00",
          "2022-08-12T00:00:00",
          "2022-08-13T00:00:00",
          "2022-08-14T00:00:00",
          "2022-08-15T00:00:00",
          "2022-08-16T00:00:00",
          "2022-08-17T00:00:00",
          "2022-08-18T00:00:00",
          "2022-08-19T00:00:00",
          "2022-08-20T00:00:00",
          "2022-08-21T00:00:00",
          "2022-08-22T00:00:00",
          "2022-08-23T00:00:00",
          "2022-08-24T00:00:00",
          "2022-08-25T00:00:00",
          "2022-08-26T00:00:00",
          "2022-08-27T00:00:00",
          "2022-08-28T00:00:00",
          "2022-08-29T00:00:00",
          "2022-08-30T00:00:00",
          "2022-08-31T00:00:00",
          "2022-09-01T00:00:00",
          "2022-09-02T00:00:00",
          "2022-09-03T00:00:00",
          "2022-09-04T00:00:00",
          "2022-09-05T00:00:00",
          "2022-09-06T00:00:00",
          "2022-09-07T00:00:00",
          "2022-09-08T00:00:00",
          "2022-09-09T00:00:00",
          "2022-09-10T00:00:00",
          "2022-09-11T00:00:00",
          "2022-09-12T00:00:00",
          "2022-09-13T00:00:00",
          "2022-09-14T00:00:00",
          "2022-09-15T00:00:00",
          "2022-09-16T00:00:00",
          "2022-09-17T00:00:00",
          "2022-09-18T00:00:00",
          "2022-09-19T00:00:00",
          "2022-09-20T00:00:00",
          "2022-09-21T00:00:00",
          "2022-09-22T00:00:00",
          "2022-09-23T00:00:00",
          "2022-09-24T00:00:00",
          "2022-09-25T00:00:00",
          "2022-09-26T00:00:00",
          "2022-09-27T00:00:00",
          "2022-09-28T00:00:00",
          "2022-09-29T00:00:00",
          "2022-09-30T00:00:00",
          "2022-10-01T00:00:00",
          "2022-10-02T00:00:00",
          "2022-10-03T00:00:00",
          "2022-10-04T00:00:00",
          "2022-10-05T00:00:00"
         ],
         "xaxis": "x3",
         "y": [
          0.7016531739130435,
          0.765720298245614,
          0.7182547313432835,
          0.7322666250000001,
          0.7128663846153847,
          0.6893105238095238,
          0.6500586923076923,
          0.6905892352941176,
          0.6540516329113925,
          0.6301142075471698,
          0.6985586923076923,
          0.7770536315789474,
          0.732501,
          0.7723293582089552,
          0.7090829672131147,
          0.7479746842105263,
          0.6987076666666667,
          0.734246283018868,
          0.8217219302325581,
          0.7362867142857142,
          0.7478646363636364,
          0.735760493670886,
          0.7802115263157895,
          0.8116676666666667,
          0.7229490519480519,
          0.7714555454545454,
          0.7423523513513514,
          0.7109158936170212,
          0.7735451176470588,
          0.6643887551020408,
          0.777797875,
          0.7533201489361703,
          0.7491531739130436,
          0.6514604594594594,
          0.68590725,
          0.7666852105263158,
          0.665470387755102,
          0.6964922280701754,
          0.7345591395348837,
          0.7355202307692307,
          0.7656468333333333,
          0.7130764716981132,
          0.7416898888888889,
          0.7176959152542373,
          0.7347076666666666,
          0.7235902857142857,
          0.7044048461538461,
          0.7109869154929578,
          0.7779100909090909,
          0.7042843333333334,
          0.7197223114754099,
          0.7275176666666667,
          0.8099240769230769,
          0.6617913225806451,
          0.6626317692307692,
          0.7647787777777778,
          0.7292775957446808,
          0.6558733404255319,
          0.6445375853658537,
          0.6989034390243902,
          0.6770426666666666,
          0.764376,
          0.7243646363636363,
          0.6735971538461538,
          0.766675418604651,
          0.7898694210526316,
          0.679926925925926,
          0.7212254897959184,
          0.7754810000000001,
          0.7278928918918919,
          0.7425329148936171,
          0.7667557169811321,
          0.684410090909091,
          0.7987223114754097,
          0.7664100909090908,
          0.826626,
          0.7281535423728813,
          0.7532232222222222,
          0.688673131147541,
          0.6463086923076923,
          0.6749454444444445,
          0.7982462830188679,
          0.7271200476190476,
          0.7095872068965517,
          0.779889888888889,
          0.716001,
          0.7389555454545454,
          0.7213270869565218,
          0.7880816451612903,
          0.7674140434782608,
          0.8032913225806452,
          0.7534907959183673,
          0.6724771904761905,
          0.7433963488372093,
          0.6923033255813954,
          0.7115619756097561,
          0.7315010000000001,
          0.7284265319148936,
          0.755914043478261,
          0.7547553859649123,
          0.7981070606060606,
          0.763321754716981,
          0.7494320344827586,
          0.7480962380952381,
          0.7308689245283019,
          0.7833839787234042,
          0.7661356153846154,
          0.7216749130434783,
          0.7133113448275863,
          0.7187121111111111,
          0.7801186470588235,
          0.738463962962963,
          0.6887926666666666,
          0.7013113448275862,
          0.7084328181818181,
          0.6998873636363636,
          0.7567641578947368,
          0.7076898888888888,
          0.712844137254902,
          0.7062191818181819,
          0.7468049215686275,
          0.6808173265306122,
          0.6845152857142857,
          0.7133033255813953,
          0.7730565555555555,
          0.6833343333333334,
          0.7397429354838709,
          0.751001,
          0.7369100909090909,
          0.7663616557377049,
          0.7402350425531915,
          0.7558245294117646,
          0.7844928032786885,
          0.7868049215686275,
          0.7275426666666666,
          0.7628074516129032,
          0.7674555454545454,
          0.729861465116279,
          0.6861343333333334,
          0.697812320754717,
          0.682601,
          0.6747331428571428,
          0.723001,
          0.6724809999999999,
          0.7706186470588235,
          0.7985375853658536,
          0.7802093333333334,
          0.7432290701754386,
          0.726581,
          0.7232115263157894,
          0.753269656716418,
          0.713949275862069,
          0.790901,
          0.679591909090909,
          0.7041176666666666,
          0.6984499795918367,
          0.702001,
          0.7235971538461539,
          0.6218790487804878,
          0.6498581428571428,
          0.7583086923076923,
          0.5973275306122449,
          0.7591044482758621,
          0.6907387049180328,
          0.7507894615384616,
          0.7138471538461538,
          0.6707718333333333,
          0.7709548461538461,
          0.6953819523809524,
          0.7041200476190477,
          0.7019375079365079,
          0.6666075573770491,
          0.7177913225806452,
          0.7410898888888888,
          0.646876,
          0.6436885,
          0.6589132807017544,
          0.7523548461538461,
          0.7403759999999999,
          0.7926373636363636,
          0.632841,
          0.6727474788732394,
          0.6386150350877193,
          0.6367806610169492,
          0.741641,
          0.6519601836734693,
          0.7063880967741936,
          0.714751,
          0.6466113896103896,
          0.764656737704918,
          0.7155493870967742
         ],
         "yaxis": "y3"
        }
       ],
       "layout": {
        "annotations": [
         {
          "font": {
           "size": 16
          },
          "showarrow": false,
          "text": "Daily Average Positive Sentiment",
          "x": 0.5,
          "xanchor": "center",
          "xref": "paper",
          "y": 1,
          "yanchor": "bottom",
          "yref": "paper"
         },
         {
          "font": {
           "size": 16
          },
          "showarrow": false,
          "text": "Daily Average Negative Sentiment",
          "x": 0.5,
          "xanchor": "center",
          "xref": "paper",
          "y": 0.6111111111111112,
          "yanchor": "bottom",
          "yref": "paper"
         },
         {
          "font": {
           "size": 16
          },
          "showarrow": false,
          "text": "Daily Average Neutral Sentiment",
          "x": 0.5,
          "xanchor": "center",
          "xref": "paper",
          "y": 0.22222222222222224,
          "yanchor": "bottom",
          "yref": "paper"
         },
         {
          "arrowhead": 3,
          "showarrow": true,
          "text": "$\\mu : 0.12$",
          "x": 1648771200000000000,
          "y": 0.12329877009814706,
          "yshift": 10
         },
         {
          "arrowhead": 3,
          "showarrow": true,
          "text": "$\\mu : 0.06$",
          "x": 1648771200000000000,
          "xref": "x2",
          "y": 0.05882757488197267,
          "yref": "y2",
          "yshift": 10
         },
         {
          "arrowhead": 3,
          "showarrow": true,
          "text": "$\\mu : 0.72$",
          "x": 1648771200000000000,
          "xref": "x3",
          "y": 0.7242308577937671,
          "yref": "y3",
          "yshift": 10
         }
        ],
        "autosize": false,
        "height": 800,
        "shapes": [
         {
          "line": {
           "dash": "dash"
          },
          "type": "line",
          "x0": 0,
          "x1": 1,
          "xref": "x domain",
          "y0": 0.12329877009814706,
          "y1": 0.12329877009814706,
          "yref": "y"
         },
         {
          "line": {
           "dash": "dash"
          },
          "type": "line",
          "x0": 0,
          "x1": 1,
          "xref": "x2 domain",
          "y0": 0.05882757488197267,
          "y1": 0.05882757488197267,
          "yref": "y2"
         },
         {
          "line": {
           "dash": "dash"
          },
          "type": "line",
          "x0": 0,
          "x1": 1,
          "xref": "x3 domain",
          "y0": 0.7242308577937671,
          "y1": 0.7242308577937671,
          "yref": "y3"
         }
        ],
        "template": {
         "data": {
          "bar": [
           {
            "error_x": {
             "color": "#2a3f5f"
            },
            "error_y": {
             "color": "#2a3f5f"
            },
            "marker": {
             "line": {
              "color": "#E5ECF6",
              "width": 0.5
             },
             "pattern": {
              "fillmode": "overlay",
              "size": 10,
              "solidity": 0.2
             }
            },
            "type": "bar"
           }
          ],
          "barpolar": [
           {
            "marker": {
             "line": {
              "color": "#E5ECF6",
              "width": 0.5
             },
             "pattern": {
              "fillmode": "overlay",
              "size": 10,
              "solidity": 0.2
             }
            },
            "type": "barpolar"
           }
          ],
          "carpet": [
           {
            "aaxis": {
             "endlinecolor": "#2a3f5f",
             "gridcolor": "white",
             "linecolor": "white",
             "minorgridcolor": "white",
             "startlinecolor": "#2a3f5f"
            },
            "baxis": {
             "endlinecolor": "#2a3f5f",
             "gridcolor": "white",
             "linecolor": "white",
             "minorgridcolor": "white",
             "startlinecolor": "#2a3f5f"
            },
            "type": "carpet"
           }
          ],
          "choropleth": [
           {
            "colorbar": {
             "outlinewidth": 0,
             "ticks": ""
            },
            "type": "choropleth"
           }
          ],
          "contour": [
           {
            "colorbar": {
             "outlinewidth": 0,
             "ticks": ""
            },
            "colorscale": [
             [
              0,
              "#0d0887"
             ],
             [
              0.1111111111111111,
              "#46039f"
             ],
             [
              0.2222222222222222,
              "#7201a8"
             ],
             [
              0.3333333333333333,
              "#9c179e"
             ],
             [
              0.4444444444444444,
              "#bd3786"
             ],
             [
              0.5555555555555556,
              "#d8576b"
             ],
             [
              0.6666666666666666,
              "#ed7953"
             ],
             [
              0.7777777777777778,
              "#fb9f3a"
             ],
             [
              0.8888888888888888,
              "#fdca26"
             ],
             [
              1,
              "#f0f921"
             ]
            ],
            "type": "contour"
           }
          ],
          "contourcarpet": [
           {
            "colorbar": {
             "outlinewidth": 0,
             "ticks": ""
            },
            "type": "contourcarpet"
           }
          ],
          "heatmap": [
           {
            "colorbar": {
             "outlinewidth": 0,
             "ticks": ""
            },
            "colorscale": [
             [
              0,
              "#0d0887"
             ],
             [
              0.1111111111111111,
              "#46039f"
             ],
             [
              0.2222222222222222,
              "#7201a8"
             ],
             [
              0.3333333333333333,
              "#9c179e"
             ],
             [
              0.4444444444444444,
              "#bd3786"
             ],
             [
              0.5555555555555556,
              "#d8576b"
             ],
             [
              0.6666666666666666,
              "#ed7953"
             ],
             [
              0.7777777777777778,
              "#fb9f3a"
             ],
             [
              0.8888888888888888,
              "#fdca26"
             ],
             [
              1,
              "#f0f921"
             ]
            ],
            "type": "heatmap"
           }
          ],
          "heatmapgl": [
           {
            "colorbar": {
             "outlinewidth": 0,
             "ticks": ""
            },
            "colorscale": [
             [
              0,
              "#0d0887"
             ],
             [
              0.1111111111111111,
              "#46039f"
             ],
             [
              0.2222222222222222,
              "#7201a8"
             ],
             [
              0.3333333333333333,
              "#9c179e"
             ],
             [
              0.4444444444444444,
              "#bd3786"
             ],
             [
              0.5555555555555556,
              "#d8576b"
             ],
             [
              0.6666666666666666,
              "#ed7953"
             ],
             [
              0.7777777777777778,
              "#fb9f3a"
             ],
             [
              0.8888888888888888,
              "#fdca26"
             ],
             [
              1,
              "#f0f921"
             ]
            ],
            "type": "heatmapgl"
           }
          ],
          "histogram": [
           {
            "marker": {
             "pattern": {
              "fillmode": "overlay",
              "size": 10,
              "solidity": 0.2
             }
            },
            "type": "histogram"
           }
          ],
          "histogram2d": [
           {
            "colorbar": {
             "outlinewidth": 0,
             "ticks": ""
            },
            "colorscale": [
             [
              0,
              "#0d0887"
             ],
             [
              0.1111111111111111,
              "#46039f"
             ],
             [
              0.2222222222222222,
              "#7201a8"
             ],
             [
              0.3333333333333333,
              "#9c179e"
             ],
             [
              0.4444444444444444,
              "#bd3786"
             ],
             [
              0.5555555555555556,
              "#d8576b"
             ],
             [
              0.6666666666666666,
              "#ed7953"
             ],
             [
              0.7777777777777778,
              "#fb9f3a"
             ],
             [
              0.8888888888888888,
              "#fdca26"
             ],
             [
              1,
              "#f0f921"
             ]
            ],
            "type": "histogram2d"
           }
          ],
          "histogram2dcontour": [
           {
            "colorbar": {
             "outlinewidth": 0,
             "ticks": ""
            },
            "colorscale": [
             [
              0,
              "#0d0887"
             ],
             [
              0.1111111111111111,
              "#46039f"
             ],
             [
              0.2222222222222222,
              "#7201a8"
             ],
             [
              0.3333333333333333,
              "#9c179e"
             ],
             [
              0.4444444444444444,
              "#bd3786"
             ],
             [
              0.5555555555555556,
              "#d8576b"
             ],
             [
              0.6666666666666666,
              "#ed7953"
             ],
             [
              0.7777777777777778,
              "#fb9f3a"
             ],
             [
              0.8888888888888888,
              "#fdca26"
             ],
             [
              1,
              "#f0f921"
             ]
            ],
            "type": "histogram2dcontour"
           }
          ],
          "mesh3d": [
           {
            "colorbar": {
             "outlinewidth": 0,
             "ticks": ""
            },
            "type": "mesh3d"
           }
          ],
          "parcoords": [
           {
            "line": {
             "colorbar": {
              "outlinewidth": 0,
              "ticks": ""
             }
            },
            "type": "parcoords"
           }
          ],
          "pie": [
           {
            "automargin": true,
            "type": "pie"
           }
          ],
          "scatter": [
           {
            "fillpattern": {
             "fillmode": "overlay",
             "size": 10,
             "solidity": 0.2
            },
            "type": "scatter"
           }
          ],
          "scatter3d": [
           {
            "line": {
             "colorbar": {
              "outlinewidth": 0,
              "ticks": ""
             }
            },
            "marker": {
             "colorbar": {
              "outlinewidth": 0,
              "ticks": ""
             }
            },
            "type": "scatter3d"
           }
          ],
          "scattercarpet": [
           {
            "marker": {
             "colorbar": {
              "outlinewidth": 0,
              "ticks": ""
             }
            },
            "type": "scattercarpet"
           }
          ],
          "scattergeo": [
           {
            "marker": {
             "colorbar": {
              "outlinewidth": 0,
              "ticks": ""
             }
            },
            "type": "scattergeo"
           }
          ],
          "scattergl": [
           {
            "marker": {
             "colorbar": {
              "outlinewidth": 0,
              "ticks": ""
             }
            },
            "type": "scattergl"
           }
          ],
          "scattermapbox": [
           {
            "marker": {
             "colorbar": {
              "outlinewidth": 0,
              "ticks": ""
             }
            },
            "type": "scattermapbox"
           }
          ],
          "scatterpolar": [
           {
            "marker": {
             "colorbar": {
              "outlinewidth": 0,
              "ticks": ""
             }
            },
            "type": "scatterpolar"
           }
          ],
          "scatterpolargl": [
           {
            "marker": {
             "colorbar": {
              "outlinewidth": 0,
              "ticks": ""
             }
            },
            "type": "scatterpolargl"
           }
          ],
          "scatterternary": [
           {
            "marker": {
             "colorbar": {
              "outlinewidth": 0,
              "ticks": ""
             }
            },
            "type": "scatterternary"
           }
          ],
          "surface": [
           {
            "colorbar": {
             "outlinewidth": 0,
             "ticks": ""
            },
            "colorscale": [
             [
              0,
              "#0d0887"
             ],
             [
              0.1111111111111111,
              "#46039f"
             ],
             [
              0.2222222222222222,
              "#7201a8"
             ],
             [
              0.3333333333333333,
              "#9c179e"
             ],
             [
              0.4444444444444444,
              "#bd3786"
             ],
             [
              0.5555555555555556,
              "#d8576b"
             ],
             [
              0.6666666666666666,
              "#ed7953"
             ],
             [
              0.7777777777777778,
              "#fb9f3a"
             ],
             [
              0.8888888888888888,
              "#fdca26"
             ],
             [
              1,
              "#f0f921"
             ]
            ],
            "type": "surface"
           }
          ],
          "table": [
           {
            "cells": {
             "fill": {
              "color": "#EBF0F8"
             },
             "line": {
              "color": "white"
             }
            },
            "header": {
             "fill": {
              "color": "#C8D4E3"
             },
             "line": {
              "color": "white"
             }
            },
            "type": "table"
           }
          ]
         },
         "layout": {
          "annotationdefaults": {
           "arrowcolor": "#2a3f5f",
           "arrowhead": 0,
           "arrowwidth": 1
          },
          "autotypenumbers": "strict",
          "coloraxis": {
           "colorbar": {
            "outlinewidth": 0,
            "ticks": ""
           }
          },
          "colorscale": {
           "diverging": [
            [
             0,
             "#8e0152"
            ],
            [
             0.1,
             "#c51b7d"
            ],
            [
             0.2,
             "#de77ae"
            ],
            [
             0.3,
             "#f1b6da"
            ],
            [
             0.4,
             "#fde0ef"
            ],
            [
             0.5,
             "#f7f7f7"
            ],
            [
             0.6,
             "#e6f5d0"
            ],
            [
             0.7,
             "#b8e186"
            ],
            [
             0.8,
             "#7fbc41"
            ],
            [
             0.9,
             "#4d9221"
            ],
            [
             1,
             "#276419"
            ]
           ],
           "sequential": [
            [
             0,
             "#0d0887"
            ],
            [
             0.1111111111111111,
             "#46039f"
            ],
            [
             0.2222222222222222,
             "#7201a8"
            ],
            [
             0.3333333333333333,
             "#9c179e"
            ],
            [
             0.4444444444444444,
             "#bd3786"
            ],
            [
             0.5555555555555556,
             "#d8576b"
            ],
            [
             0.6666666666666666,
             "#ed7953"
            ],
            [
             0.7777777777777778,
             "#fb9f3a"
            ],
            [
             0.8888888888888888,
             "#fdca26"
            ],
            [
             1,
             "#f0f921"
            ]
           ],
           "sequentialminus": [
            [
             0,
             "#0d0887"
            ],
            [
             0.1111111111111111,
             "#46039f"
            ],
            [
             0.2222222222222222,
             "#7201a8"
            ],
            [
             0.3333333333333333,
             "#9c179e"
            ],
            [
             0.4444444444444444,
             "#bd3786"
            ],
            [
             0.5555555555555556,
             "#d8576b"
            ],
            [
             0.6666666666666666,
             "#ed7953"
            ],
            [
             0.7777777777777778,
             "#fb9f3a"
            ],
            [
             0.8888888888888888,
             "#fdca26"
            ],
            [
             1,
             "#f0f921"
            ]
           ]
          },
          "colorway": [
           "#636efa",
           "#EF553B",
           "#00cc96",
           "#ab63fa",
           "#FFA15A",
           "#19d3f3",
           "#FF6692",
           "#B6E880",
           "#FF97FF",
           "#FECB52"
          ],
          "font": {
           "color": "#2a3f5f"
          },
          "geo": {
           "bgcolor": "white",
           "lakecolor": "white",
           "landcolor": "#E5ECF6",
           "showlakes": true,
           "showland": true,
           "subunitcolor": "white"
          },
          "hoverlabel": {
           "align": "left"
          },
          "hovermode": "closest",
          "mapbox": {
           "style": "light"
          },
          "paper_bgcolor": "white",
          "plot_bgcolor": "#E5ECF6",
          "polar": {
           "angularaxis": {
            "gridcolor": "white",
            "linecolor": "white",
            "ticks": ""
           },
           "bgcolor": "#E5ECF6",
           "radialaxis": {
            "gridcolor": "white",
            "linecolor": "white",
            "ticks": ""
           }
          },
          "scene": {
           "xaxis": {
            "backgroundcolor": "#E5ECF6",
            "gridcolor": "white",
            "gridwidth": 2,
            "linecolor": "white",
            "showbackground": true,
            "ticks": "",
            "zerolinecolor": "white"
           },
           "yaxis": {
            "backgroundcolor": "#E5ECF6",
            "gridcolor": "white",
            "gridwidth": 2,
            "linecolor": "white",
            "showbackground": true,
            "ticks": "",
            "zerolinecolor": "white"
           },
           "zaxis": {
            "backgroundcolor": "#E5ECF6",
            "gridcolor": "white",
            "gridwidth": 2,
            "linecolor": "white",
            "showbackground": true,
            "ticks": "",
            "zerolinecolor": "white"
           }
          },
          "shapedefaults": {
           "line": {
            "color": "#2a3f5f"
           }
          },
          "ternary": {
           "aaxis": {
            "gridcolor": "white",
            "linecolor": "white",
            "ticks": ""
           },
           "baxis": {
            "gridcolor": "white",
            "linecolor": "white",
            "ticks": ""
           },
           "bgcolor": "#E5ECF6",
           "caxis": {
            "gridcolor": "white",
            "linecolor": "white",
            "ticks": ""
           }
          },
          "title": {
           "x": 0.05
          },
          "xaxis": {
           "automargin": true,
           "gridcolor": "white",
           "linecolor": "white",
           "ticks": "",
           "title": {
            "standoff": 15
           },
           "zerolinecolor": "white",
           "zerolinewidth": 2
          },
          "yaxis": {
           "automargin": true,
           "gridcolor": "white",
           "linecolor": "white",
           "ticks": "",
           "title": {
            "standoff": 15
           },
           "zerolinecolor": "white",
           "zerolinewidth": 2
          }
         }
        },
        "width": 800,
        "xaxis": {
         "anchor": "y",
         "domain": [
          0,
          1
         ],
         "matches": "x3",
         "showticklabels": false
        },
        "xaxis2": {
         "anchor": "y2",
         "domain": [
          0,
          1
         ],
         "matches": "x3",
         "showticklabels": false
        },
        "xaxis3": {
         "anchor": "y3",
         "domain": [
          0,
          1
         ]
        },
        "yaxis": {
         "anchor": "x",
         "domain": [
          0.7777777777777778,
          1
         ]
        },
        "yaxis2": {
         "anchor": "x2",
         "domain": [
          0.3888888888888889,
          0.6111111111111112
         ]
        },
        "yaxis3": {
         "anchor": "x3",
         "domain": [
          0,
          0.22222222222222224
         ]
        }
       }
      },
      "text/html": [
       "<div>                            <div id=\"3bf724f2-5e46-41cb-bf5a-4b6ddd35477b\" class=\"plotly-graph-div\" style=\"height:800px; width:800px;\"></div>            <script type=\"text/javascript\">                require([\"plotly\"], function(Plotly) {                    window.PLOTLYENV=window.PLOTLYENV || {};                                    if (document.getElementById(\"3bf724f2-5e46-41cb-bf5a-4b6ddd35477b\")) {                    Plotly.newPlot(                        \"3bf724f2-5e46-41cb-bf5a-4b6ddd35477b\",                        [{\"name\":\"Positive Sentiment Mean\",\"x\":[\"2022-03-29T00:00:00\",\"2022-03-30T00:00:00\",\"2022-03-31T00:00:00\",\"2022-04-01T00:00:00\",\"2022-04-02T00:00:00\",\"2022-04-03T00:00:00\",\"2022-04-04T00:00:00\",\"2022-04-05T00:00:00\",\"2022-04-06T00:00:00\",\"2022-04-07T00:00:00\",\"2022-04-08T00:00:00\",\"2022-04-09T00:00:00\",\"2022-04-10T00:00:00\",\"2022-04-11T00:00:00\",\"2022-04-12T00:00:00\",\"2022-04-13T00:00:00\",\"2022-04-14T00:00:00\",\"2022-04-15T00:00:00\",\"2022-04-16T00:00:00\",\"2022-04-17T00:00:00\",\"2022-04-18T00:00:00\",\"2022-04-19T00:00:00\",\"2022-04-20T00:00:00\",\"2022-04-21T00:00:00\",\"2022-04-22T00:00:00\",\"2022-04-23T00:00:00\",\"2022-04-24T00:00:00\",\"2022-04-25T00:00:00\",\"2022-04-26T00:00:00\",\"2022-04-27T00:00:00\",\"2022-04-28T00:00:00\",\"2022-04-29T00:00:00\",\"2022-04-30T00:00:00\",\"2022-05-01T00:00:00\",\"2022-05-02T00:00:00\",\"2022-05-03T00:00:00\",\"2022-05-04T00:00:00\",\"2022-05-05T00:00:00\",\"2022-05-06T00:00:00\",\"2022-05-07T00:00:00\",\"2022-05-08T00:00:00\",\"2022-05-09T00:00:00\",\"2022-05-10T00:00:00\",\"2022-05-11T00:00:00\",\"2022-05-12T00:00:00\",\"2022-05-13T00:00:00\",\"2022-05-14T00:00:00\",\"2022-05-15T00:00:00\",\"2022-05-16T00:00:00\",\"2022-05-17T00:00:00\",\"2022-05-18T00:00:00\",\"2022-05-19T00:00:00\",\"2022-05-20T00:00:00\",\"2022-05-21T00:00:00\",\"2022-05-22T00:00:00\",\"2022-05-23T00:00:00\",\"2022-05-24T00:00:00\",\"2022-05-25T00:00:00\",\"2022-05-26T00:00:00\",\"2022-05-27T00:00:00\",\"2022-05-28T00:00:00\",\"2022-05-29T00:00:00\",\"2022-05-30T00:00:00\",\"2022-05-31T00:00:00\",\"2022-06-01T00:00:00\",\"2022-06-02T00:00:00\",\"2022-06-03T00:00:00\",\"2022-06-04T00:00:00\",\"2022-06-05T00:00:00\",\"2022-06-06T00:00:00\",\"2022-06-07T00:00:00\",\"2022-06-08T00:00:00\",\"2022-06-09T00:00:00\",\"2022-06-10T00:00:00\",\"2022-06-11T00:00:00\",\"2022-06-12T00:00:00\",\"2022-06-13T00:00:00\",\"2022-06-14T00:00:00\",\"2022-06-15T00:00:00\",\"2022-06-16T00:00:00\",\"2022-06-17T00:00:00\",\"2022-06-18T00:00:00\",\"2022-06-19T00:00:00\",\"2022-06-20T00:00:00\",\"2022-06-21T00:00:00\",\"2022-06-22T00:00:00\",\"2022-06-23T00:00:00\",\"2022-06-24T00:00:00\",\"2022-06-25T00:00:00\",\"2022-06-26T00:00:00\",\"2022-06-27T00:00:00\",\"2022-06-28T00:00:00\",\"2022-06-29T00:00:00\",\"2022-06-30T00:00:00\",\"2022-07-01T00:00:00\",\"2022-07-02T00:00:00\",\"2022-07-03T00:00:00\",\"2022-07-04T00:00:00\",\"2022-07-05T00:00:00\",\"2022-07-06T00:00:00\",\"2022-07-07T00:00:00\",\"2022-07-08T00:00:00\",\"2022-07-09T00:00:00\",\"2022-07-10T00:00:00\",\"2022-07-11T00:00:00\",\"2022-07-12T00:00:00\",\"2022-07-13T00:00:00\",\"2022-07-14T00:00:00\",\"2022-07-15T00:00:00\",\"2022-07-16T00:00:00\",\"2022-07-17T00:00:00\",\"2022-07-18T00:00:00\",\"2022-07-19T00:00:00\",\"2022-07-20T00:00:00\",\"2022-07-21T00:00:00\",\"2022-07-22T00:00:00\",\"2022-07-23T00:00:00\",\"2022-07-24T00:00:00\",\"2022-07-25T00:00:00\",\"2022-07-26T00:00:00\",\"2022-07-27T00:00:00\",\"2022-07-28T00:00:00\",\"2022-07-29T00:00:00\",\"2022-07-30T00:00:00\",\"2022-07-31T00:00:00\",\"2022-08-01T00:00:00\",\"2022-08-02T00:00:00\",\"2022-08-03T00:00:00\",\"2022-08-04T00:00:00\",\"2022-08-05T00:00:00\",\"2022-08-06T00:00:00\",\"2022-08-07T00:00:00\",\"2022-08-08T00:00:00\",\"2022-08-09T00:00:00\",\"2022-08-10T00:00:00\",\"2022-08-11T00:00:00\",\"2022-08-12T00:00:00\",\"2022-08-13T00:00:00\",\"2022-08-14T00:00:00\",\"2022-08-15T00:00:00\",\"2022-08-16T00:00:00\",\"2022-08-17T00:00:00\",\"2022-08-18T00:00:00\",\"2022-08-19T00:00:00\",\"2022-08-20T00:00:00\",\"2022-08-21T00:00:00\",\"2022-08-22T00:00:00\",\"2022-08-23T00:00:00\",\"2022-08-24T00:00:00\",\"2022-08-25T00:00:00\",\"2022-08-26T00:00:00\",\"2022-08-27T00:00:00\",\"2022-08-28T00:00:00\",\"2022-08-29T00:00:00\",\"2022-08-30T00:00:00\",\"2022-08-31T00:00:00\",\"2022-09-01T00:00:00\",\"2022-09-02T00:00:00\",\"2022-09-03T00:00:00\",\"2022-09-04T00:00:00\",\"2022-09-05T00:00:00\",\"2022-09-06T00:00:00\",\"2022-09-07T00:00:00\",\"2022-09-08T00:00:00\",\"2022-09-09T00:00:00\",\"2022-09-10T00:00:00\",\"2022-09-11T00:00:00\",\"2022-09-12T00:00:00\",\"2022-09-13T00:00:00\",\"2022-09-14T00:00:00\",\"2022-09-15T00:00:00\",\"2022-09-16T00:00:00\",\"2022-09-17T00:00:00\",\"2022-09-18T00:00:00\",\"2022-09-19T00:00:00\",\"2022-09-20T00:00:00\",\"2022-09-21T00:00:00\",\"2022-09-22T00:00:00\",\"2022-09-23T00:00:00\",\"2022-09-24T00:00:00\",\"2022-09-25T00:00:00\",\"2022-09-26T00:00:00\",\"2022-09-27T00:00:00\",\"2022-09-28T00:00:00\",\"2022-09-29T00:00:00\",\"2022-09-30T00:00:00\",\"2022-10-01T00:00:00\",\"2022-10-02T00:00:00\",\"2022-10-03T00:00:00\",\"2022-10-04T00:00:00\",\"2022-10-05T00:00:00\"],\"y\":[0.12265317391304346,0.07549222807017544,0.19171741791044777,0.12971975,0.1133086923076923,0.10342957142857143,0.08765484615384615,0.124001,0.13797568354430378,0.144001,0.15003946153846154,0.13436942105263158,0.13650099999999998,0.12923980597014925,0.1462960819672131,0.14238257894736842,0.139961,0.1470387358490566,0.10769867441860465,0.128001,0.10888736363636363,0.10405163291139241,0.10940450877192982,0.10895655555555554,0.154026974025974,0.1472282727272727,0.1338118108108108,0.1135541914893617,0.1464715882352941,0.11842957142857143,0.1005635,0.11117121276595744,0.11017491304347826,0.12073072972972972,0.11846975,0.11298345614035087,0.11112344897959184,0.146141350877193,0.13565216279069767,0.15103946153846154,0.13541766666666666,0.1399821320754717,0.11397877777777778,0.11991625423728813,0.13030766666666668,0.09035814285714285,0.13792407692307693,0.12486015492957747,0.1165100909090909,0.14501766666666666,0.1300665737704918,0.139401,0.10725741025641025,0.12443648387096774,0.157801,0.12409359259259259,0.1404478085106383,0.14627759574468086,0.1581473414634146,0.09848880487804877,0.10529266666666666,0.122551,0.10018281818181819,0.14911638461538462,0.14000100000000001,0.09992205263157894,0.10685285185185185,0.133001,0.105581,0.1522172162162162,0.15600099999999997,0.08768024528301886,0.1256979696969697,0.09214854098360656,0.09861463636363638,0.1160635,0.13427218644067795,0.10372322222222222,0.1318698524590164,0.1936933076923077,0.10157507407407407,0.08769911320754717,0.09147719047619048,0.12786306896551725,0.1285935925925926,0.13701854385964912,0.09338736363636363,0.14502273913043479,0.1069526129032258,0.14430534782608695,0.08985583870967741,0.13526630612244897,0.13538195238095238,0.0803963488372093,0.13183820930232557,0.1648058780487805,0.08722827272727272,0.11753291489361702,0.1487183913043478,0.12719398245614036,0.12321312121212122,0.13745383018867924,0.13010444827586207,0.15638195238095237,0.19054816981132075,0.08778823404255319,0.09982792307692308,0.08206621739130435,0.11294927586206897,0.10673433333333333,0.102001,0.10737137037037037,0.15535516666666666,0.14656996551724139,0.11475099999999999,0.0703419090909091,0.11913257894736842,0.12151211111111111,0.1181382549019608,0.15298281818181816,0.08117747058823528,0.0880214081632653,0.12645814285714285,0.1518149534883721,0.10297322222222222,0.13948016666666666,0.12263003225806451,0.13307372727272726,0.11298281818181818,0.10146001639344261,0.10689461702127659,0.13429511764705881,0.14527968852459014,0.11288335294117646,0.16216766666666665,0.10643648387096774,0.10651009090909092,0.10679169767441861,0.14622322222222223,0.15154816981132074,0.15051766666666666,0.102001,0.19494544444444445,0.09662099999999998,0.11744217647058823,0.08712295121951219,0.09373016666666667,0.11103608771929824,0.100101,0.16108871929824561,0.11710547761194029,0.11688031034482758,0.131376,0.14397069696969697,0.111451,0.11693977551020408,0.11421528571428571,0.1313663846153846,0.12834246341463415,0.11359283673469389,0.11812920512820514,0.08706222448979592,0.1584320344827586,0.09142722950819672,0.11242407692307693,0.1388984358974359,0.12427183333333332,0.08953946153846153,0.18331052380952378,0.17112004761904762,0.10955655555555556,0.09178788524590163,0.12292035483870967,0.1317121111111111,0.13995933333333332,0.13678225,0.11291328070175438,0.122201,0.1310635,0.09468281818181817,0.111701,0.11074747887323944,0.10687819298245613,0.13340777966101694,0.115221,0.1253275306122449,0.14024293548387096,0.11051766666666667,0.11707892207792207,0.09498460655737705,0.12995261290322582],\"type\":\"scatter\",\"xaxis\":\"x\",\"yaxis\":\"y\"},{\"name\":\"Negative Sentiment Mean\",\"x\":[\"2022-03-29T00:00:00\",\"2022-03-30T00:00:00\",\"2022-03-31T00:00:00\",\"2022-04-01T00:00:00\",\"2022-04-02T00:00:00\",\"2022-04-03T00:00:00\",\"2022-04-04T00:00:00\",\"2022-04-05T00:00:00\",\"2022-04-06T00:00:00\",\"2022-04-07T00:00:00\",\"2022-04-08T00:00:00\",\"2022-04-09T00:00:00\",\"2022-04-10T00:00:00\",\"2022-04-11T00:00:00\",\"2022-04-12T00:00:00\",\"2022-04-13T00:00:00\",\"2022-04-14T00:00:00\",\"2022-04-15T00:00:00\",\"2022-04-16T00:00:00\",\"2022-04-17T00:00:00\",\"2022-04-18T00:00:00\",\"2022-04-19T00:00:00\",\"2022-04-20T00:00:00\",\"2022-04-21T00:00:00\",\"2022-04-22T00:00:00\",\"2022-04-23T00:00:00\",\"2022-04-24T00:00:00\",\"2022-04-25T00:00:00\",\"2022-04-26T00:00:00\",\"2022-04-27T00:00:00\",\"2022-04-28T00:00:00\",\"2022-04-29T00:00:00\",\"2022-04-30T00:00:00\",\"2022-05-01T00:00:00\",\"2022-05-02T00:00:00\",\"2022-05-03T00:00:00\",\"2022-05-04T00:00:00\",\"2022-05-05T00:00:00\",\"2022-05-06T00:00:00\",\"2022-05-07T00:00:00\",\"2022-05-08T00:00:00\",\"2022-05-09T00:00:00\",\"2022-05-10T00:00:00\",\"2022-05-11T00:00:00\",\"2022-05-12T00:00:00\",\"2022-05-13T00:00:00\",\"2022-05-14T00:00:00\",\"2022-05-15T00:00:00\",\"2022-05-16T00:00:00\",\"2022-05-17T00:00:00\",\"2022-05-18T00:00:00\",\"2022-05-19T00:00:00\",\"2022-05-20T00:00:00\",\"2022-05-21T00:00:00\",\"2022-05-22T00:00:00\",\"2022-05-23T00:00:00\",\"2022-05-24T00:00:00\",\"2022-05-25T00:00:00\",\"2022-05-26T00:00:00\",\"2022-05-27T00:00:00\",\"2022-05-28T00:00:00\",\"2022-05-29T00:00:00\",\"2022-05-30T00:00:00\",\"2022-05-31T00:00:00\",\"2022-06-01T00:00:00\",\"2022-06-02T00:00:00\",\"2022-06-03T00:00:00\",\"2022-06-04T00:00:00\",\"2022-06-05T00:00:00\",\"2022-06-06T00:00:00\",\"2022-06-07T00:00:00\",\"2022-06-08T00:00:00\",\"2022-06-09T00:00:00\",\"2022-06-10T00:00:00\",\"2022-06-11T00:00:00\",\"2022-06-12T00:00:00\",\"2022-06-13T00:00:00\",\"2022-06-14T00:00:00\",\"2022-06-15T00:00:00\",\"2022-06-16T00:00:00\",\"2022-06-17T00:00:00\",\"2022-06-18T00:00:00\",\"2022-06-19T00:00:00\",\"2022-06-20T00:00:00\",\"2022-06-21T00:00:00\",\"2022-06-22T00:00:00\",\"2022-06-23T00:00:00\",\"2022-06-24T00:00:00\",\"2022-06-25T00:00:00\",\"2022-06-26T00:00:00\",\"2022-06-27T00:00:00\",\"2022-06-28T00:00:00\",\"2022-06-29T00:00:00\",\"2022-06-30T00:00:00\",\"2022-07-01T00:00:00\",\"2022-07-02T00:00:00\",\"2022-07-03T00:00:00\",\"2022-07-04T00:00:00\",\"2022-07-05T00:00:00\",\"2022-07-06T00:00:00\",\"2022-07-07T00:00:00\",\"2022-07-08T00:00:00\",\"2022-07-09T00:00:00\",\"2022-07-10T00:00:00\",\"2022-07-11T00:00:00\",\"2022-07-12T00:00:00\",\"2022-07-13T00:00:00\",\"2022-07-14T00:00:00\",\"2022-07-15T00:00:00\",\"2022-07-16T00:00:00\",\"2022-07-17T00:00:00\",\"2022-07-18T00:00:00\",\"2022-07-19T00:00:00\",\"2022-07-20T00:00:00\",\"2022-07-21T00:00:00\",\"2022-07-22T00:00:00\",\"2022-07-23T00:00:00\",\"2022-07-24T00:00:00\",\"2022-07-25T00:00:00\",\"2022-07-26T00:00:00\",\"2022-07-27T00:00:00\",\"2022-07-28T00:00:00\",\"2022-07-29T00:00:00\",\"2022-07-30T00:00:00\",\"2022-07-31T00:00:00\",\"2022-08-01T00:00:00\",\"2022-08-02T00:00:00\",\"2022-08-03T00:00:00\",\"2022-08-04T00:00:00\",\"2022-08-05T00:00:00\",\"2022-08-06T00:00:00\",\"2022-08-07T00:00:00\",\"2022-08-08T00:00:00\",\"2022-08-09T00:00:00\",\"2022-08-10T00:00:00\",\"2022-08-11T00:00:00\",\"2022-08-12T00:00:00\",\"2022-08-13T00:00:00\",\"2022-08-14T00:00:00\",\"2022-08-15T00:00:00\",\"2022-08-16T00:00:00\",\"2022-08-17T00:00:00\",\"2022-08-18T00:00:00\",\"2022-08-19T00:00:00\",\"2022-08-20T00:00:00\",\"2022-08-21T00:00:00\",\"2022-08-22T00:00:00\",\"2022-08-23T00:00:00\",\"2022-08-24T00:00:00\",\"2022-08-25T00:00:00\",\"2022-08-26T00:00:00\",\"2022-08-27T00:00:00\",\"2022-08-28T00:00:00\",\"2022-08-29T00:00:00\",\"2022-08-30T00:00:00\",\"2022-08-31T00:00:00\",\"2022-09-01T00:00:00\",\"2022-09-02T00:00:00\",\"2022-09-03T00:00:00\",\"2022-09-04T00:00:00\",\"2022-09-05T00:00:00\",\"2022-09-06T00:00:00\",\"2022-09-07T00:00:00\",\"2022-09-08T00:00:00\",\"2022-09-09T00:00:00\",\"2022-09-10T00:00:00\",\"2022-09-11T00:00:00\",\"2022-09-12T00:00:00\",\"2022-09-13T00:00:00\",\"2022-09-14T00:00:00\",\"2022-09-15T00:00:00\",\"2022-09-16T00:00:00\",\"2022-09-17T00:00:00\",\"2022-09-18T00:00:00\",\"2022-09-19T00:00:00\",\"2022-09-20T00:00:00\",\"2022-09-21T00:00:00\",\"2022-09-22T00:00:00\",\"2022-09-23T00:00:00\",\"2022-09-24T00:00:00\",\"2022-09-25T00:00:00\",\"2022-09-26T00:00:00\",\"2022-09-27T00:00:00\",\"2022-09-28T00:00:00\",\"2022-09-29T00:00:00\",\"2022-09-30T00:00:00\",\"2022-10-01T00:00:00\",\"2022-10-02T00:00:00\",\"2022-10-03T00:00:00\",\"2022-10-04T00:00:00\",\"2022-10-05T00:00:00\"],\"y\":[0.08869665217391302,0.071001,0.030344283582089553,0.0598135,0.07763561538461539,0.06440576190476191,0.07002023076923078,0.06774609803921569,0.06873517721518987,0.09375571698113207,0.05519330769230769,0.053439596491228064,0.05033970967741936,0.053642791044776116,0.07901739344262294,0.04381678947368421,0.041361,0.062114207547169814,0.047349837209302324,0.08809623809523809,0.07502372727272727,0.07155796202531646,0.04019398245614035,0.05717877777777778,0.09707892207792207,0.03588736363636364,0.0427037027027027,0.06919248936170214,0.05058923529411764,0.03355202040816327,0.059126,0.05040525531914893,0.07545752173913044,0.06575775675675674,0.07062600000000001,0.050158894736842104,0.06010304081632653,0.052158894736842105,0.08321030232558138,0.03653946153846154,0.0781885,0.05262364150943396,0.07768988888888889,0.04372981355932203,0.05501433333333334,0.06105457142857142,0.0808086923076923,0.06555029577464788,0.06923736363636364,0.06738433333333332,0.05190263934426229,0.03306766666666667,0.03159074358974359,0.052501,0.07186253846153845,0.07409359259259259,0.06638397872340425,0.048852063829787226,0.051001000000000005,0.08068392682926828,0.05102183333333333,0.038076,0.08452372727272726,0.061943307692307686,0.07004751162790697,0.05760626315789474,0.06509359259259259,0.06416426530612244,0.058941,0.06583883783783784,0.058937170212765955,0.051227415094339625,0.06871312121212121,0.0599682131147541,0.08936463636363635,0.057292666666666665,0.06983150847457628,0.050426925925925924,0.0810337868852459,0.03179587179487179,0.07527877777777778,0.07637835849056603,0.03857242857142857,0.07631134482758621,0.07303803703703704,0.07686064912280702,0.076751,0.04669665217391304,0.07267841935483871,0.04482708695652174,0.05846874193548387,0.05006222448979592,0.049262904761904765,0.05995448837209302,0.036280069767441865,0.07490343902439024,0.044910090909090906,0.04770312765957447,0.0953705652173913,0.06545714035087719,0.063501,0.08032175471698114,0.03422513793103448,0.04790576190476191,0.04085005660377358,0.06500099999999999,0.037885615384615386,0.04408795652173913,0.07032858620689655,0.08566766666666666,0.059001,0.04301951851851852,0.05166766666666667,0.04867341379310345,0.04041009090909091,0.04795554545454545,0.045185210526315786,0.08191211111111112,0.0513931568627451,0.08627372727272727,0.054412764705882355,0.06791936734693876,0.04611528571428571,0.04186146511627907,0.04061211111111111,0.0521885,0.056936483870967745,0.043237363636363636,0.059201,0.05021411475409836,0.0464478085106383,0.05102060784313725,0.05383706557377049,0.041471588235294114,0.047771833333333326,0.08237196774193549,0.07149190909090908,0.07028006976744185,0.056578777777777776,0.03741609433962264,0.10023433333333333,0.08035814285714285,0.04496396296296296,0.130861,0.08247158823529412,0.06558636585365854,0.06364683333333333,0.058001,0.05332099999999999,0.045509771929824555,0.06997114925373135,0.06572513793103449,0.027726,0.05524342424242424,0.067801,0.06212344897959183,0.04094742857142857,0.04892407692307692,0.054659536585365855,0.09367446938775509,0.046616384615384615,0.05028671428571429,0.030707896551724137,0.03749280327868852,0.05986638461538462,0.07038561538461538,0.0383135,0.07795484615384615,0.0499057619047619,0.05331052380952381,0.06155655555555556,0.07767313114754099,0.062501,0.03831211111111111,0.06739683333333334,0.06326662499999999,0.05275538596491228,0.04852407692307693,0.04529266666666667,0.04452372727272727,0.075461,0.033423535211267605,0.06147468421052631,0.04332303389830508,0.043141,0.03902140816326531,0.024339709677419354,0.041401,0.04145554545454545,0.05841083606557377,0.05771067741935484],\"type\":\"scatter\",\"xaxis\":\"x2\",\"yaxis\":\"y2\"},{\"name\":\"Neutral Sentiment Mean\",\"x\":[\"2022-03-29T00:00:00\",\"2022-03-30T00:00:00\",\"2022-03-31T00:00:00\",\"2022-04-01T00:00:00\",\"2022-04-02T00:00:00\",\"2022-04-03T00:00:00\",\"2022-04-04T00:00:00\",\"2022-04-05T00:00:00\",\"2022-04-06T00:00:00\",\"2022-04-07T00:00:00\",\"2022-04-08T00:00:00\",\"2022-04-09T00:00:00\",\"2022-04-10T00:00:00\",\"2022-04-11T00:00:00\",\"2022-04-12T00:00:00\",\"2022-04-13T00:00:00\",\"2022-04-14T00:00:00\",\"2022-04-15T00:00:00\",\"2022-04-16T00:00:00\",\"2022-04-17T00:00:00\",\"2022-04-18T00:00:00\",\"2022-04-19T00:00:00\",\"2022-04-20T00:00:00\",\"2022-04-21T00:00:00\",\"2022-04-22T00:00:00\",\"2022-04-23T00:00:00\",\"2022-04-24T00:00:00\",\"2022-04-25T00:00:00\",\"2022-04-26T00:00:00\",\"2022-04-27T00:00:00\",\"2022-04-28T00:00:00\",\"2022-04-29T00:00:00\",\"2022-04-30T00:00:00\",\"2022-05-01T00:00:00\",\"2022-05-02T00:00:00\",\"2022-05-03T00:00:00\",\"2022-05-04T00:00:00\",\"2022-05-05T00:00:00\",\"2022-05-06T00:00:00\",\"2022-05-07T00:00:00\",\"2022-05-08T00:00:00\",\"2022-05-09T00:00:00\",\"2022-05-10T00:00:00\",\"2022-05-11T00:00:00\",\"2022-05-12T00:00:00\",\"2022-05-13T00:00:00\",\"2022-05-14T00:00:00\",\"2022-05-15T00:00:00\",\"2022-05-16T00:00:00\",\"2022-05-17T00:00:00\",\"2022-05-18T00:00:00\",\"2022-05-19T00:00:00\",\"2022-05-20T00:00:00\",\"2022-05-21T00:00:00\",\"2022-05-22T00:00:00\",\"2022-05-23T00:00:00\",\"2022-05-24T00:00:00\",\"2022-05-25T00:00:00\",\"2022-05-26T00:00:00\",\"2022-05-27T00:00:00\",\"2022-05-28T00:00:00\",\"2022-05-29T00:00:00\",\"2022-05-30T00:00:00\",\"2022-05-31T00:00:00\",\"2022-06-01T00:00:00\",\"2022-06-02T00:00:00\",\"2022-06-03T00:00:00\",\"2022-06-04T00:00:00\",\"2022-06-05T00:00:00\",\"2022-06-06T00:00:00\",\"2022-06-07T00:00:00\",\"2022-06-08T00:00:00\",\"2022-06-09T00:00:00\",\"2022-06-10T00:00:00\",\"2022-06-11T00:00:00\",\"2022-06-12T00:00:00\",\"2022-06-13T00:00:00\",\"2022-06-14T00:00:00\",\"2022-06-15T00:00:00\",\"2022-06-16T00:00:00\",\"2022-06-17T00:00:00\",\"2022-06-18T00:00:00\",\"2022-06-19T00:00:00\",\"2022-06-20T00:00:00\",\"2022-06-21T00:00:00\",\"2022-06-22T00:00:00\",\"2022-06-23T00:00:00\",\"2022-06-24T00:00:00\",\"2022-06-25T00:00:00\",\"2022-06-26T00:00:00\",\"2022-06-27T00:00:00\",\"2022-06-28T00:00:00\",\"2022-06-29T00:00:00\",\"2022-06-30T00:00:00\",\"2022-07-01T00:00:00\",\"2022-07-02T00:00:00\",\"2022-07-03T00:00:00\",\"2022-07-04T00:00:00\",\"2022-07-05T00:00:00\",\"2022-07-06T00:00:00\",\"2022-07-07T00:00:00\",\"2022-07-08T00:00:00\",\"2022-07-09T00:00:00\",\"2022-07-10T00:00:00\",\"2022-07-11T00:00:00\",\"2022-07-12T00:00:00\",\"2022-07-13T00:00:00\",\"2022-07-14T00:00:00\",\"2022-07-15T00:00:00\",\"2022-07-16T00:00:00\",\"2022-07-17T00:00:00\",\"2022-07-18T00:00:00\",\"2022-07-19T00:00:00\",\"2022-07-20T00:00:00\",\"2022-07-21T00:00:00\",\"2022-07-22T00:00:00\",\"2022-07-23T00:00:00\",\"2022-07-24T00:00:00\",\"2022-07-25T00:00:00\",\"2022-07-26T00:00:00\",\"2022-07-27T00:00:00\",\"2022-07-28T00:00:00\",\"2022-07-29T00:00:00\",\"2022-07-30T00:00:00\",\"2022-07-31T00:00:00\",\"2022-08-01T00:00:00\",\"2022-08-02T00:00:00\",\"2022-08-03T00:00:00\",\"2022-08-04T00:00:00\",\"2022-08-05T00:00:00\",\"2022-08-06T00:00:00\",\"2022-08-07T00:00:00\",\"2022-08-08T00:00:00\",\"2022-08-09T00:00:00\",\"2022-08-10T00:00:00\",\"2022-08-11T00:00:00\",\"2022-08-12T00:00:00\",\"2022-08-13T00:00:00\",\"2022-08-14T00:00:00\",\"2022-08-15T00:00:00\",\"2022-08-16T00:00:00\",\"2022-08-17T00:00:00\",\"2022-08-18T00:00:00\",\"2022-08-19T00:00:00\",\"2022-08-20T00:00:00\",\"2022-08-21T00:00:00\",\"2022-08-22T00:00:00\",\"2022-08-23T00:00:00\",\"2022-08-24T00:00:00\",\"2022-08-25T00:00:00\",\"2022-08-26T00:00:00\",\"2022-08-27T00:00:00\",\"2022-08-28T00:00:00\",\"2022-08-29T00:00:00\",\"2022-08-30T00:00:00\",\"2022-08-31T00:00:00\",\"2022-09-01T00:00:00\",\"2022-09-02T00:00:00\",\"2022-09-03T00:00:00\",\"2022-09-04T00:00:00\",\"2022-09-05T00:00:00\",\"2022-09-06T00:00:00\",\"2022-09-07T00:00:00\",\"2022-09-08T00:00:00\",\"2022-09-09T00:00:00\",\"2022-09-10T00:00:00\",\"2022-09-11T00:00:00\",\"2022-09-12T00:00:00\",\"2022-09-13T00:00:00\",\"2022-09-14T00:00:00\",\"2022-09-15T00:00:00\",\"2022-09-16T00:00:00\",\"2022-09-17T00:00:00\",\"2022-09-18T00:00:00\",\"2022-09-19T00:00:00\",\"2022-09-20T00:00:00\",\"2022-09-21T00:00:00\",\"2022-09-22T00:00:00\",\"2022-09-23T00:00:00\",\"2022-09-24T00:00:00\",\"2022-09-25T00:00:00\",\"2022-09-26T00:00:00\",\"2022-09-27T00:00:00\",\"2022-09-28T00:00:00\",\"2022-09-29T00:00:00\",\"2022-09-30T00:00:00\",\"2022-10-01T00:00:00\",\"2022-10-02T00:00:00\",\"2022-10-03T00:00:00\",\"2022-10-04T00:00:00\",\"2022-10-05T00:00:00\"],\"y\":[0.7016531739130435,0.765720298245614,0.7182547313432835,0.7322666250000001,0.7128663846153847,0.6893105238095238,0.6500586923076923,0.6905892352941176,0.6540516329113925,0.6301142075471698,0.6985586923076923,0.7770536315789474,0.732501,0.7723293582089552,0.7090829672131147,0.7479746842105263,0.6987076666666667,0.734246283018868,0.8217219302325581,0.7362867142857142,0.7478646363636364,0.735760493670886,0.7802115263157895,0.8116676666666667,0.7229490519480519,0.7714555454545454,0.7423523513513514,0.7109158936170212,0.7735451176470588,0.6643887551020408,0.777797875,0.7533201489361703,0.7491531739130436,0.6514604594594594,0.68590725,0.7666852105263158,0.665470387755102,0.6964922280701754,0.7345591395348837,0.7355202307692307,0.7656468333333333,0.7130764716981132,0.7416898888888889,0.7176959152542373,0.7347076666666666,0.7235902857142857,0.7044048461538461,0.7109869154929578,0.7779100909090909,0.7042843333333334,0.7197223114754099,0.7275176666666667,0.8099240769230769,0.6617913225806451,0.6626317692307692,0.7647787777777778,0.7292775957446808,0.6558733404255319,0.6445375853658537,0.6989034390243902,0.6770426666666666,0.764376,0.7243646363636363,0.6735971538461538,0.766675418604651,0.7898694210526316,0.679926925925926,0.7212254897959184,0.7754810000000001,0.7278928918918919,0.7425329148936171,0.7667557169811321,0.684410090909091,0.7987223114754097,0.7664100909090908,0.826626,0.7281535423728813,0.7532232222222222,0.688673131147541,0.6463086923076923,0.6749454444444445,0.7982462830188679,0.7271200476190476,0.7095872068965517,0.779889888888889,0.716001,0.7389555454545454,0.7213270869565218,0.7880816451612903,0.7674140434782608,0.8032913225806452,0.7534907959183673,0.6724771904761905,0.7433963488372093,0.6923033255813954,0.7115619756097561,0.7315010000000001,0.7284265319148936,0.755914043478261,0.7547553859649123,0.7981070606060606,0.763321754716981,0.7494320344827586,0.7480962380952381,0.7308689245283019,0.7833839787234042,0.7661356153846154,0.7216749130434783,0.7133113448275863,0.7187121111111111,0.7801186470588235,0.738463962962963,0.6887926666666666,0.7013113448275862,0.7084328181818181,0.6998873636363636,0.7567641578947368,0.7076898888888888,0.712844137254902,0.7062191818181819,0.7468049215686275,0.6808173265306122,0.6845152857142857,0.7133033255813953,0.7730565555555555,0.6833343333333334,0.7397429354838709,0.751001,0.7369100909090909,0.7663616557377049,0.7402350425531915,0.7558245294117646,0.7844928032786885,0.7868049215686275,0.7275426666666666,0.7628074516129032,0.7674555454545454,0.729861465116279,0.6861343333333334,0.697812320754717,0.682601,0.6747331428571428,0.723001,0.6724809999999999,0.7706186470588235,0.7985375853658536,0.7802093333333334,0.7432290701754386,0.726581,0.7232115263157894,0.753269656716418,0.713949275862069,0.790901,0.679591909090909,0.7041176666666666,0.6984499795918367,0.702001,0.7235971538461539,0.6218790487804878,0.6498581428571428,0.7583086923076923,0.5973275306122449,0.7591044482758621,0.6907387049180328,0.7507894615384616,0.7138471538461538,0.6707718333333333,0.7709548461538461,0.6953819523809524,0.7041200476190477,0.7019375079365079,0.6666075573770491,0.7177913225806452,0.7410898888888888,0.646876,0.6436885,0.6589132807017544,0.7523548461538461,0.7403759999999999,0.7926373636363636,0.632841,0.6727474788732394,0.6386150350877193,0.6367806610169492,0.741641,0.6519601836734693,0.7063880967741936,0.714751,0.6466113896103896,0.764656737704918,0.7155493870967742],\"type\":\"scatter\",\"xaxis\":\"x3\",\"yaxis\":\"y3\"}],                        {\"template\":{\"data\":{\"histogram2dcontour\":[{\"type\":\"histogram2dcontour\",\"colorbar\":{\"outlinewidth\":0,\"ticks\":\"\"},\"colorscale\":[[0.0,\"#0d0887\"],[0.1111111111111111,\"#46039f\"],[0.2222222222222222,\"#7201a8\"],[0.3333333333333333,\"#9c179e\"],[0.4444444444444444,\"#bd3786\"],[0.5555555555555556,\"#d8576b\"],[0.6666666666666666,\"#ed7953\"],[0.7777777777777778,\"#fb9f3a\"],[0.8888888888888888,\"#fdca26\"],[1.0,\"#f0f921\"]]}],\"choropleth\":[{\"type\":\"choropleth\",\"colorbar\":{\"outlinewidth\":0,\"ticks\":\"\"}}],\"histogram2d\":[{\"type\":\"histogram2d\",\"colorbar\":{\"outlinewidth\":0,\"ticks\":\"\"},\"colorscale\":[[0.0,\"#0d0887\"],[0.1111111111111111,\"#46039f\"],[0.2222222222222222,\"#7201a8\"],[0.3333333333333333,\"#9c179e\"],[0.4444444444444444,\"#bd3786\"],[0.5555555555555556,\"#d8576b\"],[0.6666666666666666,\"#ed7953\"],[0.7777777777777778,\"#fb9f3a\"],[0.8888888888888888,\"#fdca26\"],[1.0,\"#f0f921\"]]}],\"heatmap\":[{\"type\":\"heatmap\",\"colorbar\":{\"outlinewidth\":0,\"ticks\":\"\"},\"colorscale\":[[0.0,\"#0d0887\"],[0.1111111111111111,\"#46039f\"],[0.2222222222222222,\"#7201a8\"],[0.3333333333333333,\"#9c179e\"],[0.4444444444444444,\"#bd3786\"],[0.5555555555555556,\"#d8576b\"],[0.6666666666666666,\"#ed7953\"],[0.7777777777777778,\"#fb9f3a\"],[0.8888888888888888,\"#fdca26\"],[1.0,\"#f0f921\"]]}],\"heatmapgl\":[{\"type\":\"heatmapgl\",\"colorbar\":{\"outlinewidth\":0,\"ticks\":\"\"},\"colorscale\":[[0.0,\"#0d0887\"],[0.1111111111111111,\"#46039f\"],[0.2222222222222222,\"#7201a8\"],[0.3333333333333333,\"#9c179e\"],[0.4444444444444444,\"#bd3786\"],[0.5555555555555556,\"#d8576b\"],[0.6666666666666666,\"#ed7953\"],[0.7777777777777778,\"#fb9f3a\"],[0.8888888888888888,\"#fdca26\"],[1.0,\"#f0f921\"]]}],\"contourcarpet\":[{\"type\":\"contourcarpet\",\"colorbar\":{\"outlinewidth\":0,\"ticks\":\"\"}}],\"contour\":[{\"type\":\"contour\",\"colorbar\":{\"outlinewidth\":0,\"ticks\":\"\"},\"colorscale\":[[0.0,\"#0d0887\"],[0.1111111111111111,\"#46039f\"],[0.2222222222222222,\"#7201a8\"],[0.3333333333333333,\"#9c179e\"],[0.4444444444444444,\"#bd3786\"],[0.5555555555555556,\"#d8576b\"],[0.6666666666666666,\"#ed7953\"],[0.7777777777777778,\"#fb9f3a\"],[0.8888888888888888,\"#fdca26\"],[1.0,\"#f0f921\"]]}],\"surface\":[{\"type\":\"surface\",\"colorbar\":{\"outlinewidth\":0,\"ticks\":\"\"},\"colorscale\":[[0.0,\"#0d0887\"],[0.1111111111111111,\"#46039f\"],[0.2222222222222222,\"#7201a8\"],[0.3333333333333333,\"#9c179e\"],[0.4444444444444444,\"#bd3786\"],[0.5555555555555556,\"#d8576b\"],[0.6666666666666666,\"#ed7953\"],[0.7777777777777778,\"#fb9f3a\"],[0.8888888888888888,\"#fdca26\"],[1.0,\"#f0f921\"]]}],\"mesh3d\":[{\"type\":\"mesh3d\",\"colorbar\":{\"outlinewidth\":0,\"ticks\":\"\"}}],\"scatter\":[{\"fillpattern\":{\"fillmode\":\"overlay\",\"size\":10,\"solidity\":0.2},\"type\":\"scatter\"}],\"parcoords\":[{\"type\":\"parcoords\",\"line\":{\"colorbar\":{\"outlinewidth\":0,\"ticks\":\"\"}}}],\"scatterpolargl\":[{\"type\":\"scatterpolargl\",\"marker\":{\"colorbar\":{\"outlinewidth\":0,\"ticks\":\"\"}}}],\"bar\":[{\"error_x\":{\"color\":\"#2a3f5f\"},\"error_y\":{\"color\":\"#2a3f5f\"},\"marker\":{\"line\":{\"color\":\"#E5ECF6\",\"width\":0.5},\"pattern\":{\"fillmode\":\"overlay\",\"size\":10,\"solidity\":0.2}},\"type\":\"bar\"}],\"scattergeo\":[{\"type\":\"scattergeo\",\"marker\":{\"colorbar\":{\"outlinewidth\":0,\"ticks\":\"\"}}}],\"scatterpolar\":[{\"type\":\"scatterpolar\",\"marker\":{\"colorbar\":{\"outlinewidth\":0,\"ticks\":\"\"}}}],\"histogram\":[{\"marker\":{\"pattern\":{\"fillmode\":\"overlay\",\"size\":10,\"solidity\":0.2}},\"type\":\"histogram\"}],\"scattergl\":[{\"type\":\"scattergl\",\"marker\":{\"colorbar\":{\"outlinewidth\":0,\"ticks\":\"\"}}}],\"scatter3d\":[{\"type\":\"scatter3d\",\"line\":{\"colorbar\":{\"outlinewidth\":0,\"ticks\":\"\"}},\"marker\":{\"colorbar\":{\"outlinewidth\":0,\"ticks\":\"\"}}}],\"scattermapbox\":[{\"type\":\"scattermapbox\",\"marker\":{\"colorbar\":{\"outlinewidth\":0,\"ticks\":\"\"}}}],\"scatterternary\":[{\"type\":\"scatterternary\",\"marker\":{\"colorbar\":{\"outlinewidth\":0,\"ticks\":\"\"}}}],\"scattercarpet\":[{\"type\":\"scattercarpet\",\"marker\":{\"colorbar\":{\"outlinewidth\":0,\"ticks\":\"\"}}}],\"carpet\":[{\"aaxis\":{\"endlinecolor\":\"#2a3f5f\",\"gridcolor\":\"white\",\"linecolor\":\"white\",\"minorgridcolor\":\"white\",\"startlinecolor\":\"#2a3f5f\"},\"baxis\":{\"endlinecolor\":\"#2a3f5f\",\"gridcolor\":\"white\",\"linecolor\":\"white\",\"minorgridcolor\":\"white\",\"startlinecolor\":\"#2a3f5f\"},\"type\":\"carpet\"}],\"table\":[{\"cells\":{\"fill\":{\"color\":\"#EBF0F8\"},\"line\":{\"color\":\"white\"}},\"header\":{\"fill\":{\"color\":\"#C8D4E3\"},\"line\":{\"color\":\"white\"}},\"type\":\"table\"}],\"barpolar\":[{\"marker\":{\"line\":{\"color\":\"#E5ECF6\",\"width\":0.5},\"pattern\":{\"fillmode\":\"overlay\",\"size\":10,\"solidity\":0.2}},\"type\":\"barpolar\"}],\"pie\":[{\"automargin\":true,\"type\":\"pie\"}]},\"layout\":{\"autotypenumbers\":\"strict\",\"colorway\":[\"#636efa\",\"#EF553B\",\"#00cc96\",\"#ab63fa\",\"#FFA15A\",\"#19d3f3\",\"#FF6692\",\"#B6E880\",\"#FF97FF\",\"#FECB52\"],\"font\":{\"color\":\"#2a3f5f\"},\"hovermode\":\"closest\",\"hoverlabel\":{\"align\":\"left\"},\"paper_bgcolor\":\"white\",\"plot_bgcolor\":\"#E5ECF6\",\"polar\":{\"bgcolor\":\"#E5ECF6\",\"angularaxis\":{\"gridcolor\":\"white\",\"linecolor\":\"white\",\"ticks\":\"\"},\"radialaxis\":{\"gridcolor\":\"white\",\"linecolor\":\"white\",\"ticks\":\"\"}},\"ternary\":{\"bgcolor\":\"#E5ECF6\",\"aaxis\":{\"gridcolor\":\"white\",\"linecolor\":\"white\",\"ticks\":\"\"},\"baxis\":{\"gridcolor\":\"white\",\"linecolor\":\"white\",\"ticks\":\"\"},\"caxis\":{\"gridcolor\":\"white\",\"linecolor\":\"white\",\"ticks\":\"\"}},\"coloraxis\":{\"colorbar\":{\"outlinewidth\":0,\"ticks\":\"\"}},\"colorscale\":{\"sequential\":[[0.0,\"#0d0887\"],[0.1111111111111111,\"#46039f\"],[0.2222222222222222,\"#7201a8\"],[0.3333333333333333,\"#9c179e\"],[0.4444444444444444,\"#bd3786\"],[0.5555555555555556,\"#d8576b\"],[0.6666666666666666,\"#ed7953\"],[0.7777777777777778,\"#fb9f3a\"],[0.8888888888888888,\"#fdca26\"],[1.0,\"#f0f921\"]],\"sequentialminus\":[[0.0,\"#0d0887\"],[0.1111111111111111,\"#46039f\"],[0.2222222222222222,\"#7201a8\"],[0.3333333333333333,\"#9c179e\"],[0.4444444444444444,\"#bd3786\"],[0.5555555555555556,\"#d8576b\"],[0.6666666666666666,\"#ed7953\"],[0.7777777777777778,\"#fb9f3a\"],[0.8888888888888888,\"#fdca26\"],[1.0,\"#f0f921\"]],\"diverging\":[[0,\"#8e0152\"],[0.1,\"#c51b7d\"],[0.2,\"#de77ae\"],[0.3,\"#f1b6da\"],[0.4,\"#fde0ef\"],[0.5,\"#f7f7f7\"],[0.6,\"#e6f5d0\"],[0.7,\"#b8e186\"],[0.8,\"#7fbc41\"],[0.9,\"#4d9221\"],[1,\"#276419\"]]},\"xaxis\":{\"gridcolor\":\"white\",\"linecolor\":\"white\",\"ticks\":\"\",\"title\":{\"standoff\":15},\"zerolinecolor\":\"white\",\"automargin\":true,\"zerolinewidth\":2},\"yaxis\":{\"gridcolor\":\"white\",\"linecolor\":\"white\",\"ticks\":\"\",\"title\":{\"standoff\":15},\"zerolinecolor\":\"white\",\"automargin\":true,\"zerolinewidth\":2},\"scene\":{\"xaxis\":{\"backgroundcolor\":\"#E5ECF6\",\"gridcolor\":\"white\",\"linecolor\":\"white\",\"showbackground\":true,\"ticks\":\"\",\"zerolinecolor\":\"white\",\"gridwidth\":2},\"yaxis\":{\"backgroundcolor\":\"#E5ECF6\",\"gridcolor\":\"white\",\"linecolor\":\"white\",\"showbackground\":true,\"ticks\":\"\",\"zerolinecolor\":\"white\",\"gridwidth\":2},\"zaxis\":{\"backgroundcolor\":\"#E5ECF6\",\"gridcolor\":\"white\",\"linecolor\":\"white\",\"showbackground\":true,\"ticks\":\"\",\"zerolinecolor\":\"white\",\"gridwidth\":2}},\"shapedefaults\":{\"line\":{\"color\":\"#2a3f5f\"}},\"annotationdefaults\":{\"arrowcolor\":\"#2a3f5f\",\"arrowhead\":0,\"arrowwidth\":1},\"geo\":{\"bgcolor\":\"white\",\"landcolor\":\"#E5ECF6\",\"subunitcolor\":\"white\",\"showland\":true,\"showlakes\":true,\"lakecolor\":\"white\"},\"title\":{\"x\":0.05},\"mapbox\":{\"style\":\"light\"}}},\"xaxis\":{\"anchor\":\"y\",\"domain\":[0.0,1.0],\"matches\":\"x3\",\"showticklabels\":false},\"yaxis\":{\"anchor\":\"x\",\"domain\":[0.7777777777777778,1.0]},\"xaxis2\":{\"anchor\":\"y2\",\"domain\":[0.0,1.0],\"matches\":\"x3\",\"showticklabels\":false},\"yaxis2\":{\"anchor\":\"x2\",\"domain\":[0.3888888888888889,0.6111111111111112]},\"xaxis3\":{\"anchor\":\"y3\",\"domain\":[0.0,1.0]},\"yaxis3\":{\"anchor\":\"x3\",\"domain\":[0.0,0.22222222222222224]},\"annotations\":[{\"font\":{\"size\":16},\"showarrow\":false,\"text\":\"Daily Average Positive Sentiment\",\"x\":0.5,\"xanchor\":\"center\",\"xref\":\"paper\",\"y\":1.0,\"yanchor\":\"bottom\",\"yref\":\"paper\"},{\"font\":{\"size\":16},\"showarrow\":false,\"text\":\"Daily Average Negative Sentiment\",\"x\":0.5,\"xanchor\":\"center\",\"xref\":\"paper\",\"y\":0.6111111111111112,\"yanchor\":\"bottom\",\"yref\":\"paper\"},{\"font\":{\"size\":16},\"showarrow\":false,\"text\":\"Daily Average Neutral Sentiment\",\"x\":0.5,\"xanchor\":\"center\",\"xref\":\"paper\",\"y\":0.22222222222222224,\"yanchor\":\"bottom\",\"yref\":\"paper\"},{\"arrowhead\":3,\"showarrow\":true,\"text\":\"$\\\\mu : 0.12$\",\"x\":1648771200000000000,\"y\":0.12329877009814706,\"yshift\":10},{\"arrowhead\":3,\"showarrow\":true,\"text\":\"$\\\\mu : 0.06$\",\"x\":1648771200000000000,\"xref\":\"x2\",\"y\":0.05882757488197267,\"yref\":\"y2\",\"yshift\":10},{\"arrowhead\":3,\"showarrow\":true,\"text\":\"$\\\\mu : 0.72$\",\"x\":1648771200000000000,\"xref\":\"x3\",\"y\":0.7242308577937671,\"yref\":\"y3\",\"yshift\":10}],\"shapes\":[{\"line\":{\"dash\":\"dash\"},\"type\":\"line\",\"x0\":0,\"x1\":1,\"xref\":\"x domain\",\"y0\":0.12329877009814706,\"y1\":0.12329877009814706,\"yref\":\"y\"},{\"line\":{\"dash\":\"dash\"},\"type\":\"line\",\"x0\":0,\"x1\":1,\"xref\":\"x2 domain\",\"y0\":0.05882757488197267,\"y1\":0.05882757488197267,\"yref\":\"y2\"},{\"line\":{\"dash\":\"dash\"},\"type\":\"line\",\"x0\":0,\"x1\":1,\"xref\":\"x3 domain\",\"y0\":0.7242308577937671,\"y1\":0.7242308577937671,\"yref\":\"y3\"}],\"autosize\":false,\"width\":800,\"height\":800},                        {\"responsive\": true}                    ).then(function(){\n",
       "                            \n",
       "var gd = document.getElementById('3bf724f2-5e46-41cb-bf5a-4b6ddd35477b');\n",
       "var x = new MutationObserver(function (mutations, observer) {{\n",
       "        var display = window.getComputedStyle(gd).display;\n",
       "        if (!display || display === 'none') {{\n",
       "            console.log([gd, 'removed!']);\n",
       "            Plotly.purge(gd);\n",
       "            observer.disconnect();\n",
       "        }}\n",
       "}});\n",
       "\n",
       "// Listen for the removal of the full notebook cells\n",
       "var notebookContainer = gd.closest('#notebook-container');\n",
       "if (notebookContainer) {{\n",
       "    x.observe(notebookContainer, {childList: true});\n",
       "}}\n",
       "\n",
       "// Listen for the clearing of the current output cell\n",
       "var outputEl = gd.closest('.output');\n",
       "if (outputEl) {{\n",
       "    x.observe(outputEl, {childList: true});\n",
       "}}\n",
       "\n",
       "                        })                };                });            </script>        </div>"
      ]
     },
     "metadata": {},
     "output_type": "display_data"
    }
   ],
   "source": [
    "b_date_mean = df_tag.groupby(by='Date_Tweet').mean().reset_index()\n",
    "b_date_std = df_tag.groupby(by='Date_Tweet').std().reset_index()\n",
    "\n",
    "\n",
    "fig = make_subplots(rows=3, cols=1,shared_xaxes=True,subplot_titles=('Daily Average Positive Sentiment',  'Daily Average Negative Sentiment', 'Daily Average Neutral Sentiment'))\n",
    "\n",
    "fig.add_trace(\n",
    "    go.Scatter(x=b_date_mean['Date_Tweet'], y=b_date_mean['Positive Sentiment'],name='Positive Sentiment Mean'),\n",
    "    row=1, col=1\n",
    ")\n",
    "\n",
    "    \n",
    "#positive mean\n",
    "fig.add_hline(y=b_date_mean['Positive Sentiment'].mean(), line_dash = 'dash', row=1, col=1)\n",
    "\n",
    "fig.add_annotation(x=b_date_mean['Date_Tweet'].values[3], y=b_date_mean['Positive Sentiment'].mean(),\n",
    "            text=r\"$\\mu : {:.2f}$\".format(b_date_mean['Positive Sentiment'].mean()),\n",
    "            showarrow=True,\n",
    "            arrowhead=3,\n",
    "            yshift=10)\n",
    "\n",
    "\n",
    "\n",
    "fig.add_trace(\n",
    "    go.Scatter(x=b_date_mean['Date_Tweet'], y=b_date_mean['Negative Sentiment'],name='Negative Sentiment Mean'),\n",
    "    row=2, col=1\n",
    ")\n",
    "\n",
    "\n",
    "#negative mean\n",
    "fig.add_hline(y=b_date_mean['Negative Sentiment'].mean(), line_dash = 'dash', row=2, col=1)\n",
    "\n",
    "fig.add_annotation(x=b_date_mean['Date_Tweet'].values[3], y=b_date_mean['Negative Sentiment'].mean(),\n",
    "            text=r\"$\\mu : {:.2f}$\".format(b_date_mean['Negative Sentiment'].mean()),\n",
    "            showarrow=True,\n",
    "            arrowhead=3,\n",
    "            yshift=10,\n",
    "            xref='x2', \n",
    "            yref='y2')\n",
    "\n",
    "fig.add_trace(\n",
    "    go.Scatter(x=b_date_mean['Date_Tweet'], y=b_date_mean['Neutral Sentiment'],name='Neutral Sentiment Mean'),\n",
    "    row=3, col=1\n",
    ")\n",
    "\n",
    "fig.add_hline(y=b_date_mean['Neutral Sentiment'].mean(), line_dash = 'dash', row=3, col=1)\n",
    "\n",
    "fig.add_annotation(x=b_date_mean['Date_Tweet'].values[3], y=b_date_mean['Neutral Sentiment'].mean(),\n",
    "            text=r\"$\\mu : {:.2f}$\".format(b_date_mean['Neutral Sentiment'].mean()),\n",
    "            showarrow=True,\n",
    "            arrowhead=3,\n",
    "            yshift=10, \n",
    "            xref='x3', \n",
    "            yref='y3')\n",
    "\n",
    "'''\n",
    "\n",
    "fig.add_annotation(x=b_date_mean['pubdate'].values[5], y=b_date_mean['Negative Sentiment'].mean()+0.01,\n",
    "            text=r\"Start Of Decline\",\n",
    "            showarrow=True,\n",
    "            arrowhead=6,\n",
    "            yshift=10,\n",
    "            xref='x2', \n",
    "            yref='y2')\n",
    "\n",
    "fig.add_annotation(x=b_date_mean['pubdate'].values[9], y=.024,\n",
    "            text=r\"Start Of Incline\",\n",
    "            showarrow=True,\n",
    "            arrowhead=6,\n",
    "            yshift=10,\n",
    "            xref='x2', \n",
    "            yref='y2')\n",
    "\n",
    "\n",
    "fig['layout']['xaxis2']['title'] = 'Date'\n",
    "fig.update_layout(height=700, width=900, title_text=\"Sentiment Average Change With Time\")\n",
    "'''\n",
    "fig.update_layout(\n",
    "    autosize=False,\n",
    "    width=800,\n",
    "    height=800,)\n",
    "fig.show()\n"
   ]
  },
  {
   "cell_type": "markdown",
   "id": "8d224146",
   "metadata": {},
   "source": [
    "### Another approach to sentiment scores"
   ]
  },
  {
   "cell_type": "code",
   "execution_count": 117,
   "id": "2c8dad6d",
   "metadata": {
    "scrolled": true
   },
   "outputs": [
    {
     "data": {
      "text/html": [
       "<div>\n",
       "<style scoped>\n",
       "    .dataframe tbody tr th:only-of-type {\n",
       "        vertical-align: middle;\n",
       "    }\n",
       "\n",
       "    .dataframe tbody tr th {\n",
       "        vertical-align: top;\n",
       "    }\n",
       "\n",
       "    .dataframe thead th {\n",
       "        text-align: right;\n",
       "    }\n",
       "</style>\n",
       "<table border=\"1\" class=\"dataframe\">\n",
       "  <thead>\n",
       "    <tr style=\"text-align: right;\">\n",
       "      <th></th>\n",
       "      <th>Compound Sentiment</th>\n",
       "    </tr>\n",
       "  </thead>\n",
       "  <tbody>\n",
       "    <tr>\n",
       "      <th>10000</th>\n",
       "      <td>-0.5096</td>\n",
       "    </tr>\n",
       "    <tr>\n",
       "      <th>9999</th>\n",
       "      <td>-0.5994</td>\n",
       "    </tr>\n",
       "    <tr>\n",
       "      <th>9998</th>\n",
       "      <td>-0.4019</td>\n",
       "    </tr>\n",
       "    <tr>\n",
       "      <th>9997</th>\n",
       "      <td>-0.4585</td>\n",
       "    </tr>\n",
       "    <tr>\n",
       "      <th>9996</th>\n",
       "      <td>0.7650</td>\n",
       "    </tr>\n",
       "    <tr>\n",
       "      <th>...</th>\n",
       "      <td>...</td>\n",
       "    </tr>\n",
       "    <tr>\n",
       "      <th>4</th>\n",
       "      <td>0.7717</td>\n",
       "    </tr>\n",
       "    <tr>\n",
       "      <th>3</th>\n",
       "      <td>-0.2263</td>\n",
       "    </tr>\n",
       "    <tr>\n",
       "      <th>2</th>\n",
       "      <td>0.0000</td>\n",
       "    </tr>\n",
       "    <tr>\n",
       "      <th>1</th>\n",
       "      <td>0.5106</td>\n",
       "    </tr>\n",
       "    <tr>\n",
       "      <th>0</th>\n",
       "      <td>-0.1045</td>\n",
       "    </tr>\n",
       "  </tbody>\n",
       "</table>\n",
       "<p>10001 rows × 1 columns</p>\n",
       "</div>"
      ],
      "text/plain": [
       "       Compound Sentiment\n",
       "10000             -0.5096\n",
       "9999              -0.5994\n",
       "9998              -0.4019\n",
       "9997              -0.4585\n",
       "9996               0.7650\n",
       "...                   ...\n",
       "4                  0.7717\n",
       "3                 -0.2263\n",
       "2                  0.0000\n",
       "1                  0.5106\n",
       "0                 -0.1045\n",
       "\n",
       "[10001 rows x 1 columns]"
      ]
     },
     "execution_count": 117,
     "metadata": {},
     "output_type": "execute_result"
    }
   ],
   "source": [
    "df_tag[['Compound Sentiment']]"
   ]
  },
  {
   "cell_type": "code",
   "execution_count": 119,
   "id": "48c6fd2a",
   "metadata": {},
   "outputs": [
    {
     "name": "stderr",
     "output_type": "stream",
     "text": [
      "/Users/stellajia/opt/miniconda3/lib/python3.9/site-packages/plotly/io/_renderers.py:395: DeprecationWarning:\n",
      "\n",
      "distutils Version classes are deprecated. Use packaging.version instead.\n",
      "\n",
      "/Users/stellajia/opt/miniconda3/lib/python3.9/site-packages/plotly/io/_renderers.py:395: DeprecationWarning:\n",
      "\n",
      "distutils Version classes are deprecated. Use packaging.version instead.\n",
      "\n"
     ]
    },
    {
     "data": {
      "application/vnd.plotly.v1+json": {
       "config": {
        "plotlyServerURL": "https://plot.ly"
       },
       "data": [
        {
         "name": "Sentiment Mean",
         "type": "scatter",
         "x": [
          "2022-03-29T00:00:00",
          "2022-03-30T00:00:00",
          "2022-03-31T00:00:00",
          "2022-04-01T00:00:00",
          "2022-04-02T00:00:00",
          "2022-04-03T00:00:00",
          "2022-04-04T00:00:00",
          "2022-04-05T00:00:00",
          "2022-04-06T00:00:00",
          "2022-04-07T00:00:00",
          "2022-04-08T00:00:00",
          "2022-04-09T00:00:00",
          "2022-04-10T00:00:00",
          "2022-04-11T00:00:00",
          "2022-04-12T00:00:00",
          "2022-04-13T00:00:00",
          "2022-04-14T00:00:00",
          "2022-04-15T00:00:00",
          "2022-04-16T00:00:00",
          "2022-04-17T00:00:00",
          "2022-04-18T00:00:00",
          "2022-04-19T00:00:00",
          "2022-04-20T00:00:00",
          "2022-04-21T00:00:00",
          "2022-04-22T00:00:00",
          "2022-04-23T00:00:00",
          "2022-04-24T00:00:00",
          "2022-04-25T00:00:00",
          "2022-04-26T00:00:00",
          "2022-04-27T00:00:00",
          "2022-04-28T00:00:00",
          "2022-04-29T00:00:00",
          "2022-04-30T00:00:00",
          "2022-05-01T00:00:00",
          "2022-05-02T00:00:00",
          "2022-05-03T00:00:00",
          "2022-05-04T00:00:00",
          "2022-05-05T00:00:00",
          "2022-05-06T00:00:00",
          "2022-05-07T00:00:00",
          "2022-05-08T00:00:00",
          "2022-05-09T00:00:00",
          "2022-05-10T00:00:00",
          "2022-05-11T00:00:00",
          "2022-05-12T00:00:00",
          "2022-05-13T00:00:00",
          "2022-05-14T00:00:00",
          "2022-05-15T00:00:00",
          "2022-05-16T00:00:00",
          "2022-05-17T00:00:00",
          "2022-05-18T00:00:00",
          "2022-05-19T00:00:00",
          "2022-05-20T00:00:00",
          "2022-05-21T00:00:00",
          "2022-05-22T00:00:00",
          "2022-05-23T00:00:00",
          "2022-05-24T00:00:00",
          "2022-05-25T00:00:00",
          "2022-05-26T00:00:00",
          "2022-05-27T00:00:00",
          "2022-05-28T00:00:00",
          "2022-05-29T00:00:00",
          "2022-05-30T00:00:00",
          "2022-05-31T00:00:00",
          "2022-06-01T00:00:00",
          "2022-06-02T00:00:00",
          "2022-06-03T00:00:00",
          "2022-06-04T00:00:00",
          "2022-06-05T00:00:00",
          "2022-06-06T00:00:00",
          "2022-06-07T00:00:00",
          "2022-06-08T00:00:00",
          "2022-06-09T00:00:00",
          "2022-06-10T00:00:00",
          "2022-06-11T00:00:00",
          "2022-06-12T00:00:00",
          "2022-06-13T00:00:00",
          "2022-06-14T00:00:00",
          "2022-06-15T00:00:00",
          "2022-06-16T00:00:00",
          "2022-06-17T00:00:00",
          "2022-06-18T00:00:00",
          "2022-06-19T00:00:00",
          "2022-06-20T00:00:00",
          "2022-06-21T00:00:00",
          "2022-06-22T00:00:00",
          "2022-06-23T00:00:00",
          "2022-06-24T00:00:00",
          "2022-06-25T00:00:00",
          "2022-06-26T00:00:00",
          "2022-06-27T00:00:00",
          "2022-06-28T00:00:00",
          "2022-06-29T00:00:00",
          "2022-06-30T00:00:00",
          "2022-07-01T00:00:00",
          "2022-07-02T00:00:00",
          "2022-07-03T00:00:00",
          "2022-07-04T00:00:00",
          "2022-07-05T00:00:00",
          "2022-07-06T00:00:00",
          "2022-07-07T00:00:00",
          "2022-07-08T00:00:00",
          "2022-07-09T00:00:00",
          "2022-07-10T00:00:00",
          "2022-07-11T00:00:00",
          "2022-07-12T00:00:00",
          "2022-07-13T00:00:00",
          "2022-07-14T00:00:00",
          "2022-07-15T00:00:00",
          "2022-07-16T00:00:00",
          "2022-07-17T00:00:00",
          "2022-07-18T00:00:00",
          "2022-07-19T00:00:00",
          "2022-07-20T00:00:00",
          "2022-07-21T00:00:00",
          "2022-07-22T00:00:00",
          "2022-07-23T00:00:00",
          "2022-07-24T00:00:00",
          "2022-07-25T00:00:00",
          "2022-07-26T00:00:00",
          "2022-07-27T00:00:00",
          "2022-07-28T00:00:00",
          "2022-07-29T00:00:00",
          "2022-07-30T00:00:00",
          "2022-07-31T00:00:00",
          "2022-08-01T00:00:00",
          "2022-08-02T00:00:00",
          "2022-08-03T00:00:00",
          "2022-08-04T00:00:00",
          "2022-08-05T00:00:00",
          "2022-08-06T00:00:00",
          "2022-08-07T00:00:00",
          "2022-08-08T00:00:00",
          "2022-08-09T00:00:00",
          "2022-08-10T00:00:00",
          "2022-08-11T00:00:00",
          "2022-08-12T00:00:00",
          "2022-08-13T00:00:00",
          "2022-08-14T00:00:00",
          "2022-08-15T00:00:00",
          "2022-08-16T00:00:00",
          "2022-08-17T00:00:00",
          "2022-08-18T00:00:00",
          "2022-08-19T00:00:00",
          "2022-08-20T00:00:00",
          "2022-08-21T00:00:00",
          "2022-08-22T00:00:00",
          "2022-08-23T00:00:00",
          "2022-08-24T00:00:00",
          "2022-08-25T00:00:00",
          "2022-08-26T00:00:00",
          "2022-08-27T00:00:00",
          "2022-08-28T00:00:00",
          "2022-08-29T00:00:00",
          "2022-08-30T00:00:00",
          "2022-08-31T00:00:00",
          "2022-09-01T00:00:00",
          "2022-09-02T00:00:00",
          "2022-09-03T00:00:00",
          "2022-09-04T00:00:00",
          "2022-09-05T00:00:00",
          "2022-09-06T00:00:00",
          "2022-09-07T00:00:00",
          "2022-09-08T00:00:00",
          "2022-09-09T00:00:00",
          "2022-09-10T00:00:00",
          "2022-09-11T00:00:00",
          "2022-09-12T00:00:00",
          "2022-09-13T00:00:00",
          "2022-09-14T00:00:00",
          "2022-09-15T00:00:00",
          "2022-09-16T00:00:00",
          "2022-09-17T00:00:00",
          "2022-09-18T00:00:00",
          "2022-09-19T00:00:00",
          "2022-09-20T00:00:00",
          "2022-09-21T00:00:00",
          "2022-09-22T00:00:00",
          "2022-09-23T00:00:00",
          "2022-09-24T00:00:00",
          "2022-09-25T00:00:00",
          "2022-09-26T00:00:00",
          "2022-09-27T00:00:00",
          "2022-09-28T00:00:00",
          "2022-09-29T00:00:00",
          "2022-09-30T00:00:00",
          "2022-10-01T00:00:00",
          "2022-10-02T00:00:00",
          "2022-10-03T00:00:00",
          "2022-10-04T00:00:00",
          "2022-10-05T00:00:00"
         ],
         "xaxis": "x",
         "y": [
          0.12621739130434784,
          0.025578947368421052,
          0.2649149253731343,
          0.167225,
          0.09505576923076922,
          0.16180238095238095,
          0.06634230769230769,
          0.12845098039215685,
          0.11893037974683544,
          0.13646037735849056,
          0.20882692307692308,
          0.11617543859649122,
          0.2083241935483871,
          0.19093582089552238,
          0.16391475409836065,
          0.22925263157894737,
          0.21792,
          0.21834528301886794,
          0.13533953488372094,
          0.1344095238095238,
          0.0961659090909091,
          0.06775569620253163,
          0.1767982456140351,
          0.10301999999999999,
          0.09953246753246753,
          0.23204545454545453,
          0.22792702702702705,
          0.11121914893617023,
          0.22466470588235296,
          0.20592448979591835,
          0.0883859375,
          0.15565106382978725,
          0.06224347826086957,
          0.1928972972972973,
          0.1865,
          0.1375438596491228,
          0.09225510204081633,
          0.1894578947368421,
          0.07246744186046512,
          0.24723846153846155,
          0.17037500000000003,
          0.23973396226415095,
          0.07828444444444445,
          0.2091728813559322,
          0.18208533333333332,
          0.05866964285714286,
          0.12486346153846155,
          0.08293802816901409,
          0.14195090909090907,
          0.1574883333333333,
          0.15222295081967213,
          0.21869333333333335,
          0.17034102564102563,
          0.18288548387096776,
          0.12062153846153846,
          0.08547777777777778,
          0.1622127659574468,
          0.21166382978723405,
          0.18297804878048782,
          0.05988780487804877,
          0.14621458333333334,
          0.26087,
          0.016311363636363645,
          0.22593653846153844,
          0.1412139534883721,
          0.11379473684210527,
          0.06618703703703704,
          0.1795918367346939,
          0.121948,
          0.2774081081081081,
          0.22014255319148937,
          0.09970377358490566,
          0.1429878787878788,
          0.060347540983606555,
          -0.010484090909090905,
          0.16271875,
          0.15123050847457628,
          0.14685555555555554,
          0.08296557377049181,
          0.2898974358974359,
          0.07076296296296297,
          0.06171698113207548,
          0.10161190476190478,
          0.1590155172413793,
          0.18087777777777778,
          0.1305421052631579,
          0.06600227272727273,
          0.1616108695652174,
          0.11891290322580646,
          0.28164347826086955,
          0.11698548387096774,
          0.23501428571428573,
          0.21526666666666666,
          0.0890325581395349,
          0.18796976744186045,
          0.19865365853658537,
          0.11357272727272728,
          0.2007531914893617,
          0.13313695652173912,
          0.1695298245614035,
          0.17267424242424242,
          0.161588679245283,
          0.2076103448275862,
          0.2744214285714286,
          0.303611320754717,
          0.08569574468085107,
          0.18883076923076925,
          0.08471956521739131,
          0.08785172413793105,
          0.09796444444444445,
          0.0844,
          0.18025,
          0.15940833333333335,
          0.16431724137931034,
          0.15248636363636361,
          0.09873863636363636,
          0.14280263157894738,
          0.07967111111111111,
          0.18302941176470588,
          0.17211090909090912,
          0.07862745098039216,
          0.05487346938775511,
          0.22667714285714285,
          0.2551325581395349,
          0.10672777777777778,
          0.20451041666666667,
          0.19654193548387097,
          0.21344909090909092,
          0.1477509090909091,
          0.12802622950819673,
          0.20245531914893616,
          0.15249019607843137,
          0.1967262295081967,
          0.1254607843137255,
          0.25783958333333334,
          0.057896774193548384,
          0.05935636363636363,
          0.05736511627906977,
          0.1998511111111111,
          0.2387,
          0.10907666666666667,
          0.04838571428571429,
          0.3024962962962963,
          -0.013399999999999999,
          0.13848235294117647,
          0.055912195121951225,
          0.10736041666666667,
          0.15918245614035087,
          0.111296,
          0.31592807017543856,
          0.11650895522388059,
          0.13702586206896553,
          0.1836425,
          0.15962727272727273,
          0.11593,
          0.2135081632653061,
          0.13925535714285714,
          0.1774423076923077,
          0.206709756097561,
          -0.008051020408163263,
          0.2138025641025641,
          0.07733877551020409,
          0.23855172413793105,
          0.15651147540983606,
          0.16998846153846153,
          0.2137128205128205,
          0.18662708333333333,
          0.019444615384615387,
          0.2714547619047619,
          0.23969285714285715,
          0.12866507936507937,
          0.03792459016393443,
          0.1894725806451613,
          0.2044488888888889,
          0.17613333333333334,
          0.1975890625,
          0.09075263157894736,
          0.19175999999999999,
          0.17762291666666666,
          0.14758863636363637,
          0.142394,
          0.14981971830985916,
          0.1317754385964912,
          0.1753050847457627,
          0.16919399999999998,
          0.18507755102040815,
          0.2557951612903226,
          0.20007833333333333,
          0.1684168831168831,
          0.12982786885245903,
          0.1979693548387097
         ],
         "yaxis": "y"
        }
       ],
       "layout": {
        "annotations": [
         {
          "font": {
           "size": 16
          },
          "showarrow": false,
          "text": "D",
          "x": 0.5,
          "xanchor": "center",
          "xref": "paper",
          "y": 1,
          "yanchor": "bottom",
          "yref": "paper"
         },
         {
          "arrowhead": 3,
          "showarrow": true,
          "text": "$\\mu : 0.15$",
          "x": 1648771200000000000,
          "y": 0.152978079921261,
          "yshift": 10
         }
        ],
        "shapes": [
         {
          "line": {
           "dash": "dash"
          },
          "type": "line",
          "x0": 0,
          "x1": 1,
          "xref": "x domain",
          "y0": 0.152978079921261,
          "y1": 0.152978079921261,
          "yref": "y"
         }
        ],
        "template": {
         "data": {
          "bar": [
           {
            "error_x": {
             "color": "#2a3f5f"
            },
            "error_y": {
             "color": "#2a3f5f"
            },
            "marker": {
             "line": {
              "color": "#E5ECF6",
              "width": 0.5
             },
             "pattern": {
              "fillmode": "overlay",
              "size": 10,
              "solidity": 0.2
             }
            },
            "type": "bar"
           }
          ],
          "barpolar": [
           {
            "marker": {
             "line": {
              "color": "#E5ECF6",
              "width": 0.5
             },
             "pattern": {
              "fillmode": "overlay",
              "size": 10,
              "solidity": 0.2
             }
            },
            "type": "barpolar"
           }
          ],
          "carpet": [
           {
            "aaxis": {
             "endlinecolor": "#2a3f5f",
             "gridcolor": "white",
             "linecolor": "white",
             "minorgridcolor": "white",
             "startlinecolor": "#2a3f5f"
            },
            "baxis": {
             "endlinecolor": "#2a3f5f",
             "gridcolor": "white",
             "linecolor": "white",
             "minorgridcolor": "white",
             "startlinecolor": "#2a3f5f"
            },
            "type": "carpet"
           }
          ],
          "choropleth": [
           {
            "colorbar": {
             "outlinewidth": 0,
             "ticks": ""
            },
            "type": "choropleth"
           }
          ],
          "contour": [
           {
            "colorbar": {
             "outlinewidth": 0,
             "ticks": ""
            },
            "colorscale": [
             [
              0,
              "#0d0887"
             ],
             [
              0.1111111111111111,
              "#46039f"
             ],
             [
              0.2222222222222222,
              "#7201a8"
             ],
             [
              0.3333333333333333,
              "#9c179e"
             ],
             [
              0.4444444444444444,
              "#bd3786"
             ],
             [
              0.5555555555555556,
              "#d8576b"
             ],
             [
              0.6666666666666666,
              "#ed7953"
             ],
             [
              0.7777777777777778,
              "#fb9f3a"
             ],
             [
              0.8888888888888888,
              "#fdca26"
             ],
             [
              1,
              "#f0f921"
             ]
            ],
            "type": "contour"
           }
          ],
          "contourcarpet": [
           {
            "colorbar": {
             "outlinewidth": 0,
             "ticks": ""
            },
            "type": "contourcarpet"
           }
          ],
          "heatmap": [
           {
            "colorbar": {
             "outlinewidth": 0,
             "ticks": ""
            },
            "colorscale": [
             [
              0,
              "#0d0887"
             ],
             [
              0.1111111111111111,
              "#46039f"
             ],
             [
              0.2222222222222222,
              "#7201a8"
             ],
             [
              0.3333333333333333,
              "#9c179e"
             ],
             [
              0.4444444444444444,
              "#bd3786"
             ],
             [
              0.5555555555555556,
              "#d8576b"
             ],
             [
              0.6666666666666666,
              "#ed7953"
             ],
             [
              0.7777777777777778,
              "#fb9f3a"
             ],
             [
              0.8888888888888888,
              "#fdca26"
             ],
             [
              1,
              "#f0f921"
             ]
            ],
            "type": "heatmap"
           }
          ],
          "heatmapgl": [
           {
            "colorbar": {
             "outlinewidth": 0,
             "ticks": ""
            },
            "colorscale": [
             [
              0,
              "#0d0887"
             ],
             [
              0.1111111111111111,
              "#46039f"
             ],
             [
              0.2222222222222222,
              "#7201a8"
             ],
             [
              0.3333333333333333,
              "#9c179e"
             ],
             [
              0.4444444444444444,
              "#bd3786"
             ],
             [
              0.5555555555555556,
              "#d8576b"
             ],
             [
              0.6666666666666666,
              "#ed7953"
             ],
             [
              0.7777777777777778,
              "#fb9f3a"
             ],
             [
              0.8888888888888888,
              "#fdca26"
             ],
             [
              1,
              "#f0f921"
             ]
            ],
            "type": "heatmapgl"
           }
          ],
          "histogram": [
           {
            "marker": {
             "pattern": {
              "fillmode": "overlay",
              "size": 10,
              "solidity": 0.2
             }
            },
            "type": "histogram"
           }
          ],
          "histogram2d": [
           {
            "colorbar": {
             "outlinewidth": 0,
             "ticks": ""
            },
            "colorscale": [
             [
              0,
              "#0d0887"
             ],
             [
              0.1111111111111111,
              "#46039f"
             ],
             [
              0.2222222222222222,
              "#7201a8"
             ],
             [
              0.3333333333333333,
              "#9c179e"
             ],
             [
              0.4444444444444444,
              "#bd3786"
             ],
             [
              0.5555555555555556,
              "#d8576b"
             ],
             [
              0.6666666666666666,
              "#ed7953"
             ],
             [
              0.7777777777777778,
              "#fb9f3a"
             ],
             [
              0.8888888888888888,
              "#fdca26"
             ],
             [
              1,
              "#f0f921"
             ]
            ],
            "type": "histogram2d"
           }
          ],
          "histogram2dcontour": [
           {
            "colorbar": {
             "outlinewidth": 0,
             "ticks": ""
            },
            "colorscale": [
             [
              0,
              "#0d0887"
             ],
             [
              0.1111111111111111,
              "#46039f"
             ],
             [
              0.2222222222222222,
              "#7201a8"
             ],
             [
              0.3333333333333333,
              "#9c179e"
             ],
             [
              0.4444444444444444,
              "#bd3786"
             ],
             [
              0.5555555555555556,
              "#d8576b"
             ],
             [
              0.6666666666666666,
              "#ed7953"
             ],
             [
              0.7777777777777778,
              "#fb9f3a"
             ],
             [
              0.8888888888888888,
              "#fdca26"
             ],
             [
              1,
              "#f0f921"
             ]
            ],
            "type": "histogram2dcontour"
           }
          ],
          "mesh3d": [
           {
            "colorbar": {
             "outlinewidth": 0,
             "ticks": ""
            },
            "type": "mesh3d"
           }
          ],
          "parcoords": [
           {
            "line": {
             "colorbar": {
              "outlinewidth": 0,
              "ticks": ""
             }
            },
            "type": "parcoords"
           }
          ],
          "pie": [
           {
            "automargin": true,
            "type": "pie"
           }
          ],
          "scatter": [
           {
            "fillpattern": {
             "fillmode": "overlay",
             "size": 10,
             "solidity": 0.2
            },
            "type": "scatter"
           }
          ],
          "scatter3d": [
           {
            "line": {
             "colorbar": {
              "outlinewidth": 0,
              "ticks": ""
             }
            },
            "marker": {
             "colorbar": {
              "outlinewidth": 0,
              "ticks": ""
             }
            },
            "type": "scatter3d"
           }
          ],
          "scattercarpet": [
           {
            "marker": {
             "colorbar": {
              "outlinewidth": 0,
              "ticks": ""
             }
            },
            "type": "scattercarpet"
           }
          ],
          "scattergeo": [
           {
            "marker": {
             "colorbar": {
              "outlinewidth": 0,
              "ticks": ""
             }
            },
            "type": "scattergeo"
           }
          ],
          "scattergl": [
           {
            "marker": {
             "colorbar": {
              "outlinewidth": 0,
              "ticks": ""
             }
            },
            "type": "scattergl"
           }
          ],
          "scattermapbox": [
           {
            "marker": {
             "colorbar": {
              "outlinewidth": 0,
              "ticks": ""
             }
            },
            "type": "scattermapbox"
           }
          ],
          "scatterpolar": [
           {
            "marker": {
             "colorbar": {
              "outlinewidth": 0,
              "ticks": ""
             }
            },
            "type": "scatterpolar"
           }
          ],
          "scatterpolargl": [
           {
            "marker": {
             "colorbar": {
              "outlinewidth": 0,
              "ticks": ""
             }
            },
            "type": "scatterpolargl"
           }
          ],
          "scatterternary": [
           {
            "marker": {
             "colorbar": {
              "outlinewidth": 0,
              "ticks": ""
             }
            },
            "type": "scatterternary"
           }
          ],
          "surface": [
           {
            "colorbar": {
             "outlinewidth": 0,
             "ticks": ""
            },
            "colorscale": [
             [
              0,
              "#0d0887"
             ],
             [
              0.1111111111111111,
              "#46039f"
             ],
             [
              0.2222222222222222,
              "#7201a8"
             ],
             [
              0.3333333333333333,
              "#9c179e"
             ],
             [
              0.4444444444444444,
              "#bd3786"
             ],
             [
              0.5555555555555556,
              "#d8576b"
             ],
             [
              0.6666666666666666,
              "#ed7953"
             ],
             [
              0.7777777777777778,
              "#fb9f3a"
             ],
             [
              0.8888888888888888,
              "#fdca26"
             ],
             [
              1,
              "#f0f921"
             ]
            ],
            "type": "surface"
           }
          ],
          "table": [
           {
            "cells": {
             "fill": {
              "color": "#EBF0F8"
             },
             "line": {
              "color": "white"
             }
            },
            "header": {
             "fill": {
              "color": "#C8D4E3"
             },
             "line": {
              "color": "white"
             }
            },
            "type": "table"
           }
          ]
         },
         "layout": {
          "annotationdefaults": {
           "arrowcolor": "#2a3f5f",
           "arrowhead": 0,
           "arrowwidth": 1
          },
          "autotypenumbers": "strict",
          "coloraxis": {
           "colorbar": {
            "outlinewidth": 0,
            "ticks": ""
           }
          },
          "colorscale": {
           "diverging": [
            [
             0,
             "#8e0152"
            ],
            [
             0.1,
             "#c51b7d"
            ],
            [
             0.2,
             "#de77ae"
            ],
            [
             0.3,
             "#f1b6da"
            ],
            [
             0.4,
             "#fde0ef"
            ],
            [
             0.5,
             "#f7f7f7"
            ],
            [
             0.6,
             "#e6f5d0"
            ],
            [
             0.7,
             "#b8e186"
            ],
            [
             0.8,
             "#7fbc41"
            ],
            [
             0.9,
             "#4d9221"
            ],
            [
             1,
             "#276419"
            ]
           ],
           "sequential": [
            [
             0,
             "#0d0887"
            ],
            [
             0.1111111111111111,
             "#46039f"
            ],
            [
             0.2222222222222222,
             "#7201a8"
            ],
            [
             0.3333333333333333,
             "#9c179e"
            ],
            [
             0.4444444444444444,
             "#bd3786"
            ],
            [
             0.5555555555555556,
             "#d8576b"
            ],
            [
             0.6666666666666666,
             "#ed7953"
            ],
            [
             0.7777777777777778,
             "#fb9f3a"
            ],
            [
             0.8888888888888888,
             "#fdca26"
            ],
            [
             1,
             "#f0f921"
            ]
           ],
           "sequentialminus": [
            [
             0,
             "#0d0887"
            ],
            [
             0.1111111111111111,
             "#46039f"
            ],
            [
             0.2222222222222222,
             "#7201a8"
            ],
            [
             0.3333333333333333,
             "#9c179e"
            ],
            [
             0.4444444444444444,
             "#bd3786"
            ],
            [
             0.5555555555555556,
             "#d8576b"
            ],
            [
             0.6666666666666666,
             "#ed7953"
            ],
            [
             0.7777777777777778,
             "#fb9f3a"
            ],
            [
             0.8888888888888888,
             "#fdca26"
            ],
            [
             1,
             "#f0f921"
            ]
           ]
          },
          "colorway": [
           "#636efa",
           "#EF553B",
           "#00cc96",
           "#ab63fa",
           "#FFA15A",
           "#19d3f3",
           "#FF6692",
           "#B6E880",
           "#FF97FF",
           "#FECB52"
          ],
          "font": {
           "color": "#2a3f5f"
          },
          "geo": {
           "bgcolor": "white",
           "lakecolor": "white",
           "landcolor": "#E5ECF6",
           "showlakes": true,
           "showland": true,
           "subunitcolor": "white"
          },
          "hoverlabel": {
           "align": "left"
          },
          "hovermode": "closest",
          "mapbox": {
           "style": "light"
          },
          "paper_bgcolor": "white",
          "plot_bgcolor": "#E5ECF6",
          "polar": {
           "angularaxis": {
            "gridcolor": "white",
            "linecolor": "white",
            "ticks": ""
           },
           "bgcolor": "#E5ECF6",
           "radialaxis": {
            "gridcolor": "white",
            "linecolor": "white",
            "ticks": ""
           }
          },
          "scene": {
           "xaxis": {
            "backgroundcolor": "#E5ECF6",
            "gridcolor": "white",
            "gridwidth": 2,
            "linecolor": "white",
            "showbackground": true,
            "ticks": "",
            "zerolinecolor": "white"
           },
           "yaxis": {
            "backgroundcolor": "#E5ECF6",
            "gridcolor": "white",
            "gridwidth": 2,
            "linecolor": "white",
            "showbackground": true,
            "ticks": "",
            "zerolinecolor": "white"
           },
           "zaxis": {
            "backgroundcolor": "#E5ECF6",
            "gridcolor": "white",
            "gridwidth": 2,
            "linecolor": "white",
            "showbackground": true,
            "ticks": "",
            "zerolinecolor": "white"
           }
          },
          "shapedefaults": {
           "line": {
            "color": "#2a3f5f"
           }
          },
          "ternary": {
           "aaxis": {
            "gridcolor": "white",
            "linecolor": "white",
            "ticks": ""
           },
           "baxis": {
            "gridcolor": "white",
            "linecolor": "white",
            "ticks": ""
           },
           "bgcolor": "#E5ECF6",
           "caxis": {
            "gridcolor": "white",
            "linecolor": "white",
            "ticks": ""
           }
          },
          "title": {
           "x": 0.05
          },
          "xaxis": {
           "automargin": true,
           "gridcolor": "white",
           "linecolor": "white",
           "ticks": "",
           "title": {
            "standoff": 15
           },
           "zerolinecolor": "white",
           "zerolinewidth": 2
          },
          "yaxis": {
           "automargin": true,
           "gridcolor": "white",
           "linecolor": "white",
           "ticks": "",
           "title": {
            "standoff": 15
           },
           "zerolinecolor": "white",
           "zerolinewidth": 2
          }
         }
        },
        "xaxis": {
         "anchor": "y",
         "domain": [
          0,
          1
         ]
        },
        "yaxis": {
         "anchor": "x",
         "domain": [
          0,
          1
         ]
        }
       }
      },
      "text/html": [
       "<div>                            <div id=\"c190db40-8087-4d6e-bcdd-e02781349e96\" class=\"plotly-graph-div\" style=\"height:525px; width:100%;\"></div>            <script type=\"text/javascript\">                require([\"plotly\"], function(Plotly) {                    window.PLOTLYENV=window.PLOTLYENV || {};                                    if (document.getElementById(\"c190db40-8087-4d6e-bcdd-e02781349e96\")) {                    Plotly.newPlot(                        \"c190db40-8087-4d6e-bcdd-e02781349e96\",                        [{\"name\":\"Sentiment Mean\",\"x\":[\"2022-03-29T00:00:00\",\"2022-03-30T00:00:00\",\"2022-03-31T00:00:00\",\"2022-04-01T00:00:00\",\"2022-04-02T00:00:00\",\"2022-04-03T00:00:00\",\"2022-04-04T00:00:00\",\"2022-04-05T00:00:00\",\"2022-04-06T00:00:00\",\"2022-04-07T00:00:00\",\"2022-04-08T00:00:00\",\"2022-04-09T00:00:00\",\"2022-04-10T00:00:00\",\"2022-04-11T00:00:00\",\"2022-04-12T00:00:00\",\"2022-04-13T00:00:00\",\"2022-04-14T00:00:00\",\"2022-04-15T00:00:00\",\"2022-04-16T00:00:00\",\"2022-04-17T00:00:00\",\"2022-04-18T00:00:00\",\"2022-04-19T00:00:00\",\"2022-04-20T00:00:00\",\"2022-04-21T00:00:00\",\"2022-04-22T00:00:00\",\"2022-04-23T00:00:00\",\"2022-04-24T00:00:00\",\"2022-04-25T00:00:00\",\"2022-04-26T00:00:00\",\"2022-04-27T00:00:00\",\"2022-04-28T00:00:00\",\"2022-04-29T00:00:00\",\"2022-04-30T00:00:00\",\"2022-05-01T00:00:00\",\"2022-05-02T00:00:00\",\"2022-05-03T00:00:00\",\"2022-05-04T00:00:00\",\"2022-05-05T00:00:00\",\"2022-05-06T00:00:00\",\"2022-05-07T00:00:00\",\"2022-05-08T00:00:00\",\"2022-05-09T00:00:00\",\"2022-05-10T00:00:00\",\"2022-05-11T00:00:00\",\"2022-05-12T00:00:00\",\"2022-05-13T00:00:00\",\"2022-05-14T00:00:00\",\"2022-05-15T00:00:00\",\"2022-05-16T00:00:00\",\"2022-05-17T00:00:00\",\"2022-05-18T00:00:00\",\"2022-05-19T00:00:00\",\"2022-05-20T00:00:00\",\"2022-05-21T00:00:00\",\"2022-05-22T00:00:00\",\"2022-05-23T00:00:00\",\"2022-05-24T00:00:00\",\"2022-05-25T00:00:00\",\"2022-05-26T00:00:00\",\"2022-05-27T00:00:00\",\"2022-05-28T00:00:00\",\"2022-05-29T00:00:00\",\"2022-05-30T00:00:00\",\"2022-05-31T00:00:00\",\"2022-06-01T00:00:00\",\"2022-06-02T00:00:00\",\"2022-06-03T00:00:00\",\"2022-06-04T00:00:00\",\"2022-06-05T00:00:00\",\"2022-06-06T00:00:00\",\"2022-06-07T00:00:00\",\"2022-06-08T00:00:00\",\"2022-06-09T00:00:00\",\"2022-06-10T00:00:00\",\"2022-06-11T00:00:00\",\"2022-06-12T00:00:00\",\"2022-06-13T00:00:00\",\"2022-06-14T00:00:00\",\"2022-06-15T00:00:00\",\"2022-06-16T00:00:00\",\"2022-06-17T00:00:00\",\"2022-06-18T00:00:00\",\"2022-06-19T00:00:00\",\"2022-06-20T00:00:00\",\"2022-06-21T00:00:00\",\"2022-06-22T00:00:00\",\"2022-06-23T00:00:00\",\"2022-06-24T00:00:00\",\"2022-06-25T00:00:00\",\"2022-06-26T00:00:00\",\"2022-06-27T00:00:00\",\"2022-06-28T00:00:00\",\"2022-06-29T00:00:00\",\"2022-06-30T00:00:00\",\"2022-07-01T00:00:00\",\"2022-07-02T00:00:00\",\"2022-07-03T00:00:00\",\"2022-07-04T00:00:00\",\"2022-07-05T00:00:00\",\"2022-07-06T00:00:00\",\"2022-07-07T00:00:00\",\"2022-07-08T00:00:00\",\"2022-07-09T00:00:00\",\"2022-07-10T00:00:00\",\"2022-07-11T00:00:00\",\"2022-07-12T00:00:00\",\"2022-07-13T00:00:00\",\"2022-07-14T00:00:00\",\"2022-07-15T00:00:00\",\"2022-07-16T00:00:00\",\"2022-07-17T00:00:00\",\"2022-07-18T00:00:00\",\"2022-07-19T00:00:00\",\"2022-07-20T00:00:00\",\"2022-07-21T00:00:00\",\"2022-07-22T00:00:00\",\"2022-07-23T00:00:00\",\"2022-07-24T00:00:00\",\"2022-07-25T00:00:00\",\"2022-07-26T00:00:00\",\"2022-07-27T00:00:00\",\"2022-07-28T00:00:00\",\"2022-07-29T00:00:00\",\"2022-07-30T00:00:00\",\"2022-07-31T00:00:00\",\"2022-08-01T00:00:00\",\"2022-08-02T00:00:00\",\"2022-08-03T00:00:00\",\"2022-08-04T00:00:00\",\"2022-08-05T00:00:00\",\"2022-08-06T00:00:00\",\"2022-08-07T00:00:00\",\"2022-08-08T00:00:00\",\"2022-08-09T00:00:00\",\"2022-08-10T00:00:00\",\"2022-08-11T00:00:00\",\"2022-08-12T00:00:00\",\"2022-08-13T00:00:00\",\"2022-08-14T00:00:00\",\"2022-08-15T00:00:00\",\"2022-08-16T00:00:00\",\"2022-08-17T00:00:00\",\"2022-08-18T00:00:00\",\"2022-08-19T00:00:00\",\"2022-08-20T00:00:00\",\"2022-08-21T00:00:00\",\"2022-08-22T00:00:00\",\"2022-08-23T00:00:00\",\"2022-08-24T00:00:00\",\"2022-08-25T00:00:00\",\"2022-08-26T00:00:00\",\"2022-08-27T00:00:00\",\"2022-08-28T00:00:00\",\"2022-08-29T00:00:00\",\"2022-08-30T00:00:00\",\"2022-08-31T00:00:00\",\"2022-09-01T00:00:00\",\"2022-09-02T00:00:00\",\"2022-09-03T00:00:00\",\"2022-09-04T00:00:00\",\"2022-09-05T00:00:00\",\"2022-09-06T00:00:00\",\"2022-09-07T00:00:00\",\"2022-09-08T00:00:00\",\"2022-09-09T00:00:00\",\"2022-09-10T00:00:00\",\"2022-09-11T00:00:00\",\"2022-09-12T00:00:00\",\"2022-09-13T00:00:00\",\"2022-09-14T00:00:00\",\"2022-09-15T00:00:00\",\"2022-09-16T00:00:00\",\"2022-09-17T00:00:00\",\"2022-09-18T00:00:00\",\"2022-09-19T00:00:00\",\"2022-09-20T00:00:00\",\"2022-09-21T00:00:00\",\"2022-09-22T00:00:00\",\"2022-09-23T00:00:00\",\"2022-09-24T00:00:00\",\"2022-09-25T00:00:00\",\"2022-09-26T00:00:00\",\"2022-09-27T00:00:00\",\"2022-09-28T00:00:00\",\"2022-09-29T00:00:00\",\"2022-09-30T00:00:00\",\"2022-10-01T00:00:00\",\"2022-10-02T00:00:00\",\"2022-10-03T00:00:00\",\"2022-10-04T00:00:00\",\"2022-10-05T00:00:00\"],\"y\":[0.12621739130434784,0.025578947368421052,0.2649149253731343,0.167225,0.09505576923076922,0.16180238095238095,0.06634230769230769,0.12845098039215685,0.11893037974683544,0.13646037735849056,0.20882692307692308,0.11617543859649122,0.2083241935483871,0.19093582089552238,0.16391475409836065,0.22925263157894737,0.21792,0.21834528301886794,0.13533953488372094,0.1344095238095238,0.0961659090909091,0.06775569620253163,0.1767982456140351,0.10301999999999999,0.09953246753246753,0.23204545454545453,0.22792702702702705,0.11121914893617023,0.22466470588235296,0.20592448979591835,0.0883859375,0.15565106382978725,0.06224347826086957,0.1928972972972973,0.1865,0.1375438596491228,0.09225510204081633,0.1894578947368421,0.07246744186046512,0.24723846153846155,0.17037500000000003,0.23973396226415095,0.07828444444444445,0.2091728813559322,0.18208533333333332,0.05866964285714286,0.12486346153846155,0.08293802816901409,0.14195090909090907,0.1574883333333333,0.15222295081967213,0.21869333333333335,0.17034102564102563,0.18288548387096776,0.12062153846153846,0.08547777777777778,0.1622127659574468,0.21166382978723405,0.18297804878048782,0.05988780487804877,0.14621458333333334,0.26087,0.016311363636363645,0.22593653846153844,0.1412139534883721,0.11379473684210527,0.06618703703703704,0.1795918367346939,0.121948,0.2774081081081081,0.22014255319148937,0.09970377358490566,0.1429878787878788,0.060347540983606555,-0.010484090909090905,0.16271875,0.15123050847457628,0.14685555555555554,0.08296557377049181,0.2898974358974359,0.07076296296296297,0.06171698113207548,0.10161190476190478,0.1590155172413793,0.18087777777777778,0.1305421052631579,0.06600227272727273,0.1616108695652174,0.11891290322580646,0.28164347826086955,0.11698548387096774,0.23501428571428573,0.21526666666666666,0.0890325581395349,0.18796976744186045,0.19865365853658537,0.11357272727272728,0.2007531914893617,0.13313695652173912,0.1695298245614035,0.17267424242424242,0.161588679245283,0.2076103448275862,0.2744214285714286,0.303611320754717,0.08569574468085107,0.18883076923076925,0.08471956521739131,0.08785172413793105,0.09796444444444445,0.0844,0.18025,0.15940833333333335,0.16431724137931034,0.15248636363636361,0.09873863636363636,0.14280263157894738,0.07967111111111111,0.18302941176470588,0.17211090909090912,0.07862745098039216,0.05487346938775511,0.22667714285714285,0.2551325581395349,0.10672777777777778,0.20451041666666667,0.19654193548387097,0.21344909090909092,0.1477509090909091,0.12802622950819673,0.20245531914893616,0.15249019607843137,0.1967262295081967,0.1254607843137255,0.25783958333333334,0.057896774193548384,0.05935636363636363,0.05736511627906977,0.1998511111111111,0.2387,0.10907666666666667,0.04838571428571429,0.3024962962962963,-0.013399999999999999,0.13848235294117647,0.055912195121951225,0.10736041666666667,0.15918245614035087,0.111296,0.31592807017543856,0.11650895522388059,0.13702586206896553,0.1836425,0.15962727272727273,0.11593,0.2135081632653061,0.13925535714285714,0.1774423076923077,0.206709756097561,-0.008051020408163263,0.2138025641025641,0.07733877551020409,0.23855172413793105,0.15651147540983606,0.16998846153846153,0.2137128205128205,0.18662708333333333,0.019444615384615387,0.2714547619047619,0.23969285714285715,0.12866507936507937,0.03792459016393443,0.1894725806451613,0.2044488888888889,0.17613333333333334,0.1975890625,0.09075263157894736,0.19175999999999999,0.17762291666666666,0.14758863636363637,0.142394,0.14981971830985916,0.1317754385964912,0.1753050847457627,0.16919399999999998,0.18507755102040815,0.2557951612903226,0.20007833333333333,0.1684168831168831,0.12982786885245903,0.1979693548387097],\"type\":\"scatter\",\"xaxis\":\"x\",\"yaxis\":\"y\"}],                        {\"template\":{\"data\":{\"histogram2dcontour\":[{\"type\":\"histogram2dcontour\",\"colorbar\":{\"outlinewidth\":0,\"ticks\":\"\"},\"colorscale\":[[0.0,\"#0d0887\"],[0.1111111111111111,\"#46039f\"],[0.2222222222222222,\"#7201a8\"],[0.3333333333333333,\"#9c179e\"],[0.4444444444444444,\"#bd3786\"],[0.5555555555555556,\"#d8576b\"],[0.6666666666666666,\"#ed7953\"],[0.7777777777777778,\"#fb9f3a\"],[0.8888888888888888,\"#fdca26\"],[1.0,\"#f0f921\"]]}],\"choropleth\":[{\"type\":\"choropleth\",\"colorbar\":{\"outlinewidth\":0,\"ticks\":\"\"}}],\"histogram2d\":[{\"type\":\"histogram2d\",\"colorbar\":{\"outlinewidth\":0,\"ticks\":\"\"},\"colorscale\":[[0.0,\"#0d0887\"],[0.1111111111111111,\"#46039f\"],[0.2222222222222222,\"#7201a8\"],[0.3333333333333333,\"#9c179e\"],[0.4444444444444444,\"#bd3786\"],[0.5555555555555556,\"#d8576b\"],[0.6666666666666666,\"#ed7953\"],[0.7777777777777778,\"#fb9f3a\"],[0.8888888888888888,\"#fdca26\"],[1.0,\"#f0f921\"]]}],\"heatmap\":[{\"type\":\"heatmap\",\"colorbar\":{\"outlinewidth\":0,\"ticks\":\"\"},\"colorscale\":[[0.0,\"#0d0887\"],[0.1111111111111111,\"#46039f\"],[0.2222222222222222,\"#7201a8\"],[0.3333333333333333,\"#9c179e\"],[0.4444444444444444,\"#bd3786\"],[0.5555555555555556,\"#d8576b\"],[0.6666666666666666,\"#ed7953\"],[0.7777777777777778,\"#fb9f3a\"],[0.8888888888888888,\"#fdca26\"],[1.0,\"#f0f921\"]]}],\"heatmapgl\":[{\"type\":\"heatmapgl\",\"colorbar\":{\"outlinewidth\":0,\"ticks\":\"\"},\"colorscale\":[[0.0,\"#0d0887\"],[0.1111111111111111,\"#46039f\"],[0.2222222222222222,\"#7201a8\"],[0.3333333333333333,\"#9c179e\"],[0.4444444444444444,\"#bd3786\"],[0.5555555555555556,\"#d8576b\"],[0.6666666666666666,\"#ed7953\"],[0.7777777777777778,\"#fb9f3a\"],[0.8888888888888888,\"#fdca26\"],[1.0,\"#f0f921\"]]}],\"contourcarpet\":[{\"type\":\"contourcarpet\",\"colorbar\":{\"outlinewidth\":0,\"ticks\":\"\"}}],\"contour\":[{\"type\":\"contour\",\"colorbar\":{\"outlinewidth\":0,\"ticks\":\"\"},\"colorscale\":[[0.0,\"#0d0887\"],[0.1111111111111111,\"#46039f\"],[0.2222222222222222,\"#7201a8\"],[0.3333333333333333,\"#9c179e\"],[0.4444444444444444,\"#bd3786\"],[0.5555555555555556,\"#d8576b\"],[0.6666666666666666,\"#ed7953\"],[0.7777777777777778,\"#fb9f3a\"],[0.8888888888888888,\"#fdca26\"],[1.0,\"#f0f921\"]]}],\"surface\":[{\"type\":\"surface\",\"colorbar\":{\"outlinewidth\":0,\"ticks\":\"\"},\"colorscale\":[[0.0,\"#0d0887\"],[0.1111111111111111,\"#46039f\"],[0.2222222222222222,\"#7201a8\"],[0.3333333333333333,\"#9c179e\"],[0.4444444444444444,\"#bd3786\"],[0.5555555555555556,\"#d8576b\"],[0.6666666666666666,\"#ed7953\"],[0.7777777777777778,\"#fb9f3a\"],[0.8888888888888888,\"#fdca26\"],[1.0,\"#f0f921\"]]}],\"mesh3d\":[{\"type\":\"mesh3d\",\"colorbar\":{\"outlinewidth\":0,\"ticks\":\"\"}}],\"scatter\":[{\"fillpattern\":{\"fillmode\":\"overlay\",\"size\":10,\"solidity\":0.2},\"type\":\"scatter\"}],\"parcoords\":[{\"type\":\"parcoords\",\"line\":{\"colorbar\":{\"outlinewidth\":0,\"ticks\":\"\"}}}],\"scatterpolargl\":[{\"type\":\"scatterpolargl\",\"marker\":{\"colorbar\":{\"outlinewidth\":0,\"ticks\":\"\"}}}],\"bar\":[{\"error_x\":{\"color\":\"#2a3f5f\"},\"error_y\":{\"color\":\"#2a3f5f\"},\"marker\":{\"line\":{\"color\":\"#E5ECF6\",\"width\":0.5},\"pattern\":{\"fillmode\":\"overlay\",\"size\":10,\"solidity\":0.2}},\"type\":\"bar\"}],\"scattergeo\":[{\"type\":\"scattergeo\",\"marker\":{\"colorbar\":{\"outlinewidth\":0,\"ticks\":\"\"}}}],\"scatterpolar\":[{\"type\":\"scatterpolar\",\"marker\":{\"colorbar\":{\"outlinewidth\":0,\"ticks\":\"\"}}}],\"histogram\":[{\"marker\":{\"pattern\":{\"fillmode\":\"overlay\",\"size\":10,\"solidity\":0.2}},\"type\":\"histogram\"}],\"scattergl\":[{\"type\":\"scattergl\",\"marker\":{\"colorbar\":{\"outlinewidth\":0,\"ticks\":\"\"}}}],\"scatter3d\":[{\"type\":\"scatter3d\",\"line\":{\"colorbar\":{\"outlinewidth\":0,\"ticks\":\"\"}},\"marker\":{\"colorbar\":{\"outlinewidth\":0,\"ticks\":\"\"}}}],\"scattermapbox\":[{\"type\":\"scattermapbox\",\"marker\":{\"colorbar\":{\"outlinewidth\":0,\"ticks\":\"\"}}}],\"scatterternary\":[{\"type\":\"scatterternary\",\"marker\":{\"colorbar\":{\"outlinewidth\":0,\"ticks\":\"\"}}}],\"scattercarpet\":[{\"type\":\"scattercarpet\",\"marker\":{\"colorbar\":{\"outlinewidth\":0,\"ticks\":\"\"}}}],\"carpet\":[{\"aaxis\":{\"endlinecolor\":\"#2a3f5f\",\"gridcolor\":\"white\",\"linecolor\":\"white\",\"minorgridcolor\":\"white\",\"startlinecolor\":\"#2a3f5f\"},\"baxis\":{\"endlinecolor\":\"#2a3f5f\",\"gridcolor\":\"white\",\"linecolor\":\"white\",\"minorgridcolor\":\"white\",\"startlinecolor\":\"#2a3f5f\"},\"type\":\"carpet\"}],\"table\":[{\"cells\":{\"fill\":{\"color\":\"#EBF0F8\"},\"line\":{\"color\":\"white\"}},\"header\":{\"fill\":{\"color\":\"#C8D4E3\"},\"line\":{\"color\":\"white\"}},\"type\":\"table\"}],\"barpolar\":[{\"marker\":{\"line\":{\"color\":\"#E5ECF6\",\"width\":0.5},\"pattern\":{\"fillmode\":\"overlay\",\"size\":10,\"solidity\":0.2}},\"type\":\"barpolar\"}],\"pie\":[{\"automargin\":true,\"type\":\"pie\"}]},\"layout\":{\"autotypenumbers\":\"strict\",\"colorway\":[\"#636efa\",\"#EF553B\",\"#00cc96\",\"#ab63fa\",\"#FFA15A\",\"#19d3f3\",\"#FF6692\",\"#B6E880\",\"#FF97FF\",\"#FECB52\"],\"font\":{\"color\":\"#2a3f5f\"},\"hovermode\":\"closest\",\"hoverlabel\":{\"align\":\"left\"},\"paper_bgcolor\":\"white\",\"plot_bgcolor\":\"#E5ECF6\",\"polar\":{\"bgcolor\":\"#E5ECF6\",\"angularaxis\":{\"gridcolor\":\"white\",\"linecolor\":\"white\",\"ticks\":\"\"},\"radialaxis\":{\"gridcolor\":\"white\",\"linecolor\":\"white\",\"ticks\":\"\"}},\"ternary\":{\"bgcolor\":\"#E5ECF6\",\"aaxis\":{\"gridcolor\":\"white\",\"linecolor\":\"white\",\"ticks\":\"\"},\"baxis\":{\"gridcolor\":\"white\",\"linecolor\":\"white\",\"ticks\":\"\"},\"caxis\":{\"gridcolor\":\"white\",\"linecolor\":\"white\",\"ticks\":\"\"}},\"coloraxis\":{\"colorbar\":{\"outlinewidth\":0,\"ticks\":\"\"}},\"colorscale\":{\"sequential\":[[0.0,\"#0d0887\"],[0.1111111111111111,\"#46039f\"],[0.2222222222222222,\"#7201a8\"],[0.3333333333333333,\"#9c179e\"],[0.4444444444444444,\"#bd3786\"],[0.5555555555555556,\"#d8576b\"],[0.6666666666666666,\"#ed7953\"],[0.7777777777777778,\"#fb9f3a\"],[0.8888888888888888,\"#fdca26\"],[1.0,\"#f0f921\"]],\"sequentialminus\":[[0.0,\"#0d0887\"],[0.1111111111111111,\"#46039f\"],[0.2222222222222222,\"#7201a8\"],[0.3333333333333333,\"#9c179e\"],[0.4444444444444444,\"#bd3786\"],[0.5555555555555556,\"#d8576b\"],[0.6666666666666666,\"#ed7953\"],[0.7777777777777778,\"#fb9f3a\"],[0.8888888888888888,\"#fdca26\"],[1.0,\"#f0f921\"]],\"diverging\":[[0,\"#8e0152\"],[0.1,\"#c51b7d\"],[0.2,\"#de77ae\"],[0.3,\"#f1b6da\"],[0.4,\"#fde0ef\"],[0.5,\"#f7f7f7\"],[0.6,\"#e6f5d0\"],[0.7,\"#b8e186\"],[0.8,\"#7fbc41\"],[0.9,\"#4d9221\"],[1,\"#276419\"]]},\"xaxis\":{\"gridcolor\":\"white\",\"linecolor\":\"white\",\"ticks\":\"\",\"title\":{\"standoff\":15},\"zerolinecolor\":\"white\",\"automargin\":true,\"zerolinewidth\":2},\"yaxis\":{\"gridcolor\":\"white\",\"linecolor\":\"white\",\"ticks\":\"\",\"title\":{\"standoff\":15},\"zerolinecolor\":\"white\",\"automargin\":true,\"zerolinewidth\":2},\"scene\":{\"xaxis\":{\"backgroundcolor\":\"#E5ECF6\",\"gridcolor\":\"white\",\"linecolor\":\"white\",\"showbackground\":true,\"ticks\":\"\",\"zerolinecolor\":\"white\",\"gridwidth\":2},\"yaxis\":{\"backgroundcolor\":\"#E5ECF6\",\"gridcolor\":\"white\",\"linecolor\":\"white\",\"showbackground\":true,\"ticks\":\"\",\"zerolinecolor\":\"white\",\"gridwidth\":2},\"zaxis\":{\"backgroundcolor\":\"#E5ECF6\",\"gridcolor\":\"white\",\"linecolor\":\"white\",\"showbackground\":true,\"ticks\":\"\",\"zerolinecolor\":\"white\",\"gridwidth\":2}},\"shapedefaults\":{\"line\":{\"color\":\"#2a3f5f\"}},\"annotationdefaults\":{\"arrowcolor\":\"#2a3f5f\",\"arrowhead\":0,\"arrowwidth\":1},\"geo\":{\"bgcolor\":\"white\",\"landcolor\":\"#E5ECF6\",\"subunitcolor\":\"white\",\"showland\":true,\"showlakes\":true,\"lakecolor\":\"white\"},\"title\":{\"x\":0.05},\"mapbox\":{\"style\":\"light\"}}},\"xaxis\":{\"anchor\":\"y\",\"domain\":[0.0,1.0]},\"yaxis\":{\"anchor\":\"x\",\"domain\":[0.0,1.0]},\"annotations\":[{\"font\":{\"size\":16},\"showarrow\":false,\"text\":\"D\",\"x\":0.5,\"xanchor\":\"center\",\"xref\":\"paper\",\"y\":1.0,\"yanchor\":\"bottom\",\"yref\":\"paper\"},{\"arrowhead\":3,\"showarrow\":true,\"text\":\"$\\\\mu : 0.15$\",\"x\":1648771200000000000,\"y\":0.152978079921261,\"yshift\":10}],\"shapes\":[{\"line\":{\"dash\":\"dash\"},\"type\":\"line\",\"x0\":0,\"x1\":1,\"xref\":\"x domain\",\"y0\":0.152978079921261,\"y1\":0.152978079921261,\"yref\":\"y\"}]},                        {\"responsive\": true}                    ).then(function(){\n",
       "                            \n",
       "var gd = document.getElementById('c190db40-8087-4d6e-bcdd-e02781349e96');\n",
       "var x = new MutationObserver(function (mutations, observer) {{\n",
       "        var display = window.getComputedStyle(gd).display;\n",
       "        if (!display || display === 'none') {{\n",
       "            console.log([gd, 'removed!']);\n",
       "            Plotly.purge(gd);\n",
       "            observer.disconnect();\n",
       "        }}\n",
       "}});\n",
       "\n",
       "// Listen for the removal of the full notebook cells\n",
       "var notebookContainer = gd.closest('#notebook-container');\n",
       "if (notebookContainer) {{\n",
       "    x.observe(notebookContainer, {childList: true});\n",
       "}}\n",
       "\n",
       "// Listen for the clearing of the current output cell\n",
       "var outputEl = gd.closest('.output');\n",
       "if (outputEl) {{\n",
       "    x.observe(outputEl, {childList: true});\n",
       "}}\n",
       "\n",
       "                        })                };                });            </script>        </div>"
      ]
     },
     "metadata": {},
     "output_type": "display_data"
    }
   ],
   "source": [
    "b_date_mean = df_tag.groupby(by='Date_Tweet').mean().reset_index()\n",
    "b_date_std = df_tag.groupby(by='Date_Tweet').std().reset_index()\n",
    "\n",
    "\n",
    "fig = make_subplots(rows=1, cols=1,shared_xaxes=True,subplot_titles=('Daily Average Sentiment'))\n",
    "\n",
    "fig.add_trace(\n",
    "    go.Scatter(x=b_date_mean['Date_Tweet'], y=b_date_mean['Compound Sentiment'],name='Sentiment Mean'),\n",
    "    row=1, col=1\n",
    ")\n",
    "\n",
    "    \n",
    "# mean\n",
    "fig.add_hline(y=b_date_mean['Compound Sentiment'].mean(), line_dash = 'dash', row=1, col=1)\n",
    "\n",
    "fig.add_annotation(x=b_date_mean['Date_Tweet'].values[3], y=b_date_mean['Compound Sentiment'].mean(),\n",
    "            text=r\"$\\mu : {:.2f}$\".format(b_date_mean['Compound Sentiment'].mean()),\n",
    "            showarrow=True,\n",
    "            arrowhead=3,\n",
    "            yshift=10)"
   ]
  },
  {
   "cell_type": "code",
   "execution_count": 129,
   "id": "9ccd8852",
   "metadata": {},
   "outputs": [
    {
     "data": {
      "text/plain": [
       "<AxesSubplot:xlabel='Date_Tweet'>"
      ]
     },
     "execution_count": 129,
     "metadata": {},
     "output_type": "execute_result"
    },
    {
     "data": {
      "image/png": "[encoded data removed]",
      "text/plain": [
       "<Figure size 936x648 with 1 Axes>"
      ]
     },
     "metadata": {},
     "output_type": "display_data"
    }
   ],
   "source": [
    "df_test.resample('D')['Compound Sentiment'].mean().plot()"
   ]
  },
  {
   "cell_type": "markdown",
   "id": "76cf4679",
   "metadata": {},
   "source": [
    "### 3.3 Geotagging"
   ]
  },
  {
   "cell_type": "code",
   "execution_count": 55,
   "id": "4adae020",
   "metadata": {
    "scrolled": false
   },
   "outputs": [
    {
     "data": {
      "application/vnd.plotly.v1+json": {
       "config": {
        "plotlyServerURL": "https://plot.ly"
       },
       "data": [
        {
         "alignmentgroup": "True",
         "hovertemplate": "x=%{x}<br>y=%{y}<extra></extra>",
         "legendgroup": "",
         "marker": {
          "color": "#636efa",
          "pattern": {
           "shape": ""
          }
         },
         "name": "",
         "offsetgroup": "",
         "orientation": "v",
         "showlegend": false,
         "textposition": "auto",
         "type": "bar",
         "x": [
          "Montréal, The Nation of Quebec",
          "Lafayette, Louisiana",
          "Not Financial Advice",
          "United States",
          "Bengaluru, India",
          "Solano County",
          "Undisclosed",
          "Linz, Austria",
          "Articles|Interviews|Exercises:",
          "DCA, SJU",
          "London, England",
          "Halifax, Nova Scotia",
          "Los Angeles, CA",
          "Katy, TX",
          "Rome, Roman Empire",
          "Medellin, Central Visayas",
          "Croton-on-Hudson, NY",
          "México",
          "Stoa Pecile"
         ],
         "xaxis": "x",
         "y": [
          390,
          260,
          223,
          217,
          165,
          126,
          125,
          111,
          106,
          101,
          80,
          77,
          76,
          75,
          70,
          69,
          67,
          64,
          59
         ],
         "yaxis": "y"
        }
       ],
       "layout": {
        "barmode": "relative",
        "legend": {
         "tracegroupgap": 0
        },
        "template": {
         "data": {
          "bar": [
           {
            "error_x": {
             "color": "#2a3f5f"
            },
            "error_y": {
             "color": "#2a3f5f"
            },
            "marker": {
             "line": {
              "color": "#E5ECF6",
              "width": 0.5
             },
             "pattern": {
              "fillmode": "overlay",
              "size": 10,
              "solidity": 0.2
             }
            },
            "type": "bar"
           }
          ],
          "barpolar": [
           {
            "marker": {
             "line": {
              "color": "#E5ECF6",
              "width": 0.5
             },
             "pattern": {
              "fillmode": "overlay",
              "size": 10,
              "solidity": 0.2
             }
            },
            "type": "barpolar"
           }
          ],
          "carpet": [
           {
            "aaxis": {
             "endlinecolor": "#2a3f5f",
             "gridcolor": "white",
             "linecolor": "white",
             "minorgridcolor": "white",
             "startlinecolor": "#2a3f5f"
            },
            "baxis": {
             "endlinecolor": "#2a3f5f",
             "gridcolor": "white",
             "linecolor": "white",
             "minorgridcolor": "white",
             "startlinecolor": "#2a3f5f"
            },
            "type": "carpet"
           }
          ],
          "choropleth": [
           {
            "colorbar": {
             "outlinewidth": 0,
             "ticks": ""
            },
            "type": "choropleth"
           }
          ],
          "contour": [
           {
            "colorbar": {
             "outlinewidth": 0,
             "ticks": ""
            },
            "colorscale": [
             [
              0,
              "#0d0887"
             ],
             [
              0.1111111111111111,
              "#46039f"
             ],
             [
              0.2222222222222222,
              "#7201a8"
             ],
             [
              0.3333333333333333,
              "#9c179e"
             ],
             [
              0.4444444444444444,
              "#bd3786"
             ],
             [
              0.5555555555555556,
              "#d8576b"
             ],
             [
              0.6666666666666666,
              "#ed7953"
             ],
             [
              0.7777777777777778,
              "#fb9f3a"
             ],
             [
              0.8888888888888888,
              "#fdca26"
             ],
             [
              1,
              "#f0f921"
             ]
            ],
            "type": "contour"
           }
          ],
          "contourcarpet": [
           {
            "colorbar": {
             "outlinewidth": 0,
             "ticks": ""
            },
            "type": "contourcarpet"
           }
          ],
          "heatmap": [
           {
            "colorbar": {
             "outlinewidth": 0,
             "ticks": ""
            },
            "colorscale": [
             [
              0,
              "#0d0887"
             ],
             [
              0.1111111111111111,
              "#46039f"
             ],
             [
              0.2222222222222222,
              "#7201a8"
             ],
             [
              0.3333333333333333,
              "#9c179e"
             ],
             [
              0.4444444444444444,
              "#bd3786"
             ],
             [
              0.5555555555555556,
              "#d8576b"
             ],
             [
              0.6666666666666666,
              "#ed7953"
             ],
             [
              0.7777777777777778,
              "#fb9f3a"
             ],
             [
              0.8888888888888888,
              "#fdca26"
             ],
             [
              1,
              "#f0f921"
             ]
            ],
            "type": "heatmap"
           }
          ],
          "heatmapgl": [
           {
            "colorbar": {
             "outlinewidth": 0,
             "ticks": ""
            },
            "colorscale": [
             [
              0,
              "#0d0887"
             ],
             [
              0.1111111111111111,
              "#46039f"
             ],
             [
              0.2222222222222222,
              "#7201a8"
             ],
             [
              0.3333333333333333,
              "#9c179e"
             ],
             [
              0.4444444444444444,
              "#bd3786"
             ],
             [
              0.5555555555555556,
              "#d8576b"
             ],
             [
              0.6666666666666666,
              "#ed7953"
             ],
             [
              0.7777777777777778,
              "#fb9f3a"
             ],
             [
              0.8888888888888888,
              "#fdca26"
             ],
             [
              1,
              "#f0f921"
             ]
            ],
            "type": "heatmapgl"
           }
          ],
          "histogram": [
           {
            "marker": {
             "pattern": {
              "fillmode": "overlay",
              "size": 10,
              "solidity": 0.2
             }
            },
            "type": "histogram"
           }
          ],
          "histogram2d": [
           {
            "colorbar": {
             "outlinewidth": 0,
             "ticks": ""
            },
            "colorscale": [
             [
              0,
              "#0d0887"
             ],
             [
              0.1111111111111111,
              "#46039f"
             ],
             [
              0.2222222222222222,
              "#7201a8"
             ],
             [
              0.3333333333333333,
              "#9c179e"
             ],
             [
              0.4444444444444444,
              "#bd3786"
             ],
             [
              0.5555555555555556,
              "#d8576b"
             ],
             [
              0.6666666666666666,
              "#ed7953"
             ],
             [
              0.7777777777777778,
              "#fb9f3a"
             ],
             [
              0.8888888888888888,
              "#fdca26"
             ],
             [
              1,
              "#f0f921"
             ]
            ],
            "type": "histogram2d"
           }
          ],
          "histogram2dcontour": [
           {
            "colorbar": {
             "outlinewidth": 0,
             "ticks": ""
            },
            "colorscale": [
             [
              0,
              "#0d0887"
             ],
             [
              0.1111111111111111,
              "#46039f"
             ],
             [
              0.2222222222222222,
              "#7201a8"
             ],
             [
              0.3333333333333333,
              "#9c179e"
             ],
             [
              0.4444444444444444,
              "#bd3786"
             ],
             [
              0.5555555555555556,
              "#d8576b"
             ],
             [
              0.6666666666666666,
              "#ed7953"
             ],
             [
              0.7777777777777778,
              "#fb9f3a"
             ],
             [
              0.8888888888888888,
              "#fdca26"
             ],
             [
              1,
              "#f0f921"
             ]
            ],
            "type": "histogram2dcontour"
           }
          ],
          "mesh3d": [
           {
            "colorbar": {
             "outlinewidth": 0,
             "ticks": ""
            },
            "type": "mesh3d"
           }
          ],
          "parcoords": [
           {
            "line": {
             "colorbar": {
              "outlinewidth": 0,
              "ticks": ""
             }
            },
            "type": "parcoords"
           }
          ],
          "pie": [
           {
            "automargin": true,
            "type": "pie"
           }
          ],
          "scatter": [
           {
            "fillpattern": {
             "fillmode": "overlay",
             "size": 10,
             "solidity": 0.2
            },
            "type": "scatter"
           }
          ],
          "scatter3d": [
           {
            "line": {
             "colorbar": {
              "outlinewidth": 0,
              "ticks": ""
             }
            },
            "marker": {
             "colorbar": {
              "outlinewidth": 0,
              "ticks": ""
             }
            },
            "type": "scatter3d"
           }
          ],
          "scattercarpet": [
           {
            "marker": {
             "colorbar": {
              "outlinewidth": 0,
              "ticks": ""
             }
            },
            "type": "scattercarpet"
           }
          ],
          "scattergeo": [
           {
            "marker": {
             "colorbar": {
              "outlinewidth": 0,
              "ticks": ""
             }
            },
            "type": "scattergeo"
           }
          ],
          "scattergl": [
           {
            "marker": {
             "colorbar": {
              "outlinewidth": 0,
              "ticks": ""
             }
            },
            "type": "scattergl"
           }
          ],
          "scattermapbox": [
           {
            "marker": {
             "colorbar": {
              "outlinewidth": 0,
              "ticks": ""
             }
            },
            "type": "scattermapbox"
           }
          ],
          "scatterpolar": [
           {
            "marker": {
             "colorbar": {
              "outlinewidth": 0,
              "ticks": ""
             }
            },
            "type": "scatterpolar"
           }
          ],
          "scatterpolargl": [
           {
            "marker": {
             "colorbar": {
              "outlinewidth": 0,
              "ticks": ""
             }
            },
            "type": "scatterpolargl"
           }
          ],
          "scatterternary": [
           {
            "marker": {
             "colorbar": {
              "outlinewidth": 0,
              "ticks": ""
             }
            },
            "type": "scatterternary"
           }
          ],
          "surface": [
           {
            "colorbar": {
             "outlinewidth": 0,
             "ticks": ""
            },
            "colorscale": [
             [
              0,
              "#0d0887"
             ],
             [
              0.1111111111111111,
              "#46039f"
             ],
             [
              0.2222222222222222,
              "#7201a8"
             ],
             [
              0.3333333333333333,
              "#9c179e"
             ],
             [
              0.4444444444444444,
              "#bd3786"
             ],
             [
              0.5555555555555556,
              "#d8576b"
             ],
             [
              0.6666666666666666,
              "#ed7953"
             ],
             [
              0.7777777777777778,
              "#fb9f3a"
             ],
             [
              0.8888888888888888,
              "#fdca26"
             ],
             [
              1,
              "#f0f921"
             ]
            ],
            "type": "surface"
           }
          ],
          "table": [
           {
            "cells": {
             "fill": {
              "color": "#EBF0F8"
             },
             "line": {
              "color": "white"
             }
            },
            "header": {
             "fill": {
              "color": "#C8D4E3"
             },
             "line": {
              "color": "white"
             }
            },
            "type": "table"
           }
          ]
         },
         "layout": {
          "annotationdefaults": {
           "arrowcolor": "#2a3f5f",
           "arrowhead": 0,
           "arrowwidth": 1
          },
          "autotypenumbers": "strict",
          "coloraxis": {
           "colorbar": {
            "outlinewidth": 0,
            "ticks": ""
           }
          },
          "colorscale": {
           "diverging": [
            [
             0,
             "#8e0152"
            ],
            [
             0.1,
             "#c51b7d"
            ],
            [
             0.2,
             "#de77ae"
            ],
            [
             0.3,
             "#f1b6da"
            ],
            [
             0.4,
             "#fde0ef"
            ],
            [
             0.5,
             "#f7f7f7"
            ],
            [
             0.6,
             "#e6f5d0"
            ],
            [
             0.7,
             "#b8e186"
            ],
            [
             0.8,
             "#7fbc41"
            ],
            [
             0.9,
             "#4d9221"
            ],
            [
             1,
             "#276419"
            ]
           ],
           "sequential": [
            [
             0,
             "#0d0887"
            ],
            [
             0.1111111111111111,
             "#46039f"
            ],
            [
             0.2222222222222222,
             "#7201a8"
            ],
            [
             0.3333333333333333,
             "#9c179e"
            ],
            [
             0.4444444444444444,
             "#bd3786"
            ],
            [
             0.5555555555555556,
             "#d8576b"
            ],
            [
             0.6666666666666666,
             "#ed7953"
            ],
            [
             0.7777777777777778,
             "#fb9f3a"
            ],
            [
             0.8888888888888888,
             "#fdca26"
            ],
            [
             1,
             "#f0f921"
            ]
           ],
           "sequentialminus": [
            [
             0,
             "#0d0887"
            ],
            [
             0.1111111111111111,
             "#46039f"
            ],
            [
             0.2222222222222222,
             "#7201a8"
            ],
            [
             0.3333333333333333,
             "#9c179e"
            ],
            [
             0.4444444444444444,
             "#bd3786"
            ],
            [
             0.5555555555555556,
             "#d8576b"
            ],
            [
             0.6666666666666666,
             "#ed7953"
            ],
            [
             0.7777777777777778,
             "#fb9f3a"
            ],
            [
             0.8888888888888888,
             "#fdca26"
            ],
            [
             1,
             "#f0f921"
            ]
           ]
          },
          "colorway": [
           "#636efa",
           "#EF553B",
           "#00cc96",
           "#ab63fa",
           "#FFA15A",
           "#19d3f3",
           "#FF6692",
           "#B6E880",
           "#FF97FF",
           "#FECB52"
          ],
          "font": {
           "color": "#2a3f5f"
          },
          "geo": {
           "bgcolor": "white",
           "lakecolor": "white",
           "landcolor": "#E5ECF6",
           "showlakes": true,
           "showland": true,
           "subunitcolor": "white"
          },
          "hoverlabel": {
           "align": "left"
          },
          "hovermode": "closest",
          "mapbox": {
           "style": "light"
          },
          "paper_bgcolor": "white",
          "plot_bgcolor": "#E5ECF6",
          "polar": {
           "angularaxis": {
            "gridcolor": "white",
            "linecolor": "white",
            "ticks": ""
           },
           "bgcolor": "#E5ECF6",
           "radialaxis": {
            "gridcolor": "white",
            "linecolor": "white",
            "ticks": ""
           }
          },
          "scene": {
           "xaxis": {
            "backgroundcolor": "#E5ECF6",
            "gridcolor": "white",
            "gridwidth": 2,
            "linecolor": "white",
            "showbackground": true,
            "ticks": "",
            "zerolinecolor": "white"
           },
           "yaxis": {
            "backgroundcolor": "#E5ECF6",
            "gridcolor": "white",
            "gridwidth": 2,
            "linecolor": "white",
            "showbackground": true,
            "ticks": "",
            "zerolinecolor": "white"
           },
           "zaxis": {
            "backgroundcolor": "#E5ECF6",
            "gridcolor": "white",
            "gridwidth": 2,
            "linecolor": "white",
            "showbackground": true,
            "ticks": "",
            "zerolinecolor": "white"
           }
          },
          "shapedefaults": {
           "line": {
            "color": "#2a3f5f"
           }
          },
          "ternary": {
           "aaxis": {
            "gridcolor": "white",
            "linecolor": "white",
            "ticks": ""
           },
           "baxis": {
            "gridcolor": "white",
            "linecolor": "white",
            "ticks": ""
           },
           "bgcolor": "#E5ECF6",
           "caxis": {
            "gridcolor": "white",
            "linecolor": "white",
            "ticks": ""
           }
          },
          "title": {
           "x": 0.05
          },
          "xaxis": {
           "automargin": true,
           "gridcolor": "white",
           "linecolor": "white",
           "ticks": "",
           "title": {
            "standoff": 15
           },
           "zerolinecolor": "white",
           "zerolinewidth": 2
          },
          "yaxis": {
           "automargin": true,
           "gridcolor": "white",
           "linecolor": "white",
           "ticks": "",
           "title": {
            "standoff": 15
           },
           "zerolinecolor": "white",
           "zerolinewidth": 2
          }
         }
        },
        "title": {
         "text": "Top 20 Locations Contributing to Stoicism"
        },
        "xaxis": {
         "anchor": "y",
         "domain": [
          0,
          1
         ],
         "title": {
          "text": "x"
         }
        },
        "yaxis": {
         "anchor": "x",
         "domain": [
          0,
          1
         ],
         "title": {
          "text": "y"
         }
        }
       }
      },
      "text/html": [
       "<div>                            <div id=\"61d26c6e-2a40-43af-87c4-883c757bd87d\" class=\"plotly-graph-div\" style=\"height:525px; width:100%;\"></div>            <script type=\"text/javascript\">                require([\"plotly\"], function(Plotly) {                    window.PLOTLYENV=window.PLOTLYENV || {};                                    if (document.getElementById(\"61d26c6e-2a40-43af-87c4-883c757bd87d\")) {                    Plotly.newPlot(                        \"61d26c6e-2a40-43af-87c4-883c757bd87d\",                        [{\"alignmentgroup\":\"True\",\"hovertemplate\":\"x=%{x}<br>y=%{y}<extra></extra>\",\"legendgroup\":\"\",\"marker\":{\"color\":\"#636efa\",\"pattern\":{\"shape\":\"\"}},\"name\":\"\",\"offsetgroup\":\"\",\"orientation\":\"v\",\"showlegend\":false,\"textposition\":\"auto\",\"x\":[\"Montr\\u00e9al, The Nation of Quebec\",\"Lafayette, Louisiana\",\"Not Financial Advice\",\"United States\",\"Bengaluru, India\",\"Solano County\",\"Undisclosed\",\"Linz, Austria\",\"Articles|Interviews|Exercises:\",\"DCA, SJU\",\"London, England\",\"Halifax, Nova Scotia\",\"Los Angeles, CA\",\"Katy, TX\",\"Rome, Roman Empire\",\"Medellin, Central Visayas\",\"Croton-on-Hudson, NY\",\"M\\u00e9xico\",\"Stoa Pecile\"],\"xaxis\":\"x\",\"y\":[390,260,223,217,165,126,125,111,106,101,80,77,76,75,70,69,67,64,59],\"yaxis\":\"y\",\"type\":\"bar\"}],                        {\"template\":{\"data\":{\"histogram2dcontour\":[{\"type\":\"histogram2dcontour\",\"colorbar\":{\"outlinewidth\":0,\"ticks\":\"\"},\"colorscale\":[[0.0,\"#0d0887\"],[0.1111111111111111,\"#46039f\"],[0.2222222222222222,\"#7201a8\"],[0.3333333333333333,\"#9c179e\"],[0.4444444444444444,\"#bd3786\"],[0.5555555555555556,\"#d8576b\"],[0.6666666666666666,\"#ed7953\"],[0.7777777777777778,\"#fb9f3a\"],[0.8888888888888888,\"#fdca26\"],[1.0,\"#f0f921\"]]}],\"choropleth\":[{\"type\":\"choropleth\",\"colorbar\":{\"outlinewidth\":0,\"ticks\":\"\"}}],\"histogram2d\":[{\"type\":\"histogram2d\",\"colorbar\":{\"outlinewidth\":0,\"ticks\":\"\"},\"colorscale\":[[0.0,\"#0d0887\"],[0.1111111111111111,\"#46039f\"],[0.2222222222222222,\"#7201a8\"],[0.3333333333333333,\"#9c179e\"],[0.4444444444444444,\"#bd3786\"],[0.5555555555555556,\"#d8576b\"],[0.6666666666666666,\"#ed7953\"],[0.7777777777777778,\"#fb9f3a\"],[0.8888888888888888,\"#fdca26\"],[1.0,\"#f0f921\"]]}],\"heatmap\":[{\"type\":\"heatmap\",\"colorbar\":{\"outlinewidth\":0,\"ticks\":\"\"},\"colorscale\":[[0.0,\"#0d0887\"],[0.1111111111111111,\"#46039f\"],[0.2222222222222222,\"#7201a8\"],[0.3333333333333333,\"#9c179e\"],[0.4444444444444444,\"#bd3786\"],[0.5555555555555556,\"#d8576b\"],[0.6666666666666666,\"#ed7953\"],[0.7777777777777778,\"#fb9f3a\"],[0.8888888888888888,\"#fdca26\"],[1.0,\"#f0f921\"]]}],\"heatmapgl\":[{\"type\":\"heatmapgl\",\"colorbar\":{\"outlinewidth\":0,\"ticks\":\"\"},\"colorscale\":[[0.0,\"#0d0887\"],[0.1111111111111111,\"#46039f\"],[0.2222222222222222,\"#7201a8\"],[0.3333333333333333,\"#9c179e\"],[0.4444444444444444,\"#bd3786\"],[0.5555555555555556,\"#d8576b\"],[0.6666666666666666,\"#ed7953\"],[0.7777777777777778,\"#fb9f3a\"],[0.8888888888888888,\"#fdca26\"],[1.0,\"#f0f921\"]]}],\"contourcarpet\":[{\"type\":\"contourcarpet\",\"colorbar\":{\"outlinewidth\":0,\"ticks\":\"\"}}],\"contour\":[{\"type\":\"contour\",\"colorbar\":{\"outlinewidth\":0,\"ticks\":\"\"},\"colorscale\":[[0.0,\"#0d0887\"],[0.1111111111111111,\"#46039f\"],[0.2222222222222222,\"#7201a8\"],[0.3333333333333333,\"#9c179e\"],[0.4444444444444444,\"#bd3786\"],[0.5555555555555556,\"#d8576b\"],[0.6666666666666666,\"#ed7953\"],[0.7777777777777778,\"#fb9f3a\"],[0.8888888888888888,\"#fdca26\"],[1.0,\"#f0f921\"]]}],\"surface\":[{\"type\":\"surface\",\"colorbar\":{\"outlinewidth\":0,\"ticks\":\"\"},\"colorscale\":[[0.0,\"#0d0887\"],[0.1111111111111111,\"#46039f\"],[0.2222222222222222,\"#7201a8\"],[0.3333333333333333,\"#9c179e\"],[0.4444444444444444,\"#bd3786\"],[0.5555555555555556,\"#d8576b\"],[0.6666666666666666,\"#ed7953\"],[0.7777777777777778,\"#fb9f3a\"],[0.8888888888888888,\"#fdca26\"],[1.0,\"#f0f921\"]]}],\"mesh3d\":[{\"type\":\"mesh3d\",\"colorbar\":{\"outlinewidth\":0,\"ticks\":\"\"}}],\"scatter\":[{\"fillpattern\":{\"fillmode\":\"overlay\",\"size\":10,\"solidity\":0.2},\"type\":\"scatter\"}],\"parcoords\":[{\"type\":\"parcoords\",\"line\":{\"colorbar\":{\"outlinewidth\":0,\"ticks\":\"\"}}}],\"scatterpolargl\":[{\"type\":\"scatterpolargl\",\"marker\":{\"colorbar\":{\"outlinewidth\":0,\"ticks\":\"\"}}}],\"bar\":[{\"error_x\":{\"color\":\"#2a3f5f\"},\"error_y\":{\"color\":\"#2a3f5f\"},\"marker\":{\"line\":{\"color\":\"#E5ECF6\",\"width\":0.5},\"pattern\":{\"fillmode\":\"overlay\",\"size\":10,\"solidity\":0.2}},\"type\":\"bar\"}],\"scattergeo\":[{\"type\":\"scattergeo\",\"marker\":{\"colorbar\":{\"outlinewidth\":0,\"ticks\":\"\"}}}],\"scatterpolar\":[{\"type\":\"scatterpolar\",\"marker\":{\"colorbar\":{\"outlinewidth\":0,\"ticks\":\"\"}}}],\"histogram\":[{\"marker\":{\"pattern\":{\"fillmode\":\"overlay\",\"size\":10,\"solidity\":0.2}},\"type\":\"histogram\"}],\"scattergl\":[{\"type\":\"scattergl\",\"marker\":{\"colorbar\":{\"outlinewidth\":0,\"ticks\":\"\"}}}],\"scatter3d\":[{\"type\":\"scatter3d\",\"line\":{\"colorbar\":{\"outlinewidth\":0,\"ticks\":\"\"}},\"marker\":{\"colorbar\":{\"outlinewidth\":0,\"ticks\":\"\"}}}],\"scattermapbox\":[{\"type\":\"scattermapbox\",\"marker\":{\"colorbar\":{\"outlinewidth\":0,\"ticks\":\"\"}}}],\"scatterternary\":[{\"type\":\"scatterternary\",\"marker\":{\"colorbar\":{\"outlinewidth\":0,\"ticks\":\"\"}}}],\"scattercarpet\":[{\"type\":\"scattercarpet\",\"marker\":{\"colorbar\":{\"outlinewidth\":0,\"ticks\":\"\"}}}],\"carpet\":[{\"aaxis\":{\"endlinecolor\":\"#2a3f5f\",\"gridcolor\":\"white\",\"linecolor\":\"white\",\"minorgridcolor\":\"white\",\"startlinecolor\":\"#2a3f5f\"},\"baxis\":{\"endlinecolor\":\"#2a3f5f\",\"gridcolor\":\"white\",\"linecolor\":\"white\",\"minorgridcolor\":\"white\",\"startlinecolor\":\"#2a3f5f\"},\"type\":\"carpet\"}],\"table\":[{\"cells\":{\"fill\":{\"color\":\"#EBF0F8\"},\"line\":{\"color\":\"white\"}},\"header\":{\"fill\":{\"color\":\"#C8D4E3\"},\"line\":{\"color\":\"white\"}},\"type\":\"table\"}],\"barpolar\":[{\"marker\":{\"line\":{\"color\":\"#E5ECF6\",\"width\":0.5},\"pattern\":{\"fillmode\":\"overlay\",\"size\":10,\"solidity\":0.2}},\"type\":\"barpolar\"}],\"pie\":[{\"automargin\":true,\"type\":\"pie\"}]},\"layout\":{\"autotypenumbers\":\"strict\",\"colorway\":[\"#636efa\",\"#EF553B\",\"#00cc96\",\"#ab63fa\",\"#FFA15A\",\"#19d3f3\",\"#FF6692\",\"#B6E880\",\"#FF97FF\",\"#FECB52\"],\"font\":{\"color\":\"#2a3f5f\"},\"hovermode\":\"closest\",\"hoverlabel\":{\"align\":\"left\"},\"paper_bgcolor\":\"white\",\"plot_bgcolor\":\"#E5ECF6\",\"polar\":{\"bgcolor\":\"#E5ECF6\",\"angularaxis\":{\"gridcolor\":\"white\",\"linecolor\":\"white\",\"ticks\":\"\"},\"radialaxis\":{\"gridcolor\":\"white\",\"linecolor\":\"white\",\"ticks\":\"\"}},\"ternary\":{\"bgcolor\":\"#E5ECF6\",\"aaxis\":{\"gridcolor\":\"white\",\"linecolor\":\"white\",\"ticks\":\"\"},\"baxis\":{\"gridcolor\":\"white\",\"linecolor\":\"white\",\"ticks\":\"\"},\"caxis\":{\"gridcolor\":\"white\",\"linecolor\":\"white\",\"ticks\":\"\"}},\"coloraxis\":{\"colorbar\":{\"outlinewidth\":0,\"ticks\":\"\"}},\"colorscale\":{\"sequential\":[[0.0,\"#0d0887\"],[0.1111111111111111,\"#46039f\"],[0.2222222222222222,\"#7201a8\"],[0.3333333333333333,\"#9c179e\"],[0.4444444444444444,\"#bd3786\"],[0.5555555555555556,\"#d8576b\"],[0.6666666666666666,\"#ed7953\"],[0.7777777777777778,\"#fb9f3a\"],[0.8888888888888888,\"#fdca26\"],[1.0,\"#f0f921\"]],\"sequentialminus\":[[0.0,\"#0d0887\"],[0.1111111111111111,\"#46039f\"],[0.2222222222222222,\"#7201a8\"],[0.3333333333333333,\"#9c179e\"],[0.4444444444444444,\"#bd3786\"],[0.5555555555555556,\"#d8576b\"],[0.6666666666666666,\"#ed7953\"],[0.7777777777777778,\"#fb9f3a\"],[0.8888888888888888,\"#fdca26\"],[1.0,\"#f0f921\"]],\"diverging\":[[0,\"#8e0152\"],[0.1,\"#c51b7d\"],[0.2,\"#de77ae\"],[0.3,\"#f1b6da\"],[0.4,\"#fde0ef\"],[0.5,\"#f7f7f7\"],[0.6,\"#e6f5d0\"],[0.7,\"#b8e186\"],[0.8,\"#7fbc41\"],[0.9,\"#4d9221\"],[1,\"#276419\"]]},\"xaxis\":{\"gridcolor\":\"white\",\"linecolor\":\"white\",\"ticks\":\"\",\"title\":{\"standoff\":15},\"zerolinecolor\":\"white\",\"automargin\":true,\"zerolinewidth\":2},\"yaxis\":{\"gridcolor\":\"white\",\"linecolor\":\"white\",\"ticks\":\"\",\"title\":{\"standoff\":15},\"zerolinecolor\":\"white\",\"automargin\":true,\"zerolinewidth\":2},\"scene\":{\"xaxis\":{\"backgroundcolor\":\"#E5ECF6\",\"gridcolor\":\"white\",\"linecolor\":\"white\",\"showbackground\":true,\"ticks\":\"\",\"zerolinecolor\":\"white\",\"gridwidth\":2},\"yaxis\":{\"backgroundcolor\":\"#E5ECF6\",\"gridcolor\":\"white\",\"linecolor\":\"white\",\"showbackground\":true,\"ticks\":\"\",\"zerolinecolor\":\"white\",\"gridwidth\":2},\"zaxis\":{\"backgroundcolor\":\"#E5ECF6\",\"gridcolor\":\"white\",\"linecolor\":\"white\",\"showbackground\":true,\"ticks\":\"\",\"zerolinecolor\":\"white\",\"gridwidth\":2}},\"shapedefaults\":{\"line\":{\"color\":\"#2a3f5f\"}},\"annotationdefaults\":{\"arrowcolor\":\"#2a3f5f\",\"arrowhead\":0,\"arrowwidth\":1},\"geo\":{\"bgcolor\":\"white\",\"landcolor\":\"#E5ECF6\",\"subunitcolor\":\"white\",\"showland\":true,\"showlakes\":true,\"lakecolor\":\"white\"},\"title\":{\"x\":0.05},\"mapbox\":{\"style\":\"light\"}}},\"xaxis\":{\"anchor\":\"y\",\"domain\":[0.0,1.0],\"title\":{\"text\":\"x\"}},\"yaxis\":{\"anchor\":\"x\",\"domain\":[0.0,1.0],\"title\":{\"text\":\"y\"}},\"legend\":{\"tracegroupgap\":0},\"title\":{\"text\":\"Top 20 Locations Contributing to Stoicism\"},\"barmode\":\"relative\"},                        {\"responsive\": true}                    ).then(function(){\n",
       "                            \n",
       "var gd = document.getElementById('61d26c6e-2a40-43af-87c4-883c757bd87d');\n",
       "var x = new MutationObserver(function (mutations, observer) {{\n",
       "        var display = window.getComputedStyle(gd).display;\n",
       "        if (!display || display === 'none') {{\n",
       "            console.log([gd, 'removed!']);\n",
       "            Plotly.purge(gd);\n",
       "            observer.disconnect();\n",
       "        }}\n",
       "}});\n",
       "\n",
       "// Listen for the removal of the full notebook cells\n",
       "var notebookContainer = gd.closest('#notebook-container');\n",
       "if (notebookContainer) {{\n",
       "    x.observe(notebookContainer, {childList: true});\n",
       "}}\n",
       "\n",
       "// Listen for the clearing of the current output cell\n",
       "var outputEl = gd.closest('.output');\n",
       "if (outputEl) {{\n",
       "    x.observe(outputEl, {childList: true});\n",
       "}}\n",
       "\n",
       "                        })                };                });            </script>        </div>"
      ]
     },
     "metadata": {},
     "output_type": "display_data"
    }
   ],
   "source": [
    "# 2948 tweets have no location\n",
    "fig = ex.bar(x=df_tag.User_Location.value_counts()[1:20].index, y=df_tag.User_Location.value_counts()[1:20].values, \n",
    "             title='Top 20 Locations Contributing to Stoicism')\n",
    "fig.show()"
   ]
  },
  {
   "cell_type": "markdown",
   "id": "615acfe5",
   "metadata": {},
   "source": [
    "## 4. Topic Model"
   ]
  },
  {
   "cell_type": "code",
   "execution_count": 56,
   "id": "9aa739ce",
   "metadata": {},
   "outputs": [
    {
     "name": "stderr",
     "output_type": "stream",
     "text": [
      "2022-12-02 20:40:54.674277: I tensorflow/core/platform/cpu_feature_guard.cc:193] This TensorFlow binary is optimized with oneAPI Deep Neural Network Library (oneDNN) to use the following CPU instructions in performance-critical operations:  AVX2 FMA\n",
      "To enable them in other operations, rebuild TensorFlow with the appropriate compiler flags.\n"
     ]
    }
   ],
   "source": [
    "# more NLP packages\n",
    "import spacy\n",
    "import gensim\n",
    "from spacy.tokenizer import Tokenizer\n",
    "from gensim.corpora import Dictionary\n",
    "from gensim.models.ldamulticore import LdaMulticore\n",
    "from gensim.models.coherencemodel import CoherenceModel\n",
    "from gensim.parsing.preprocessing import STOPWORDS as SW\n",
    "from sklearn.decomposition import LatentDirichletAllocation, TruncatedSVD\n",
    "from sklearn.feature_extraction.text import CountVectorizer, TfidfVectorizer\n",
    "from sklearn.model_selection import GridSearchCV\n",
    "from pprint import pprint\n",
    "from wordcloud import STOPWORDS\n",
    "stopwords = set(STOPWORDS)\n",
    "\n",
    "# more data viz packages\n",
    "import pyLDAvis.gensim_models\n",
    "import chart_studio\n",
    "import chart_studio.plotly as py \n",
    "import chart_studio.tools as tls"
   ]
  },
  {
   "cell_type": "code",
   "execution_count": 57,
   "id": "bb86c0cc",
   "metadata": {},
   "outputs": [
    {
     "data": {
      "text/html": [
       "<div>\n",
       "<style scoped>\n",
       "    .dataframe tbody tr th:only-of-type {\n",
       "        vertical-align: middle;\n",
       "    }\n",
       "\n",
       "    .dataframe tbody tr th {\n",
       "        vertical-align: top;\n",
       "    }\n",
       "\n",
       "    .dataframe thead th {\n",
       "        text-align: right;\n",
       "    }\n",
       "</style>\n",
       "<table border=\"1\" class=\"dataframe\">\n",
       "  <thead>\n",
       "    <tr style=\"text-align: right;\">\n",
       "      <th></th>\n",
       "      <th>tweets</th>\n",
       "    </tr>\n",
       "  </thead>\n",
       "  <tbody>\n",
       "    <tr>\n",
       "      <th>10000</th>\n",
       "      <td>It takes the whole of life to learn how to liv...</td>\n",
       "    </tr>\n",
       "    <tr>\n",
       "      <th>9983</th>\n",
       "      <td>Stoicism is designed to be the medicine of the...</td>\n",
       "    </tr>\n",
       "    <tr>\n",
       "      <th>9990</th>\n",
       "      <td>Tranquility Believing in yourself and trusting...</td>\n",
       "    </tr>\n",
       "    <tr>\n",
       "      <th>9999</th>\n",
       "      <td>Complaints aredirect result of oneexpectations</td>\n",
       "    </tr>\n",
       "    <tr>\n",
       "      <th>9998</th>\n",
       "      <td>If you donregard what you have as enough you w...</td>\n",
       "    </tr>\n",
       "  </tbody>\n",
       "</table>\n",
       "</div>"
      ],
      "text/plain": [
       "                                                  tweets\n",
       "10000  It takes the whole of life to learn how to liv...\n",
       "9983   Stoicism is designed to be the medicine of the...\n",
       "9990   Tranquility Believing in yourself and trusting...\n",
       "9999      Complaints aredirect result of oneexpectations\n",
       "9998   If you donregard what you have as enough you w..."
      ]
     },
     "execution_count": 57,
     "metadata": {},
     "output_type": "execute_result"
    }
   ],
   "source": [
    "# new df with just tweets\n",
    "df = pd.DataFrame()\n",
    "df['tweets'] = df_tag['Tweet']\n",
    "# df = df.reset_index()\n",
    "df.head()"
   ]
  },
  {
   "cell_type": "code",
   "execution_count": 58,
   "id": "826c81a2",
   "metadata": {},
   "outputs": [],
   "source": [
    "# load in spacy (pre-trained NLP model able to figure out relationships between words)\n",
    "nlp = spacy.load('en_core_web_lg')"
   ]
  },
  {
   "cell_type": "code",
   "execution_count": 59,
   "id": "b8814ae0",
   "metadata": {
    "scrolled": true
   },
   "outputs": [
    {
     "data": {
      "text/html": [
       "<div>\n",
       "<style scoped>\n",
       "    .dataframe tbody tr th:only-of-type {\n",
       "        vertical-align: middle;\n",
       "    }\n",
       "\n",
       "    .dataframe tbody tr th {\n",
       "        vertical-align: top;\n",
       "    }\n",
       "\n",
       "    .dataframe thead th {\n",
       "        text-align: right;\n",
       "    }\n",
       "</style>\n",
       "<table border=\"1\" class=\"dataframe\">\n",
       "  <thead>\n",
       "    <tr style=\"text-align: right;\">\n",
       "      <th></th>\n",
       "      <th>tweets</th>\n",
       "      <th>tokens</th>\n",
       "    </tr>\n",
       "  </thead>\n",
       "  <tbody>\n",
       "    <tr>\n",
       "      <th>10000</th>\n",
       "      <td>It takes the whole of life to learn how to liv...</td>\n",
       "      <td>[takes, life, learn, live, takes, life, learn,...</td>\n",
       "    </tr>\n",
       "    <tr>\n",
       "      <th>9983</th>\n",
       "      <td>Stoicism is designed to be the medicine of the...</td>\n",
       "      <td>[stoicism, designed, medicine, soul, relieves,...</td>\n",
       "    </tr>\n",
       "    <tr>\n",
       "      <th>9990</th>\n",
       "      <td>Tranquility Believing in yourself and trusting...</td>\n",
       "      <td>[tranquility, believing, trusting, right, path...</td>\n",
       "    </tr>\n",
       "    <tr>\n",
       "      <th>9999</th>\n",
       "      <td>Complaints aredirect result of oneexpectations</td>\n",
       "      <td>[complaints, aredirect, result, oneexpectations]</td>\n",
       "    </tr>\n",
       "    <tr>\n",
       "      <th>9998</th>\n",
       "      <td>If you donregard what you have as enough you w...</td>\n",
       "      <td>[donregard, happy, rule, entire, world, person...</td>\n",
       "    </tr>\n",
       "  </tbody>\n",
       "</table>\n",
       "</div>"
      ],
      "text/plain": [
       "                                                  tweets  \\\n",
       "10000  It takes the whole of life to learn how to liv...   \n",
       "9983   Stoicism is designed to be the medicine of the...   \n",
       "9990   Tranquility Believing in yourself and trusting...   \n",
       "9999      Complaints aredirect result of oneexpectations   \n",
       "9998   If you donregard what you have as enough you w...   \n",
       "\n",
       "                                                  tokens  \n",
       "10000  [takes, life, learn, live, takes, life, learn,...  \n",
       "9983   [stoicism, designed, medicine, soul, relieves,...  \n",
       "9990   [tranquility, believing, trusting, right, path...  \n",
       "9999    [complaints, aredirect, result, oneexpectations]  \n",
       "9998   [donregard, happy, rule, entire, world, person...  "
      ]
     },
     "execution_count": 59,
     "metadata": {},
     "output_type": "execute_result"
    }
   ],
   "source": [
    "# tokenize\n",
    "tokenizer = Tokenizer(nlp.vocab)\n",
    "\n",
    "\n",
    "# Custom stopwords\n",
    "custom_stopwords = ['hi','\\n','\\n\\n', '&', ' ', '.', '-', 'got', \"it's\", 'it’s', \"i'm\", 'i’m', 'im', 'want', 'like', '$', '@']\n",
    "\n",
    "# Customize stop words by adding to the default list\n",
    "STOP_WORDS = nlp.Defaults.stop_words.union(custom_stopwords)\n",
    "\n",
    "# ALL_STOP_WORDS = spacy + gensim + wordcloud\n",
    "ALL_STOP_WORDS = STOP_WORDS.union(SW).union(stopwords)\n",
    "\n",
    "\n",
    "tokens = []\n",
    "\n",
    "for doc in tokenizer.pipe(df['tweets'], batch_size=500):\n",
    "    doc_tokens = []    \n",
    "    for token in doc: \n",
    "        if token.text.lower() not in STOP_WORDS:\n",
    "            doc_tokens.append(token.text.lower())   \n",
    "    tokens.append(doc_tokens)\n",
    "\n",
    "# Makes tokens column\n",
    "df['tokens'] = tokens\n",
    "df.head()"
   ]
  },
  {
   "cell_type": "code",
   "execution_count": 60,
   "id": "cc3a65b9",
   "metadata": {},
   "outputs": [
    {
     "data": {
      "text/html": [
       "<div>\n",
       "<style scoped>\n",
       "    .dataframe tbody tr th:only-of-type {\n",
       "        vertical-align: middle;\n",
       "    }\n",
       "\n",
       "    .dataframe tbody tr th {\n",
       "        vertical-align: top;\n",
       "    }\n",
       "\n",
       "    .dataframe thead th {\n",
       "        text-align: right;\n",
       "    }\n",
       "</style>\n",
       "<table border=\"1\" class=\"dataframe\">\n",
       "  <thead>\n",
       "    <tr style=\"text-align: right;\">\n",
       "      <th></th>\n",
       "      <th>tweets</th>\n",
       "      <th>tokens</th>\n",
       "      <th>tokens_back_to_text</th>\n",
       "      <th>lemmas</th>\n",
       "    </tr>\n",
       "  </thead>\n",
       "  <tbody>\n",
       "    <tr>\n",
       "      <th>10000</th>\n",
       "      <td>It takes the whole of life to learn how to liv...</td>\n",
       "      <td>[takes, life, learn, live, takes, life, learn,...</td>\n",
       "      <td>takes life learn live takes life learn die luc...</td>\n",
       "      <td>[take, life, learn, live, take, life, learn, d...</td>\n",
       "    </tr>\n",
       "    <tr>\n",
       "      <th>9983</th>\n",
       "      <td>Stoicism is designed to be the medicine of the...</td>\n",
       "      <td>[stoicism, designed, medicine, soul, relieves,...</td>\n",
       "      <td>stoicism designed medicine soul relieves vulne...</td>\n",
       "      <td>[stoicism, design, medicine, soul, relieve, vu...</td>\n",
       "    </tr>\n",
       "    <tr>\n",
       "      <th>9990</th>\n",
       "      <td>Tranquility Believing in yourself and trusting...</td>\n",
       "      <td>[tranquility, believing, trusting, right, path...</td>\n",
       "      <td>tranquility believing trusting right path doub...</td>\n",
       "      <td>[tranquility, believe, trust, right, path, dou...</td>\n",
       "    </tr>\n",
       "    <tr>\n",
       "      <th>9999</th>\n",
       "      <td>Complaints aredirect result of oneexpectations</td>\n",
       "      <td>[complaints, aredirect, result, oneexpectations]</td>\n",
       "      <td>complaints aredirect result oneexpectations</td>\n",
       "      <td>[complaint, aredirect, result, oneexpectation]</td>\n",
       "    </tr>\n",
       "    <tr>\n",
       "      <th>9998</th>\n",
       "      <td>If you donregard what you have as enough you w...</td>\n",
       "      <td>[donregard, happy, rule, entire, world, person...</td>\n",
       "      <td>donregard happy rule entire world person littl...</td>\n",
       "      <td>[donregard, happy, rule, entire, world, person...</td>\n",
       "    </tr>\n",
       "  </tbody>\n",
       "</table>\n",
       "</div>"
      ],
      "text/plain": [
       "                                                  tweets  \\\n",
       "10000  It takes the whole of life to learn how to liv...   \n",
       "9983   Stoicism is designed to be the medicine of the...   \n",
       "9990   Tranquility Believing in yourself and trusting...   \n",
       "9999      Complaints aredirect result of oneexpectations   \n",
       "9998   If you donregard what you have as enough you w...   \n",
       "\n",
       "                                                  tokens  \\\n",
       "10000  [takes, life, learn, live, takes, life, learn,...   \n",
       "9983   [stoicism, designed, medicine, soul, relieves,...   \n",
       "9990   [tranquility, believing, trusting, right, path...   \n",
       "9999    [complaints, aredirect, result, oneexpectations]   \n",
       "9998   [donregard, happy, rule, entire, world, person...   \n",
       "\n",
       "                                     tokens_back_to_text  \\\n",
       "10000  takes life learn live takes life learn die luc...   \n",
       "9983   stoicism designed medicine soul relieves vulne...   \n",
       "9990   tranquility believing trusting right path doub...   \n",
       "9999         complaints aredirect result oneexpectations   \n",
       "9998   donregard happy rule entire world person littl...   \n",
       "\n",
       "                                                  lemmas  \n",
       "10000  [take, life, learn, live, take, life, learn, d...  \n",
       "9983   [stoicism, design, medicine, soul, relieve, vu...  \n",
       "9990   [tranquility, believe, trust, right, path, dou...  \n",
       "9999      [complaint, aredirect, result, oneexpectation]  \n",
       "9998   [donregard, happy, rule, entire, world, person...  "
      ]
     },
     "execution_count": 60,
     "metadata": {},
     "output_type": "execute_result"
    }
   ],
   "source": [
    "# lemmatization\n",
    "# Make tokens a string again\n",
    "df['tokens_back_to_text'] = [' '.join(map(str, l)) for l in df['tokens']]\n",
    "\n",
    "def get_lemmas(text):\n",
    "    '''Used to lemmatize the processed tweets'''\n",
    "    lemmas = []\n",
    "    \n",
    "    doc = nlp(text)\n",
    "    \n",
    "    # Something goes here :P\n",
    "    for token in doc: \n",
    "        if ((token.is_stop == False) and (token.is_punct == False)) and (token.pos_ != 'PRON'):\n",
    "            lemmas.append(token.lemma_)\n",
    "    \n",
    "    return lemmas\n",
    "\n",
    "df['lemmas'] = df['tokens_back_to_text'].apply(get_lemmas)\n",
    "df.head()"
   ]
  },
  {
   "cell_type": "code",
   "execution_count": 66,
   "id": "649f7910",
   "metadata": {},
   "outputs": [
    {
     "data": {
      "text/html": [
       "<div>\n",
       "<style scoped>\n",
       "    .dataframe tbody tr th:only-of-type {\n",
       "        vertical-align: middle;\n",
       "    }\n",
       "\n",
       "    .dataframe tbody tr th {\n",
       "        vertical-align: top;\n",
       "    }\n",
       "\n",
       "    .dataframe thead th {\n",
       "        text-align: right;\n",
       "    }\n",
       "</style>\n",
       "<table border=\"1\" class=\"dataframe\">\n",
       "  <thead>\n",
       "    <tr style=\"text-align: right;\">\n",
       "      <th></th>\n",
       "      <th>tweets</th>\n",
       "      <th>tokens</th>\n",
       "      <th>tokens_back_to_text</th>\n",
       "      <th>lemmas</th>\n",
       "      <th>lemmas_back_to_text</th>\n",
       "      <th>lemma_tokens</th>\n",
       "    </tr>\n",
       "  </thead>\n",
       "  <tbody>\n",
       "    <tr>\n",
       "      <th>10000</th>\n",
       "      <td>It takes the whole of life to learn how to liv...</td>\n",
       "      <td>[takes, life, learn, live, takes, life, learn,...</td>\n",
       "      <td>takes life learn live takes life learn die luc...</td>\n",
       "      <td>[take, life, learn, live, take, life, learn, d...</td>\n",
       "      <td>take life learn live take life learn die luciu...</td>\n",
       "      <td>[take, life, learn, live, take, life, learn, d...</td>\n",
       "    </tr>\n",
       "    <tr>\n",
       "      <th>9983</th>\n",
       "      <td>Stoicism is designed to be the medicine of the...</td>\n",
       "      <td>[stoicism, designed, medicine, soul, relieves,...</td>\n",
       "      <td>stoicism designed medicine soul relieves vulne...</td>\n",
       "      <td>[stoicism, design, medicine, soul, relieve, vu...</td>\n",
       "      <td>stoicism design medicine soul relieve vulnerab...</td>\n",
       "      <td>[stoicism, design, medicine, soul, relieve, vu...</td>\n",
       "    </tr>\n",
       "    <tr>\n",
       "      <th>9990</th>\n",
       "      <td>Tranquility Believing in yourself and trusting...</td>\n",
       "      <td>[tranquility, believing, trusting, right, path...</td>\n",
       "      <td>tranquility believing trusting right path doub...</td>\n",
       "      <td>[tranquility, believe, trust, right, path, dou...</td>\n",
       "      <td>tranquility believe trust right path doubtampa...</td>\n",
       "      <td>[tranquility, believe, trust, right, path, dou...</td>\n",
       "    </tr>\n",
       "    <tr>\n",
       "      <th>9999</th>\n",
       "      <td>Complaints aredirect result of oneexpectations</td>\n",
       "      <td>[complaints, aredirect, result, oneexpectations]</td>\n",
       "      <td>complaints aredirect result oneexpectations</td>\n",
       "      <td>[complaint, aredirect, result, oneexpectation]</td>\n",
       "      <td>complaint aredirect result oneexpectation</td>\n",
       "      <td>[complaint, aredirect, result, oneexpectation]</td>\n",
       "    </tr>\n",
       "    <tr>\n",
       "      <th>9998</th>\n",
       "      <td>If you donregard what you have as enough you w...</td>\n",
       "      <td>[donregard, happy, rule, entire, world, person...</td>\n",
       "      <td>donregard happy rule entire world person littl...</td>\n",
       "      <td>[donregard, happy, rule, entire, world, person...</td>\n",
       "      <td>donregard happy rule entire world person littl...</td>\n",
       "      <td>[donregard, happy, rule, entire, world, person...</td>\n",
       "    </tr>\n",
       "  </tbody>\n",
       "</table>\n",
       "</div>"
      ],
      "text/plain": [
       "                                                  tweets  \\\n",
       "10000  It takes the whole of life to learn how to liv...   \n",
       "9983   Stoicism is designed to be the medicine of the...   \n",
       "9990   Tranquility Believing in yourself and trusting...   \n",
       "9999      Complaints aredirect result of oneexpectations   \n",
       "9998   If you donregard what you have as enough you w...   \n",
       "\n",
       "                                                  tokens  \\\n",
       "10000  [takes, life, learn, live, takes, life, learn,...   \n",
       "9983   [stoicism, designed, medicine, soul, relieves,...   \n",
       "9990   [tranquility, believing, trusting, right, path...   \n",
       "9999    [complaints, aredirect, result, oneexpectations]   \n",
       "9998   [donregard, happy, rule, entire, world, person...   \n",
       "\n",
       "                                     tokens_back_to_text  \\\n",
       "10000  takes life learn live takes life learn die luc...   \n",
       "9983   stoicism designed medicine soul relieves vulne...   \n",
       "9990   tranquility believing trusting right path doub...   \n",
       "9999         complaints aredirect result oneexpectations   \n",
       "9998   donregard happy rule entire world person littl...   \n",
       "\n",
       "                                                  lemmas  \\\n",
       "10000  [take, life, learn, live, take, life, learn, d...   \n",
       "9983   [stoicism, design, medicine, soul, relieve, vu...   \n",
       "9990   [tranquility, believe, trust, right, path, dou...   \n",
       "9999      [complaint, aredirect, result, oneexpectation]   \n",
       "9998   [donregard, happy, rule, entire, world, person...   \n",
       "\n",
       "                                     lemmas_back_to_text  \\\n",
       "10000  take life learn live take life learn die luciu...   \n",
       "9983   stoicism design medicine soul relieve vulnerab...   \n",
       "9990   tranquility believe trust right path doubtampa...   \n",
       "9999           complaint aredirect result oneexpectation   \n",
       "9998   donregard happy rule entire world person littl...   \n",
       "\n",
       "                                            lemma_tokens  \n",
       "10000  [take, life, learn, live, take, life, learn, d...  \n",
       "9983   [stoicism, design, medicine, soul, relieve, vu...  \n",
       "9990   [tranquility, believe, trust, right, path, dou...  \n",
       "9999      [complaint, aredirect, result, oneexpectation]  \n",
       "9998   [donregard, happy, rule, entire, world, person...  "
      ]
     },
     "execution_count": 66,
     "metadata": {},
     "output_type": "execute_result"
    }
   ],
   "source": [
    "# Make lemmas a string again\n",
    "df['lemmas_back_to_text'] = [' '.join(map(str, l)) for l in df['lemmas']]\n",
    "\n",
    "# Tokenizer function\n",
    "def tokenize(text):\n",
    "    \"\"\"\n",
    "    Parses a string into a list of semantic units (words)\n",
    "    Args:\n",
    "        text (str): The string that the function will tokenize.\n",
    "    Returns:\n",
    "        list: tokens parsed out\n",
    "    \"\"\"\n",
    "    # Removing url's\n",
    "    pattern = r\"http\\S+\"\n",
    "    \n",
    "    tokens = re.sub(pattern, \"\", text) # https://www.youtube.com/watch?v=O2onA4r5UaY\n",
    "    tokens = re.sub('[^a-zA-Z 0-9]', '', text)\n",
    "    # tokens = re.sub('[%s]' % re.escape(string.punctuation), '', text) # Remove punctuation\n",
    "    # tokens = re.sub('\\w*\\d\\w*', '', text) # Remove words containing numbers\n",
    "    # tokens = re.sub('@*!*\\$*', '', text) # Remove @ ! $\n",
    "    tokens = tokens.strip(',') # TESTING THIS LINE\n",
    "    tokens = tokens.strip('?') # TESTING THIS LINE\n",
    "    tokens = tokens.strip('!') # TESTING THIS LINE\n",
    "    tokens = tokens.strip(\"'\") # TESTING THIS LINE\n",
    "    tokens = tokens.strip(\".\") # TESTING THIS LINE\n",
    "\n",
    "    tokens = tokens.lower().split() # Make text lowercase and split it\n",
    "    \n",
    "    return tokens\n",
    "\n",
    "# Apply tokenizer\n",
    "df['lemma_tokens'] = df['lemmas_back_to_text'].apply(tokenize)\n",
    "df.head()"
   ]
  },
  {
   "cell_type": "code",
   "execution_count": 67,
   "id": "02847eae",
   "metadata": {},
   "outputs": [
    {
     "name": "stdout",
     "output_type": "stream",
     "text": [
      "14608\n"
     ]
    }
   ],
   "source": [
    "# Create a id2word dictionary\n",
    "id2word = Dictionary(df['lemma_tokens'])\n",
    "print(len(id2word))"
   ]
  },
  {
   "cell_type": "code",
   "execution_count": 68,
   "id": "8b29c01f",
   "metadata": {},
   "outputs": [
    {
     "name": "stdout",
     "output_type": "stream",
     "text": [
      "5416\n"
     ]
    }
   ],
   "source": [
    "# Filtering Extremes\n",
    "id2word.filter_extremes(no_below=2, no_above=.99)\n",
    "print(len(id2word))"
   ]
  },
  {
   "cell_type": "code",
   "execution_count": 77,
   "id": "d3bce4a3",
   "metadata": {},
   "outputs": [],
   "source": [
    "# Creating a corpus object \n",
    "corpus = [id2word.doc2bow(d) for d in df['lemma_tokens']]\n",
    "\n",
    "# Instantiating a Base LDA model \n",
    "base_model = LdaMulticore(corpus=corpus, num_topics=10, id2word=id2word, workers=12, passes=5)\n",
    "\n",
    "# Filtering for words \n",
    "words = [re.findall(r'\"([^\"]*)\"',t[1]) for t in base_model.print_topics()]\n",
    "\n",
    "# Create Topics\n",
    "topics = [' '.join(t[0:10]) for t in words]"
   ]
  },
  {
   "cell_type": "code",
   "execution_count": 78,
   "id": "9f6a008b",
   "metadata": {},
   "outputs": [
    {
     "name": "stdout",
     "output_type": "stream",
     "text": [
      "------ Topic 0 ------\n",
      "stoic amp aurelius way marcus good great epictetus link remember\n",
      "\n",
      "------ Topic 1 ------\n",
      "change life choice wisdom world stoic know day thing karen\n",
      "\n",
      "------ Topic 2 ------\n",
      "marcus aurelius think amp love life people good read stoic\n",
      "\n",
      "------ Topic 3 ------\n",
      "life stoicism philosophy act gift right check grab sell 95\n",
      "\n",
      "------ Topic 4 ------\n",
      "good thing aurelius marcus de man la epictetus stoic stoicism\n",
      "\n",
      "------ Topic 5 ------\n",
      "day stoic daily 365 remember aurelius marcus devotional new sleep\n",
      "\n",
      "------ Topic 6 ------\n",
      "stoic seneca well day today time people power good work\n",
      "\n",
      "------ Topic 7 ------\n",
      "seneca life happen epictetus man suffer time live world wish\n",
      "\n",
      "------ Topic 8 ------\n",
      "life aurelius marcus mind thing control good stoic think read\n",
      "\n",
      "------ Topic 9 ------\n",
      "thing people control epictetus think day seneca stoic good stoicism\n",
      "\n"
     ]
    }
   ],
   "source": [
    "# Getting the topics\n",
    "for id, t in enumerate(topics): \n",
    "    print(f\"------ Topic {id} ------\")\n",
    "    print(t, end=\"\\n\\n\")"
   ]
  },
  {
   "cell_type": "code",
   "execution_count": 79,
   "id": "8cf2499c",
   "metadata": {},
   "outputs": [
    {
     "data": {
      "text/html": [
       "\n",
       "<link rel=\"stylesheet\" type=\"text/css\" href=\"https://cdn.jsdelivr.net/gh/bmabey/pyLDAvis@3.3.1/pyLDAvis/js/ldavis.v1.0.0.css\">\n",
       "\n",
       "\n",
       "<div id=\"ldavis_el231561403737021412006050247087\"></div>\n",
       "<script type=\"text/javascript\">\n",
       "\n",
       "var ldavis_el231561403737021412006050247087_data = {\"mdsDat\": {\"x\": [-0.1275102252021691, 0.1521818675128877, 0.0002165172900657861, -0.013068597629697159, -0.032026680426792575, -0.03208862406955129, 0.045381614109383656, -0.08897279700841366, 0.054239634688847745, 0.04164729073543962], \"y\": [-0.01713724571733439, -0.02941986519597422, -0.07507056861647285, -0.013412665505233663, 0.018262049016891244, 0.14793647428477613, 0.031866167908149334, -0.07362104783586537, -0.07725460540334621, 0.08785130706440995], \"topics\": [1, 2, 3, 4, 5, 6, 7, 8, 9, 10], \"cluster\": [1, 1, 1, 1, 1, 1, 1, 1, 1, 1], \"Freq\": [14.332562245637895, 12.00085513739219, 11.31256535087664, 10.822132809156736, 9.5273834982186, 8.988254457855847, 8.86174156375961, 8.707443857705973, 7.967719475825823, 7.479341603570688]}, \"tinfo\": {\"Term\": [\"day\", \"gift\", \"95\", \"grab\", \"365\", \"accessory\", \"seneca\", \"remember\", \"sell\", \"fast\", \"sleep\", \"life\", \"devotional\", \"check\", \"change\", \"daily\", \"act\", \"philosophy\", \"aurelius\", \"marcus\", \"right\", \"stoicism\", \"good\", \"happen\", \"thing\", \"amp\", \"man\", \"podcast\", \"tomorrow\", \"memento\", \"bracelet\", \"donlove\", \"pendant\", \"emotionless\", \"silicone\", \"red\", \"morishirt\", \"pageday\", \"95\", \"giftshirt\", \"lifeshirt\", \"accessory\", \"amor\", \"changesituation\", \"fati\", \"mistrust\", \"livehappi\", \"memento\", \"00\", \"enjoyment\", \"grab\", \"emboss\", \"shirt\", \"fast\", \"asgift\", \"sell\", \"tempus\", \"fugit\", \"youlove\", \"gift\", \"mori\", \"copper\", \"check\", \"act\", \"oz\", \"right\", \"philosophy\", \"black\", \"stoicism\", \"24\", \"life\", \"live\", \"long\", \"20\", \"thing\", \"quote\", \"philosopher\", \"stoic\", \"time\", \"great\", \"need\", \"marcus\", \"aurelius\", \"man\", \"help\", \"good\", \"epictetus\", \"day\", \"thatmay\", \"daywake\", \"upneed\", \"nightmay\", \"dayneed\", \"whengo\", \"resiliency\", \"operational\", \"bo\", \"stoicshadchance\", \"impediment\", \"sleep\", \"rank\", \"armed\", \"terrible\", \"aelius\", \"spartianus\", \"incite\", \"soldierly\", \"hadrian\", \"intopositive\", \"tougher\", \"wake\", \"frenzy\", \"pretty\", \"tomorrow\", \"knell\", \"floatingworld\", \"fully\", \"vocation\", \"365\", \"devotional\", \"program\", \"buy\", \"stuff\", \"remember\", \"harmony\", \"speak\", \"easy\", \"day\", \"daily\", \"regret\", \"destine\", \"new\", \"podcast\", \"let\", \"thought\", \"action\", \"help\", \"stoic\", \"way\", \"aurelius\", \"marcus\", \"life\", \"mind\", \"today\", \"find\", \"whatprecious\", \"heat\", \"implore\", \"waiting\", \"beg\", \"whatprivilege\", \"apa\", \"amaze\", \"161\", \"lurk\", \"inescapable\", \"temptation\", \"mecan\", \"criticism\", \"peoplefault\", \"itsilly\", \"taming\", \"kita\", \"livepeaceful\", \"ama\", \"gue\", \"whataffected\", \"doesnhurt\", \"unlessinterpret\", \"tidak\", \"likeroman\", \"orang\", \"untuk\", \"kindle\", \"ruler\", \"yang\", \"likestoic\", \"itu\", \"emperor\", \"bisa\", \"budget\", \"180\", \"dan\", \"love\", \"alive\", \"pdf\", \"amp\", \"try\", \"marcus\", \"aurelius\", \"think\", \"free\", \"comment\", \"resist\", \"meditation\", \"read\", \"wrong\", \"come\", \"people\", \"learn\", \"guide\", \"roman\", \"book\", \"life\", \"good\", \"time\", \"care\", \"stoic\", \"new\", \"let\", \"join\", \"control\", \"seneca\", \"deal\", \"help\", \"today\", \"stoicism\", \"thing\", \"philosophy\", \"uniqueam\", \"achievable\", \"elite\", \"passive\", \"aggressive\", \"citizen\", \"romelast\", \"havenbeen\", \"disobedient\", \"needed\", \"todayquote\", \"wonfeel\", \"steppingstone\", \"behaviour\", \"makehappy\", \"donfeel\", \"initiation\", \"rigorously\", \"thatam\", \"ithumanly\", \"goodman\", \"romeman\", \"sonni\", \"jimmy\", \"surprisingly\", \"info\", \"donbe\", \"antifragility\", \"apr221831\", \"unstoppable\", \"undertake\", \"equipment\", \"toughen\", \"discipline\", \"business\", \"hate\", \"recognize\", \"self\", \"comic\", \"whathave\", \"water\", \"athlete\", \"correct\", \"color\", \"mind\", \"treat\", \"read\", \"determine\", \"quality\", \"book\", \"harm\", \"take\", \"little\", \"control\", \"think\", \"focus\", \"life\", \"1\", \"accept\", \"aurelius\", \"human\", \"marcus\", \"3\", \"thing\", \"good\", \"start\", \"find\", \"way\", \"stoic\", \"soul\", \"understand\", \"stoicism\", \"world\", \"feel\", \"look\", \"philosophy\", \"man\", \"change\", \"seneca\", \"injure\", \"cardinal\", \"brass\", \"hive\", \"heavy\", \"beginnerguide\", \"socrates\", \"seize\", \"frugal\", \"squander\", \"stingy\", \"permit\", \"atomic\", \"twain\", \"dance\", \"grant\", \"browse\", \"fortify\", \"188\", \"skin\", \"reflective\", \"thingscannot\", \"positivity\", \"miraculous\", \"president\", \"duff\", \"williamson\", \"mencoba\", \"grain\", \"sovereign\", \"association\", \"donsabotage\", \"peopleview\", \"tough\", \"disturb\", \"direction\", \"wasteful\", \"unwittingly\", \"unproductive\", \"sadlerlectures\", \"bronze\", \"adapt\", \"immediately\", \"dare\", \"episode\", \"negative\", \"anger\", \"coin\", \"value\", \"bee\", \"word\", \"choose\", \"people\", \"future\", \"endurance\", \"past\", \"move\", \"look\", \"view\", \"wise\", \"thing\", \"control\", \"courage\", \"think\", \"person\", \"epictetus\", \"discuss\", \"attention\", \"podcast\", \"seneca\", \"virtue\", \"day\", \"good\", \"stoicism\", \"stoic\", \"right\", \"marcus\", \"aurelius\", \"time\", \"wisdom\", \"mind\", \"today\", \"work\", \"know\", \"philosophy\", \"stereotype\", \"uslittle\", \"consideration\", \"laugh\", \"submerge\", \"makebetter\", \"stimulus\", \"isspace\", \"opponent\", \"imagination\", \"curiosity\", \"lunch\", \"sickness\", \"labor\", \"disdain\", \"suffer\", \"needwitness\", \"givesoul\", \"younger4\", \"lameness\", \"rant\", \"havepeaceful\", \"manpower\", \"preparation\", \"sailing\", \"isproblem\", \"comprehend\", \"luck\", \"emerson\", \"epictetus50135\", \"lucius\", \"poor\", \"wish\", \"annaeus\", \"hide\", \"reality\", \"brave\", \"letter\", \"happen\", \"fromstoic\", \"difficulty\", \"response\", \"seneca\", \"react\", \"calm\", \"man\", \"overcome\", \"epictetus\", \"strength\", \"conquer\", \"life\", \"embrace\", \"world\", \"bring\", \"die\", \"live\", \"time\", \"22\", \"today\", \"control\", \"learn\", \"mind\", \"know\", \"fear\", \"come\", \"stoic\", \"thing\", \"stoicism\", \"ifman\", \"inriver\", \"youthful\", \"ishuman\", \"urdu\", \"employee\", \"foster\", \"scipio\", \"ruck\", \"diversion\", \"africanus\", \"playing\", \"authentic\", \"junk\", \"constancy\", \"disloyalty\", \"ingratitude\", \"interference\", \"mejor\", \"insolence\", \"existential\", \"warfighter\", \"behavioural\", \"offender\", \"forkindness\", \"quantity\", \"amount\", \"hikmat\", \"batain\", \"bhari\", \"crisis\", \"hang\", \"chat\", \"ofphilosopher\", \"veteran\", \"letexplore\", \"zuban\", \"everyday\", \"society\", \"driscoll\", \"collective\", \"rapid\", \"justice\", \"well\", \"equal\", \"ve\", \"power\", \"virtue\", \"vibe\", \"musonius\", \"suppose\", \"routine\", \"cognitive\", \"today\", \"work\", \"rule\", \"seneca\", \"22\", \"look\", \"2\", \"able\", \"stoic\", \"ll\", \"people\", \"time\", \"day\", \"year\", \"use\", \"7\", \"tell\", \"opportunity\", \"know\", \"learn\", \"good\", \"character\", \"daily\", \"live\", \"epictetus\", \"life\", \"help\", \"new\", \"podcast\", \"think\", \"jugarse\", \"diaria\", \"piel\", \"frase\", \"deathshirt\", \"skull\", \"taleb\", \"nassim\", \"revoke\", \"satisfied\", \"por\", \"moderately\", \"appropriate\", \"weapon\", \"beginner\", \"commentary\", \"jesus\", \"frustrate\", \"unlucky\", \"thomas\", \"cambio\", \"cup\", \"spare\", \"tablet\", \"remastere\", \"arm\", \"aka\", \"girl\", \"distressed\", \"reposte\", \"tu\", \"intention\", \"la\", \"enchiridion\", \"grip\", \"noise\", \"silence\", \"de\", \"material\", \"leader\", \"present\", \"good\", \"upset\", \"law\", \"thing\", \"break\", \"man\", \"fortune\", \"aurelius\", \"marcus\", \"epictetus\", \"true\", \"opinion\", \"stoicism\", \"philosophy\", \"way\", \"moment\", \"say\", \"stoic\", \"control\", \"right\", \"meditation\", \"time\", \"power\", \"people\", \"mind\", \"repost\", \"hint\", \"safely\", \"doubtful\", \"establish\", \"confidently\", \"lee\", \"responsiblechat\", \"col\", \"aspow\", \"shares\", \"smallrole\", \"allotment\", \"tiny\", \"abstinence\", \"overexcited\", \"afflict\", \"notfact\", \"motivational\", \"isperspective\", \"bulletin\", \"column\", \"chalkface\", \"transition\", \"whitwhamat\", \"godsake\", \"china\", \"deze\", \"hic\", \"nunc\", \"bio\", \"havelisten\", \"link\", \"du\", \"auf\", \"consist\", \"knowledge\", \"having\", \"motivation\", \"hear\", \"athens\", \"suspend\", \"possession\", \"amp\", \"app\", \"walk\", \"happy\", \"system\", \"easily\", \"matter\", \"way\", \"morning\", \"truth\", \"great\", \"video\", \"indifferent\", \"tell\", \"hard\", \"fear\", \"talk\", \"remember\", \"stoic\", \"want\", \"work\", \"start\", \"good\", \"aurelius\", \"marcus\", \"epictetus\", \"event\", \"de\", \"use\", \"feel\", \"learn\", \"live\", \"today\", \"check\", \"time\", \"come\", \"illumination\", \"madej\", \"mar\", \"2021\", \"weekly\", \"karen\", \"herehow\", \"dawn\", \"todayescape\", \"nodiscarded\", \"estoicismo\", \"audiobook\", \"como\", \"aos\", \"toe\", \"themed\", \"rid\", \"edition\", \"democritus\", \"asseparate\", \"accessible\", \"r1\", \"expense\", \"hashtag\", \"diario\", \"itone\", \"estoicos\", \"masculinity\", \"hati\", \"breakout\", \"night\", \"perception\", \"separate\", \"choice\", \"haha\", \"medium\", \"small\", \"constantly\", \"change\", \"el\", \"get\", \"amright\", \"wisdom\", \"big\", \"content\", \"world\", \"lose\", \"know\", \"possible\", \"life\", \"truly\", \"day\", \"stoic\", \"thing\", \"good\", \"book\", \"2022\", \"live\", \"marcus\", \"aurelius\", \"mind\"], \"Freq\": [622.0, 261.0, 212.0, 233.0, 213.0, 207.0, 525.0, 237.0, 222.0, 217.0, 150.0, 980.0, 180.0, 296.0, 253.0, 312.0, 334.0, 508.0, 798.0, 803.0, 369.0, 600.0, 617.0, 268.0, 659.0, 279.0, 333.0, 196.0, 110.0, 121.0, 24.153346753220916, 10.183188196905721, 16.998512196650367, 14.634751575894743, 9.242938596048386, 9.220650086914533, 15.95753885523463, 6.835065484801528, 186.46472197058137, 6.057490737964995, 6.0417938590704345, 180.77366801279496, 30.7633992691081, 7.462349423413931, 29.852647497204565, 7.4627156250938915, 5.211784200086558, 104.14191872338749, 12.649893089232663, 14.049528515952106, 198.64878761403935, 7.375841367347493, 12.506423969101844, 184.07742485562076, 6.607828203101327, 187.5207139929439, 16.036424117639374, 16.022033211001055, 10.183180633359836, 219.0384130873121, 84.00296933021887, 11.464285841619725, 201.35990534018168, 220.31776166204008, 11.460983093249684, 214.9324161442214, 284.41734067215117, 15.768397263273675, 303.39425712964123, 33.34159523985707, 328.06057364955075, 149.4217820136946, 61.52496816011188, 21.985616854137035, 184.3755697497029, 70.54642281169704, 43.79724694108588, 168.97733998561588, 88.74008871145894, 65.52614444195618, 57.227346260827765, 98.74899957495536, 92.83389321858209, 60.95360277682263, 52.11775249890593, 60.28107748849557, 54.65593226955621, 47.34014293535834, 61.92575318056243, 61.92019275131919, 61.881814390027564, 61.874197826356486, 61.849076676776164, 61.81230691346607, 9.87142961332345, 8.93184373247393, 8.91322874953281, 8.909808895556328, 15.077800529972006, 129.2816940544083, 7.118166396466452, 7.118861450121858, 43.8030518862946, 6.198296923750784, 6.198139124933042, 6.198294284974568, 6.19795546610838, 6.19812751431769, 11.565184069888979, 4.52555556995186, 70.25994998737357, 6.764265340935436, 43.51373223988426, 88.01607248965622, 4.356648032094003, 4.356761235593687, 10.901644791081191, 4.356720070684712, 166.36236853342692, 139.54933697213784, 18.599384607148917, 48.468425125094484, 44.685956854015394, 163.23910455958728, 26.869571036012612, 56.62555371472087, 59.455246445910284, 319.0992619688336, 171.68128008917435, 38.37904526242051, 16.23558576064688, 135.8821220021081, 98.87341645010565, 89.50532178944914, 76.4545932615751, 64.01134901709868, 83.33275557258467, 172.6135576154149, 79.15393044767333, 146.3405843276414, 145.09704098095384, 105.06417966775857, 69.6459890916304, 64.41908849601808, 49.78366718811368, 6.643344205381411, 8.960402883194698, 7.303925934583792, 8.92946518102347, 7.294263748123871, 6.471717765249149, 16.030005125294725, 8.000136167941264, 11.897050884582159, 8.71433701240728, 7.121401551057904, 18.957181975110565, 5.535740837551357, 18.82604050418446, 6.300408721624016, 6.300097294957148, 8.650117450789615, 25.07813481110205, 9.330718044328687, 11.587577350452362, 4.59194441408706, 4.600066381760042, 4.600319104997693, 4.600119612835689, 24.395274633024776, 13.524813399031794, 12.741430065745757, 16.36387839153827, 4.426980315684346, 7.36260747438744, 40.137058855513345, 20.374786212960004, 19.143639985880746, 37.25557217812321, 17.539056371211803, 13.621905886038125, 15.57682460146605, 20.828951760431487, 101.0637361839354, 20.112638587487, 11.116330100051837, 102.51433572889883, 53.53825974715958, 213.92379712267538, 211.45731384065473, 108.5105865616574, 45.36626481280262, 23.530228859856333, 18.516850537466983, 56.969142863839956, 69.61152929978792, 30.381241420963065, 60.407456441696596, 81.30831691799992, 65.38099802003462, 27.550319290570478, 21.356245861134486, 52.56465441881978, 96.68567025190356, 72.64879298890816, 56.2386970890546, 27.5801485924002, 69.151724243218, 44.912433576385666, 39.50243299678568, 28.840913186953344, 43.50341197888257, 46.76742214073727, 28.635453174637334, 34.635297851232096, 34.28948888436315, 34.770116743758024, 33.95409529880019, 32.414829696356655, 6.682277686793684, 6.671027432909098, 8.281639364442336, 12.374390255984927, 13.879885438681825, 10.53940288785687, 10.539382899250619, 6.429672151223783, 6.343561235497173, 7.902349849811138, 4.707971160858111, 4.709950984715291, 8.622224274504061, 4.703326665420078, 10.150164758343342, 5.46633221912854, 5.4274229693045974, 5.366290672603008, 9.860628844968286, 8.44656535461417, 5.316801739042262, 5.3168626566994055, 5.316838384820388, 5.316836957062798, 4.534312529350847, 7.577302273755507, 40.28715773294251, 2.9690868699454662, 2.9690573629552874, 2.968870088751489, 4.458087407172636, 5.83267530385905, 5.828260677392896, 36.23453444436674, 22.639974937848283, 13.269579986907914, 13.384785746789532, 71.36048174931989, 8.243881839073772, 7.032291507975228, 13.852283077126843, 10.911767778179902, 6.949516785815645, 14.424610177025045, 103.45392143016993, 19.770852277558927, 76.67868459447647, 22.746245790735987, 24.570819095007597, 75.32494957330115, 29.21523457861586, 36.62783026094909, 35.4212151891301, 87.24941343568125, 77.85557565696276, 36.17071939115483, 127.42141775985374, 36.23300769558457, 32.291045138564435, 105.91672331730882, 35.643735968616404, 104.84959064358173, 32.04174724140978, 88.33580370377298, 83.03905148863824, 39.75054170586819, 46.25181875571117, 49.34283017479396, 81.47279760580895, 29.157406588895135, 24.8864258619635, 55.5617957646638, 37.98822053616738, 32.602901662252414, 32.93786501476582, 40.2018082879302, 36.59441692600561, 33.514469676401596, 33.73148882997708, 17.651923046419746, 9.974830044942456, 8.182749905748206, 8.827229358785356, 9.614049122482903, 7.142028680361728, 4.718651058677519, 6.0767861909664465, 3.76987849810401, 3.76986173887631, 3.7697762668150414, 8.335832043402721, 3.759152173395515, 3.76228321611051, 4.495091340777495, 4.457688096397325, 2.983621634966825, 2.983560882766414, 2.983512699986777, 4.471073272580375, 2.961449805191173, 3.6812238594954154, 10.98756000822491, 3.5932257636319567, 4.272282436278415, 4.223806370157059, 3.5245045504493744, 2.8035257171638706, 2.807006608757096, 2.8068266565496707, 4.198815428791973, 4.198949083632878, 4.198727861827242, 16.6372339294192, 22.452509969321056, 9.166114350255263, 4.731996431694784, 4.19882338942513, 4.1986319152486615, 10.545485099962468, 6.8450840751909885, 10.178546837246047, 6.860679793507629, 10.425685112596769, 36.110947035937826, 16.446663075323244, 38.79699538520482, 18.085770849804412, 26.694107935604105, 10.143623120604047, 34.168669860137555, 41.46496723147494, 88.32145845823337, 29.695199599015435, 9.550959009807418, 25.5122924481367, 11.55544224902201, 43.49161371136099, 24.624324879541824, 24.429167024824466, 99.84291131755764, 65.55011926523062, 29.61428269583579, 60.413690826609674, 35.028233889626996, 65.15808741087946, 21.387343734411807, 19.25007797209395, 36.56916778416615, 54.477394727565574, 28.90833709928725, 55.221001660600855, 50.38145288514331, 47.81570227230469, 52.69490002865417, 37.825379159315254, 47.442879844742905, 45.68883896262003, 36.787563984011896, 29.257220646002796, 31.902249109552034, 30.413061006458452, 28.22173165150416, 27.605357423319393, 27.375482828422125, 11.814791291773874, 10.812271583125202, 6.14741766642168, 27.25678227595659, 4.95663202316373, 4.956146234243765, 5.779891272356555, 5.779803126767335, 11.35933315047805, 30.31598602120852, 3.9346175142443656, 6.2335912451283715, 5.4425446631711525, 6.882869283697777, 3.8251568985719895, 66.84900140329273, 4.5420651345605965, 3.7630822449038956, 3.763221380542486, 2.9594984351489106, 2.9379632423600244, 2.939789792888225, 2.9199275875718795, 11.719863630715297, 3.6506606489227655, 5.8400480677336235, 2.8978281444304703, 22.505986409762894, 4.337569739198797, 3.5773950628689484, 21.669008070387687, 12.009858666534365, 53.06461866032605, 18.974529428659146, 15.461351392075224, 36.023933891349564, 10.012861447256231, 41.66720898693487, 125.06736855003861, 26.742100575768678, 17.726368912252536, 19.965829745359656, 191.82820222889544, 18.918139967859936, 35.29850280695389, 94.72626222171729, 19.158547378302707, 104.48898625035024, 33.33679149238307, 13.38402942944331, 159.3208298998864, 18.669253188897155, 53.21441082396315, 28.28061187252484, 29.66316476711546, 54.87802403285381, 55.511875407494486, 35.05003185382008, 48.566192707320305, 49.71001730565206, 39.86901683161754, 40.16431008931066, 35.14293018996808, 28.205997224157077, 30.47284248067769, 39.92641344470973, 35.24655145680836, 33.058159727411166, 6.4630779087211865, 6.351306505086163, 6.337169843393112, 7.862123398860485, 10.193460196283391, 3.919610126615624, 3.710936242577463, 2.9777448601917484, 2.977733363802501, 2.9777269336186847, 2.9776864039752367, 2.9776743230238245, 2.9776505508291096, 2.9775246751095548, 2.9774412775739982, 3.706591386858212, 3.7053408135329744, 3.693422760110593, 3.702119096586966, 3.6901223221263493, 8.090824382675514, 5.155609537660821, 5.143057818851454, 2.9290270596428867, 4.370752602581621, 3.5860094622705634, 2.8793540845162258, 3.586383582056237, 3.586327464088386, 3.5861657352227043, 11.358036632870409, 10.678522866150509, 19.11615083423239, 4.256349889787356, 7.236532763915747, 8.823149833640636, 3.586200808952611, 13.34752147613359, 15.966501829604484, 3.586362927526403, 6.352831432920895, 6.341313220019453, 33.27305396652044, 74.93116115940848, 12.3366295504204, 35.55108804747943, 58.864113078571634, 47.41052625244006, 6.656152166821067, 8.224357087177248, 6.979160954442339, 6.501923233717462, 8.507859604847553, 67.98462345027693, 48.96105323350692, 15.742042428859534, 89.2154723435403, 39.63250420198289, 41.89281124043069, 29.688811830529083, 20.163312114334243, 114.82031776969357, 30.668067251866205, 59.027004833254146, 63.3345140449, 74.44137600666345, 24.913648210293264, 24.913051177468628, 22.617179376895184, 22.905854880018655, 21.093945993025695, 37.969136458226956, 39.75233788699919, 52.689340839977454, 21.42722436876372, 38.273429903569884, 38.502151152206636, 33.7847282443923, 40.40591891724212, 27.86557334935996, 26.03945414584114, 23.62709547350074, 24.54521504536139, 44.76316360683817, 44.76434607195564, 44.7546075833327, 46.53633131811665, 5.426482529774593, 5.423495733169569, 50.31293497370591, 51.35744684860374, 9.63480695679749, 10.471232541449687, 52.93185626518766, 6.532744509868104, 4.348365363843813, 10.808613427500422, 4.971361355708509, 8.494579738387868, 3.5078245095615914, 3.507979210308826, 3.4865451154413587, 2.7764750038581196, 2.7763949730260107, 2.7762615244853888, 2.7759750983494196, 4.761309523543177, 2.7222106533844492, 10.183355894514026, 3.37962890173809, 6.730659608905711, 8.053110522342596, 3.3431727516379155, 8.453109982140312, 13.300586673125236, 65.67832171031479, 14.104064061997596, 4.564165247783251, 10.018398947244938, 14.832866940672643, 75.15725617659416, 14.223551243104243, 12.29663013520665, 42.54655309621925, 165.89015119050413, 13.629834282266906, 9.382639377888106, 116.5644459278834, 16.791954316315785, 65.82660161069387, 20.452357798754488, 96.76211922534077, 94.58717376151667, 61.94575109513642, 24.910275798689465, 27.098556160587087, 54.303895660720784, 49.26623278129772, 37.46913059306632, 24.601418054371432, 27.25721479624599, 56.97408569885043, 38.34192463853375, 33.728353179831686, 26.564991751684378, 33.7380977952169, 25.947919573086313, 28.24056933019746, 25.82249862272435, 8.062268154583311, 4.809609832510222, 9.243827709392276, 4.6368850611464465, 4.636875950949904, 8.398316675262466, 4.498980512147906, 4.495133206069211, 4.489665336182323, 4.483606705088816, 5.184353913007286, 3.693463240843432, 3.6935764175158745, 3.6935476853575455, 3.6935066894731, 3.6934061269189487, 2.9232828451658537, 6.538660664279212, 9.9416925912813, 7.1889857374676005, 3.502857956802445, 3.497047403368657, 3.4950799513074666, 3.487226611494918, 3.486756034804236, 2.749654937971674, 2.749380405702762, 2.7498511575895312, 2.7500349382851845, 2.7499883361259436, 9.418105068482346, 3.414628856809606, 41.52275093787635, 14.117410042814301, 6.281395721738308, 12.117371509372713, 13.819758898212346, 13.368641587347097, 15.04347553713352, 23.534970601857093, 6.045131884582889, 5.102447639807712, 14.570381629068297, 72.64408494022572, 9.270278113879389, 18.711741025514552, 26.248410406215875, 7.562452638487722, 15.416469408717738, 30.53287417153388, 57.14050383216041, 22.376397474495715, 23.93245268174985, 50.66631602881854, 22.0747098120407, 14.162178950197056, 23.94977887400662, 26.721821068807067, 33.25731068390484, 24.109128825668222, 39.7330346065408, 79.43993275998305, 18.848838270942483, 32.99812979695243, 30.10996483230426, 52.41560831573817, 58.17978384127698, 56.10836621713384, 42.622138622217285, 23.158768539520917, 26.394683721916014, 21.43166168353741, 24.6822554949169, 29.997483337936483, 31.671620708079516, 26.58606512462406, 25.948614861504485, 26.258938990282598, 22.701157760873304, 40.809341561083485, 20.45255423206553, 20.451927977829364, 23.89303844201167, 22.721269402376198, 44.30455591802613, 16.675574148273352, 12.888331915233048, 6.935207167819018, 6.935029553697416, 6.034222697507503, 9.106888454348015, 8.24665721532308, 2.992122686419526, 3.703464941030958, 4.392299210539874, 8.778043144332468, 25.54093699959601, 18.660547470174144, 6.427730073067523, 4.224849550418943, 2.815129227497838, 3.522227162433058, 2.812267008819723, 3.4846535528381977, 2.767220449515971, 4.7984346212307685, 2.7388266942301036, 2.7309953915851275, 4.085821109989721, 28.42824268564225, 31.13651859975414, 12.15360281453221, 65.07603538250069, 11.688034100687787, 31.4909469215812, 32.71337150869761, 18.56227818150222, 104.07586532326377, 27.10706990955567, 27.390592042718822, 14.642770001255176, 63.09539321384667, 25.48290586125802, 22.887676730735354, 50.67449824988527, 25.96577945318713, 46.54148868585129, 23.90550037504734, 79.09092104464993, 17.46417295422605, 46.17120929041636, 50.373469942632944, 44.54112740271895, 39.37979522629606, 29.2893422603728, 22.40382165632687, 23.489493895090884, 24.579618327836396, 24.39377343627316, 23.047953082748837], \"Total\": [622.0, 261.0, 212.0, 233.0, 213.0, 207.0, 525.0, 237.0, 222.0, 217.0, 150.0, 980.0, 180.0, 296.0, 253.0, 312.0, 334.0, 508.0, 798.0, 803.0, 369.0, 600.0, 617.0, 268.0, 659.0, 279.0, 333.0, 196.0, 110.0, 121.0, 25.808091160685905, 11.207096960230688, 19.007529884027296, 16.410746026302427, 10.369849973306323, 10.371824833899355, 18.146589246032473, 7.78736952210555, 212.48309013642006, 6.9229916225170465, 6.9246306558678175, 207.45938384591602, 35.597190673874344, 8.663191705606957, 34.74822664067248, 8.68730357461107, 6.067074809782613, 121.29433130178845, 14.742853002965699, 16.440855164852604, 233.07578673022164, 8.673276694773795, 14.759267157464327, 217.50122125151972, 7.832474219022455, 222.82296886065484, 19.076764089164495, 19.07683700896362, 12.141416068771107, 261.95674739309607, 102.69038449406202, 13.96323841127543, 296.69838290204524, 334.40083191601514, 13.963972404037213, 369.6930635193185, 508.2683894724486, 20.11895085130384, 600.2414995711423, 50.2157417583806, 980.1314091737011, 380.8106760911592, 125.97229850516554, 32.72263052684175, 659.9009520410922, 172.53086668103978, 98.885108177698, 886.4445390945816, 396.37218600113613, 248.12636375784274, 201.6117529734432, 803.7769017716406, 798.5358446729316, 333.4071121733894, 264.3908937186402, 617.1648852181819, 420.06878452821394, 622.3656655298585, 68.27429569766592, 68.27508136099281, 68.27770520030477, 68.27407287116637, 68.27704962250397, 68.27596530571421, 11.0752957284321, 10.154898110115369, 10.155632779943817, 10.155384408519541, 17.548855974018004, 150.47383298045114, 8.307224394343839, 8.336888971015675, 51.76708180845311, 7.416041351393589, 7.4160331383094835, 7.416270095906802, 7.415870524102317, 7.41616200222972, 13.853022307424625, 5.538308802972913, 86.00448693060757, 8.298696428828608, 54.61135189596471, 110.99879061138851, 5.546115537848523, 5.546348078368622, 13.896782508574757, 5.56146936612053, 213.82987349837248, 180.49106562704233, 24.002360445162168, 63.34561054091847, 59.17014798276992, 237.19101466265175, 36.11842698182665, 81.86797234694349, 91.1411373755623, 622.3656655298585, 312.65216622540396, 58.246113532294984, 22.1340187067287, 280.9104666295845, 196.00482035397957, 208.64142116121684, 199.47451256750813, 155.91027446010935, 264.3908937186402, 886.4445390945816, 271.79556906111105, 798.5358446729316, 803.7769017716406, 980.1314091737011, 342.04669262675503, 325.4929775782653, 227.52139690624512, 7.490511751283856, 10.280492318627799, 8.402282458121991, 10.280231726619212, 8.401425627913618, 7.49570304789385, 18.729933003228012, 9.376036429057212, 14.01527009113882, 10.279512296404784, 8.410006056730419, 22.44320560165881, 6.5583953063283715, 22.35858790370041, 7.484771558366827, 7.484481774389052, 10.277178568172726, 29.86082275185513, 11.22047162423737, 14.001370586712005, 5.611112167463359, 5.622652254624614, 5.6229619919755285, 5.62271856699412, 29.938248737121768, 16.838026330245643, 15.943899692420134, 20.514189469726887, 5.628973252332255, 9.371760821437285, 51.13323255218668, 26.289435251610797, 25.117028296384635, 51.44384213383598, 23.445072398225406, 17.890281299142256, 21.440425961054682, 30.732792248190727, 210.55234346222935, 31.215408760017556, 14.993848262388635, 279.7523534579542, 118.99249748845263, 803.7769017716406, 798.5358446729316, 353.7894295623005, 105.68080623082058, 43.990566651532056, 31.336468664505258, 177.2199501279318, 246.3917793756664, 68.94167266116266, 210.98439965026543, 352.4504995781037, 280.20927684667527, 63.95364240994152, 41.30550835322264, 259.2339247063607, 980.1314091737011, 617.1648852181819, 396.37218600113613, 72.01917052693834, 886.4445390945816, 280.9104666295845, 208.64142116121684, 85.88605739811527, 366.9549718581419, 525.3976677422135, 93.22553767176326, 264.3908937186402, 325.4929775782653, 600.2414995711423, 659.9009520410922, 508.2683894724486, 7.6449400004499735, 7.644626350600749, 9.57859546813564, 14.35769441837447, 16.25865691284201, 12.37881690137581, 12.37934031262963, 7.634914604494562, 7.648003426152865, 9.549803501142074, 5.724250518455395, 5.731708212070711, 10.498747225807563, 5.731454993802552, 12.383770280093659, 6.6764173019887885, 6.68771936439572, 6.689971287173327, 12.297730794883972, 10.539260509154357, 6.6608904879395165, 6.661310703644449, 6.662822076363495, 6.664585840193138, 5.707411250535271, 9.544077631543386, 51.52752230653607, 3.81400819177566, 3.813973155365725, 3.8138147835632643, 5.729254430658424, 7.601366958368909, 7.601297066615472, 51.102529025848504, 33.180845717538354, 19.772883064773186, 20.02092939003638, 150.87718567216143, 11.46300216077848, 9.460080394036762, 22.685300030766033, 17.095359032652404, 9.448555451656778, 24.70961020591658, 342.04669262675503, 38.061657931619656, 246.3917793756664, 46.634386209332284, 52.77625358448237, 259.2339247063607, 69.15221516763064, 99.6077033566431, 95.11189804000495, 366.9549718581419, 353.7894295623005, 112.52130009191993, 980.1314091737011, 120.94157789378538, 100.27350994210867, 798.5358446729316, 118.95913298627572, 803.7769017716406, 101.61864806301035, 659.9009520410922, 617.1648852181819, 168.5853741559709, 227.52139690624512, 271.79556906111105, 886.4445390945816, 100.26678979426246, 69.59069590944041, 600.2414995711423, 220.06167897136217, 145.87087940746972, 172.18532297143972, 508.2683894724486, 333.4071121733894, 253.018962806032, 525.3976677422135, 20.203597080043735, 11.501619472468757, 9.586724582574446, 10.512363850615829, 11.512550726152224, 8.594965723886306, 5.7318891336389495, 7.627911719000602, 4.770830766454625, 4.770817961750812, 4.770772466020147, 10.554995493581513, 4.777290533434934, 4.782062391451551, 5.738546883571482, 5.715184518206055, 3.828075702347882, 3.8280243715385676, 3.8279807203252725, 5.749081538361307, 3.8279230651734464, 4.7607250919098485, 14.417740535504812, 4.790817930574657, 5.738640931374468, 5.69432831806231, 4.7781932366626485, 3.8045931541033604, 3.8154910767860954, 3.8152983631982194, 5.738426585516196, 5.738620411809056, 5.738377963678583, 23.848578297319854, 38.38004451997917, 14.143507498262025, 6.5862890002961185, 5.738568826857937, 5.738286326742466, 17.195946786071612, 10.279558804605728, 17.028351827589145, 10.467356395360282, 17.987295390702645, 91.9366992808084, 33.11608365813865, 101.39048530844964, 37.684035204972815, 63.50660504576762, 17.811496970748866, 90.75281036854363, 119.63022016912436, 352.4504995781037, 86.68665695002352, 17.079253477692752, 72.78963517100267, 22.76800700588778, 172.18532297143972, 71.96934015668172, 71.22616820285882, 659.9009520410922, 366.9549718581419, 102.63902733223313, 353.7894295623005, 142.24955612374205, 420.06878452821394, 64.95852680509196, 55.091895822721035, 196.00482035397957, 525.3976677422135, 140.82348691968693, 622.3656655298585, 617.1648852181819, 600.2414995711423, 886.4445390945816, 369.6930635193185, 803.7769017716406, 798.5358446729316, 396.37218600113613, 193.56767343084599, 342.04669262675503, 325.4929775782653, 202.97981909011128, 251.31306841048456, 508.2683894724486, 12.999350800134424, 11.992524101892958, 6.987613003104935, 32.740216338629125, 5.966870173554533, 5.972336017572264, 6.973390541424371, 6.973365247964651, 13.907774162208849, 37.68972410672133, 4.942139525164312, 7.91145855322485, 6.942930404768251, 8.896378075519785, 4.957680479629593, 87.13392394551083, 5.923629861373256, 4.955247516123872, 4.956228225301993, 3.9566650367635954, 3.934479179594067, 3.9556722680438545, 3.949391742372358, 15.87310959767614, 4.949850966831854, 7.9360116334760695, 3.94453527766762, 30.729895553821486, 5.923261301019229, 4.925406817505981, 30.552982479586777, 16.78232733177845, 79.95823135950168, 27.587217956634213, 22.537316079906773, 56.05570737678695, 14.770962513711757, 72.38442449359174, 268.9078175907492, 46.8453362641308, 29.27494271654527, 34.29675629013432, 525.3976677422135, 35.150359254952626, 81.51033421075122, 333.4071121733894, 38.916997862244806, 420.06878452821394, 84.37989221658815, 24.085783485438935, 980.1314091737011, 39.610531528278166, 220.06167897136217, 81.29201712087914, 91.38932300235027, 380.8106760911592, 396.37218600113613, 156.51860950035658, 325.4929775782653, 366.9549718581419, 280.20927684667527, 342.04669262675503, 251.31306841048456, 154.81180145663322, 210.98439965026543, 886.4445390945816, 659.9009520410922, 600.2414995711423, 7.666432712544705, 7.625807128691299, 7.674163805741571, 9.534319153522857, 12.417258000958812, 4.781133151147465, 4.760296387057625, 3.822389964295141, 3.8223791472242885, 3.8223772527937485, 3.822333162962442, 3.822320791366736, 3.8223008108608636, 3.8221954654637793, 3.8220960755634232, 4.7696211458894435, 4.769550819591871, 4.769254226427081, 4.780774564534853, 4.7691137016187, 10.489854309854634, 6.686063262130075, 6.67495170817993, 3.821427259072751, 5.707617171803952, 4.743668961436351, 3.822395973042436, 4.764399926174459, 4.764342397153748, 4.764146138630727, 15.23440127631555, 14.338936693784657, 28.717360788494304, 5.762897479047867, 10.518751492264878, 13.417407212042354, 4.764221933792507, 22.90880917995928, 28.53367238709913, 4.771413280462342, 9.508718904102363, 9.5048007921562, 71.78937066734426, 205.97591979764044, 21.972266235492604, 86.47709926401122, 187.45803219304128, 140.82348691968693, 10.484843832136733, 14.25206655334371, 11.438311726339524, 10.389764437872742, 15.298280772520428, 325.4929775782653, 202.97981909011128, 38.41924858075103, 525.3976677422135, 156.51860950035658, 172.18532297143972, 102.13023854374882, 57.5619360382877, 886.4445390945816, 118.47666428623573, 352.4504995781037, 396.37218600113613, 622.3656655298585, 90.3185579124292, 93.12921148936088, 81.18136682962351, 83.73980544093789, 71.25656100003178, 251.31306841048456, 280.20927684667527, 617.1648852181819, 75.95011922588655, 312.65216622540396, 380.8106760911592, 420.06878452821394, 980.1314091737011, 264.3908937186402, 280.9104666295845, 196.00482035397957, 353.7894295623005, 50.43794844392558, 50.44214830437211, 50.439697751735906, 53.20016373766353, 6.311363895771351, 6.31109147316341, 59.58005655863853, 61.401070199653255, 11.651845414231436, 12.671611916413212, 64.23804250063607, 8.073466430557012, 5.4269509558605815, 13.544578177818513, 6.351064226818653, 10.891267881021625, 4.527389287592076, 4.543761456302776, 4.536233748225021, 3.6276164291017055, 3.627535176381517, 3.6274108042549513, 3.6271332438952593, 6.343971308537109, 3.6303070557587596, 13.65312321875094, 4.535566841652216, 9.056983478811414, 10.87613211338005, 4.534036548496476, 11.798801356485333, 19.10021304187324, 115.87479564926264, 21.926177088055805, 6.329858321469275, 15.600350674168801, 24.6450325203786, 160.236362128681, 23.82677394886221, 20.064431214739756, 103.98439498797455, 617.1648852181819, 24.789871914080297, 15.502162468709404, 659.9009520410922, 36.89119915387169, 333.4071121733894, 53.18845092168463, 798.5358446729316, 803.7769017716406, 420.06878452821394, 82.06531677639981, 113.62727402112623, 600.2414995711423, 508.2683894724486, 271.79556906111105, 105.76184414888644, 138.02564997239546, 886.4445390945816, 366.9549718581419, 369.6930635193185, 177.2199501279318, 396.37218600113613, 187.45803219304128, 352.4504995781037, 342.04669262675503, 9.43828943283422, 5.6560219739563555, 11.270820508788425, 5.659219253727668, 5.659240180048267, 10.362964363897545, 5.634427588178777, 5.634028403348596, 5.633631360673405, 5.6329401769896545, 6.581854546821683, 4.708447921675591, 4.708613898756497, 4.7085863967691655, 4.7162536894649625, 4.716675595783839, 3.7696913514693553, 8.461115413085, 12.980963655291934, 9.401952726798388, 4.7158058611730445, 4.715516586047016, 4.715990480266127, 4.715689094483158, 4.71568932144709, 3.752571656208072, 3.7529179690631964, 3.7807189812553044, 3.7810798927916527, 3.7811083192853685, 13.176530734200723, 4.728353851118713, 64.95277454178564, 21.5393743442493, 9.316797405077898, 19.841323142952966, 25.26006818973284, 24.523898547952474, 28.886197024672946, 51.13936154804837, 9.377281988289113, 7.567224872280941, 29.2787678467444, 279.7523534579542, 17.022235136119352, 45.80266963746291, 73.83468238151856, 13.058196621243924, 36.1741813781516, 103.9393529936428, 271.79556906111105, 65.37316587552051, 72.75882255129352, 248.12636375784274, 67.72571948946496, 35.05135011671654, 83.73980544093789, 100.82368645859691, 154.81180145663322, 93.8941251115127, 237.19101466265175, 886.4445390945816, 60.45141737910638, 202.97981909011128, 168.5853741559709, 617.1648852181819, 798.5358446729316, 803.7769017716406, 420.06878452821394, 110.36590492425825, 160.236362128681, 93.12921148936088, 145.87087940746972, 280.20927684667527, 380.8106760911592, 325.4929775782653, 296.69838290204524, 396.37218600113613, 210.98439965026543, 43.431615905340415, 22.185478019136845, 22.184987384863813, 26.03792899306081, 25.060114354361595, 50.0795732905305, 19.28662587426425, 15.378514796793665, 8.647452548314371, 8.64734580751235, 7.628852490884157, 11.532922092587247, 10.540923225392717, 3.8363054376786305, 4.789703966133067, 5.755828974215195, 11.508484204476428, 33.62107711793358, 25.05492218577833, 8.636106110060581, 5.704516031025558, 3.8306713605926292, 4.796139782097388, 3.8341530319711135, 4.79076038934501, 3.8349985820954444, 6.711738802744063, 3.837754583564925, 3.82965920079627, 5.74983913156538, 40.2299469052039, 47.08861513222342, 17.892768310513418, 117.34309420485482, 18.05535640445836, 54.955774774111944, 58.746121866909895, 31.50018359058081, 253.018962806032, 52.9823547052135, 54.8259417434216, 26.539069121035467, 193.56767343084599, 58.24152090950455, 55.565596598954826, 220.06167897136217, 80.07822323093227, 251.31306841048456, 74.56297248962778, 980.1314091737011, 45.288800167927306, 622.3656655298585, 886.4445390945816, 659.9009520410922, 617.1648852181819, 259.2339247063607, 94.44955621099609, 380.8106760911592, 803.7769017716406, 798.5358446729316, 342.04669262675503], \"Category\": [\"Default\", \"Default\", \"Default\", \"Default\", \"Default\", \"Default\", \"Default\", \"Default\", \"Default\", \"Default\", \"Default\", \"Default\", \"Default\", \"Default\", \"Default\", \"Default\", \"Default\", \"Default\", \"Default\", \"Default\", \"Default\", \"Default\", \"Default\", \"Default\", \"Default\", \"Default\", \"Default\", \"Default\", \"Default\", \"Default\", \"Topic1\", \"Topic1\", \"Topic1\", \"Topic1\", \"Topic1\", \"Topic1\", \"Topic1\", \"Topic1\", \"Topic1\", \"Topic1\", \"Topic1\", \"Topic1\", \"Topic1\", \"Topic1\", \"Topic1\", \"Topic1\", \"Topic1\", \"Topic1\", \"Topic1\", \"Topic1\", \"Topic1\", \"Topic1\", \"Topic1\", \"Topic1\", \"Topic1\", \"Topic1\", \"Topic1\", \"Topic1\", \"Topic1\", \"Topic1\", \"Topic1\", \"Topic1\", \"Topic1\", \"Topic1\", \"Topic1\", \"Topic1\", \"Topic1\", \"Topic1\", \"Topic1\", \"Topic1\", \"Topic1\", \"Topic1\", \"Topic1\", \"Topic1\", \"Topic1\", \"Topic1\", \"Topic1\", \"Topic1\", \"Topic1\", \"Topic1\", \"Topic1\", \"Topic1\", \"Topic1\", \"Topic1\", \"Topic1\", \"Topic1\", \"Topic1\", \"Topic1\", \"Topic2\", \"Topic2\", \"Topic2\", \"Topic2\", \"Topic2\", \"Topic2\", \"Topic2\", \"Topic2\", \"Topic2\", \"Topic2\", \"Topic2\", \"Topic2\", \"Topic2\", \"Topic2\", \"Topic2\", \"Topic2\", \"Topic2\", \"Topic2\", \"Topic2\", \"Topic2\", \"Topic2\", \"Topic2\", \"Topic2\", \"Topic2\", \"Topic2\", \"Topic2\", \"Topic2\", \"Topic2\", \"Topic2\", \"Topic2\", \"Topic2\", \"Topic2\", \"Topic2\", \"Topic2\", \"Topic2\", \"Topic2\", \"Topic2\", \"Topic2\", \"Topic2\", \"Topic2\", \"Topic2\", \"Topic2\", \"Topic2\", \"Topic2\", \"Topic2\", \"Topic2\", \"Topic2\", \"Topic2\", \"Topic2\", \"Topic2\", \"Topic2\", \"Topic2\", \"Topic2\", \"Topic2\", \"Topic2\", \"Topic2\", \"Topic2\", \"Topic3\", \"Topic3\", \"Topic3\", \"Topic3\", \"Topic3\", \"Topic3\", \"Topic3\", \"Topic3\", \"Topic3\", \"Topic3\", \"Topic3\", \"Topic3\", \"Topic3\", \"Topic3\", \"Topic3\", \"Topic3\", \"Topic3\", \"Topic3\", \"Topic3\", \"Topic3\", \"Topic3\", \"Topic3\", \"Topic3\", \"Topic3\", \"Topic3\", \"Topic3\", \"Topic3\", \"Topic3\", \"Topic3\", \"Topic3\", \"Topic3\", \"Topic3\", \"Topic3\", \"Topic3\", \"Topic3\", \"Topic3\", \"Topic3\", \"Topic3\", \"Topic3\", \"Topic3\", \"Topic3\", \"Topic3\", \"Topic3\", \"Topic3\", \"Topic3\", \"Topic3\", \"Topic3\", \"Topic3\", \"Topic3\", \"Topic3\", \"Topic3\", \"Topic3\", \"Topic3\", \"Topic3\", \"Topic3\", \"Topic3\", \"Topic3\", \"Topic3\", \"Topic3\", \"Topic3\", \"Topic3\", \"Topic3\", \"Topic3\", \"Topic3\", \"Topic3\", \"Topic3\", \"Topic3\", \"Topic3\", \"Topic3\", \"Topic3\", \"Topic3\", \"Topic3\", \"Topic3\", \"Topic3\", \"Topic4\", \"Topic4\", \"Topic4\", \"Topic4\", \"Topic4\", \"Topic4\", \"Topic4\", \"Topic4\", \"Topic4\", \"Topic4\", \"Topic4\", \"Topic4\", \"Topic4\", \"Topic4\", \"Topic4\", \"Topic4\", \"Topic4\", \"Topic4\", \"Topic4\", \"Topic4\", \"Topic4\", \"Topic4\", \"Topic4\", \"Topic4\", \"Topic4\", \"Topic4\", \"Topic4\", \"Topic4\", \"Topic4\", \"Topic4\", \"Topic4\", \"Topic4\", \"Topic4\", \"Topic4\", \"Topic4\", \"Topic4\", \"Topic4\", \"Topic4\", \"Topic4\", \"Topic4\", \"Topic4\", \"Topic4\", \"Topic4\", \"Topic4\", \"Topic4\", \"Topic4\", \"Topic4\", \"Topic4\", \"Topic4\", \"Topic4\", \"Topic4\", \"Topic4\", \"Topic4\", \"Topic4\", \"Topic4\", \"Topic4\", \"Topic4\", \"Topic4\", \"Topic4\", \"Topic4\", \"Topic4\", \"Topic4\", \"Topic4\", \"Topic4\", \"Topic4\", \"Topic4\", \"Topic4\", \"Topic4\", \"Topic4\", \"Topic4\", \"Topic4\", \"Topic4\", \"Topic4\", \"Topic4\", \"Topic4\", \"Topic4\", \"Topic4\", \"Topic4\", \"Topic4\", \"Topic5\", \"Topic5\", \"Topic5\", \"Topic5\", \"Topic5\", \"Topic5\", \"Topic5\", \"Topic5\", \"Topic5\", \"Topic5\", \"Topic5\", \"Topic5\", \"Topic5\", \"Topic5\", \"Topic5\", \"Topic5\", \"Topic5\", \"Topic5\", \"Topic5\", \"Topic5\", \"Topic5\", \"Topic5\", \"Topic5\", \"Topic5\", \"Topic5\", \"Topic5\", \"Topic5\", \"Topic5\", \"Topic5\", \"Topic5\", \"Topic5\", \"Topic5\", \"Topic5\", \"Topic5\", \"Topic5\", \"Topic5\", \"Topic5\", \"Topic5\", \"Topic5\", \"Topic5\", \"Topic5\", \"Topic5\", \"Topic5\", \"Topic5\", \"Topic5\", \"Topic5\", \"Topic5\", \"Topic5\", \"Topic5\", \"Topic5\", \"Topic5\", \"Topic5\", \"Topic5\", \"Topic5\", \"Topic5\", \"Topic5\", \"Topic5\", \"Topic5\", \"Topic5\", \"Topic5\", \"Topic5\", \"Topic5\", \"Topic5\", \"Topic5\", \"Topic5\", \"Topic5\", \"Topic5\", \"Topic5\", \"Topic5\", \"Topic5\", \"Topic5\", \"Topic5\", \"Topic5\", \"Topic5\", \"Topic5\", \"Topic5\", \"Topic5\", \"Topic5\", \"Topic5\", \"Topic5\", \"Topic5\", \"Topic5\", \"Topic5\", \"Topic5\", \"Topic5\", \"Topic6\", \"Topic6\", \"Topic6\", \"Topic6\", \"Topic6\", \"Topic6\", \"Topic6\", \"Topic6\", \"Topic6\", \"Topic6\", \"Topic6\", \"Topic6\", \"Topic6\", \"Topic6\", \"Topic6\", \"Topic6\", \"Topic6\", \"Topic6\", \"Topic6\", \"Topic6\", \"Topic6\", \"Topic6\", \"Topic6\", \"Topic6\", \"Topic6\", \"Topic6\", \"Topic6\", \"Topic6\", \"Topic6\", \"Topic6\", \"Topic6\", \"Topic6\", \"Topic6\", \"Topic6\", \"Topic6\", \"Topic6\", \"Topic6\", \"Topic6\", \"Topic6\", \"Topic6\", \"Topic6\", \"Topic6\", \"Topic6\", \"Topic6\", \"Topic6\", \"Topic6\", \"Topic6\", \"Topic6\", \"Topic6\", \"Topic6\", \"Topic6\", \"Topic6\", \"Topic6\", \"Topic6\", \"Topic6\", \"Topic6\", \"Topic6\", \"Topic6\", \"Topic6\", \"Topic6\", \"Topic6\", \"Topic6\", \"Topic6\", \"Topic6\", \"Topic6\", \"Topic6\", \"Topic6\", \"Topic6\", \"Topic7\", \"Topic7\", \"Topic7\", \"Topic7\", \"Topic7\", \"Topic7\", \"Topic7\", \"Topic7\", \"Topic7\", \"Topic7\", \"Topic7\", \"Topic7\", \"Topic7\", \"Topic7\", \"Topic7\", \"Topic7\", \"Topic7\", \"Topic7\", \"Topic7\", \"Topic7\", \"Topic7\", \"Topic7\", \"Topic7\", \"Topic7\", \"Topic7\", \"Topic7\", \"Topic7\", \"Topic7\", \"Topic7\", \"Topic7\", \"Topic7\", \"Topic7\", \"Topic7\", \"Topic7\", \"Topic7\", \"Topic7\", \"Topic7\", \"Topic7\", \"Topic7\", \"Topic7\", \"Topic7\", \"Topic7\", \"Topic7\", \"Topic7\", \"Topic7\", \"Topic7\", \"Topic7\", \"Topic7\", \"Topic7\", \"Topic7\", \"Topic7\", \"Topic7\", \"Topic7\", \"Topic7\", \"Topic7\", \"Topic7\", \"Topic7\", \"Topic7\", \"Topic7\", \"Topic7\", \"Topic7\", \"Topic7\", \"Topic7\", \"Topic7\", \"Topic7\", \"Topic7\", \"Topic7\", \"Topic7\", \"Topic7\", \"Topic7\", \"Topic7\", \"Topic7\", \"Topic7\", \"Topic7\", \"Topic7\", \"Topic7\", \"Topic7\", \"Topic7\", \"Topic7\", \"Topic7\", \"Topic7\", \"Topic7\", \"Topic7\", \"Topic8\", \"Topic8\", \"Topic8\", \"Topic8\", \"Topic8\", \"Topic8\", \"Topic8\", \"Topic8\", \"Topic8\", \"Topic8\", \"Topic8\", \"Topic8\", \"Topic8\", \"Topic8\", \"Topic8\", \"Topic8\", \"Topic8\", \"Topic8\", \"Topic8\", \"Topic8\", \"Topic8\", \"Topic8\", \"Topic8\", \"Topic8\", \"Topic8\", \"Topic8\", \"Topic8\", \"Topic8\", \"Topic8\", \"Topic8\", \"Topic8\", \"Topic8\", \"Topic8\", \"Topic8\", \"Topic8\", \"Topic8\", \"Topic8\", \"Topic8\", \"Topic8\", \"Topic8\", \"Topic8\", \"Topic8\", \"Topic8\", \"Topic8\", \"Topic8\", \"Topic8\", \"Topic8\", \"Topic8\", \"Topic8\", \"Topic8\", \"Topic8\", \"Topic8\", \"Topic8\", \"Topic8\", \"Topic8\", \"Topic8\", \"Topic8\", \"Topic8\", \"Topic8\", \"Topic8\", \"Topic8\", \"Topic8\", \"Topic8\", \"Topic8\", \"Topic8\", \"Topic8\", \"Topic9\", \"Topic9\", \"Topic9\", \"Topic9\", \"Topic9\", \"Topic9\", \"Topic9\", \"Topic9\", \"Topic9\", \"Topic9\", \"Topic9\", \"Topic9\", \"Topic9\", \"Topic9\", \"Topic9\", \"Topic9\", \"Topic9\", \"Topic9\", \"Topic9\", \"Topic9\", \"Topic9\", \"Topic9\", \"Topic9\", \"Topic9\", \"Topic9\", \"Topic9\", \"Topic9\", \"Topic9\", \"Topic9\", \"Topic9\", \"Topic9\", \"Topic9\", \"Topic9\", \"Topic9\", \"Topic9\", \"Topic9\", \"Topic9\", \"Topic9\", \"Topic9\", \"Topic9\", \"Topic9\", \"Topic9\", \"Topic9\", \"Topic9\", \"Topic9\", \"Topic9\", \"Topic9\", \"Topic9\", \"Topic9\", \"Topic9\", \"Topic9\", \"Topic9\", \"Topic9\", \"Topic9\", \"Topic9\", \"Topic9\", \"Topic9\", \"Topic9\", \"Topic9\", \"Topic9\", \"Topic9\", \"Topic9\", \"Topic9\", \"Topic9\", \"Topic9\", \"Topic9\", \"Topic9\", \"Topic9\", \"Topic9\", \"Topic9\", \"Topic9\", \"Topic9\", \"Topic9\", \"Topic9\", \"Topic9\", \"Topic9\", \"Topic9\", \"Topic9\", \"Topic9\", \"Topic10\", \"Topic10\", \"Topic10\", \"Topic10\", \"Topic10\", \"Topic10\", \"Topic10\", \"Topic10\", \"Topic10\", \"Topic10\", \"Topic10\", \"Topic10\", \"Topic10\", \"Topic10\", \"Topic10\", \"Topic10\", \"Topic10\", \"Topic10\", \"Topic10\", \"Topic10\", \"Topic10\", \"Topic10\", \"Topic10\", \"Topic10\", \"Topic10\", \"Topic10\", \"Topic10\", \"Topic10\", \"Topic10\", \"Topic10\", \"Topic10\", \"Topic10\", \"Topic10\", \"Topic10\", \"Topic10\", \"Topic10\", \"Topic10\", \"Topic10\", \"Topic10\", \"Topic10\", \"Topic10\", \"Topic10\", \"Topic10\", \"Topic10\", \"Topic10\", \"Topic10\", \"Topic10\", \"Topic10\", \"Topic10\", \"Topic10\", \"Topic10\", \"Topic10\", \"Topic10\", \"Topic10\", \"Topic10\", \"Topic10\", \"Topic10\", \"Topic10\", \"Topic10\", \"Topic10\", \"Topic10\"], \"logprob\": [30.0, 29.0, 28.0, 27.0, 26.0, 25.0, 24.0, 23.0, 22.0, 21.0, 20.0, 19.0, 18.0, 17.0, 16.0, 15.0, 14.0, 13.0, 12.0, 11.0, 10.0, 9.0, 8.0, 7.0, 6.0, 5.0, 4.0, 3.0, 2.0, 1.0, -6.1055, -6.9692, -6.4568, -6.6065, -7.0661, -7.0685, -6.52, -7.3679, -4.0617, -7.4886, -7.4912, -4.0927, -5.8636, -7.2801, -5.8937, -7.28, -7.639, -4.6442, -6.7523, -6.6473, -3.9984, -7.2917, -6.7637, -4.0746, -7.4017, -4.056, -6.5151, -6.516, -6.9692, -3.9007, -4.8591, -6.8507, -3.9848, -3.8949, -6.851, -3.9196, -3.6395, -6.5319, -3.5749, -5.7831, -3.4967, -4.2832, -5.1705, -6.1995, -4.073, -5.0337, -5.5104, -4.1602, -4.8042, -5.1075, -5.2429, -4.6973, -4.7591, -5.1798, -5.3364, -5.1909, -5.2889, -5.4326, -4.9864, -4.9865, -4.9871, -4.9873, -4.9877, -4.9883, -6.8227, -6.9227, -6.9248, -6.9252, -6.3991, -4.2504, -7.1497, -7.1496, -5.3327, -7.2881, -7.2881, -7.2881, -7.2882, -7.2881, -6.6644, -7.6026, -4.8602, -7.2007, -5.3393, -4.6349, -7.6407, -7.6406, -6.7235, -7.6407, -3.9982, -4.174, -6.1892, -5.2315, -5.3127, -4.0172, -5.8214, -5.0759, -5.0271, -3.3469, -3.9667, -5.4649, -6.3252, -4.2006, -4.5185, -4.6181, -4.7757, -4.9533, -4.6895, -3.9613, -4.741, -4.1264, -4.135, -4.4578, -4.8689, -4.947, -5.2047, -7.1597, -6.8605, -7.0649, -6.864, -7.0662, -7.1859, -6.2788, -6.9738, -6.577, -6.8883, -7.0902, -6.1111, -7.3421, -6.1181, -7.2127, -7.2127, -6.8957, -5.8313, -6.82, -6.6034, -7.529, -7.5272, -7.5272, -7.5272, -5.8589, -6.4488, -6.5084, -6.2582, -7.5656, -7.0569, -5.361, -6.039, -6.1013, -5.4355, -6.1889, -6.4416, -6.3075, -6.017, -4.4376, -6.052, -6.6449, -4.4233, -5.0729, -3.6877, -3.6993, -4.3665, -5.2385, -5.895, -6.1346, -5.0108, -4.8104, -5.6395, -4.9522, -4.6551, -4.8731, -5.7373, -5.992, -5.0913, -4.4818, -4.7677, -5.0237, -5.7362, -4.817, -5.2486, -5.3769, -5.6915, -5.2805, -5.2081, -5.6987, -5.5084, -5.5185, -5.5045, -5.5283, -5.5747, -7.1095, -7.1112, -6.8949, -6.4934, -6.3785, -6.6539, -6.6539, -7.1481, -7.1615, -6.9418, -7.4597, -7.4593, -6.8546, -7.4607, -6.6915, -7.3104, -7.3175, -7.3288, -6.7204, -6.8752, -7.3381, -7.3381, -7.3381, -7.3381, -7.4973, -6.9838, -5.313, -7.9207, -7.9207, -7.9208, -7.5143, -7.2455, -7.2463, -5.419, -5.8893, -6.4235, -6.4149, -4.7412, -6.8995, -7.0585, -6.3805, -6.6191, -7.0703, -6.3401, -4.3699, -6.0248, -4.6694, -5.8846, -5.8074, -4.6872, -5.6343, -5.4082, -5.4417, -4.5402, -4.6541, -5.4207, -4.1615, -5.419, -5.5342, -4.3463, -5.4354, -4.3565, -5.5419, -4.5278, -4.5897, -5.3264, -5.1749, -5.1102, -4.6087, -5.6363, -5.7947, -4.9915, -5.3717, -5.5246, -5.5144, -5.3151, -5.4091, -5.497, -5.4906, -6.0107, -6.5815, -6.7795, -6.7037, -6.6183, -6.9156, -7.33, -7.0771, -7.5545, -7.5545, -7.5545, -6.761, -7.5574, -7.5565, -7.3786, -7.3869, -7.7884, -7.7884, -7.7885, -7.3839, -7.7959, -7.5783, -6.4848, -7.6025, -7.4294, -7.4408, -7.6218, -7.8507, -7.8494, -7.8495, -7.4468, -7.4467, -7.4468, -6.0699, -5.7702, -6.666, -7.3272, -7.4468, -7.4468, -6.5259, -6.958, -6.5613, -6.9558, -6.5373, -5.295, -6.0814, -5.2232, -5.9864, -5.5971, -6.5647, -5.3503, -5.1567, -4.4006, -5.4906, -6.6249, -5.6424, -6.4344, -5.109, -5.6778, -5.6858, -4.278, -4.6987, -5.4933, -4.7803, -5.3254, -4.7047, -5.8188, -5.924, -5.2824, -4.8838, -5.5174, -4.8702, -4.9619, -5.0142, -4.917, -5.2486, -5.022, -5.0597, -5.2764, -5.5054, -5.4189, -5.4667, -5.5415, -5.5636, -5.5719, -6.354, -6.4426, -7.0073, -5.518, -7.2226, -7.2227, -7.0689, -7.0689, -6.3933, -5.4116, -7.4535, -6.9934, -7.1291, -6.8943, -7.4817, -4.6209, -7.3099, -7.4981, -7.498, -7.7383, -7.7456, -7.745, -7.7518, -6.362, -7.5284, -7.0586, -7.7594, -5.7095, -7.356, -7.5487, -5.7474, -6.3376, -4.8518, -5.8802, -6.085, -5.2391, -6.5194, -5.0936, -3.9945, -5.5371, -5.9483, -5.8293, -3.5667, -5.8832, -5.2595, -4.2723, -5.8706, -4.1742, -5.3167, -6.2292, -3.7524, -5.8964, -4.849, -5.4811, -5.4334, -4.8182, -4.8067, -5.2665, -4.9404, -4.9171, -5.1377, -5.1303, -5.2639, -5.4838, -5.4065, -5.1363, -5.2609, -5.325, -6.943, -6.9605, -6.9627, -6.7471, -6.4874, -7.4431, -7.4979, -7.718, -7.718, -7.718, -7.718, -7.718, -7.718, -7.718, -7.7181, -7.499, -7.4994, -7.5026, -7.5002, -7.5035, -6.7184, -7.1691, -7.1715, -7.7345, -7.3342, -7.5321, -7.7516, -7.532, -7.532, -7.5321, -6.3792, -6.4409, -5.8586, -7.3607, -6.83, -6.6318, -7.532, -6.2178, -6.0386, -7.532, -6.9602, -6.9621, -5.3044, -4.4926, -6.2966, -5.2382, -4.7339, -4.9503, -6.9136, -6.702, -6.8662, -6.937, -6.6681, -4.5899, -4.9181, -6.0528, -4.3181, -5.1295, -5.074, -5.4184, -5.8053, -4.0658, -5.3859, -4.7311, -4.6607, -4.4991, -5.5937, -5.5937, -5.6904, -5.6777, -5.7602, -5.1724, -5.1265, -4.8447, -5.7445, -5.1644, -5.1584, -5.2891, -5.1102, -5.4817, -5.5495, -5.6467, -5.6086, -4.9902, -4.9902, -4.9904, -4.9513, -7.1003, -7.1008, -4.8733, -4.8528, -6.5262, -6.4429, -4.8226, -6.9147, -7.3218, -6.4112, -7.1879, -6.6521, -7.5366, -7.5365, -7.5427, -7.7704, -7.7704, -7.7705, -7.7706, -7.231, -7.7901, -6.4708, -7.5738, -6.8849, -6.7055, -7.5847, -6.657, -6.2038, -4.6068, -6.1451, -7.2733, -6.4871, -6.0947, -4.472, -6.1367, -6.2822, -5.041, -3.6802, -6.1793, -6.5527, -4.0331, -5.9707, -4.6045, -5.7735, -4.2193, -4.242, -4.6653, -5.5763, -5.4921, -4.797, -4.8943, -5.1681, -5.5888, -5.4863, -4.749, -5.145, -5.2732, -5.512, -5.2729, -5.5355, -5.4508, -5.5403, -6.6156, -7.1322, -6.4788, -7.1687, -7.1688, -6.5748, -7.1989, -7.1998, -7.201, -7.2024, -7.0571, -7.3962, -7.3962, -7.3962, -7.3962, -7.3962, -7.6301, -6.8251, -6.4061, -6.7302, -7.4492, -7.4509, -7.4514, -7.4537, -7.4538, -7.6913, -7.6914, -7.6912, -7.6912, -7.6912, -6.4602, -7.4747, -4.9765, -6.0554, -6.8652, -6.2082, -6.0767, -6.1099, -5.9918, -5.5443, -6.9035, -7.0731, -6.0238, -4.4172, -6.476, -5.7736, -5.4352, -6.6796, -5.9674, -5.284, -4.6573, -5.5948, -5.5276, -4.7775, -5.6084, -6.0522, -5.5268, -5.4173, -5.1985, -5.5202, -5.0206, -4.3278, -5.7663, -5.2063, -5.2979, -4.7436, -4.6393, -4.6755, -4.9504, -5.5604, -5.4296, -5.6379, -5.4967, -5.3017, -5.2474, -5.4224, -5.4467, -5.4348, -5.5804, -4.9306, -5.6214, -5.6215, -5.466, -5.5162, -4.8485, -5.8256, -6.0832, -6.7029, -6.703, -6.8421, -6.4305, -6.5297, -7.5436, -7.3303, -7.1597, -6.4673, -5.3993, -5.7131, -6.7789, -7.1986, -7.6045, -7.3804, -7.6055, -7.3912, -7.6217, -7.0712, -7.632, -7.6349, -7.232, -5.2922, -5.2012, -6.1419, -4.464, -6.181, -5.1898, -5.1518, -5.7184, -3.9944, -5.3397, -5.3293, -5.9556, -4.4949, -5.4015, -5.5089, -4.7141, -5.3828, -4.7992, -5.4654, -4.2689, -5.7794, -4.8072, -4.7201, -4.8431, -4.9663, -5.2623, -5.5303, -5.483, -5.4376, -5.4452, -5.502], \"loglift\": [30.0, 29.0, 28.0, 27.0, 26.0, 25.0, 24.0, 23.0, 22.0, 21.0, 20.0, 19.0, 18.0, 17.0, 16.0, 15.0, 14.0, 13.0, 12.0, 11.0, 10.0, 9.0, 8.0, 7.0, 6.0, 5.0, 4.0, 3.0, 2.0, 1.0, 1.8764, 1.8468, 1.8309, 1.8281, 1.8276, 1.825, 1.8141, 1.8122, 1.812, 1.8091, 1.8063, 1.8049, 1.7967, 1.7934, 1.7908, 1.7907, 1.7907, 1.7902, 1.7895, 1.7855, 1.7828, 1.7806, 1.777, 1.7758, 1.7726, 1.7701, 1.769, 1.7681, 1.7668, 1.7637, 1.7418, 1.7454, 1.555, 1.5254, 1.7451, 1.4003, 1.3621, 1.699, 1.2603, 1.5331, 0.8481, 1.0071, 1.226, 1.545, 0.6675, 1.0483, 1.1282, 0.2852, 0.446, 0.6111, 0.6833, -0.1541, -0.2093, 0.2434, 0.3187, -0.3835, -0.0967, -0.6335, 2.0226, 2.0225, 2.0218, 2.0218, 2.0213, 2.0207, 2.0051, 1.9919, 1.9897, 1.9893, 1.9684, 1.9684, 1.9657, 1.9622, 1.9531, 1.9408, 1.9408, 1.9408, 1.9408, 1.9408, 1.9397, 1.9182, 1.918, 1.9157, 1.893, 1.8882, 1.8788, 1.8788, 1.8774, 1.876, 1.8692, 1.8629, 1.8652, 1.8525, 1.8394, 1.7465, 1.8244, 1.7515, 1.693, 1.4522, 1.5207, 1.703, 1.8103, 1.3939, 1.4359, 1.2739, 1.1612, 1.23, 0.9656, 0.484, 0.8865, 0.4233, 0.4083, -0.1129, 0.5287, 0.5003, 0.6006, 2.0592, 2.0418, 2.0392, 2.0384, 2.0379, 2.0324, 2.0236, 2.0206, 2.0154, 2.0141, 2.0129, 2.0105, 2.0097, 2.0073, 2.007, 2.007, 2.0069, 2.0047, 1.9948, 1.99, 1.9788, 1.9785, 1.9785, 1.9785, 1.9745, 1.9601, 1.955, 1.9532, 1.939, 1.938, 1.9371, 1.9244, 1.9077, 1.8566, 1.889, 1.9067, 1.8598, 1.7903, 1.4453, 1.7397, 1.88, 1.1754, 1.3806, 0.8556, 0.8505, 0.9974, 1.3336, 1.5536, 1.6532, 1.0444, 0.9153, 1.3598, 0.9286, 0.7126, 0.724, 1.3371, 1.5196, 0.5836, -0.137, 0.0398, 0.2265, 1.2194, -0.3717, 0.3459, 0.515, 1.088, 0.0469, -0.2397, 0.9989, 0.1467, -0.0712, -0.6693, -0.7878, -0.5731, 2.089, 2.0873, 2.0781, 2.0749, 2.0654, 2.0627, 2.0627, 2.0518, 2.0366, 2.0342, 2.0281, 2.0272, 2.0267, 2.0259, 2.0247, 2.0236, 2.0148, 2.0031, 2.0027, 2.0022, 1.9982, 1.9981, 1.9979, 1.9976, 1.9935, 1.9928, 1.9775, 1.9732, 1.9731, 1.9731, 1.9727, 1.9587, 1.958, 1.8798, 1.8413, 1.8247, 1.8209, 1.4749, 1.8939, 1.927, 1.7303, 1.7746, 1.9164, 1.6853, 1.0278, 1.5686, 1.0563, 1.5056, 1.4591, 0.9877, 1.362, 1.2231, 1.2358, 0.7871, 0.7097, 1.0887, 0.1834, 1.0182, 1.0905, 0.2035, 1.0184, 0.1868, 1.0694, 0.2126, 0.2178, 0.7788, 0.6304, 0.5173, -0.1634, 0.9885, 1.1953, -0.1563, 0.4669, 0.7253, 0.5696, -0.3135, 0.0141, 0.2021, -0.5221, 2.216, 2.2086, 2.1926, 2.1763, 2.1708, 2.1658, 2.1565, 2.1237, 2.1155, 2.1155, 2.1155, 2.115, 2.1113, 2.1112, 2.1068, 2.1025, 2.1018, 2.1018, 2.1018, 2.0996, 2.0944, 2.0938, 2.0793, 2.0633, 2.0559, 2.0523, 2.0467, 2.0457, 2.044, 2.044, 2.0386, 2.0386, 2.0386, 1.9909, 1.8149, 1.9173, 2.0204, 2.0386, 2.0386, 1.862, 1.9444, 1.8364, 1.9285, 1.8056, 1.4165, 1.6511, 1.3904, 1.6169, 1.4843, 1.788, 1.3742, 1.2914, 0.9671, 1.2797, 1.7698, 1.3026, 1.6728, 0.975, 1.2785, 1.2809, 0.4625, 0.6286, 1.108, 0.5835, 0.9496, 0.4874, 1.2401, 1.2995, 0.6721, 0.0846, 0.7676, -0.0712, -0.1545, -0.179, -0.4717, 0.0713, -0.4788, -0.5099, -0.0262, 0.4615, -0.0213, -0.0195, 0.378, 0.1423, -0.5704, 2.3137, 2.3056, 2.2811, 2.2259, 2.2238, 2.2227, 2.2215, 2.2215, 2.2068, 2.1915, 2.1813, 2.1709, 2.1658, 2.1526, 2.1499, 2.1442, 2.1437, 2.134, 2.1339, 2.1189, 2.1172, 2.1124, 2.1072, 2.1059, 2.1048, 2.1026, 2.1009, 2.0978, 2.0977, 2.0895, 2.0657, 2.0747, 1.9993, 2.035, 2.0324, 1.9671, 2.0205, 1.857, 1.6437, 1.8486, 1.9076, 1.8682, 1.4017, 1.7897, 1.5724, 1.1509, 1.7006, 1.0179, 1.4806, 1.8217, 0.5925, 1.657, 0.9897, 1.3534, 1.284, 0.4721, 0.4435, 0.9129, 0.5068, 0.4102, 0.4593, 0.2673, 0.442, 0.7066, 0.4743, -0.6909, -0.5205, -0.4898, 2.2527, 2.2405, 2.232, 2.2306, 2.2261, 2.2247, 2.1744, 2.1737, 2.1737, 2.1737, 2.1737, 2.1737, 2.1737, 2.1737, 2.1737, 2.1713, 2.1709, 2.1678, 2.1677, 2.1669, 2.1637, 2.1635, 2.1627, 2.1575, 2.1566, 2.1437, 2.1401, 2.1394, 2.1394, 2.1394, 2.1298, 2.1287, 2.0165, 2.1204, 2.0494, 2.0043, 2.1394, 1.8832, 1.8428, 2.1379, 2.0201, 2.0187, 1.6544, 1.4122, 1.8462, 1.5345, 1.2651, 1.3348, 1.969, 1.8736, 1.9294, 1.9547, 1.8367, 0.8574, 1.0013, 1.5312, 0.6503, 1.0499, 1.01, 1.1879, 1.3744, 0.3796, 1.0719, 0.6365, 0.5895, 0.2999, 1.1355, 1.1048, 1.1455, 1.1271, 1.2061, 0.5335, 0.4706, -0.0373, 1.158, 0.3231, 0.1318, -0.097, -0.7653, 0.1734, 0.045, 0.3077, -0.2448, 2.3216, 2.3216, 2.3214, 2.3072, 2.2899, 2.2894, 2.2719, 2.2624, 2.2509, 2.2503, 2.2474, 2.2292, 2.2194, 2.2153, 2.1961, 2.1925, 2.1858, 2.1823, 2.1778, 2.1736, 2.1736, 2.1736, 2.1736, 2.154, 2.1531, 2.1478, 2.1468, 2.1441, 2.1405, 2.1363, 2.1075, 2.0791, 1.8733, 1.9998, 2.1139, 1.9981, 1.9333, 1.6839, 1.9251, 1.9514, 1.5473, 1.1272, 1.8428, 1.9389, 0.7073, 1.6539, 0.8187, 1.4852, 0.3305, 0.3012, 0.5268, 1.2488, 1.0075, 0.0383, 0.1072, 0.4595, 0.9826, 0.8189, -0.3036, 0.1823, 0.0467, 0.5432, -0.0227, 0.4635, -0.0832, -0.1427, 2.3722, 2.3677, 2.3315, 2.3305, 2.3305, 2.3196, 2.3047, 2.3039, 2.3028, 2.3016, 2.2911, 2.287, 2.287, 2.287, 2.2853, 2.2852, 2.2755, 2.272, 2.263, 2.2614, 2.2324, 2.2308, 2.2302, 2.228, 2.2278, 2.2188, 2.2186, 2.2114, 2.2114, 2.2114, 2.194, 2.2043, 2.0824, 2.1073, 2.1355, 2.0366, 1.9266, 1.923, 1.8774, 1.7537, 2.0907, 2.1357, 1.8319, 1.1814, 1.9221, 1.6346, 1.4955, 1.9836, 1.6769, 1.3048, 0.9702, 1.4577, 1.4179, 0.9411, 1.4087, 1.6235, 1.278, 1.2019, 0.9918, 1.1702, 0.7431, 0.1176, 1.3644, 0.7131, 0.8072, 0.0638, -0.0895, -0.1323, 0.2417, 0.9683, 0.7263, 1.0607, 0.7531, 0.2953, 0.0429, 0.0248, 0.0932, -0.1846, 0.3004, 2.5307, 2.5117, 2.5117, 2.5071, 2.495, 2.4705, 2.4476, 2.4164, 2.3724, 2.3724, 2.3585, 2.3569, 2.3476, 2.3445, 2.3358, 2.3227, 2.3222, 2.3182, 2.2984, 2.2977, 2.2928, 2.285, 2.2843, 2.2831, 2.2747, 2.2667, 2.2575, 2.2557, 2.2549, 2.2514, 2.2458, 2.1794, 2.2063, 2.0035, 2.1581, 2.0362, 2.0076, 2.0642, 1.7047, 1.9229, 1.8991, 1.9984, 1.472, 1.7664, 1.7061, 1.1245, 1.4668, 0.9067, 1.4555, 0.0759, 1.6401, -0.0081, -0.2747, -0.1027, -0.1589, 0.4125, 1.1542, -0.1927, -0.8944, -0.8954, -0.1043]}, \"token.table\": {\"Topic\": [1, 10, 1, 2, 3, 4, 5, 6, 7, 8, 9, 10, 3, 8, 1, 2, 3, 4, 8, 5, 1, 2, 3, 4, 5, 6, 7, 8, 9, 10, 1, 3, 5, 6, 8, 9, 10, 7, 10, 1, 2, 3, 4, 5, 6, 7, 8, 9, 10, 1, 2, 3, 4, 5, 6, 7, 8, 9, 1, 2, 3, 4, 5, 6, 7, 8, 9, 1, 2, 3, 4, 5, 6, 7, 8, 9, 10, 1, 2, 3, 4, 5, 6, 7, 8, 9, 10, 1, 2, 3, 4, 5, 6, 7, 8, 9, 10, 1, 2, 3, 4, 5, 6, 7, 8, 9, 10, 1, 2, 3, 4, 5, 6, 7, 8, 9, 10, 9, 1, 2, 3, 4, 5, 6, 7, 8, 10, 1, 10, 1, 2, 3, 4, 5, 6, 8, 9, 10, 4, 1, 2, 3, 4, 5, 6, 7, 8, 9, 10, 1, 2, 3, 4, 5, 6, 7, 8, 1, 2, 5, 6, 9, 2, 9, 7, 4, 5, 8, 1, 3, 6, 8, 9, 10, 9, 3, 8, 3, 1, 3, 4, 5, 6, 9, 7, 1, 2, 3, 4, 5, 6, 7, 8, 9, 10, 1, 2, 4, 5, 8, 10, 1, 2, 3, 4, 5, 6, 7, 8, 9, 10, 1, 2, 4, 6, 7, 4, 10, 2, 3, 7, 3, 4, 5, 7, 9, 10, 8, 4, 5, 7, 8, 2, 1, 9, 7, 10, 5, 9, 8, 9, 10, 3, 4, 5, 8, 9, 5, 1, 2, 4, 5, 6, 7, 8, 9, 10, 4, 10, 1, 9, 10, 1, 2, 3, 4, 5, 6, 7, 8, 9, 10, 7, 7, 1, 5, 6, 9, 3, 8, 5, 4, 7, 7, 1, 2, 3, 4, 5, 6, 7, 8, 9, 10, 4, 7, 8, 9, 2, 3, 5, 10, 1, 5, 6, 8, 2, 1, 2, 3, 4, 5, 6, 7, 8, 9, 10, 1, 4, 5, 3, 5, 6, 7, 8, 10, 1, 2, 5, 6, 7, 8, 9, 10, 10, 1, 2, 3, 5, 6, 7, 8, 9, 10, 1, 5, 5, 3, 6, 9, 9, 1, 3, 4, 8, 10, 1, 2, 3, 4, 6, 7, 8, 10, 1, 2, 3, 4, 5, 6, 7, 9, 10, 8, 5, 1, 2, 3, 5, 6, 7, 8, 9, 10, 9, 1, 2, 3, 4, 5, 6, 7, 8, 9, 10, 1, 1, 2, 3, 4, 5, 7, 8, 10, 4, 5, 6, 7, 9, 10, 1, 2, 3, 4, 5, 6, 7, 8, 9, 10, 9, 1, 2, 3, 4, 5, 6, 7, 8, 10, 1, 2, 3, 4, 5, 6, 7, 8, 9, 10, 1, 4, 9, 4, 7, 9, 10, 1, 3, 4, 5, 6, 10, 9, 7, 9, 2, 3, 4, 5, 7, 8, 9, 9, 1, 2, 3, 4, 5, 6, 7, 8, 9, 10, 4, 7, 1, 2, 3, 6, 7, 8, 8, 9, 4, 10, 6, 9, 10, 1, 4, 6, 10, 6, 3, 7, 9, 10, 7, 1, 4, 5, 10, 1, 2, 3, 4, 5, 6, 7, 9, 10, 1, 2, 3, 4, 5, 6, 7, 8, 9, 10, 1, 5, 6, 4, 8, 1, 2, 3, 4, 5, 6, 8, 9, 10, 1, 6, 7, 8, 1, 3, 8, 8, 6, 1, 2, 3, 4, 5, 6, 7, 8, 9, 10, 1, 3, 5, 6, 8, 5, 1, 3, 5, 7, 2, 10, 1, 2, 3, 4, 5, 6, 7, 8, 9, 10, 2, 3, 9, 2, 3, 9, 1, 2, 3, 4, 5, 6, 7, 8, 9, 10, 1, 3, 4, 5, 6, 7, 8, 9, 10, 8, 4, 6, 10, 1, 2, 3, 7, 8, 10, 1, 2, 3, 4, 6, 7, 8, 1, 2, 3, 4, 5, 6, 7, 8, 9, 10, 9, 1, 3, 5, 8, 9, 9, 10, 1, 2, 3, 5, 6, 7, 8, 9, 10, 2, 3, 6, 8, 9, 10, 1, 2, 5, 10, 1, 2, 3, 4, 5, 7, 8, 9, 10, 1, 2, 3, 4, 5, 6, 7, 8, 9, 10, 6, 7, 4, 10, 1, 6, 8, 1, 2, 4, 5, 7, 8, 7, 3, 1, 2, 4, 5, 6, 7, 4, 1, 5, 9, 9, 7, 1, 2, 3, 4, 5, 9, 10, 5, 8, 1, 2, 3, 4, 6, 7, 8, 9, 10, 1, 2, 3, 4, 5, 6, 7, 9, 10, 1, 3, 4, 5, 7, 9, 10, 1, 4, 7, 8, 9, 10, 4, 1, 1, 2, 4, 5, 6, 7, 9, 10, 6, 1, 1, 2, 3, 4, 5, 6, 8, 9, 7, 2, 5, 7, 8, 9, 1, 3, 5, 9, 10, 1, 8, 1, 2, 3, 4, 5, 6, 7, 8, 9, 10, 6, 1, 2, 3, 4, 5, 6, 7, 8, 9, 4, 5, 7, 8, 10, 4, 9, 9, 1, 10, 9, 10, 1, 2, 3, 4, 5, 6, 7, 8, 9, 10, 3, 7, 10, 3, 7, 10, 1, 2, 3, 4, 5, 6, 7, 8, 9, 10, 1, 3, 4, 5, 6, 9, 1, 2, 3, 4, 5, 6, 7, 8, 9, 10, 1, 2, 3, 4, 5, 6, 7, 8, 9, 10, 1, 2, 3, 4, 5, 6, 7, 8, 9, 10, 2, 1, 2, 3, 4, 5, 6, 7, 8, 9, 10, 7, 8, 5, 1, 3, 4, 5, 6, 7, 8, 9, 10, 7, 1, 3, 5, 8, 9, 10, 1, 2, 3, 4, 5, 6, 7, 8, 9, 10, 2, 1, 2, 3, 4, 5, 6, 7, 8, 5, 8, 1, 5, 8, 2, 3, 6, 1, 2, 3, 4, 5, 6, 7, 8, 9, 10, 1, 2, 3, 4, 5, 8, 9, 10, 1, 2, 3, 4, 5, 6, 7, 8, 9, 10, 1, 3, 8, 6, 9, 1, 2, 3, 4, 5, 6, 7, 8, 9, 10, 4, 1, 2, 3, 4, 5, 6, 7, 8, 9, 10, 5, 5, 1, 2, 3, 4, 5, 6, 7, 8, 9, 10, 1, 8, 3, 1, 2, 3, 4, 5, 6, 7, 8, 9, 2, 1, 2, 4, 8, 10, 5, 7, 8, 1, 2, 3, 4, 5, 6, 7, 8, 9, 10, 1, 2, 3, 4, 5, 6, 7, 9, 10, 1, 2, 3, 4, 5, 6, 7, 8, 9, 10, 1, 2, 3, 4, 5, 7, 8, 10, 1, 2, 3, 6, 7, 8, 9, 10, 10, 1, 3, 4, 5, 10, 9, 4, 6, 2, 3, 5, 6, 7, 9, 1, 2, 3, 4, 5, 7, 8, 9, 10, 3, 5, 1, 2, 3, 4, 5, 6, 7, 8, 9, 10, 4, 10, 9, 1, 2, 5, 6, 8, 7, 9, 5, 1, 2, 3, 4, 5, 6, 7, 8, 9, 10, 7, 7, 10, 1, 3, 5, 6, 7, 8, 2, 3, 5, 9, 2, 3, 4, 3, 2, 1, 3, 4, 6, 7, 8, 9, 3, 3, 4, 9, 7, 4, 5, 7, 7, 7, 3, 8, 9, 7, 2, 8, 10, 7, 8, 3, 8, 9, 5, 6, 6, 4, 6, 10, 3, 1, 3, 8, 8, 4, 1, 2, 3, 4, 5, 6, 7, 8, 9, 10, 1, 3, 5, 8, 9, 7, 1, 2, 3, 4, 5, 7, 9, 10, 1, 7, 10, 3, 1, 2, 3, 5, 8, 2, 1, 2, 3, 4, 5, 6, 7, 8, 9, 10, 1, 3, 4, 6, 7, 9, 10, 1, 3, 4, 5, 7, 8, 9, 10, 3, 6, 6, 1, 3, 5, 6, 8, 10, 1, 2, 4, 7, 8, 10, 1, 7, 8, 10, 1, 2, 3, 4, 5, 6, 7, 8, 9, 10, 9, 1, 2, 3, 4, 5, 6, 7, 8, 9, 10, 3, 7, 10, 1, 2, 3, 4, 5, 6, 7, 8, 9, 1, 2, 3, 4, 5, 6, 7, 8, 9, 10, 1, 2, 3, 1, 3, 4, 6, 7, 10, 1, 3, 4, 5, 6, 7, 8, 9, 1, 3, 4, 5, 6, 7, 8, 9, 10, 1, 2, 3, 4, 5, 6, 7, 8, 9, 10, 1, 3, 1, 2, 4, 5, 6, 7, 8, 9, 10, 1, 2, 3, 4, 5, 7, 8, 9, 1, 2, 3, 4, 5, 6, 7, 8, 9, 10, 1, 2, 3, 4, 5, 6, 7, 8, 9, 10, 1, 2, 3, 4, 5, 6, 7, 8, 9, 10, 1, 2, 4, 6, 7, 3, 4, 5, 6, 8, 6, 3, 7, 10, 6, 4, 9, 1, 2, 3, 4, 5, 6, 7, 8, 9, 10, 6, 7, 10, 1, 2, 3, 4, 5, 6, 7, 8, 9, 10, 10, 2, 3, 6, 7, 8, 9, 1, 2, 3, 4, 5, 6, 8, 9, 10, 3, 1, 2, 3, 4, 5, 6, 7, 8, 9, 10, 1, 2, 3, 4, 5, 6, 7, 9, 10, 7, 1, 3, 4, 5, 6, 7, 8, 9, 10, 5, 1, 2, 3, 4, 5, 6, 7, 8, 9, 10, 5, 1, 1, 8, 1, 2, 3, 4, 5, 6, 7, 8, 9, 10, 1, 2, 3, 4, 5, 6, 7, 8, 9, 10, 1, 8, 1, 2, 3, 4, 5, 6, 8, 9, 10, 1, 2, 4, 5, 6, 7, 8, 9, 1, 9, 2, 4, 5, 8, 9, 4, 7, 8, 1, 3, 4, 5, 7, 8, 9, 1, 2, 3, 4, 5, 6, 7, 8, 9, 10, 4, 9, 6, 1, 4, 5, 8, 9, 10, 1, 2, 3, 4, 5, 6, 7, 8, 9, 10, 2, 3, 4, 5, 7, 10, 2, 3, 9, 10, 5, 6, 7, 8, 10, 8, 9, 9, 7, 6, 7, 2, 1, 2, 3, 4, 5, 6, 7, 8, 9, 10, 6, 7, 1, 2, 3, 4, 5, 6, 7, 8, 10, 2, 3, 4, 6, 7, 1, 2, 5, 6, 7, 9, 10, 9, 1, 5, 6, 1, 4, 5, 1, 2, 3, 4, 5, 6, 7, 8, 9, 10, 2, 3, 4, 1, 7, 1, 2, 3, 4, 5, 6, 7, 8, 9, 10, 3, 5, 9, 1, 2, 4, 5, 6, 7, 9, 10, 5, 7, 1, 2, 3, 4, 5, 6, 7, 8, 9, 10, 1, 2, 3, 4, 5, 6, 7, 8, 9, 10, 1, 2, 3, 4, 5, 6, 7, 8, 9, 10, 1, 3, 5, 8, 9, 7, 1, 2, 3, 4, 5, 6, 7, 8, 9, 6, 7, 8, 1, 3, 5, 7, 8, 9, 10, 4, 5, 6, 1, 3, 4, 5, 7, 8, 9, 1, 2, 4, 5, 6, 7, 8, 9, 10, 1, 2, 3, 4, 5, 6, 7, 8, 9, 10, 5, 6, 1, 2, 3, 4, 5, 6, 7, 8, 9, 10, 5, 9, 1, 2, 6, 7, 8, 10, 1, 2, 9, 1, 2, 3, 4, 7, 8, 9, 7, 1, 2, 3, 4, 5, 6, 7, 8, 9, 10, 10, 2, 6, 7, 9, 1, 2, 3, 5, 6, 8, 9, 1, 2, 3, 4, 5, 6, 7, 8, 9, 10, 1, 2, 3, 5, 6, 7, 8, 9, 3, 4, 5, 6, 9, 1, 5, 1, 2, 3, 4, 6, 7, 8, 9, 10, 8, 1, 2, 3, 4, 5, 6, 7, 8, 9, 10, 9, 8, 2, 1, 3, 4, 6, 7, 9, 10, 1, 2, 3, 4, 6, 7, 8, 9, 10, 9, 1, 8, 2, 7, 10, 1, 2, 3, 4, 5, 6, 7, 8, 9, 10, 4, 10, 1, 3, 4, 5, 6, 7, 8, 1, 4, 9, 4, 1, 2, 3, 7, 7, 1, 3, 4, 5, 7, 10, 3, 5, 4, 5, 7, 9, 1, 9, 6, 8, 9, 1, 2, 3, 4, 5, 6, 7, 8, 9, 10, 7, 5, 1, 2, 3, 4, 5, 6, 7, 8, 9, 10, 1, 2, 3, 4, 5, 6, 7, 8, 9, 10, 1, 2, 3, 4, 5, 6, 7, 8, 9, 10, 1, 7, 10, 9, 1, 4, 3, 6, 1, 2, 5, 6, 8, 1, 5, 8, 1, 2, 3, 7, 9, 1, 2, 3, 4, 5, 6, 8, 10, 9, 1, 2, 3, 4, 7, 10, 5, 2, 4, 1, 2, 3, 4, 6, 7, 8, 9, 10, 5, 8, 2, 1, 2, 3, 4, 6, 7, 8, 9, 5, 1, 2, 3, 4, 5, 6, 7, 8, 9, 10, 4, 9, 6, 6, 5, 1, 2, 3, 4, 5, 6, 7, 8, 9, 10, 1, 2, 3, 4, 5, 6, 7, 8, 9, 10, 2, 1, 2, 3, 4, 5, 6, 7, 8, 9, 10, 1, 2, 6, 7, 10, 6, 1, 2, 3, 4, 5, 6, 7, 8, 10, 3, 5, 7, 10, 4, 4, 9, 1, 3, 9, 8, 1, 2, 3, 4, 6, 7, 8, 9, 1, 3, 4, 5, 7, 8, 9, 1, 2, 3, 4, 5, 6, 7, 8, 9, 10, 3, 1, 2, 3, 4, 5, 6, 7, 8, 9, 10, 1, 3, 7, 9, 1, 5, 8, 1, 2, 5, 6, 10, 1, 4, 2, 3, 9, 10, 1, 2, 3, 4, 5, 6, 7, 8, 9, 10, 5, 1, 2, 3, 4, 5, 6, 7, 8, 9, 10, 8, 1, 2, 3, 4, 5, 6, 7, 8, 9, 10, 2, 3, 5, 7, 8, 10, 1, 2, 3, 4, 5, 6, 7, 8, 9, 10, 9, 1, 2, 3, 4, 5, 6, 7, 8, 9, 10, 10, 4, 10, 1, 2, 3, 4, 5, 7, 9, 2, 4, 5, 8, 9, 4, 9, 2, 9, 1, 2, 3, 4, 6, 7, 8, 9, 10, 1, 3, 4, 5, 6, 7, 8, 9, 10, 1, 2, 3, 4, 5, 6, 8, 9, 10, 1, 2, 3, 4, 5, 6, 7, 8, 9, 10, 1, 2, 3, 4, 5, 6, 7, 8, 9, 10, 4, 5, 8, 9, 5, 1, 2, 3, 4, 5, 6, 7, 8, 9, 10, 4, 4, 3, 8, 5, 9, 4, 3, 5, 8, 5, 9, 2, 3, 9, 1, 2, 3, 4, 6, 8, 10, 3, 7, 1, 2, 3, 4, 5, 6, 7, 8, 9, 10, 6, 1, 2, 3, 4, 5, 6, 8, 10, 1, 2, 3, 4, 5, 6, 7, 8, 9, 10, 4, 7, 2, 4, 5, 7, 1, 2, 3, 4, 5, 6, 7, 8, 9, 10, 1, 3, 4, 5, 6, 7, 9, 1, 2, 3, 4, 5, 6, 7, 8, 9, 10, 2, 3, 2, 3, 4, 7, 9, 1, 2, 3, 4, 5, 7, 8, 9, 2, 3, 4, 5, 6, 8, 9, 10, 7, 1, 5, 1, 3, 4, 5, 6, 7, 9, 1, 2, 3, 4, 5, 6, 7, 8, 9, 10, 5, 8, 5, 7, 10, 1, 2, 3, 4, 5, 6, 7, 8, 9, 10, 3, 1, 4, 10, 3, 3, 2, 3, 9, 9, 3, 5, 1, 2, 3, 4, 5, 6, 7, 8, 9, 10, 1, 3, 4, 5, 6, 7, 8, 9, 10, 1, 2, 3, 4, 5, 6, 8, 9, 10, 4, 1, 2, 3, 4, 5, 6, 7, 8, 9, 10, 1, 2, 3, 4, 5, 6, 7, 8, 9, 10, 1, 2, 3, 4, 5, 6, 7, 8, 9, 10, 1, 2, 3, 4, 5, 6, 7, 8, 9, 1, 2, 3, 5, 7, 8, 1, 2, 3, 4, 5, 6, 7, 8, 9, 10, 1, 3, 6, 7, 7], \"Freq\": [0.8817831933469659, 0.06782947641130507, 0.13229528073506444, 0.04961073027564916, 0.1240268256891229, 0.29766438165389497, 0.008268455045941528, 0.14056373578100598, 0.06614764036753222, 0.10748991559723986, 0.05787918532159069, 0.02480536513782458, 0.8562089722114611, 0.07135074768428842, 0.046640864403367885, 0.09328172880673577, 0.7462538304538862, 0.046640864403367885, 0.046640864403367885, 0.7837030066716436, 0.019582838819506662, 0.009791419409753331, 0.07833135527802665, 0.2154112270145733, 0.009791419409753331, 0.17624554937555997, 0.2937425822926, 0.11749703291703997, 0.06853993586827332, 0.019582838819506662, 0.6723175871192207, 0.12223956129440378, 0.030559890323600944, 0.06111978064720189, 0.030559890323600944, 0.06111978064720189, 0.030559890323600944, 0.038405512215142115, 0.9217322931634108, 0.05293831120635679, 0.15881493361907037, 0.021175324482542716, 0.08470129793017087, 0.09528896017144223, 0.11646428465398494, 0.06352597344762814, 0.11646428465398494, 0.03176298672381407, 0.23292856930796987, 0.10222426618199383, 0.18528148245486384, 0.07027918300012076, 0.08944623290924461, 0.051112133090996915, 0.2236155822731115, 0.25556066545498457, 0.006389016636374614, 0.019167049909123844, 0.6571644437472153, 0.1194844443176755, 0.03982814810589184, 0.01991407405294592, 0.03982814810589184, 0.03982814810589184, 0.01991407405294592, 0.03982814810589184, 0.01991407405294592, 0.039362853927359207, 0.049203567409199005, 0.07872570785471841, 0.31490283141887365, 0.0885664213365582, 0.1771328426731164, 0.029522140445519405, 0.12792927526391742, 0.019681426963679603, 0.05904428089103881, 0.06547261040261784, 0.7763180947738973, 0.004676615028758418, 0.009353230057516836, 0.014029845086275253, 0.004676615028758418, 0.10288553063268518, 0.009353230057516836, 0.004676615028758418, 0.014029845086275253, 0.08622668320787207, 0.061590488005622904, 0.07390858560674748, 0.07390858560674748, 0.04927239040449832, 0.13549907361237037, 0.28331624482586537, 0.09854478080899665, 0.11086287841012123, 0.04927239040449832, 0.8753637754448264, 0.004706256857230249, 0.009412513714460499, 0.009412513714460499, 0.028237541143381496, 0.009412513714460499, 0.004706256857230249, 0.04706256857230249, 0.004706256857230249, 0.004706256857230249, 0.2258436893323561, 0.05211777446131295, 0.06949036594841726, 0.03474518297420863, 0.03474518297420863, 0.03474518297420863, 0.3474518297420863, 0.03474518297420863, 0.1042355489226259, 0.06949036594841726, 0.8481307968939605, 0.16953630136029627, 0.1196726833131503, 0.029918170828287575, 0.31912715550173415, 0.1196726833131503, 0.009972723609429192, 0.029918170828287575, 0.09972723609429192, 0.08975451248486273, 0.175299708960625, 0.7011988358425, 0.8724599323713026, 0.004820220620835926, 0.009640441241671852, 0.009640441241671852, 0.033741544345851485, 0.009640441241671852, 0.04820220620835926, 0.004820220620835926, 0.009640441241671852, 0.9156758851202594, 0.6578931001441201, 0.026913808642259455, 0.02093296227731291, 0.02990423182473273, 0.065789310014412, 0.05980846364946546, 0.04186592455462582, 0.07177015637935855, 0.011961692729893092, 0.017942539094839637, 0.07055340026878358, 0.4104925106547408, 0.06413945478980325, 0.1795904734114491, 0.057725509310822924, 0.06413945478980325, 0.01282789095796065, 0.13469285505858683, 0.11745117908355772, 0.05872558954177886, 0.5872558954177886, 0.05872558954177886, 0.11745117908355772, 0.8090569773956974, 0.7958211217559379, 0.7848609401894456, 0.8610797358631761, 0.061505695418798294, 0.6614388244595157, 0.032035460681868626, 0.6407092136373725, 0.1281418427274745, 0.032035460681868626, 0.032035460681868626, 0.1281418427274745, 0.8495069007582814, 0.8570589518849387, 0.07142157932374489, 0.8532390056855211, 0.870855239224023, 0.028092104491097513, 0.028092104491097513, 0.028092104491097513, 0.028092104491097513, 0.028092104491097513, 0.7848480432581008, 0.05004426174417922, 0.01787295062292115, 0.36818278283217565, 0.02502213087208961, 0.05004426174417922, 0.053618851868763445, 0.042895081495010756, 0.06434262224251613, 0.26094507909464876, 0.06791721236710037, 0.11304089025572235, 0.03768029675190745, 0.2260817805114447, 0.03768029675190745, 0.03768029675190745, 0.5652044512786117, 0.01972571680582857, 0.14794287604371428, 0.009862858402914286, 0.17753145125245715, 0.38465147771365715, 0.01972571680582857, 0.02958857520874286, 0.07890286722331429, 0.04931429201457143, 0.07890286722331429, 0.03624867145255285, 0.0724973429051057, 0.03624867145255285, 0.6887247575985042, 0.1449946858102114, 0.7865740840486533, 0.782002384516942, 0.053390473944976466, 0.8542475831196235, 0.053390473944976466, 0.1762400751728733, 0.0587466917242911, 0.1174933834485822, 0.0587466917242911, 0.52872022551862, 0.0587466917242911, 0.7370621243002735, 0.7865813097765045, 0.07324331465980026, 0.07324331465980026, 0.7324331465980026, 0.8396417445807962, 0.8937150387293131, 0.7101087308435916, 0.11579292649439032, 0.694757558966342, 0.6970551840980262, 0.17426379602450656, 0.10664070902942423, 0.6398442541765454, 0.10664070902942423, 0.17548622373299988, 0.6434494870209996, 0.058495407910999955, 0.058495407910999955, 0.058495407910999955, 0.8372946907886608, 0.0181514900706608, 0.10890894042396479, 0.0181514900706608, 0.3448783113425552, 0.19966639077726878, 0.0181514900706608, 0.1633634106359472, 0.0726059602826432, 0.0363029801413216, 0.08670829404481516, 0.7803746464033364, 0.10733301976223868, 0.643998118573432, 0.10733301976223868, 0.11646315017717385, 0.18283462285878904, 0.2642335987890718, 0.1327429453632304, 0.057605429119892436, 0.0050091677495558646, 0.01627979518605656, 0.1214723179267297, 0.07263293236856003, 0.030055006497335186, 0.7848675832827339, 0.8395702211473357, 0.2245740493664876, 0.5614351234162189, 0.0561435123416219, 0.0561435123416219, 0.8331919259920125, 0.787269632526544, 0.8144302403145448, 0.8723788297049393, 0.7490690897242998, 0.8396048071585076, 0.17169881287162747, 0.017169881287162746, 0.08584940643581374, 0.1545289315844647, 0.017169881287162746, 0.017169881287162746, 0.03433976257432549, 0.017169881287162746, 0.06867952514865099, 0.4292470321790687, 0.07589251072017168, 0.07589251072017168, 0.07589251072017168, 0.6830325964815451, 0.08530577197754284, 0.7677519477978856, 0.04265288598877142, 0.08530577197754284, 0.7952700972458062, 0.04970438107786289, 0.04970438107786289, 0.04970438107786289, 0.8862077031550357, 0.1118680744923677, 0.027002638670571514, 0.20444854993432718, 0.2893139857561234, 0.050147757531061384, 0.050147757531061384, 0.06172031696130632, 0.05400527734114303, 0.034717678290734806, 0.1118680744923677, 0.9299409185503725, 0.03874753827293219, 0.834487309100483, 0.06770039522283729, 0.06770039522283729, 0.6770039522283728, 0.06770039522283729, 0.06770039522283729, 0.06770039522283729, 0.02710673610334651, 0.08132020831003954, 0.2168538888267721, 0.02710673610334651, 0.05421347220669302, 0.4608145137568907, 0.08132020831003954, 0.05421347220669302, 0.695671636801256, 0.024602661747537294, 0.08610931611638054, 0.12301330873768647, 0.13531463961145512, 0.34443726446552214, 0.08610931611638054, 0.13531463961145512, 0.012301330873768647, 0.03690399262130594, 0.19456087931555055, 0.6809630776044269, 0.7836835614718913, 0.7825477847948219, 0.05589627034248727, 0.11179254068497455, 0.8482113381582274, 0.03013786955621301, 0.15068934778106505, 0.6931709997928992, 0.03013786955621301, 0.06027573911242602, 0.09471848086655135, 0.7577478469324108, 0.015786413477758558, 0.031572826955517115, 0.015786413477758558, 0.015786413477758558, 0.015786413477758558, 0.047359240433275676, 0.02453676603544339, 0.02453676603544339, 0.12268383017721694, 0.11041544715949525, 0.012268383017721695, 0.4293934056202593, 0.06134191508860847, 0.13495221319493864, 0.06134191508860847, 0.8270078315250174, 0.8694427792483346, 0.05554076741975005, 0.04165557556481254, 0.38878537193825036, 0.08331115112962507, 0.013885191854937513, 0.09719634298456259, 0.09719634298456259, 0.12496672669443762, 0.09719634298456259, 0.6361335996231078, 0.13832955289928806, 0.07114091291963386, 0.05928409409969488, 0.1343772799593084, 0.07509318585961351, 0.05928409409969488, 0.04347500233977625, 0.007904545879959318, 0.003952272939979659, 0.41103638575788454, 0.8080162875155454, 0.09216575393622485, 0.14483189904263905, 0.0526661451064142, 0.06583268138301775, 0.06583268138301775, 0.27649726180867457, 0.263330725532071, 0.03949960882981065, 0.03482214146923463, 0.03482214146923463, 0.03482214146923463, 0.661620687915458, 0.17411070734617315, 0.03482214146923463, 0.6774556640113539, 0.020222557134667283, 0.043815540458445774, 0.033704261891112135, 0.043815540458445774, 0.010111278567333641, 0.006740852378222428, 0.05392681902577942, 0.08763108091689155, 0.020222557134667283, 0.7993779839394838, 0.059654128327139254, 0.03408807332979386, 0.025566054997345395, 0.03408807332979386, 0.11930825665427851, 0.06817614665958772, 0.05113210999469079, 0.059654128327139254, 0.5539311916091502, 0.05851364304189959, 0.033436367452514056, 0.10866819422067067, 0.14210456167318472, 0.34272276638826904, 0.19225911285195582, 0.04179545931564257, 0.016718183726257028, 0.02507727558938554, 0.033436367452514056, 0.0807831643336495, 0.8886148076701446, 0.0807831643336495, 0.26146728900315447, 0.5883014002570975, 0.06536682225078862, 0.06536682225078862, 0.37151010829521114, 0.05307287261360159, 0.026536436306800797, 0.47765585352241435, 0.026536436306800797, 0.026536436306800797, 0.7100216084287538, 0.6309998287373296, 0.21033327624577655, 0.040470083974070765, 0.1214102519222123, 0.5665811756369907, 0.08094016794814153, 0.08094016794814153, 0.040470083974070765, 0.040470083974070765, 0.6361975289996549, 0.08057467769266236, 0.09005405153885793, 0.28438121538586714, 0.04265718230788007, 0.052136556154075635, 0.14219060769293357, 0.047396869230977856, 0.052136556154075635, 0.10901279923124906, 0.09953342538505348, 0.6978974519757659, 0.17447436299394148, 0.27278575643403485, 0.022732146369502906, 0.5455715128680697, 0.022732146369502906, 0.11366073184751453, 0.022732146369502906, 0.7345333975248419, 0.09181667469060524, 0.09486835058157285, 0.7589468046525828, 0.7605458663241774, 0.7719798813426754, 0.09649748516783442, 0.16607306971841712, 0.12455480228881284, 0.5397374765848556, 0.08303653485920856, 0.8586623210721472, 0.10079972921112064, 0.15119959381668097, 0.6047983752667239, 0.10079972921112064, 0.7849096256843213, 0.06349169344517853, 0.25396677378071414, 0.03174584672258927, 0.603171087729196, 0.017996747289829508, 0.053990241869488524, 0.053990241869488524, 0.16197072560846557, 0.017996747289829508, 0.053990241869488524, 0.16197072560846557, 0.053990241869488524, 0.41392518766607866, 0.05450259986593569, 0.08447902979220032, 0.11990571970505852, 0.23708630941682027, 0.17985857955758777, 0.13625649966483921, 0.035426689912858196, 0.10355493974527781, 0.03815181990615498, 0.013625649966483923, 0.7877828678422771, 0.07161662434929793, 0.07161662434929793, 0.7408539893548033, 0.10583628419354334, 0.1169145919627346, 0.019485765327122432, 0.0584572959813673, 0.038971530654244864, 0.2922864799068365, 0.15588612261697946, 0.009742882663561216, 0.10717170929917338, 0.20460053593478555, 0.06564091242329745, 0.06564091242329745, 0.722050036656272, 0.06564091242329745, 0.04472554368402206, 0.8497853299964192, 0.04472554368402206, 0.8270361869355964, 0.809366060920146, 0.1215408178960264, 0.55013212310833, 0.0063968851524224424, 0.03518286833832343, 0.03518286833832343, 0.04797663864316832, 0.1215408178960264, 0.02238909803347855, 0.0063968851524224424, 0.05437352379559076, 0.032538533821601295, 0.6833092102536271, 0.09761560146480389, 0.032538533821601295, 0.13015413528640518, 0.6970405716212484, 0.05559479500830817, 0.22237918003323268, 0.5559479500830817, 0.05559479500830817, 0.06502578520836709, 0.8453352077087722, 0.07551830475735834, 0.5125604088850492, 0.01606772441645922, 0.04177608348279398, 0.08837248429052572, 0.03856253859950213, 0.11890116068179823, 0.012854179533167377, 0.02088804174139699, 0.07391153231571242, 0.9080650136874827, 0.014646209898185205, 0.07323104949092603, 0.9080911917509934, 0.014646632125016022, 0.07323316062508012, 0.043685465065529325, 0.012481561447294093, 0.03744468434188228, 0.01872234217094114, 0.05616702651282342, 0.006240780723647046, 0.07488936868376456, 0.46805855427352844, 0.1622602988148232, 0.11857483374929388, 0.021453349049503766, 0.3110735612178046, 0.11799341977227072, 0.07508672167326319, 0.09654007072276695, 0.08581339619801506, 0.04290669809900753, 0.0643600471485113, 0.1930801414455339, 0.7922217895485361, 0.11973695139643496, 0.07982463426428997, 0.7583340255107548, 0.04517932388373747, 0.7228691821397996, 0.09035864776747494, 0.04517932388373747, 0.04517932388373747, 0.04517932388373747, 0.02144340434783902, 0.04288680869567804, 0.2144340434783902, 0.4931983000002975, 0.15010383043487316, 0.02144340434783902, 0.06433021304351706, 0.07756616623300844, 0.7756616623300844, 0.005540440445214888, 0.005540440445214888, 0.016621321335644663, 0.005540440445214888, 0.10526836845908287, 0.005540440445214888, 0.005540440445214888, 0.011080880890429776, 0.7934998646749238, 0.019824690930408374, 0.019824690930408374, 0.03964938186081675, 0.8921110918683769, 0.03964938186081675, 0.2087351315302829, 0.6262053945908487, 0.19695955072932417, 0.05471098631370116, 0.12036416989014255, 0.03282659178822069, 0.32826591788220694, 0.07659538083918162, 0.05471098631370116, 0.07659538083918162, 0.06565318357644138, 0.17079452719728666, 0.06831781087891467, 0.614860297910232, 0.034158905439457335, 0.034158905439457335, 0.06831781087891467, 0.14140763882267274, 0.07070381941133637, 0.6363343747020273, 0.07070381941133637, 0.058705509437361705, 0.11741101887472341, 0.019568503145787237, 0.7044661132483405, 0.019568503145787237, 0.019568503145787237, 0.019568503145787237, 0.019568503145787237, 0.039137006291574475, 0.046183313377803334, 0.046183313377803334, 0.06157775117040444, 0.01539443779260111, 0.3232831936446233, 0.12315550234080888, 0.046183313377803334, 0.01539443779260111, 0.20012769130381444, 0.1539443779260111, 0.8068289226051243, 0.8386410319920863, 0.7845184770031083, 0.13075307950051804, 0.09194445135231288, 0.09194445135231288, 0.7355556108185031, 0.026055206879174894, 0.026055206879174894, 0.026055206879174894, 0.5732145513418476, 0.026055206879174894, 0.3387176894292736, 0.784851887083443, 0.8892110612050106, 0.019407104305365637, 0.07762841722146255, 0.7762841722146254, 0.058221312916096904, 0.019407104305365637, 0.019407104305365637, 0.7489046555718719, 0.8922917358068578, 0.6970316405261296, 0.1742579101315324, 0.8835140989998845, 0.8383260398714417, 0.09285320771324869, 0.046426603856624345, 0.046426603856624345, 0.046426603856624345, 0.09285320771324869, 0.6499724539927408, 0.046426603856624345, 0.7024533494691674, 0.17561333736729184, 0.02764402570845674, 0.02764402570845674, 0.05528805141691348, 0.11057610283382696, 0.13822012854228372, 0.02764402570845674, 0.02764402570845674, 0.41466038562685115, 0.16586415425074044, 0.05485996931766019, 0.6473476379483902, 0.010971993863532039, 0.03291598159059612, 0.043887975454128154, 0.06583196318119224, 0.010971993863532039, 0.010971993863532039, 0.09874794477178835, 0.029743246966546382, 0.029743246966546382, 0.029743246966546382, 0.029743246966546382, 0.11897298786618553, 0.029743246966546382, 0.7733244211302059, 0.018874208320182478, 0.037748416640364955, 0.11324524992109487, 0.18874208320182478, 0.11324524992109487, 0.5096036246449269, 0.8351955176114254, 0.8070767538429794, 0.10098324475005792, 0.10098324475005792, 0.07573743356254345, 0.10098324475005792, 0.47967041256277515, 0.05049162237502896, 0.05049162237502896, 0.05049162237502896, 0.675303653970442, 0.9140352288651994, 0.019438672512025953, 0.05831601753607786, 0.7192308829449603, 0.019438672512025953, 0.07775469004810381, 0.019438672512025953, 0.05831601753607786, 0.019438672512025953, 0.8366217533682379, 0.04560758567186552, 0.09121517134373104, 0.09121517134373104, 0.6385061994061173, 0.04560758567186552, 0.058550568460506894, 0.058550568460506894, 0.5855056846050689, 0.1756517053815207, 0.058550568460506894, 0.8515372138262806, 0.06082408670187718, 0.1309309380409482, 0.04999181270654386, 0.045230687686873015, 0.014283375059012532, 0.15473656313930242, 0.24757850102288387, 0.08093912533440434, 0.14759487560979614, 0.10236418792292314, 0.02618618760818964, 0.8121156583011822, 0.021754098370350087, 0.09789344266657539, 0.1522786885924506, 0.010877049185175043, 0.39157377066630156, 0.010877049185175043, 0.10877049185175043, 0.010877049185175043, 0.18490983614797574, 0.04551191894738029, 0.13653575684214087, 0.5461430273685635, 0.04551191894738029, 0.13653575684214087, 0.7893317126854604, 0.13155528544757675, 0.8835108320066662, 0.1310813128442209, 0.7864878770653254, 0.14899268719920308, 0.7449634359960154, 0.04530384635935702, 0.2627623088842707, 0.018121538543742807, 0.036243077087485615, 0.15403307762181387, 0.1721546161655567, 0.009060769271871404, 0.08154692344684264, 0.2083976932530423, 0.02718230781561421, 0.17460532184707428, 0.5674672960029914, 0.17460532184707428, 0.09533020864365635, 0.7626416691492508, 0.8340040494505292, 0.8459722614027132, 0.009195350667420795, 0.013793026001131194, 0.013793026001131194, 0.03678140266968318, 0.009195350667420795, 0.004597675333710398, 0.04597675333710398, 0.013793026001131194, 0.009195350667420795, 0.8633534111028641, 0.028778447036762137, 0.028778447036762137, 0.028778447036762137, 0.057556894073524274, 0.028778447036762137, 0.11627020569902911, 0.10335129395469254, 0.04521619110517799, 0.14856748505987055, 0.019378367616504855, 0.18086476442071195, 0.019378367616504855, 0.032297279360841424, 0.21316204378155337, 0.11627020569902911, 0.13710755759641938, 0.05484302303856775, 0.09597529031749356, 0.226227470034092, 0.06855377879820969, 0.006855377879820969, 0.13025217971659842, 0.027421511519283875, 0.17138444699552421, 0.08226453455785163, 0.15822687663452834, 0.21975955088128935, 0.11867015747589624, 0.2021787868107862, 0.1010893934053931, 0.07911343831726417, 0.0659278652643868, 0.017580764070503147, 0.01318557305287736, 0.021975955088128933, 0.7211952700192849, 0.04443603118623268, 0.10664647484695844, 0.07109764989797229, 0.3199394245408753, 0.17774412474493073, 0.035548824948986146, 0.05332323742347922, 0.05332323742347922, 0.11553368108420498, 0.035548824948986146, 0.700817850881852, 0.175204462720463, 0.7836940700547927, 0.056403221902763055, 0.018801073967587685, 0.07520429587035074, 0.1316075177731138, 0.11280644380552611, 0.22561288761105222, 0.3760214793517537, 0.018801073967587685, 0.018801073967587685, 0.8402838131834118, 0.018796934628455685, 0.018796934628455685, 0.03759386925691137, 0.8834559275374172, 0.03759386925691137, 0.018796934628455685, 0.03784982479470758, 0.09462456198676895, 0.4258105289404603, 0.04731228099338448, 0.03784982479470758, 0.11354947438412274, 0.03784982479470758, 0.028387368596030686, 0.06623719339073826, 0.10408701818544584, 0.8435059722973957, 0.21346842177877462, 0.04269368435575493, 0.06404052653363239, 0.021346842177877464, 0.021346842177877464, 0.5763647388026915, 0.021346842177877464, 0.021346842177877464, 0.8384283987026735, 0.8803279041974112, 0.8387134613815745, 0.05241959133634841, 0.05241959133634841, 0.7915501299104775, 0.14391820543826864, 0.07195910271913432, 0.03460740217181932, 0.046143202895759086, 0.046143202895759086, 0.046143202895759086, 0.3460740217181932, 0.11535800723939772, 0.03460740217181932, 0.24225181520273523, 0.05767900361969886, 0.03460740217181932, 0.03647908155157178, 0.10943724465471534, 0.07295816310314356, 0.10943724465471534, 0.03647908155157178, 0.10943724465471534, 0.03647908155157178, 0.492467600946219, 0.8360158773515592, 0.007634848194991409, 0.011452272292487114, 0.011452272292487114, 0.04199166507245275, 0.011452272292487114, 0.011452272292487114, 0.04962651326744416, 0.011452272292487114, 0.011452272292487114, 0.866677345164623, 0.11041203755527157, 0.7728842628869009, 0.807225065344245, 0.7994517559809806, 0.09721875213102675, 0.04050781338792781, 0.11828281509274921, 0.13448594044792034, 0.08101562677585562, 0.0259250005682738, 0.08587656438240696, 0.2689718808958407, 0.08425625184688985, 0.06319218888516738, 0.750650383616606, 0.8537995421649553, 0.008580899921255832, 0.008580899921255832, 0.034323599685023326, 0.030033149724395414, 0.012871349881883749, 0.004290449960627916, 0.038614049645651245, 0.008580899921255832, 0.008580899921255832, 0.7862683831846337, 0.6998899138352866, 0.265993500248979, 0.16523838651830514, 0.06045306823840432, 0.056422863689177365, 0.08060409098453909, 0.004030204549226955, 0.044332250041496504, 0.06448327278763127, 0.2055404320105747, 0.06045306823840432, 0.1579814190482358, 0.789907095241179, 0.8910889411537771, 0.03127265194967382, 0.03127265194967382, 0.4378171272954335, 0.171999585723206, 0.07818162987418455, 0.04690897792451073, 0.04690897792451073, 0.06254530389934763, 0.10945428182385837, 0.8090438151426652, 0.05538522627850606, 0.05538522627850606, 0.11077045255701212, 0.05538522627850606, 0.6646227153420727, 0.1394803563688874, 0.7671419600288807, 0.0697401781844437, 0.02603122535713447, 0.13015612678567234, 0.09296866198976596, 0.06693743663263149, 0.05949994367345021, 0.4648433099488298, 0.0483437042346783, 0.04090621127549702, 0.037187464795906386, 0.033468718316315746, 0.14898147652563604, 0.0677188529661982, 0.1354377059323964, 0.10835016474591712, 0.01354377059323964, 0.08126262355943784, 0.04063131177971892, 0.3521380354242306, 0.04063131177971892, 0.0991830427079899, 0.07934643416639192, 0.10910134697878889, 0.03967321708319596, 0.02975491281239697, 0.0892647384371909, 0.07934643416639192, 0.12893795552038687, 0.2677942153115727, 0.06942812989559292, 0.028921705474681265, 0.08676511642404379, 0.24583449653479075, 0.41936472938287833, 0.014460852737340633, 0.08676511642404379, 0.014460852737340633, 0.11568682189872506, 0.027686698551494505, 0.7475408608903517, 0.05537339710298901, 0.027686698551494505, 0.08306009565448351, 0.027686698551494505, 0.027686698551494505, 0.027686698551494505, 0.7824413827472398, 0.1517229424850398, 0.05057431416167994, 0.6574660841018393, 0.10114862832335988, 0.7833595217496727, 0.6344702817218746, 0.7858634065753516, 0.7584045888320141, 0.1631062040229311, 0.040776551005732777, 0.040776551005732777, 0.040776551005732777, 0.08155310201146555, 0.5300951630745261, 0.11732645497270541, 0.15643527329694057, 0.058663227486352706, 0.01955440916211757, 0.01955440916211757, 0.01955440916211757, 0.058663227486352706, 0.46930581989082165, 0.11732645497270541, 0.875444455485113, 0.8686172367765319, 0.19667848339488356, 0.31392911772644877, 0.13237974843886394, 0.03025822821459747, 0.04538734232189621, 0.022693671160948104, 0.10590379875109114, 0.07564557053649368, 0.03025822821459747, 0.04538734232189621, 0.10369880211492911, 0.8814398179768974, 0.7934241235471582, 0.044370855715670315, 0.044370855715670315, 0.13311256714701095, 0.6655628357350547, 0.044370855715670315, 0.8395600835322343, 0.8840135386713373, 0.8561347502705366, 0.07565623398615663, 0.050437489324104426, 0.04203124110342035, 0.3026249359446265, 0.13449997153094512, 0.12609372331026106, 0.00840624822068407, 0.15131246797231326, 0.00840624822068407, 0.10087497864820885, 0.7826325782762177, 0.02302470168688885, 0.9440127691624428, 0.02653243088669006, 0.02653243088669006, 0.05306486177338012, 0.7959729266007018, 0.05306486177338012, 0.05306486177338012, 0.09553510573531784, 0.09553510573531784, 0.6687457401472249, 0.09553510573531784, 0.8547565734318113, 0.056983771562120755, 0.056983771562120755, 0.8331069605061315, 0.809032023161013, 0.19970700063452304, 0.05705914303843516, 0.08558871455765274, 0.05705914303843516, 0.05705914303843516, 0.11411828607687032, 0.3994140012690461, 0.8323418500273244, 0.10477701865028613, 0.838216149202289, 0.10477701865028613, 0.8386533976258751, 0.747639027232385, 0.8909304580113432, 0.04949613655618573, 0.7868019605984564, 0.8387302652571162, 0.10471087393713445, 0.6806206805913739, 0.15706631090570167, 0.838705552292738, 0.8662369650244853, 0.07218641375204045, 0.07218641375204045, 0.839074072430653, 0.10488425905383163, 0.10636088364385196, 0.10636088364385196, 0.7445261855069637, 0.12600787979969075, 0.7560472787981445, 0.8604167122539936, 0.7590665391610003, 0.09488331739512504, 0.7822688681049783, 0.8016587094287863, 0.03981362716161532, 0.7564589160706912, 0.11944088148484597, 0.8835113894364115, 0.7502341660671147, 0.03493000017562611, 0.24451000122938274, 0.3376566683643857, 0.023286666783750735, 0.09314666713500294, 0.16300666748625514, 0.03493000017562611, 0.011643333391875368, 0.04657333356750147, 0.023286666783750735, 0.01982634169016114, 0.01982634169016114, 0.03965268338032228, 0.8921853760572515, 0.03965268338032228, 0.7848892154017519, 0.013929638757160504, 0.013929638757160504, 0.04178891627148151, 0.027859277514321008, 0.20894458135740757, 0.45967807898629665, 0.055718555028642015, 0.16715566508592605, 0.019968221258568293, 0.05990466377570488, 0.8786017353770049, 0.7106091680827722, 0.03348869548270816, 0.03348869548270816, 0.837217387067704, 0.03348869548270816, 0.03348869548270816, 0.7212255086830917, 0.087540214837002, 0.14722672495313974, 0.08356111416259282, 0.04774920809291018, 0.1114148188834571, 0.13926852360432138, 0.15120582562754892, 0.003979100674409182, 0.043770107418501, 0.18701773169723154, 0.15835269999887935, 0.03958817499971984, 0.03958817499971984, 0.07917634999943968, 0.11876452499915952, 0.5542344499960777, 0.03958817499971984, 0.07767003988720536, 0.017260008863823416, 0.017260008863823416, 0.025890013295735124, 0.08630004431911707, 0.5695802925061727, 0.11219005761485219, 0.1035600531829405, 0.11240529477402786, 0.7868370634181949, 0.7582142971733307, 0.030543475634280774, 0.030543475634280774, 0.030543475634280774, 0.8246738421255809, 0.030543475634280774, 0.030543475634280774, 0.06450712937749598, 0.06450712937749598, 0.06450712937749598, 0.06450712937749598, 0.5805641643974638, 0.06450712937749598, 0.049839439219457105, 0.1495183176583713, 0.5980732706334853, 0.09967887843891421, 0.13918168748331625, 0.08208150800298138, 0.2319694791388604, 0.021412567305125578, 0.06423770191537673, 0.14275044870083717, 0.14275044870083717, 0.03925637339273022, 0.10706283652562788, 0.024981328522646506, 0.7099212719304686, 0.07189368207192917, 0.4313620924315751, 0.19171648552514448, 0.028757472828771672, 0.028757472828771672, 0.06710076993380057, 0.057514945657543344, 0.09585824276257224, 0.004792912138128612, 0.028757472828771672, 0.07453004773548817, 0.6707704296193936, 0.14906009547097634, 0.13815126762367655, 0.04144538028710296, 0.05526050704947062, 0.013815126762367656, 0.04144538028710296, 0.5802353240194416, 0.11052101409894124, 0.013815126762367656, 0.013815126762367656, 0.3346490041335581, 0.10712849217690122, 0.09896632134437541, 0.1295744619663472, 0.021425698435380242, 0.1622231452964504, 0.040810854162629036, 0.007141899478460081, 0.016324341665051614, 0.08060143697119235, 0.8664722059819464, 0.05938938331529568, 0.8314513664141395, 0.038038093645953404, 0.760761872919068, 0.07607618729190681, 0.038038093645953404, 0.038038093645953404, 0.038038093645953404, 0.015395801134817982, 0.030791602269635964, 0.07697900567408991, 0.030791602269635964, 0.030791602269635964, 0.06158320453927193, 0.0923748068089079, 0.6466236476623552, 0.34695974615205233, 0.010513931701577344, 0.36798760955520704, 0.021027863403154688, 0.12616718041892813, 0.010513931701577344, 0.010513931701577344, 0.07359752191104141, 0.021027863403154688, 0.39127054296222535, 0.06039746636329653, 0.06039746636329653, 0.03413769837925456, 0.03413769837925456, 0.14442872391223083, 0.10241309513776369, 0.02888574478244617, 0.0840312575489343, 0.06039746636329653, 0.8241203803747317, 0.8021053215409482, 0.08440480714278323, 0.19413105642840142, 0.08440480714278323, 0.05064288428566994, 0.0759643264285049, 0.261654902142628, 0.059083364999948255, 0.1434881721427315, 0.042202403571391614, 0.4921716975534718, 0.05556777230442424, 0.06350602549077056, 0.05556777230442424, 0.11907379779519478, 0.06350602549077056, 0.15082681054058006, 0.01587650637269264, 0.10453852679990414, 0.005807695933328008, 0.040653871533296054, 0.19165396579982424, 0.24973092513310433, 0.029038479666640037, 0.24392322919977633, 0.029038479666640037, 0.040653871533296054, 0.06388465526660808, 0.07492673735650951, 0.1748290538318555, 0.07492673735650951, 0.07492673735650951, 0.12487789559418251, 0.049951158237673, 0.0249755791188365, 0.049951158237673, 0.01248778955941825, 0.3246825285448745, 0.09973766928776624, 0.1187353205806741, 0.47969069514592333, 0.028496476939361783, 0.02374706411613482, 0.03324588976258874, 0.03324588976258874, 0.08548943081808534, 0.04749412823226964, 0.04749412823226964, 0.03273002891511902, 0.06546005783023803, 0.03273002891511902, 0.7200606361326184, 0.13092011566047607, 0.065083202007541, 0.0325416010037705, 0.130166404015082, 0.7484568230867216, 0.0325416010037705, 0.7583936589738304, 0.8755279181044135, 0.0450745302462005, 0.9014906049240099, 0.8371933503554753, 0.8075085191199436, 0.08075085191199437, 0.18295950437996883, 0.026994025236388844, 0.026994025236388844, 0.11097543708293192, 0.07798273957179, 0.2849369330507711, 0.005998672274753076, 0.19795618506685153, 0.02099535296163577, 0.0629860588849073, 0.759610642776584, 0.045075527096412576, 0.9015105419282515, 0.12316850581522021, 0.1803983165980498, 0.2662430327722942, 0.13063326374341538, 0.058473937104195454, 0.004976505285463443, 0.01741776849912205, 0.11819200052975677, 0.0696710739964882, 0.031103158034146518, 0.7817070984287048, 0.0419695927844127, 0.0419695927844127, 0.0839391855688254, 0.0839391855688254, 0.5875742989817778, 0.1678783711376508, 0.21166189096198798, 0.009620995043726726, 0.01924199008745345, 0.10583094548099399, 0.05772597026236036, 0.21166189096198798, 0.0384839801749069, 0.2982508463555285, 0.0384839801749069, 0.9148579370033458, 0.0620697612884966, 0.16363846157876377, 0.32163421758584604, 0.1297822281486747, 0.06771246686017811, 0.005642705571681509, 0.005642705571681509, 0.15235305043540073, 0.0620697612884966, 0.028213527858407545, 0.10917869913875591, 0.01819644985645932, 0.01819644985645932, 0.05458934956937796, 0.07278579942583728, 0.01819644985645932, 0.05458934956937796, 0.07278579942583728, 0.564089945550239, 0.8366845049907057, 0.8574184702930676, 0.008244408368202573, 0.008244408368202573, 0.02473322510460772, 0.02473322510460772, 0.016488816736405145, 0.041222041841012864, 0.008244408368202573, 0.008244408368202573, 0.7885205798586942, 0.023388619660561036, 0.20465042202990905, 0.07016585898168311, 0.3011284781297233, 0.09355447864224414, 0.11694309830280518, 0.035082929490841554, 0.07601301389682337, 0.011694309830280518, 0.06724228152411298, 0.8349304978743372, 0.8057736143189159, 0.12386253273007132, 0.8670377291104993, 0.2552905560344683, 0.08509685201148945, 0.15128329246487013, 0.06618644045338068, 0.07564164623243506, 0.056731234674326295, 0.018910411558108766, 0.23638014447635958, 0.04727602889527191, 0.009455205779054383, 0.8179928472743934, 0.00973801008659992, 0.00973801008659992, 0.00973801008659992, 0.029214030259799764, 0.029214030259799764, 0.029214030259799764, 0.03895204034639968, 0.00973801008659992, 0.01947602017319984, 0.8817083906551861, 0.055106774415949134, 0.07648398135590813, 0.061187185084726495, 0.2600455366100876, 0.045890388813544875, 0.045890388813544875, 0.045890388813544875, 0.061187185084726495, 0.33652951796599573, 0.061187185084726495, 0.1384744414982501, 0.06923722074912506, 0.10385583112368758, 0.03461861037456253, 0.03461861037456253, 0.06923722074912506, 0.03461861037456253, 0.5192791556184378, 0.15407176640423476, 0.7703588320211737, 0.08784255905590692, 0.13176383858386037, 0.5270553543354415, 0.04392127952795346, 0.17568511811181384, 0.21049578941912556, 0.5613221051176681, 0.14033052627941703, 0.016286361080488906, 0.016286361080488906, 0.03257272216097781, 0.03257272216097781, 0.016286361080488906, 0.8306044151049342, 0.03257272216097781, 0.28272161299796933, 0.06448036787672985, 0.0843204810695698, 0.13888079234987966, 0.07936045277135981, 0.034720198087469914, 0.059520339578519856, 0.04464025468388989, 0.09920056596419977, 0.10912062256061975, 0.8377135717026292, 0.10471419646282865, 0.8440770468465539, 0.09059042219392137, 0.2717712665817641, 0.4831489183675806, 0.06039361479594758, 0.03019680739797379, 0.03019680739797379, 0.071197062323678, 0.48414002380101046, 0.16019339022827553, 0.010679559348551701, 0.07831676855604582, 0.0177992655809195, 0.09255618102078142, 0.032038678045655106, 0.032038678045655106, 0.0177992655809195, 0.09942841857150411, 0.024857104642876028, 0.07457131392862808, 0.024857104642876028, 0.07457131392862808, 0.6959989300005288, 0.9081046053454935, 0.01464684847331441, 0.07323424236657206, 0.8094969434342242, 0.06410112316614837, 0.06410112316614837, 0.06410112316614837, 0.6410112316614837, 0.12820224633229674, 0.11818772717052335, 0.8273140901936634, 0.7934181585591289, 0.7850469985729713, 0.17352382263187818, 0.6940952905275127, 0.8862718170490587, 0.08800703956112459, 0.1056084474733495, 0.12320985538557443, 0.026402111868337377, 0.1056084474733495, 0.12320985538557443, 0.03520281582444983, 0.2376190068150364, 0.07920633560501213, 0.08800703956112459, 0.7909245485082688, 0.07190223168256989, 0.014033795428319281, 0.04210138628495785, 0.14033795428319282, 0.04210138628495785, 0.07016897714159641, 0.2947097039947049, 0.2947097039947049, 0.056135181713277124, 0.056135181713277124, 0.06271991290031814, 0.8153588677041358, 0.06271991290031814, 0.06271991290031814, 0.06271991290031814, 0.05139142559452905, 0.05139142559452905, 0.23126141517538074, 0.488218543148026, 0.025695712797264524, 0.025695712797264524, 0.07708713839179357, 0.8480549316504905, 0.7877414593586364, 0.07161285994169422, 0.07161285994169422, 0.8988914652283432, 0.8357887868572286, 0.06964906557143571, 0.12364397731705276, 0.01373821970189475, 0.054952878807579, 0.041214659105684254, 0.3571937122492635, 0.01373821970189475, 0.08242931821136851, 0.17859685612463175, 0.054952878807579, 0.09616753791326325, 0.06669401894031789, 0.7336342083434967, 0.13338803788063577, 0.8943823897015521, 0.05261072880597366, 0.062420112970005194, 0.01702366717363778, 0.22981950684411004, 0.07944378014364298, 0.24968045188002078, 0.031210056485002597, 0.16739939387410482, 0.07944378014364298, 0.04823372365864038, 0.031210056485002597, 0.80162767202867, 0.6970610903147626, 0.17426527257869065, 0.021236555740533673, 0.04247311148106735, 0.0849462229621347, 0.021236555740533673, 0.0849462229621347, 0.021236555740533673, 0.04247311148106735, 0.6583332279565439, 0.7579349517358672, 0.0947418689669834, 0.05623919130574191, 0.22495676522296765, 0.05623919130574191, 0.1265381804379193, 0.24604646196262087, 0.028119595652870956, 0.13356807935113704, 0.04217939347930643, 0.028119595652870956, 0.06326909021895966, 0.4449608319276078, 0.09101471562155615, 0.13146570034224778, 0.02022549236034581, 0.06067647708103743, 0.030338238540518717, 0.07078922326121034, 0.10112746180172906, 0.02022549236034581, 0.030338238540518717, 0.5587599108706615, 0.039349289497933905, 0.06295886319669425, 0.07869857899586781, 0.053121540822210774, 0.021642109223863646, 0.031479431598347124, 0.09640575926993807, 0.023609573698760343, 0.031479431598347124, 0.019825654089403906, 0.019825654089403906, 0.03965130817880781, 0.8921544340231758, 0.03965130817880781, 0.784863480526264, 0.0408153227331461, 0.505089618822683, 0.015305746024929788, 0.0051019153416432626, 0.18877086764080073, 0.0051019153416432626, 0.1224459681994383, 0.010203830683286525, 0.11224213751615178, 0.7150378944925716, 0.11917298241542859, 0.059586491207714296, 0.01556709951101169, 0.01556709951101169, 0.03113419902202338, 0.06226839804404676, 0.8250562740836196, 0.03113419902202338, 0.01556709951101169, 0.06935899543603395, 0.7629489497963735, 0.06935899543603395, 0.034154442742753366, 0.13661777097101346, 0.13661777097101346, 0.13661777097101346, 0.034154442742753366, 0.034154442742753366, 0.5123166411413005, 0.026822964981421758, 0.053645929962843515, 0.335287062267772, 0.10729185992568703, 0.0670574124535544, 0.026822964981421758, 0.04023444747213264, 0.04023444747213264, 0.3218755797770611, 0.05334527351541896, 0.1440322384916312, 0.032007164109251376, 0.042676218812335166, 0.05334527351541896, 0.08001791027312845, 0.31473711374097185, 0.1386977111400893, 0.02667263675770948, 0.11735960173392172, 0.12599925601803977, 0.7559955361082386, 0.13463558644178344, 0.028850482808953592, 0.028850482808953592, 0.06731779322089172, 0.1250187588387989, 0.10578510363282984, 0.019233655205969064, 0.41352358692833485, 0.057700965617907184, 0.028850482808953592, 0.6970291481613845, 0.17425728704034613, 0.018311211227750087, 0.8056932940210039, 0.036622422455500174, 0.018311211227750087, 0.036622422455500174, 0.09155605613875044, 0.04166256907459935, 0.7915888124173877, 0.1666502762983974, 0.24632290314412064, 0.05684374687941245, 0.03789583125294164, 0.4736978906617704, 0.15158332501176655, 0.01894791562647082, 0.01894791562647082, 0.8432291613344003, 0.41152056652714025, 0.05796064317283666, 0.12751341498024066, 0.046368514538269325, 0.08114490044197133, 0.04057245022098566, 0.09273702907653865, 0.11592128634567332, 0.02898032158641833, 0.0057960643172836656, 0.7831525384458669, 0.8426400525265825, 0.7624897383011492, 0.6312599423389785, 0.2104199807796595, 0.028449211365004803, 0.0853476340950144, 0.028449211365004803, 0.22759369092003842, 0.5405350159350912, 0.028449211365004803, 0.0853476340950144, 0.0811715392886813, 0.020292884822170325, 0.2841003875103845, 0.312510426261423, 0.05276150053764284, 0.01623430785773626, 0.04058576964434065, 0.07711296232424723, 0.0811715392886813, 0.03246861571547252, 0.03567879335741312, 0.01783939667870656, 0.01783939667870656, 0.08919698339353281, 0.6422182804334362, 0.14271517342965248, 0.01783939667870656, 0.01783939667870656, 0.09989546244518102, 0.6493205058936766, 0.04994773122259051, 0.04994773122259051, 0.04994773122259051, 0.8677354413646023, 0.7837148105964004, 0.03433705493313447, 0.652404043729555, 0.017168527466567236, 0.05150558239970171, 0.017168527466567236, 0.017168527466567236, 0.10301116479940342, 0.03433705493313447, 0.10301116479940342, 0.8263763791663565, 0.025296067848664436, 0.6872098432220505, 0.012648033924332218, 0.00421601130811074, 0.0210800565405537, 0.029512079156775176, 0.00843202261622148, 0.025296067848664436, 0.1686404523244296, 0.01686404523244296, 0.8476112177879762, 0.6616620682060502, 0.9029104274234738, 0.03191170041226431, 0.6063223078330219, 0.03191170041226431, 0.19147020247358584, 0.03191170041226431, 0.06382340082452861, 0.03191170041226431, 0.029157276319091912, 0.058314552638183824, 0.029157276319091912, 0.08747182895727575, 0.5831455263818383, 0.029157276319091912, 0.029157276319091912, 0.029157276319091912, 0.14578638159545956, 0.7099715716063114, 0.08582331505862675, 0.8582331505862676, 0.08689241625852276, 0.08689241625852276, 0.7820317463267049, 0.5815635217855936, 0.016229679677737495, 0.07573850516277497, 0.04327914580729998, 0.10278797129233745, 0.02163957290364999, 0.018934626290693743, 0.09196818484051246, 0.03516430596843124, 0.016229679677737495, 0.7473873631694793, 0.14947747263389585, 0.07262953827720997, 0.5084067679404698, 0.14525907655441994, 0.0968393843696133, 0.04841969218480665, 0.04841969218480665, 0.04841969218480665, 0.08077974873828953, 0.8885772361211848, 0.08077974873828953, 0.7506030303112067, 0.09624857290842924, 0.09624857290842924, 0.09624857290842924, 0.6737400103590047, 0.784851498098644, 0.18220033599270258, 0.07808585828258682, 0.15617171656517365, 0.026028619427528942, 0.4164579108404631, 0.10411447771011577, 0.746924738410733, 0.10670353405867615, 0.058153238809158264, 0.6396856269007409, 0.058153238809158264, 0.1744597164274748, 0.08872468505910902, 0.7985221655319813, 0.8081051382765561, 0.789165582560752, 0.0789165582560752, 0.05071521127703416, 0.028980120729733806, 0.036225150912167256, 0.1811257545608363, 0.17388072437840285, 0.021735090547300356, 0.036225150912167256, 0.1956158149257032, 0.12316551310136868, 0.1521456338311025, 0.784849277029014, 0.7865848768352174, 0.026511629191516964, 0.019883721893637723, 0.07290698027667165, 0.4705814181494261, 0.16569768244698102, 0.026511629191516964, 0.0662790729787924, 0.07290698027667165, 0.059651165680913165, 0.013255814595758482, 0.8437191235772834, 0.004487867678602571, 0.008975735357205143, 0.008975735357205143, 0.03590294142882057, 0.013463603035807714, 0.004487867678602571, 0.04936654446462828, 0.017951470714410285, 0.017951470714410285, 0.0818427690872392, 0.030453123381298308, 0.08945604993256377, 0.0647128871852589, 0.10277929141188179, 0.3654374805755797, 0.16939549880847182, 0.04567968507194746, 0.020936522324642586, 0.030453123381298308, 0.1676655030645684, 0.055888501021522805, 0.6706620122582736, 0.7596643110891069, 0.8808025399435501, 0.06775404153411924, 0.14403140197303752, 0.7201570098651875, 0.12172838471685302, 0.04057612823895101, 0.04057612823895101, 0.16230451295580403, 0.608641923584265, 0.8679006951081704, 0.6957633098973479, 0.7922559863474407, 0.006645673737372766, 0.8572919121210868, 0.039874042424236596, 0.006645673737372766, 0.08639375858584596, 0.13617920206076078, 0.034044800515190196, 0.017022400257595098, 0.017022400257595098, 0.18724640283354607, 0.051067200772785294, 0.017022400257595098, 0.5617392085006382, 0.8495368466508437, 0.035046312526253294, 0.07009262505250659, 0.17523156263126646, 0.035046312526253294, 0.5607410004200527, 0.10513893757875989, 0.8723127547349643, 0.8090756143192365, 0.7504327659802905, 0.019946784015961838, 0.18949444815163746, 0.11968070409577103, 0.28922836823144665, 0.06981374405586643, 0.10970731208779011, 0.059840352047885514, 0.019946784015961838, 0.10970731208779011, 0.786308098191622, 0.8270994745090293, 0.8090578734074705, 0.07328873340813855, 0.6962429673773162, 0.03664436670406927, 0.012214788901356424, 0.06107394450678212, 0.012214788901356424, 0.08550352230949497, 0.012214788901356424, 0.8384306490143391, 0.13642939142941893, 0.16608795478364044, 0.10083911540435313, 0.23726850683377207, 0.023726850683377206, 0.011863425341688603, 0.03559027602506581, 0.017795138012532904, 0.17795138012532905, 0.08897569006266452, 0.8572451366270246, 0.09524945962522496, 0.9231230224109276, 0.8604135914026194, 0.8384386445780053, 0.19064926517863978, 0.19516167382192118, 0.0778390490966044, 0.09137627502644864, 0.059789414523478746, 0.045124086432814146, 0.12973174849434066, 0.06430182316676016, 0.08912007070480794, 0.056405108041017685, 0.5047968196409045, 0.0483138870283374, 0.058309863654889965, 0.09329578184782394, 0.07996781301242052, 0.054977871446039106, 0.021657949357530557, 0.08996378963897309, 0.023323945461955986, 0.024989941566381412, 0.8862293772404846, 0.023702329399359227, 0.2844279527923107, 0.047404658798718455, 0.047404658798718455, 0.09480931759743691, 0.39108843508942726, 0.03555349409903884, 0.03555349409903884, 0.011851164699679614, 0.011851164699679614, 0.05070124213435441, 0.7605186320153162, 0.016900414044784803, 0.016900414044784803, 0.13520331235827843, 0.8379602462544351, 0.011476586325038566, 0.011476586325038566, 0.022953172650077132, 0.011476586325038566, 0.034429758975115694, 0.7689312837775839, 0.057382931625192826, 0.057382931625192826, 0.022953172650077132, 0.08742548934885681, 0.08742548934885681, 0.6119784254419977, 0.08742548934885681, 0.876053920160576, 0.26429768293606326, 0.6607442073401582, 0.07658025292505818, 0.22974075877517455, 0.6126420234004655, 0.7881498444470388, 0.05019692083550621, 0.0702756891697087, 0.1204726100052149, 0.37145721418274597, 0.17066953084072112, 0.06023630500260745, 0.0702756891697087, 0.08031507333680994, 0.016784139823966142, 0.016784139823966142, 0.033568279647932284, 0.033568279647932284, 0.016784139823966142, 0.839206991198307, 0.033568279647932284, 0.20235557845003385, 0.03195088080790008, 0.08520234882106688, 0.03195088080790008, 0.053251468013166804, 0.06390176161580016, 0.21300587205266722, 0.04260117441053344, 0.25560704646320065, 0.01065029360263336, 0.8757267318359141, 0.11941752130118156, 0.011941752130118157, 0.10747576917106341, 0.011941752130118157, 0.07165051278070894, 0.07165051278070894, 0.2746602989927176, 0.023883504260236315, 0.28660205112283577, 0.023883504260236315, 0.04455691480748581, 0.8465813813422305, 0.04455691480748581, 0.04455691480748581, 0.8387166673140294, 0.05241979170712684, 0.05241979170712684, 0.019317295181910537, 0.8499609880040637, 0.019317295181910537, 0.019317295181910537, 0.07726918072764215, 0.08131581481813002, 0.8131581481813003, 0.9081016415687402, 0.014646800670463552, 0.07323400335231776, 0.6949476813711961, 0.27882972350757007, 0.04394598903108442, 0.051522883691616214, 0.13335334602535961, 0.1515378932106359, 0.05303826262372257, 0.028792199710020824, 0.17729933505644402, 0.013638410388957233, 0.06819205194478616, 0.840208145351096, 0.036745020946734555, 0.08762274225759778, 0.3080928679380051, 0.22047012568040733, 0.1695924043695441, 0.025438860655431612, 0.07066350182064338, 0.031091940801083084, 0.03391848087390882, 0.01695924043695441, 0.826989307891871, 0.09023709228971427, 0.38100105633434916, 0.03007903076323809, 0.1654346691978095, 0.09525026408358729, 0.02005268717549206, 0.025065858969365074, 0.03007903076323809, 0.06015806152647618, 0.1002634358774603, 0.033402087369260695, 0.8016500968622567, 0.033402087369260695, 0.033402087369260695, 0.033402087369260695, 0.033402087369260695, 0.22453644111079202, 0.06559491538068081, 0.1412813562045433, 0.01261440680397708, 0.09334661034943038, 0.1412813562045433, 0.1589415257301112, 0.08577796626704413, 0.06559491538068081, 0.01261440680397708, 0.8495118625718819, 0.055300732242900295, 0.1966248257525344, 0.1044569386810339, 0.05837299514528365, 0.09216788707150049, 0.15054088221678413, 0.2089138773620678, 0.0368671548286002, 0.08295109836435044, 0.0122890516095334, 0.8094869513177606, 0.873476795587412, 0.8351246816678257, 0.009009107166771236, 0.7928014306758687, 0.036036428667084945, 0.009009107166771236, 0.009009107166771236, 0.027027321500313707, 0.10810928600125483, 0.041931220701419414, 0.12579366210425824, 0.71283075192413, 0.08386244140283883, 0.041931220701419414, 0.7893389703649011, 0.13155649506081685, 0.9028026745847119, 0.6361742557433807, 0.2364584332130016, 0.02627315924588907, 0.02627315924588907, 0.5254631849177814, 0.02627315924588907, 0.0788194777376672, 0.0788194777376672, 0.02627315924588907, 0.02627315924588907, 0.08529790994498478, 0.012185415706426398, 0.06092707853213199, 0.08529790994498478, 0.09748332565141118, 0.15841040418354316, 0.3046353926606599, 0.10966874135783758, 0.09748332565141118, 0.1324830858347422, 0.04416102861158073, 0.1987246287521133, 0.022080514305790364, 0.0662415429173711, 0.1324830858347422, 0.04416102861158073, 0.022080514305790364, 0.3753687431984362, 0.0687201884895141, 0.013744037697902821, 0.10995230158322257, 0.19241652777063947, 0.12369633928112539, 0.0687201884895141, 0.054976150791611285, 0.027488075395805642, 0.32985690474966767, 0.013744037697902821, 0.033615564715650845, 0.06723112943130169, 0.4538101236612864, 0.06723112943130169, 0.10084669414695253, 0.0756350206102144, 0.08403891178912712, 0.025211673536738134, 0.05042334707347627, 0.05042334707347627, 0.08475437205749206, 0.08475437205749206, 0.6780349764599365, 0.08475437205749206, 0.8364591827890888, 0.04310921109201081, 0.04310921109201081, 0.12932763327603244, 0.3592434257667568, 0.05747894812268108, 0.04310921109201081, 0.02873947406134054, 0.12932763327603244, 0.11495789624536216, 0.05747894812268108, 0.6981711230339456, 0.9156383175784227, 0.88924955791856, 0.6613415812564482, 0.6970722219556332, 0.1742680554889083, 0.7866139732137402, 0.779947948887352, 0.0487467468054595, 0.097493493610919, 0.6970379062596583, 0.17425947656491458, 0.9080562947760473, 0.014646069270581407, 0.07323034635290704, 0.04033905473436569, 0.04033905473436569, 0.04033905473436569, 0.12101716420309709, 0.04033905473436569, 0.5647467662811197, 0.16135621893746277, 0.08053307742520804, 0.8053307742520803, 0.10737769428169597, 0.021475538856339193, 0.06442661656901758, 0.09663992485352636, 0.053688847140847984, 0.06442661656901758, 0.2684442357042399, 0.053688847140847984, 0.22549315799156153, 0.042951077712678386, 0.9172380982135118, 0.20470311695344484, 0.04723918083541035, 0.04723918083541035, 0.0314927872236069, 0.42515262751869315, 0.07873196805901725, 0.07873196805901725, 0.0944783616708207, 0.08094628589043294, 0.11563755127204706, 0.12720130639925176, 0.04625502050881882, 0.05781877563602353, 0.011563755127204705, 0.4162951845793694, 0.03469126538161412, 0.10407379614484236, 0.011563755127204705, 0.1901366337507574, 0.665478218127651, 0.09537576486689621, 0.09537576486689621, 0.09537576486689621, 0.6676303540682734, 0.08859263578489301, 0.014765439297482169, 0.20671615016475037, 0.08859263578489301, 0.014765439297482169, 0.014765439297482169, 0.029530878594964338, 0.17718527156978603, 0.3248396645446077, 0.04429631789244651, 0.11115844584073584, 0.2778961146018396, 0.0694740286504599, 0.3473701432522995, 0.1389480573009198, 0.01389480573009198, 0.041684417190275935, 0.10651632286704173, 0.01420217638227223, 0.007101088191136115, 0.17042611658726675, 0.20593155754294734, 0.021303264573408344, 0.3337511449833974, 0.04260652914681669, 0.02840435276454446, 0.05680870552908892, 0.7192343851370071, 0.8754666469916011, 0.8139110236943715, 0.023254600676982044, 0.011627300338491022, 0.03488190101547306, 0.09301840270792817, 0.021832788523358914, 0.24016067375694805, 0.04366557704671783, 0.021832788523358914, 0.021832788523358914, 0.13099673114015348, 0.08733115409343566, 0.41482298194381934, 0.1654220932039927, 0.2315909304855898, 0.08271104660199635, 0.1157954652427949, 0.08271104660199635, 0.016542209320399272, 0.3143019770875861, 0.016542209320399272, 0.7478242134381299, 0.15183056801106665, 0.7591528400553332, 0.08816281897473606, 0.08816281897473606, 0.6171397328231524, 0.04408140948736803, 0.04408140948736803, 0.08816281897473606, 0.04408140948736803, 0.018396179221287418, 0.2906596316963412, 0.0441508301310898, 0.18028255636861668, 0.01103770753277245, 0.040471594286832314, 0.040471594286832314, 0.13613172623752687, 0.20971644312267654, 0.025754650909802383, 0.07383028004797265, 0.8121330805276992, 0.03990404775730621, 0.03990404775730621, 0.9177930984180429, 0.07767898313414055, 0.06796911024237298, 0.07282404668825677, 0.1553579662682811, 0.0631141737964892, 0.0048549364458837846, 0.36412023344128386, 0.019419745783535138, 0.08738885602590812, 0.09224379247179192, 0.8892600455394544, 0.10570734690905566, 0.7399514283633897, 0.10570734690905566, 0.9345155888448098, 0.8004586043047538, 0.90807943501622, 0.014646442500261614, 0.07323221250130807, 0.63617422512461, 0.2092841269639515, 0.837136507855806, 0.13431994887973256, 0.08265843007983542, 0.12398764511975313, 0.02583075939994857, 0.14981840451970171, 0.04132921503991771, 0.030996911279938283, 0.015498455639969141, 0.06715997443986628, 0.325467568439352, 0.1825171889490781, 0.1825171889490781, 0.0421193512959411, 0.3369548103675288, 0.0561591350612548, 0.0982784863571959, 0.0140397837653137, 0.0561591350612548, 0.0421193512959411, 0.10005223807453985, 0.037519589277952445, 0.050026119037269924, 0.012506529759317481, 0.10005223807453985, 0.6628460772438265, 0.012506529759317481, 0.012506529759317481, 0.012506529759317481, 0.8723402893172811, 0.1212083676012834, 0.2534356777117744, 0.055094712546037906, 0.09917048258286823, 0.3746440453130578, 0.044075770036830324, 0.011018942509207581, 0.022037885018415162, 0.011018942509207581, 0.011018942509207581, 0.059119177728071064, 0.1133117573121362, 0.08867876659210659, 0.039412785152047373, 0.1379447480321658, 0.06404577587207698, 0.24140330905629018, 0.04926598144005922, 0.16257773875219542, 0.044339383296053296, 0.0681627081557986, 0.07725106924323841, 0.05453016652463887, 0.17267886066135643, 0.04089762489347916, 0.24084156881715504, 0.03635344434975925, 0.027265083262319436, 0.05453016652463887, 0.23175320772971522, 0.11604012045542797, 0.058020060227713985, 0.4351504517078549, 0.17406018068314197, 0.11604012045542797, 0.014505015056928496, 0.014505015056928496, 0.04351504517078549, 0.04351504517078549, 0.01955675301731409, 0.01955675301731409, 0.7822701206925636, 0.01955675301731409, 0.01955675301731409, 0.11734051810388454, 0.07750345180208744, 0.05535960843006246, 0.022143843372024984, 0.04428768674404997, 0.07750345180208744, 0.05535960843006246, 0.2767980421503123, 0.1439349819181624, 0.07750345180208744, 0.15500690360417488, 0.823627157109043, 0.0823627157109043, 0.8070653364144206, 0.7818441398802285, 0.8395914496820771], \"Term\": [\"00\", \"00\", \"1\", \"1\", \"1\", \"1\", \"1\", \"1\", \"1\", \"1\", \"1\", \"1\", \"161\", \"161\", \"180\", \"180\", \"180\", \"180\", \"180\", \"188\", \"2\", \"2\", \"2\", \"2\", \"2\", \"2\", \"2\", \"2\", \"2\", \"2\", \"20\", \"20\", \"20\", \"20\", \"20\", \"20\", \"20\", \"2021\", \"2021\", \"2022\", \"2022\", \"2022\", \"2022\", \"2022\", \"2022\", \"2022\", \"2022\", \"2022\", \"2022\", \"22\", \"22\", \"22\", \"22\", \"22\", \"22\", \"22\", \"22\", \"22\", \"24\", \"24\", \"24\", \"24\", \"24\", \"24\", \"24\", \"24\", \"24\", \"3\", \"3\", \"3\", \"3\", \"3\", \"3\", \"3\", \"3\", \"3\", \"3\", \"365\", \"365\", \"365\", \"365\", \"365\", \"365\", \"365\", \"365\", \"365\", \"365\", \"7\", \"7\", \"7\", \"7\", \"7\", \"7\", \"7\", \"7\", \"7\", \"7\", \"95\", \"95\", \"95\", \"95\", \"95\", \"95\", \"95\", \"95\", \"95\", \"95\", \"able\", \"able\", \"able\", \"able\", \"able\", \"able\", \"able\", \"able\", \"able\", \"able\", \"abstinence\", \"accept\", \"accept\", \"accept\", \"accept\", \"accept\", \"accept\", \"accept\", \"accept\", \"accept\", \"accessible\", \"accessible\", \"accessory\", \"accessory\", \"accessory\", \"accessory\", \"accessory\", \"accessory\", \"accessory\", \"accessory\", \"accessory\", \"achievable\", \"act\", \"act\", \"act\", \"act\", \"act\", \"act\", \"act\", \"act\", \"act\", \"act\", \"action\", \"action\", \"action\", \"action\", \"action\", \"action\", \"action\", \"action\", \"adapt\", \"adapt\", \"adapt\", \"adapt\", \"adapt\", \"aelius\", \"afflict\", \"africanus\", \"aggressive\", \"aggressive\", \"aka\", \"alive\", \"alive\", \"alive\", \"alive\", \"alive\", \"alive\", \"allotment\", \"ama\", \"ama\", \"amaze\", \"amor\", \"amor\", \"amor\", \"amor\", \"amor\", \"amor\", \"amount\", \"amp\", \"amp\", \"amp\", \"amp\", \"amp\", \"amp\", \"amp\", \"amp\", \"amp\", \"amp\", \"amright\", \"amright\", \"amright\", \"amright\", \"amright\", \"amright\", \"anger\", \"anger\", \"anger\", \"anger\", \"anger\", \"anger\", \"anger\", \"anger\", \"anger\", \"anger\", \"annaeus\", \"annaeus\", \"annaeus\", \"annaeus\", \"annaeus\", \"antifragility\", \"aos\", \"apa\", \"apa\", \"apa\", \"app\", \"app\", \"app\", \"app\", \"app\", \"app\", \"appropriate\", \"apr221831\", \"arm\", \"arm\", \"arm\", \"armed\", \"asgift\", \"aspow\", \"asseparate\", \"asseparate\", \"association\", \"association\", \"athens\", \"athens\", \"athens\", \"athlete\", \"athlete\", \"athlete\", \"athlete\", \"athlete\", \"atomic\", \"attention\", \"attention\", \"attention\", \"attention\", \"attention\", \"attention\", \"attention\", \"attention\", \"attention\", \"audiobook\", \"audiobook\", \"auf\", \"auf\", \"auf\", \"aurelius\", \"aurelius\", \"aurelius\", \"aurelius\", \"aurelius\", \"aurelius\", \"aurelius\", \"aurelius\", \"aurelius\", \"aurelius\", \"authentic\", \"batain\", \"bee\", \"bee\", \"bee\", \"bee\", \"beg\", \"beginner\", \"beginnerguide\", \"behaviour\", \"behavioural\", \"bhari\", \"big\", \"big\", \"big\", \"big\", \"big\", \"big\", \"big\", \"big\", \"big\", \"big\", \"bio\", \"bio\", \"bio\", \"bio\", \"bisa\", \"bisa\", \"bisa\", \"bisa\", \"black\", \"black\", \"black\", \"black\", \"bo\", \"book\", \"book\", \"book\", \"book\", \"book\", \"book\", \"book\", \"book\", \"book\", \"book\", \"bracelet\", \"bracelet\", \"brass\", \"brave\", \"brave\", \"brave\", \"brave\", \"brave\", \"brave\", \"break\", \"break\", \"break\", \"break\", \"break\", \"break\", \"break\", \"break\", \"breakout\", \"bring\", \"bring\", \"bring\", \"bring\", \"bring\", \"bring\", \"bring\", \"bring\", \"bring\", \"bronze\", \"bronze\", \"browse\", \"budget\", \"budget\", \"budget\", \"bulletin\", \"business\", \"business\", \"business\", \"business\", \"business\", \"buy\", \"buy\", \"buy\", \"buy\", \"buy\", \"buy\", \"buy\", \"buy\", \"calm\", \"calm\", \"calm\", \"calm\", \"calm\", \"calm\", \"calm\", \"calm\", \"calm\", \"cambio\", \"cardinal\", \"care\", \"care\", \"care\", \"care\", \"care\", \"care\", \"care\", \"care\", \"care\", \"chalkface\", \"change\", \"change\", \"change\", \"change\", \"change\", \"change\", \"change\", \"change\", \"change\", \"change\", \"changesituation\", \"character\", \"character\", \"character\", \"character\", \"character\", \"character\", \"character\", \"character\", \"chat\", \"chat\", \"chat\", \"chat\", \"chat\", \"chat\", \"check\", \"check\", \"check\", \"check\", \"check\", \"check\", \"check\", \"check\", \"check\", \"check\", \"china\", \"choice\", \"choice\", \"choice\", \"choice\", \"choice\", \"choice\", \"choice\", \"choice\", \"choice\", \"choose\", \"choose\", \"choose\", \"choose\", \"choose\", \"choose\", \"choose\", \"choose\", \"choose\", \"choose\", \"citizen\", \"citizen\", \"citizen\", \"cognitive\", \"cognitive\", \"cognitive\", \"cognitive\", \"coin\", \"coin\", \"coin\", \"coin\", \"coin\", \"coin\", \"col\", \"collective\", \"collective\", \"color\", \"color\", \"color\", \"color\", \"color\", \"color\", \"color\", \"column\", \"come\", \"come\", \"come\", \"come\", \"come\", \"come\", \"come\", \"come\", \"come\", \"come\", \"comic\", \"comic\", \"comment\", \"comment\", \"comment\", \"comment\", \"comment\", \"comment\", \"commentary\", \"commentary\", \"como\", \"como\", \"comprehend\", \"confidently\", \"confidently\", \"conquer\", \"conquer\", \"conquer\", \"conquer\", \"consideration\", \"consist\", \"consist\", \"consist\", \"consist\", \"constancy\", \"constantly\", \"constantly\", \"constantly\", \"constantly\", \"content\", \"content\", \"content\", \"content\", \"content\", \"content\", \"content\", \"content\", \"content\", \"control\", \"control\", \"control\", \"control\", \"control\", \"control\", \"control\", \"control\", \"control\", \"control\", \"copper\", \"copper\", \"copper\", \"correct\", \"correct\", \"courage\", \"courage\", \"courage\", \"courage\", \"courage\", \"courage\", \"courage\", \"courage\", \"courage\", \"crisis\", \"crisis\", \"crisis\", \"crisis\", \"criticism\", \"criticism\", \"criticism\", \"cup\", \"curiosity\", \"daily\", \"daily\", \"daily\", \"daily\", \"daily\", \"daily\", \"daily\", \"daily\", \"daily\", \"daily\", \"dan\", \"dan\", \"dan\", \"dan\", \"dan\", \"dance\", \"dare\", \"dare\", \"dare\", \"dare\", \"dawn\", \"dawn\", \"day\", \"day\", \"day\", \"day\", \"day\", \"day\", \"day\", \"day\", \"day\", \"day\", \"dayneed\", \"dayneed\", \"dayneed\", \"daywake\", \"daywake\", \"daywake\", \"de\", \"de\", \"de\", \"de\", \"de\", \"de\", \"de\", \"de\", \"de\", \"de\", \"deal\", \"deal\", \"deal\", \"deal\", \"deal\", \"deal\", \"deal\", \"deal\", \"deal\", \"deathshirt\", \"democritus\", \"democritus\", \"democritus\", \"destine\", \"destine\", \"destine\", \"destine\", \"destine\", \"destine\", \"determine\", \"determine\", \"determine\", \"determine\", \"determine\", \"determine\", \"determine\", \"devotional\", \"devotional\", \"devotional\", \"devotional\", \"devotional\", \"devotional\", \"devotional\", \"devotional\", \"devotional\", \"devotional\", \"deze\", \"diaria\", \"diaria\", \"diaria\", \"diaria\", \"diaria\", \"diario\", \"diario\", \"die\", \"die\", \"die\", \"die\", \"die\", \"die\", \"die\", \"die\", \"die\", \"difficulty\", \"difficulty\", \"difficulty\", \"difficulty\", \"difficulty\", \"difficulty\", \"direction\", \"direction\", \"direction\", \"direction\", \"discipline\", \"discipline\", \"discipline\", \"discipline\", \"discipline\", \"discipline\", \"discipline\", \"discipline\", \"discipline\", \"discuss\", \"discuss\", \"discuss\", \"discuss\", \"discuss\", \"discuss\", \"discuss\", \"discuss\", \"discuss\", \"discuss\", \"disdain\", \"disloyalty\", \"disobedient\", \"disobedient\", \"distressed\", \"distressed\", \"distressed\", \"disturb\", \"disturb\", \"disturb\", \"disturb\", \"disturb\", \"disturb\", \"diversion\", \"doesnhurt\", \"donbe\", \"donbe\", \"donbe\", \"donbe\", \"donbe\", \"donbe\", \"donfeel\", \"donlove\", \"donsabotage\", \"donsabotage\", \"doubtful\", \"driscoll\", \"du\", \"du\", \"du\", \"du\", \"du\", \"du\", \"du\", \"duff\", \"duff\", \"easily\", \"easily\", \"easily\", \"easily\", \"easily\", \"easily\", \"easily\", \"easily\", \"easily\", \"easy\", \"easy\", \"easy\", \"easy\", \"easy\", \"easy\", \"easy\", \"easy\", \"easy\", \"edition\", \"edition\", \"edition\", \"edition\", \"edition\", \"edition\", \"edition\", \"el\", \"el\", \"el\", \"el\", \"el\", \"el\", \"elite\", \"emboss\", \"embrace\", \"embrace\", \"embrace\", \"embrace\", \"embrace\", \"embrace\", \"embrace\", \"embrace\", \"emerson\", \"emotionless\", \"emperor\", \"emperor\", \"emperor\", \"emperor\", \"emperor\", \"emperor\", \"emperor\", \"emperor\", \"employee\", \"enchiridion\", \"enchiridion\", \"enchiridion\", \"enchiridion\", \"enchiridion\", \"endurance\", \"endurance\", \"endurance\", \"endurance\", \"endurance\", \"enjoyment\", \"enjoyment\", \"epictetus\", \"epictetus\", \"epictetus\", \"epictetus\", \"epictetus\", \"epictetus\", \"epictetus\", \"epictetus\", \"epictetus\", \"epictetus\", \"epictetus50135\", \"episode\", \"episode\", \"episode\", \"episode\", \"episode\", \"episode\", \"episode\", \"episode\", \"episode\", \"equal\", \"equal\", \"equal\", \"equal\", \"equal\", \"equipment\", \"equipment\", \"establish\", \"estoicismo\", \"estoicismo\", \"estoicos\", \"estoicos\", \"event\", \"event\", \"event\", \"event\", \"event\", \"event\", \"event\", \"event\", \"event\", \"event\", \"everyday\", \"everyday\", \"everyday\", \"existential\", \"existential\", \"expense\", \"fast\", \"fast\", \"fast\", \"fast\", \"fast\", \"fast\", \"fast\", \"fast\", \"fast\", \"fast\", \"fati\", \"fati\", \"fati\", \"fati\", \"fati\", \"fati\", \"fear\", \"fear\", \"fear\", \"fear\", \"fear\", \"fear\", \"fear\", \"fear\", \"fear\", \"fear\", \"feel\", \"feel\", \"feel\", \"feel\", \"feel\", \"feel\", \"feel\", \"feel\", \"feel\", \"feel\", \"find\", \"find\", \"find\", \"find\", \"find\", \"find\", \"find\", \"find\", \"find\", \"find\", \"floatingworld\", \"focus\", \"focus\", \"focus\", \"focus\", \"focus\", \"focus\", \"focus\", \"focus\", \"focus\", \"focus\", \"forkindness\", \"forkindness\", \"fortify\", \"fortune\", \"fortune\", \"fortune\", \"fortune\", \"fortune\", \"fortune\", \"fortune\", \"fortune\", \"fortune\", \"foster\", \"frase\", \"frase\", \"frase\", \"frase\", \"frase\", \"frase\", \"free\", \"free\", \"free\", \"free\", \"free\", \"free\", \"free\", \"free\", \"free\", \"free\", \"frenzy\", \"fromstoic\", \"fromstoic\", \"fromstoic\", \"fromstoic\", \"fromstoic\", \"fromstoic\", \"fromstoic\", \"fromstoic\", \"frugal\", \"frustrate\", \"fugit\", \"fugit\", \"fugit\", \"fully\", \"fully\", \"fully\", \"future\", \"future\", \"future\", \"future\", \"future\", \"future\", \"future\", \"future\", \"future\", \"future\", \"get\", \"get\", \"get\", \"get\", \"get\", \"get\", \"get\", \"get\", \"gift\", \"gift\", \"gift\", \"gift\", \"gift\", \"gift\", \"gift\", \"gift\", \"gift\", \"gift\", \"giftshirt\", \"girl\", \"girl\", \"givesoul\", \"godsake\", \"good\", \"good\", \"good\", \"good\", \"good\", \"good\", \"good\", \"good\", \"good\", \"good\", \"goodman\", \"grab\", \"grab\", \"grab\", \"grab\", \"grab\", \"grab\", \"grab\", \"grab\", \"grab\", \"grab\", \"grain\", \"grant\", \"great\", \"great\", \"great\", \"great\", \"great\", \"great\", \"great\", \"great\", \"great\", \"great\", \"grip\", \"grip\", \"gue\", \"guide\", \"guide\", \"guide\", \"guide\", \"guide\", \"guide\", \"guide\", \"guide\", \"guide\", \"hadrian\", \"haha\", \"haha\", \"haha\", \"haha\", \"haha\", \"hang\", \"hang\", \"hang\", \"happen\", \"happen\", \"happen\", \"happen\", \"happen\", \"happen\", \"happen\", \"happen\", \"happen\", \"happen\", \"happy\", \"happy\", \"happy\", \"happy\", \"happy\", \"happy\", \"happy\", \"happy\", \"happy\", \"hard\", \"hard\", \"hard\", \"hard\", \"hard\", \"hard\", \"hard\", \"hard\", \"hard\", \"hard\", \"harm\", \"harm\", \"harm\", \"harm\", \"harm\", \"harm\", \"harm\", \"harm\", \"harmony\", \"harmony\", \"harmony\", \"harmony\", \"harmony\", \"harmony\", \"harmony\", \"harmony\", \"hashtag\", \"hate\", \"hate\", \"hate\", \"hate\", \"hati\", \"havelisten\", \"havenbeen\", \"havepeaceful\", \"having\", \"having\", \"having\", \"having\", \"having\", \"having\", \"hear\", \"hear\", \"hear\", \"hear\", \"hear\", \"hear\", \"hear\", \"hear\", \"hear\", \"heat\", \"heavy\", \"help\", \"help\", \"help\", \"help\", \"help\", \"help\", \"help\", \"help\", \"help\", \"help\", \"herehow\", \"herehow\", \"hic\", \"hide\", \"hide\", \"hide\", \"hide\", \"hide\", \"hikmat\", \"hint\", \"hive\", \"human\", \"human\", \"human\", \"human\", \"human\", \"human\", \"human\", \"human\", \"human\", \"human\", \"ifman\", \"illumination\", \"illumination\", \"imagination\", \"imagination\", \"imagination\", \"imagination\", \"imagination\", \"imagination\", \"immediately\", \"immediately\", \"immediately\", \"immediately\", \"impediment\", \"impediment\", \"impediment\", \"implore\", \"incite\", \"indifferent\", \"indifferent\", \"indifferent\", \"indifferent\", \"indifferent\", \"indifferent\", \"indifferent\", \"inescapable\", \"info\", \"info\", \"info\", \"ingratitude\", \"initiation\", \"injure\", \"injure\", \"inriver\", \"insolence\", \"intention\", \"intention\", \"intention\", \"interference\", \"intopositive\", \"intopositive\", \"intopositive\", \"ishuman\", \"ishuman\", \"isperspective\", \"isperspective\", \"isperspective\", \"isproblem\", \"isproblem\", \"isspace\", \"ithumanly\", \"ithumanly\", \"itone\", \"itsilly\", \"itu\", \"itu\", \"itu\", \"jesus\", \"jimmy\", \"join\", \"join\", \"join\", \"join\", \"join\", \"join\", \"join\", \"join\", \"join\", \"join\", \"jugarse\", \"jugarse\", \"jugarse\", \"jugarse\", \"jugarse\", \"junk\", \"justice\", \"justice\", \"justice\", \"justice\", \"justice\", \"justice\", \"justice\", \"justice\", \"karen\", \"karen\", \"karen\", \"kindle\", \"kita\", \"kita\", \"kita\", \"kita\", \"kita\", \"knell\", \"know\", \"know\", \"know\", \"know\", \"know\", \"know\", \"know\", \"know\", \"know\", \"know\", \"knowledge\", \"knowledge\", \"knowledge\", \"knowledge\", \"knowledge\", \"knowledge\", \"knowledge\", \"la\", \"la\", \"la\", \"la\", \"la\", \"la\", \"la\", \"la\", \"labor\", \"labor\", \"lameness\", \"laugh\", \"laugh\", \"laugh\", \"laugh\", \"laugh\", \"laugh\", \"law\", \"law\", \"law\", \"law\", \"law\", \"law\", \"leader\", \"leader\", \"leader\", \"leader\", \"learn\", \"learn\", \"learn\", \"learn\", \"learn\", \"learn\", \"learn\", \"learn\", \"learn\", \"learn\", \"lee\", \"let\", \"let\", \"let\", \"let\", \"let\", \"let\", \"let\", \"let\", \"let\", \"let\", \"letexplore\", \"letexplore\", \"letexplore\", \"letter\", \"letter\", \"letter\", \"letter\", \"letter\", \"letter\", \"letter\", \"letter\", \"letter\", \"life\", \"life\", \"life\", \"life\", \"life\", \"life\", \"life\", \"life\", \"life\", \"life\", \"lifeshirt\", \"likeroman\", \"likeroman\", \"likestoic\", \"likestoic\", \"likestoic\", \"likestoic\", \"likestoic\", \"likestoic\", \"link\", \"link\", \"link\", \"link\", \"link\", \"link\", \"link\", \"link\", \"little\", \"little\", \"little\", \"little\", \"little\", \"little\", \"little\", \"little\", \"little\", \"live\", \"live\", \"live\", \"live\", \"live\", \"live\", \"live\", \"live\", \"live\", \"live\", \"livehappi\", \"livepeaceful\", \"ll\", \"ll\", \"ll\", \"ll\", \"ll\", \"ll\", \"ll\", \"ll\", \"ll\", \"long\", \"long\", \"long\", \"long\", \"long\", \"long\", \"long\", \"long\", \"look\", \"look\", \"look\", \"look\", \"look\", \"look\", \"look\", \"look\", \"look\", \"look\", \"lose\", \"lose\", \"lose\", \"lose\", \"lose\", \"lose\", \"lose\", \"lose\", \"lose\", \"lose\", \"love\", \"love\", \"love\", \"love\", \"love\", \"love\", \"love\", \"love\", \"love\", \"love\", \"lucius\", \"lucius\", \"lucius\", \"lucius\", \"lucius\", \"luck\", \"luck\", \"luck\", \"luck\", \"luck\", \"lunch\", \"lurk\", \"madej\", \"madej\", \"makebetter\", \"makehappy\", \"makehappy\", \"man\", \"man\", \"man\", \"man\", \"man\", \"man\", \"man\", \"man\", \"man\", \"man\", \"manpower\", \"mar\", \"mar\", \"marcus\", \"marcus\", \"marcus\", \"marcus\", \"marcus\", \"marcus\", \"marcus\", \"marcus\", \"marcus\", \"marcus\", \"masculinity\", \"material\", \"material\", \"material\", \"material\", \"material\", \"material\", \"matter\", \"matter\", \"matter\", \"matter\", \"matter\", \"matter\", \"matter\", \"matter\", \"matter\", \"mecan\", \"meditation\", \"meditation\", \"meditation\", \"meditation\", \"meditation\", \"meditation\", \"meditation\", \"meditation\", \"meditation\", \"meditation\", \"medium\", \"medium\", \"medium\", \"medium\", \"medium\", \"medium\", \"medium\", \"medium\", \"medium\", \"mejor\", \"memento\", \"memento\", \"memento\", \"memento\", \"memento\", \"memento\", \"memento\", \"memento\", \"memento\", \"mencoba\", \"mind\", \"mind\", \"mind\", \"mind\", \"mind\", \"mind\", \"mind\", \"mind\", \"mind\", \"mind\", \"miraculous\", \"mistrust\", \"moderately\", \"moderately\", \"moment\", \"moment\", \"moment\", \"moment\", \"moment\", \"moment\", \"moment\", \"moment\", \"moment\", \"moment\", \"mori\", \"mori\", \"mori\", \"mori\", \"mori\", \"mori\", \"mori\", \"mori\", \"mori\", \"mori\", \"morishirt\", \"morishirt\", \"morning\", \"morning\", \"morning\", \"morning\", \"morning\", \"morning\", \"morning\", \"morning\", \"morning\", \"motivation\", \"motivation\", \"motivation\", \"motivation\", \"motivation\", \"motivation\", \"motivation\", \"motivation\", \"motivational\", \"motivational\", \"move\", \"move\", \"move\", \"move\", \"move\", \"musonius\", \"musonius\", \"musonius\", \"nassim\", \"nassim\", \"nassim\", \"nassim\", \"nassim\", \"nassim\", \"nassim\", \"need\", \"need\", \"need\", \"need\", \"need\", \"need\", \"need\", \"need\", \"need\", \"need\", \"needed\", \"needed\", \"needwitness\", \"negative\", \"negative\", \"negative\", \"negative\", \"negative\", \"negative\", \"new\", \"new\", \"new\", \"new\", \"new\", \"new\", \"new\", \"new\", \"new\", \"new\", \"night\", \"night\", \"night\", \"night\", \"night\", \"night\", \"nightmay\", \"nightmay\", \"nightmay\", \"nodiscarded\", \"noise\", \"noise\", \"noise\", \"noise\", \"noise\", \"notfact\", \"notfact\", \"nunc\", \"offender\", \"ofphilosopher\", \"ofphilosopher\", \"operational\", \"opinion\", \"opinion\", \"opinion\", \"opinion\", \"opinion\", \"opinion\", \"opinion\", \"opinion\", \"opinion\", \"opinion\", \"opponent\", \"opponent\", \"opportunity\", \"opportunity\", \"opportunity\", \"opportunity\", \"opportunity\", \"opportunity\", \"opportunity\", \"opportunity\", \"opportunity\", \"orang\", \"orang\", \"orang\", \"orang\", \"orang\", \"overcome\", \"overcome\", \"overcome\", \"overcome\", \"overcome\", \"overcome\", \"overcome\", \"overexcited\", \"oz\", \"oz\", \"oz\", \"pageday\", \"passive\", \"passive\", \"past\", \"past\", \"past\", \"past\", \"past\", \"past\", \"past\", \"past\", \"past\", \"past\", \"pdf\", \"pdf\", \"pdf\", \"pendant\", \"pendant\", \"people\", \"people\", \"people\", \"people\", \"people\", \"people\", \"people\", \"people\", \"people\", \"people\", \"peoplefault\", \"peopleview\", \"peopleview\", \"perception\", \"perception\", \"perception\", \"perception\", \"perception\", \"perception\", \"perception\", \"perception\", \"permit\", \"permit\", \"person\", \"person\", \"person\", \"person\", \"person\", \"person\", \"person\", \"person\", \"person\", \"person\", \"philosopher\", \"philosopher\", \"philosopher\", \"philosopher\", \"philosopher\", \"philosopher\", \"philosopher\", \"philosopher\", \"philosopher\", \"philosopher\", \"philosophy\", \"philosophy\", \"philosophy\", \"philosophy\", \"philosophy\", \"philosophy\", \"philosophy\", \"philosophy\", \"philosophy\", \"philosophy\", \"piel\", \"piel\", \"piel\", \"piel\", \"piel\", \"playing\", \"podcast\", \"podcast\", \"podcast\", \"podcast\", \"podcast\", \"podcast\", \"podcast\", \"podcast\", \"podcast\", \"poor\", \"poor\", \"poor\", \"por\", \"por\", \"por\", \"por\", \"por\", \"por\", \"por\", \"positivity\", \"positivity\", \"positivity\", \"possession\", \"possession\", \"possession\", \"possession\", \"possession\", \"possession\", \"possession\", \"possible\", \"possible\", \"possible\", \"possible\", \"possible\", \"possible\", \"possible\", \"possible\", \"possible\", \"power\", \"power\", \"power\", \"power\", \"power\", \"power\", \"power\", \"power\", \"power\", \"power\", \"preparation\", \"preparation\", \"present\", \"present\", \"present\", \"present\", \"present\", \"present\", \"present\", \"present\", \"present\", \"present\", \"president\", \"president\", \"pretty\", \"pretty\", \"pretty\", \"pretty\", \"pretty\", \"pretty\", \"program\", \"program\", \"program\", \"quality\", \"quality\", \"quality\", \"quality\", \"quality\", \"quality\", \"quality\", \"quantity\", \"quote\", \"quote\", \"quote\", \"quote\", \"quote\", \"quote\", \"quote\", \"quote\", \"quote\", \"quote\", \"r1\", \"rank\", \"rant\", \"rapid\", \"rapid\", \"react\", \"react\", \"react\", \"react\", \"react\", \"react\", \"react\", \"read\", \"read\", \"read\", \"read\", \"read\", \"read\", \"read\", \"read\", \"read\", \"read\", \"reality\", \"reality\", \"reality\", \"reality\", \"reality\", \"reality\", \"reality\", \"reality\", \"recognize\", \"recognize\", \"recognize\", \"recognize\", \"recognize\", \"red\", \"reflective\", \"regret\", \"regret\", \"regret\", \"regret\", \"regret\", \"regret\", \"regret\", \"regret\", \"regret\", \"remastere\", \"remember\", \"remember\", \"remember\", \"remember\", \"remember\", \"remember\", \"remember\", \"remember\", \"remember\", \"remember\", \"repost\", \"reposte\", \"resiliency\", \"resist\", \"resist\", \"resist\", \"resist\", \"resist\", \"resist\", \"resist\", \"response\", \"response\", \"response\", \"response\", \"response\", \"response\", \"response\", \"response\", \"response\", \"responsiblechat\", \"revoke\", \"revoke\", \"rid\", \"rid\", \"rid\", \"right\", \"right\", \"right\", \"right\", \"right\", \"right\", \"right\", \"right\", \"right\", \"right\", \"rigorously\", \"rigorously\", \"roman\", \"roman\", \"roman\", \"roman\", \"roman\", \"roman\", \"roman\", \"romelast\", \"romelast\", \"romelast\", \"romeman\", \"routine\", \"routine\", \"routine\", \"routine\", \"ruck\", \"rule\", \"rule\", \"rule\", \"rule\", \"rule\", \"rule\", \"ruler\", \"ruler\", \"sadlerlectures\", \"sadlerlectures\", \"sadlerlectures\", \"sadlerlectures\", \"safely\", \"safely\", \"sailing\", \"satisfied\", \"satisfied\", \"say\", \"say\", \"say\", \"say\", \"say\", \"say\", \"say\", \"say\", \"say\", \"say\", \"scipio\", \"seize\", \"self\", \"self\", \"self\", \"self\", \"self\", \"self\", \"self\", \"self\", \"self\", \"self\", \"sell\", \"sell\", \"sell\", \"sell\", \"sell\", \"sell\", \"sell\", \"sell\", \"sell\", \"sell\", \"seneca\", \"seneca\", \"seneca\", \"seneca\", \"seneca\", \"seneca\", \"seneca\", \"seneca\", \"seneca\", \"seneca\", \"separate\", \"separate\", \"separate\", \"shares\", \"shirt\", \"shirt\", \"sickness\", \"sickness\", \"silence\", \"silence\", \"silence\", \"silence\", \"silence\", \"silicone\", \"skin\", \"skull\", \"sleep\", \"sleep\", \"sleep\", \"sleep\", \"sleep\", \"small\", \"small\", \"small\", \"small\", \"small\", \"small\", \"small\", \"small\", \"smallrole\", \"society\", \"society\", \"society\", \"society\", \"society\", \"society\", \"socrates\", \"soldierly\", \"sonni\", \"soul\", \"soul\", \"soul\", \"soul\", \"soul\", \"soul\", \"soul\", \"soul\", \"soul\", \"sovereign\", \"spare\", \"spartianus\", \"speak\", \"speak\", \"speak\", \"speak\", \"speak\", \"speak\", \"speak\", \"speak\", \"squander\", \"start\", \"start\", \"start\", \"start\", \"start\", \"start\", \"start\", \"start\", \"start\", \"start\", \"steppingstone\", \"steppingstone\", \"stereotype\", \"stimulus\", \"stingy\", \"stoic\", \"stoic\", \"stoic\", \"stoic\", \"stoic\", \"stoic\", \"stoic\", \"stoic\", \"stoic\", \"stoic\", \"stoicism\", \"stoicism\", \"stoicism\", \"stoicism\", \"stoicism\", \"stoicism\", \"stoicism\", \"stoicism\", \"stoicism\", \"stoicism\", \"stoicshadchance\", \"strength\", \"strength\", \"strength\", \"strength\", \"strength\", \"strength\", \"strength\", \"strength\", \"strength\", \"strength\", \"stuff\", \"stuff\", \"stuff\", \"stuff\", \"stuff\", \"submerge\", \"suffer\", \"suffer\", \"suffer\", \"suffer\", \"suffer\", \"suffer\", \"suffer\", \"suffer\", \"suffer\", \"suppose\", \"suppose\", \"suppose\", \"suppose\", \"surprisingly\", \"suspend\", \"suspend\", \"system\", \"system\", \"system\", \"tablet\", \"take\", \"take\", \"take\", \"take\", \"take\", \"take\", \"take\", \"take\", \"taleb\", \"taleb\", \"taleb\", \"taleb\", \"taleb\", \"taleb\", \"taleb\", \"talk\", \"talk\", \"talk\", \"talk\", \"talk\", \"talk\", \"talk\", \"talk\", \"talk\", \"talk\", \"taming\", \"tell\", \"tell\", \"tell\", \"tell\", \"tell\", \"tell\", \"tell\", \"tell\", \"tell\", \"tell\", \"temptation\", \"temptation\", \"temptation\", \"temptation\", \"tempus\", \"tempus\", \"tempus\", \"terrible\", \"terrible\", \"terrible\", \"terrible\", \"terrible\", \"thatam\", \"thatam\", \"thatmay\", \"thatmay\", \"thatmay\", \"themed\", \"thing\", \"thing\", \"thing\", \"thing\", \"thing\", \"thing\", \"thing\", \"thing\", \"thing\", \"thing\", \"thingscannot\", \"think\", \"think\", \"think\", \"think\", \"think\", \"think\", \"think\", \"think\", \"think\", \"think\", \"thomas\", \"thought\", \"thought\", \"thought\", \"thought\", \"thought\", \"thought\", \"thought\", \"thought\", \"thought\", \"thought\", \"tidak\", \"tidak\", \"tidak\", \"tidak\", \"tidak\", \"tidak\", \"time\", \"time\", \"time\", \"time\", \"time\", \"time\", \"time\", \"time\", \"time\", \"time\", \"tiny\", \"today\", \"today\", \"today\", \"today\", \"today\", \"today\", \"today\", \"today\", \"today\", \"today\", \"todayescape\", \"todayquote\", \"toe\", \"tomorrow\", \"tomorrow\", \"tomorrow\", \"tomorrow\", \"tomorrow\", \"tomorrow\", \"tomorrow\", \"tough\", \"tough\", \"tough\", \"tough\", \"tough\", \"toughen\", \"toughen\", \"tougher\", \"transition\", \"treat\", \"treat\", \"treat\", \"treat\", \"treat\", \"treat\", \"treat\", \"treat\", \"treat\", \"true\", \"true\", \"true\", \"true\", \"true\", \"true\", \"true\", \"true\", \"true\", \"truly\", \"truly\", \"truly\", \"truly\", \"truly\", \"truly\", \"truly\", \"truly\", \"truly\", \"truth\", \"truth\", \"truth\", \"truth\", \"truth\", \"truth\", \"truth\", \"truth\", \"truth\", \"truth\", \"try\", \"try\", \"try\", \"try\", \"try\", \"try\", \"try\", \"try\", \"try\", \"try\", \"tu\", \"tu\", \"tu\", \"tu\", \"twain\", \"understand\", \"understand\", \"understand\", \"understand\", \"understand\", \"understand\", \"understand\", \"understand\", \"understand\", \"understand\", \"undertake\", \"uniqueam\", \"unlessinterpret\", \"unlucky\", \"unproductive\", \"unproductive\", \"unstoppable\", \"untuk\", \"untuk\", \"untuk\", \"unwittingly\", \"unwittingly\", \"upneed\", \"upneed\", \"upneed\", \"upset\", \"upset\", \"upset\", \"upset\", \"upset\", \"upset\", \"upset\", \"urdu\", \"urdu\", \"use\", \"use\", \"use\", \"use\", \"use\", \"use\", \"use\", \"use\", \"use\", \"use\", \"uslittle\", \"value\", \"value\", \"value\", \"value\", \"value\", \"value\", \"value\", \"value\", \"ve\", \"ve\", \"ve\", \"ve\", \"ve\", \"ve\", \"ve\", \"ve\", \"ve\", \"ve\", \"veteran\", \"veteran\", \"vibe\", \"vibe\", \"vibe\", \"vibe\", \"video\", \"video\", \"video\", \"video\", \"video\", \"video\", \"video\", \"video\", \"video\", \"video\", \"view\", \"view\", \"view\", \"view\", \"view\", \"view\", \"view\", \"virtue\", \"virtue\", \"virtue\", \"virtue\", \"virtue\", \"virtue\", \"virtue\", \"virtue\", \"virtue\", \"virtue\", \"vocation\", \"waiting\", \"wake\", \"wake\", \"wake\", \"wake\", \"wake\", \"walk\", \"walk\", \"walk\", \"walk\", \"walk\", \"walk\", \"walk\", \"walk\", \"want\", \"want\", \"want\", \"want\", \"want\", \"want\", \"want\", \"want\", \"warfighter\", \"wasteful\", \"wasteful\", \"water\", \"water\", \"water\", \"water\", \"water\", \"water\", \"water\", \"way\", \"way\", \"way\", \"way\", \"way\", \"way\", \"way\", \"way\", \"way\", \"way\", \"weapon\", \"weapon\", \"weekly\", \"weekly\", \"weekly\", \"well\", \"well\", \"well\", \"well\", \"well\", \"well\", \"well\", \"well\", \"well\", \"well\", \"whataffected\", \"whathave\", \"whathave\", \"whathave\", \"whatprecious\", \"whatprivilege\", \"whengo\", \"whengo\", \"whengo\", \"whitwhamat\", \"williamson\", \"williamson\", \"wisdom\", \"wisdom\", \"wisdom\", \"wisdom\", \"wisdom\", \"wisdom\", \"wisdom\", \"wisdom\", \"wisdom\", \"wisdom\", \"wise\", \"wise\", \"wise\", \"wise\", \"wise\", \"wise\", \"wise\", \"wise\", \"wise\", \"wish\", \"wish\", \"wish\", \"wish\", \"wish\", \"wish\", \"wish\", \"wish\", \"wish\", \"wonfeel\", \"word\", \"word\", \"word\", \"word\", \"word\", \"word\", \"word\", \"word\", \"word\", \"word\", \"work\", \"work\", \"work\", \"work\", \"work\", \"work\", \"work\", \"work\", \"work\", \"work\", \"world\", \"world\", \"world\", \"world\", \"world\", \"world\", \"world\", \"world\", \"world\", \"world\", \"wrong\", \"wrong\", \"wrong\", \"wrong\", \"wrong\", \"wrong\", \"wrong\", \"wrong\", \"wrong\", \"yang\", \"yang\", \"yang\", \"yang\", \"yang\", \"yang\", \"year\", \"year\", \"year\", \"year\", \"year\", \"year\", \"year\", \"year\", \"year\", \"year\", \"youlove\", \"youlove\", \"younger4\", \"youthful\", \"zuban\"]}, \"R\": 30, \"lambda.step\": 0.01, \"plot.opts\": {\"xlab\": \"PC1\", \"ylab\": \"PC2\"}, \"topic.order\": [4, 6, 3, 9, 10, 8, 7, 5, 1, 2]};\n",
       "\n",
       "function LDAvis_load_lib(url, callback){\n",
       "  var s = document.createElement('script');\n",
       "  s.src = url;\n",
       "  s.async = true;\n",
       "  s.onreadystatechange = s.onload = callback;\n",
       "  s.onerror = function(){console.warn(\"failed to load library \" + url);};\n",
       "  document.getElementsByTagName(\"head\")[0].appendChild(s);\n",
       "}\n",
       "\n",
       "if(typeof(LDAvis) !== \"undefined\"){\n",
       "   // already loaded: just create the visualization\n",
       "   !function(LDAvis){\n",
       "       new LDAvis(\"#\" + \"ldavis_el231561403737021412006050247087\", ldavis_el231561403737021412006050247087_data);\n",
       "   }(LDAvis);\n",
       "}else if(typeof define === \"function\" && define.amd){\n",
       "   // require.js is available: use it to load d3/LDAvis\n",
       "   require.config({paths: {d3: \"https://d3js.org/d3.v5\"}});\n",
       "   require([\"d3\"], function(d3){\n",
       "      window.d3 = d3;\n",
       "      LDAvis_load_lib(\"https://cdn.jsdelivr.net/gh/bmabey/pyLDAvis@3.3.1/pyLDAvis/js/ldavis.v3.0.0.js\", function(){\n",
       "        new LDAvis(\"#\" + \"ldavis_el231561403737021412006050247087\", ldavis_el231561403737021412006050247087_data);\n",
       "      });\n",
       "    });\n",
       "}else{\n",
       "    // require.js not available: dynamically load d3 & LDAvis\n",
       "    LDAvis_load_lib(\"https://d3js.org/d3.v5.js\", function(){\n",
       "         LDAvis_load_lib(\"https://cdn.jsdelivr.net/gh/bmabey/pyLDAvis@3.3.1/pyLDAvis/js/ldavis.v3.0.0.js\", function(){\n",
       "                 new LDAvis(\"#\" + \"ldavis_el231561403737021412006050247087\", ldavis_el231561403737021412006050247087_data);\n",
       "            })\n",
       "         });\n",
       "}\n",
       "</script>"
      ],
      "text/plain": [
       "PreparedData(topic_coordinates=              x         y  topics  cluster       Freq\n",
       "topic                                                \n",
       "3     -0.127510 -0.017137       1        1  14.332562\n",
       "5      0.152182 -0.029420       2        1  12.000855\n",
       "2      0.000217 -0.075071       3        1  11.312565\n",
       "8     -0.013069 -0.013413       4        1  10.822133\n",
       "9     -0.032027  0.018262       5        1   9.527383\n",
       "7     -0.032089  0.147936       6        1   8.988254\n",
       "6      0.045382  0.031866       7        1   8.861742\n",
       "4     -0.088973 -0.073621       8        1   8.707444\n",
       "0      0.054240 -0.077255       9        1   7.967719\n",
       "1      0.041647  0.087851      10        1   7.479342, topic_info=          Term        Freq       Total Category  logprob  loglift\n",
       "46         day  622.000000  622.000000  Default  30.0000  30.0000\n",
       "1939      gift  261.000000  261.000000  Default  29.0000  29.0000\n",
       "2022        95  212.000000  212.000000  Default  28.0000  28.0000\n",
       "1020      grab  233.000000  233.000000  Default  27.0000  27.0000\n",
       "3701       365  213.000000  213.000000  Default  26.0000  26.0000\n",
       "...        ...         ...         ...      ...      ...      ...\n",
       "425       2022   22.403822   94.449556  Topic10  -5.5303   1.1542\n",
       "3         live   23.489494  380.810676  Topic10  -5.4830  -0.1927\n",
       "159     marcus   24.579618  803.776902  Topic10  -5.4376  -0.8944\n",
       "156   aurelius   24.393773  798.535845  Topic10  -5.4452  -0.8954\n",
       "170       mind   23.047953  342.046693  Topic10  -5.5020  -0.1043\n",
       "\n",
       "[740 rows x 6 columns], token_table=      Topic      Freq      Term\n",
       "term                           \n",
       "1025      1  0.881783        00\n",
       "1025     10  0.067829        00\n",
       "124       1  0.132295         1\n",
       "124       2  0.049611         1\n",
       "124       3  0.124027         1\n",
       "...     ...       ...       ...\n",
       "4637      1  0.823627   youlove\n",
       "4637      3  0.082363   youlove\n",
       "1464      6  0.807065  younger4\n",
       "3661      7  0.781844  youthful\n",
       "5398      7  0.839591     zuban\n",
       "\n",
       "[2531 rows x 3 columns], R=30, lambda_step=0.01, plot_opts={'xlab': 'PC1', 'ylab': 'PC2'}, topic_order=[4, 6, 3, 9, 10, 8, 7, 5, 1, 2])"
      ]
     },
     "execution_count": 79,
     "metadata": {},
     "output_type": "execute_result"
    }
   ],
   "source": [
    "#Creating Topic Distance Visualization \n",
    "pyLDAvis.enable_notebook()\n",
    "pyLDAvis.gensim_models.prepare(base_model, corpus, id2word)"
   ]
  }
 ],
 "metadata": {
  "kernelspec": {
   "display_name": "Python 3 (ipykernel)",
   "language": "python",
   "name": "python3"
  },
  "language_info": {
   "codemirror_mode": {
    "name": "ipython",
    "version": 3
   },
   "file_extension": ".py",
   "mimetype": "text/x-python",
   "name": "python",
   "nbconvert_exporter": "python",
   "pygments_lexer": "ipython3",
   "version": "3.9.5"
  }
 },
 "nbformat": 4,
 "nbformat_minor": 5
}

{
 "cells": [
  {
   "cell_type": "code",
   "execution_count": 8,
   "id": "53cf6041",
   "metadata": {},
   "outputs": [],
   "source": [
    "import io\n",
    "import os\n",
    "import re\n",
    "import shutil\n",
    "import string\n",
    "import tensorflow as tf\n",
    "import requests\n",
    "\n",
    "from tensorflow.keras import Sequential\n",
    "from tensorflow.keras.layers import Dense, Embedding, GlobalAveragePooling1D\n",
    "from tensorflow.keras.layers import TextVectorization"
   ]
  },
  {
   "cell_type": "markdown",
   "id": "51e60810",
   "metadata": {},
   "source": [
    "## 1. Setting up data"
   ]
  },
  {
   "cell_type": "code",
   "execution_count": 9,
   "id": "27aeb5c3",
   "metadata": {},
   "outputs": [],
   "source": [
    "# download data\n",
    "response1 = requests.get('http://classics.mit.edu/Antoninus/meditations.mb.txt') # Meditations by Marcus\n",
    "response2 = requests.get('http://classics.mit.edu/Epictetus/discourses.mb.txt') # Discourses by Epictetus\n",
    "response3 = requests.get('http://classics.mit.edu/Epictetus/epicench.1b.txt') # Enchiridion by Epictetus\n",
    "filename4 = open('/Users/stellajia/Desktop/UCSB/Fall-2022/ENGL197/stoic-analysis/data/shortness-of-life.txt') # Shortness of Life by Seneca\n",
    "filename5 = open('/Users/stellajia/Desktop/UCSB/Fall-2022/ENGL197/stoic-analysis/data/letters-from-a-stoic.txt') # Letters from a Stoic by Seneca\n",
    "\n",
    "doc1 = response1.text\n",
    "doc2 = response2.text\n",
    "doc3 = response3.text\n",
    "doc4 = filename4.read()\n",
    "doc5 = filename5.read()\n",
    "\n",
    "filename6 = open('/Users/stellajia/Desktop/UCSB/Fall-2022/ENGL197/stoic-analysis/data/daily-stoic.txt') # Daily Stoic by Ryan Holiday (2016)\n",
    "filename7 = open('/Users/stellajia/Desktop/UCSB/Fall-2022/ENGL197/stoic-analysis/data/guide-to-good-life.txt') # Guide to a Good Life by William Irvine (2008)\n",
    "filename8 = open('/Users/stellajia/Desktop/UCSB/Fall-2022/ENGL197/stoic-analysis/data/stillness-is-key.txt') # Stillness is Key by Ryan Holiday (2019)\n",
    "filenmae9 = open('/Users/stellajia/Desktop/UCSB/Fall-2022/ENGL197/stoic-analysis/data/how-to-be-a-stoic.txt') # How to Be a Stoic by Massimo Pigliucci (2017)\n",
    "filename10 = open('/Users/stellajia/Desktop/UCSB/Fall-2022/ENGL197/stoic-analysis/data/think-like-a-roman-emperor.txt') # How to Think Like a Roman Emperor by Donald Robertson (2019)\n",
    "\n",
    "doc6 = filename6.read() \n",
    "doc7 = filename7.read()\n",
    "doc8 = filename8.read()\n",
    "doc9 = filenmae9.read()\n",
    "doc10 = filename10.read()"
   ]
  },
  {
   "cell_type": "code",
   "execution_count": 46,
   "id": "868a7613",
   "metadata": {},
   "outputs": [],
   "source": [
    "# group documents\n",
    "stoicDocs = [doc1, doc2, doc3, doc4, doc5, doc6, doc7, doc8, doc9, doc10]"
   ]
  },
  {
   "cell_type": "markdown",
   "id": "5133b9d4",
   "metadata": {},
   "source": [
    "## Learning"
   ]
  },
  {
   "cell_type": "code",
   "execution_count": 10,
   "id": "77bec6a6",
   "metadata": {},
   "outputs": [
    {
     "name": "stdout",
     "output_type": "stream",
     "text": [
      "Downloading data from https://ai.stanford.edu/~amaas/data/sentiment/aclImdb_v1.tar.gz\n",
      "84125825/84125825 [==============================] - 11s 0us/step\n"
     ]
    },
    {
     "data": {
      "text/plain": [
       "['imdbEr.txt', 'test', 'imdb.vocab', 'README', 'train']"
      ]
     },
     "execution_count": 10,
     "metadata": {},
     "output_type": "execute_result"
    }
   ],
   "source": [
    "url = \"https://ai.stanford.edu/~amaas/data/sentiment/aclImdb_v1.tar.gz\"\n",
    "\n",
    "dataset = tf.keras.utils.get_file(\"aclImdb_v1.tar.gz\", url,\n",
    "                                  untar=True, cache_dir='.',\n",
    "                                  cache_subdir='')\n",
    "\n",
    "dataset_dir = os.path.join(os.path.dirname(dataset), 'aclImdb')\n",
    "os.listdir(dataset_dir)"
   ]
  },
  {
   "cell_type": "code",
   "execution_count": 15,
   "id": "2cf34b7a",
   "metadata": {
    "scrolled": true
   },
   "outputs": [
    {
     "data": {
      "text/plain": [
       "['urls_unsup.txt',\n",
       " 'neg',\n",
       " 'urls_pos.txt',\n",
       " 'unsup',\n",
       " 'urls_neg.txt',\n",
       " 'pos',\n",
       " 'unsupBow.feat',\n",
       " 'labeledBow.feat']"
      ]
     },
     "execution_count": 15,
     "metadata": {},
     "output_type": "execute_result"
    }
   ],
   "source": [
    "train_dir = os.path.join(dataset_dir, 'train')\n",
    "os.listdir(train_dir)"
   ]
  },
  {
   "cell_type": "markdown",
   "id": "779fd5b3",
   "metadata": {},
   "source": [
    "Link: https://www.youtube.com/watch?v=tPYj3fFJGjk"
   ]
  }
 ],
 "metadata": {
  "kernelspec": {
   "display_name": "Python 3 (ipykernel)",
   "language": "python",
   "name": "python3"
  },
  "language_info": {
   "codemirror_mode": {
    "name": "ipython",
    "version": 3
   },
   "file_extension": ".py",
   "mimetype": "text/x-python",
   "name": "python",
   "nbconvert_exporter": "python",
   "pygments_lexer": "ipython3",
   "version": "3.9.5"
  }
 },
 "nbformat": 4,
 "nbformat_minor": 5
}

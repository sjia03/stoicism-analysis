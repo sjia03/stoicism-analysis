{
 "cells": [
  {
   "cell_type": "code",
   "execution_count": 18,
   "id": "3ef8050e",
   "metadata": {},
   "outputs": [],
   "source": [
    "import pandas as pd\n",
    "import requests # download texts\n",
    "import re # work with regular expressions\n",
    "import numpy as np\n",
    "\n",
    "import sys\n",
    "sys.path.append('./')"
   ]
  },
  {
   "cell_type": "markdown",
   "id": "ba108610",
   "metadata": {},
   "source": [
    "# 1. Organize Book Data"
   ]
  },
  {
   "cell_type": "code",
   "execution_count": 45,
   "id": "01eef09e",
   "metadata": {},
   "outputs": [],
   "source": [
    "# Combine multiple text files into one\n",
    "\n",
    "def add_books_to_text(list_of_books):\n",
    "    \n",
    "    book_collection = \"\"\n",
    "    for book in list_of_books:\n",
    "        book_collection += \"\\nSTART OF BOOK\\n\" + book + \"\\nEND OF BOOK\\n\"\n",
    "    \n",
    "    return book_collection"
   ]
  },
  {
   "cell_type": "markdown",
   "id": "f1cf2af5",
   "metadata": {},
   "source": [
    "### <font color='red'> ADD NEW BOOK FILES HERE </font>"
   ]
  },
  {
   "cell_type": "code",
   "execution_count": 21,
   "id": "79321842",
   "metadata": {},
   "outputs": [],
   "source": [
    "# Import all book files \n",
    "\n",
    "# From web\n",
    "response1 = requests.get('http://classics.mit.edu/Antoninus/meditations.mb.txt') # Meditations by Marcus\n",
    "response2 = requests.get('http://classics.mit.edu/Epictetus/discourses.mb.txt') # Discourses by Epictetus\n",
    "response3 = requests.get('http://classics.mit.edu/Epictetus/epicench.1b.txt') # Enchiridion by Epictetus\n",
    "filename4 = open('./books/shortness-of-life.txt') # Shortness of Life by Seneca\n",
    "filename5 = open('./books/letters-from-a-stoic.txt') # Letters from a Stoic by Seneca\n",
    "\n",
    "doc1 = response1.text\n",
    "doc2 = response2.text\n",
    "doc3 = response3.text\n",
    "doc4 = filename4.read()\n",
    "doc5 = filename5.read()\n",
    "\n",
    "# Downloaded files\n",
    "filename6 = open('./books/daily-stoic.txt') # Daily Stoic by Ryan Holiday (2016)\n",
    "filename7 = open('./books/guide-to-good-life.txt') # Guide to a Good Life by William Irvine (2008)\n",
    "filename8 = open('./books/stillness-is-key.txt') # Stillness is Key by Ryan Holiday (2019)\n",
    "filenmae9 = open('./books/how-to-be-a-stoic.txt') # How to Be a Stoic by Massimo Pigliucci (2017)\n",
    "filename10 = open('./books/think-like-a-roman-emperor.txt') # How to Think Like a Roman Emperor by Donald Robertson (2019)\n",
    "\n",
    "doc6 = filename6.read() \n",
    "doc7 = filename7.read()\n",
    "doc8 = filename8.read()\n",
    "doc9 = filenmae9.read()\n",
    "doc10 = filename10.read()\n",
    "\n",
    "doc"
   ]
  },
  {
   "cell_type": "code",
   "execution_count": 42,
   "id": "4fb55a25",
   "metadata": {},
   "outputs": [],
   "source": [
    "# Add all book files into one list using max doc number as input\n",
    "\n",
    "def add_books_to_list(num_of_books):\n",
    "    \n",
    "    book_list = []\n",
    "    book_nums = list(range(1,num_of_books+1))\n",
    "    \n",
    "    for num in book_nums:\n",
    "        file_name = \"doc\" + str(num)\n",
    "        file_content = globals()[file_name]\n",
    "        book_list.append(file_content)\n",
    "    \n",
    "    return book_list"
   ]
  },
  {
   "cell_type": "markdown",
   "id": "eca21dae",
   "metadata": {},
   "source": [
    "### <font color='red'> UPDATE LIST NUMBER HERE </font>"
   ]
  },
  {
   "cell_type": "code",
   "execution_count": 76,
   "id": "42c987c6",
   "metadata": {},
   "outputs": [],
   "source": [
    "book_list = add_books_to_list(10)"
   ]
  },
  {
   "cell_type": "code",
   "execution_count": 77,
   "id": "e8b169d0",
   "metadata": {},
   "outputs": [],
   "source": [
    "book_text = add_books_to_text(book_list)"
   ]
  },
  {
   "cell_type": "code",
   "execution_count": 78,
   "id": "069884da",
   "metadata": {
    "scrolled": true
   },
   "outputs": [
    {
     "data": {
      "text/plain": [
       "10"
      ]
     },
     "execution_count": 78,
     "metadata": {},
     "output_type": "execute_result"
    }
   ],
   "source": [
    "# Test to see if all books are in \n",
    "book_text.count(\"START OF BOOK\")"
   ]
  },
  {
   "cell_type": "code",
   "execution_count": 79,
   "id": "d178dfcb",
   "metadata": {
    "scrolled": true
   },
   "outputs": [],
   "source": [
    "# Rewrite local file with updated books\n",
    "with open((\"./books/all-books.txt\"), \"w\") as outfile:\n",
    "    outfile.write(book_text)"
   ]
  },
  {
   "cell_type": "code",
   "execution_count": 80,
   "id": "56078d6e",
   "metadata": {},
   "outputs": [
    {
     "name": "stdout",
     "output_type": "stream",
     "text": [
      "10\n"
     ]
    }
   ],
   "source": [
    "# Test to see if exported file has all books\n",
    "with open((\"./books/all-books.txt\"), \"r\") as infile:\n",
    "    text = infile.read()\n",
    "    print(text.count(\"START OF BOOK\"))"
   ]
  },
  {
   "cell_type": "markdown",
   "id": "7f00ec27",
   "metadata": {},
   "source": [
    "## 2. Scrape Web Data"
   ]
  },
  {
   "cell_type": "code",
   "execution_count": null,
   "id": "869d2069",
   "metadata": {},
   "outputs": [],
   "source": []
  }
 ],
 "metadata": {
  "kernelspec": {
   "display_name": "Python 3 (ipykernel)",
   "language": "python",
   "name": "python3"
  },
  "language_info": {
   "codemirror_mode": {
    "name": "ipython",
    "version": 3
   },
   "file_extension": ".py",
   "mimetype": "text/x-python",
   "name": "python",
   "nbconvert_exporter": "python",
   "pygments_lexer": "ipython3",
   "version": "3.9.5"
  }
 },
 "nbformat": 4,
 "nbformat_minor": 5
}
